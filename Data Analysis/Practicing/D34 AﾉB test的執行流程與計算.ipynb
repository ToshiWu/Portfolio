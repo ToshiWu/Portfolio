{
 "cells": [
  {
   "cell_type": "markdown",
   "metadata": {},
   "source": [
    "### 某工廠想知道兩條不同的生產線的產品不良率是否有所不同，由兩條生產線中各抽取 300 個樣本。\n",
    "### 第一組有  75 個不良品，第二組有 30 個不良品，我們可以宣稱生產線所生產出的產品不良率不相同?\n",
    "### (以 0.05 為顯著水準)?    \n",
    "\n"
   ]
  },
  {
   "cell_type": "code",
   "execution_count": 1,
   "metadata": {},
   "outputs": [
    {
     "name": "stdout",
     "output_type": "stream",
     "text": [
      "(4.834937784152282, 1.3318728439003627e-06)\n"
     ]
    }
   ],
   "source": [
    "# 假設 H_0為 P1 - P2 = 0\n",
    "# 　　 H_1為 P1 - P2 != 0\n",
    "\n",
    "# 計算雙尾檢定之P值\n",
    "import statsmodels.stats.proportion\n",
    "A = [75,30] \n",
    "B = [300,300] \n",
    "print(statsmodels.stats.proportion.proportions_ztest(A, B, alternative='two-sided'))"
   ]
  },
  {
   "cell_type": "code",
   "execution_count": 2,
   "metadata": {},
   "outputs": [
    {
     "name": "stdout",
     "output_type": "stream",
     "text": [
      "p值約為1.33e-06小於顯著水準0.05，故拒絕虛無假設H_0，其兩產線產品不良率為不相同。\n"
     ]
    }
   ],
   "source": [
    "print('''p值約為1.33e-06小於顯著水準0.05，故拒絕虛無假設H_0，其兩產線產品不良率為不相同。''')"
   ]
  }
 ],
 "metadata": {
  "colab": {
   "name": "Day33.YOLO 細節理解 - 網路輸出的後處理_HW.ipynb",
   "provenance": []
  },
  "kernelspec": {
   "display_name": "Python 3",
   "language": "python",
   "name": "python3"
  },
  "language_info": {
   "codemirror_mode": {
    "name": "ipython",
    "version": 3
   },
   "file_extension": ".py",
   "mimetype": "text/x-python",
   "name": "python",
   "nbconvert_exporter": "python",
   "pygments_lexer": "ipython3",
   "version": "3.8.3"
  }
 },
 "nbformat": 4,
 "nbformat_minor": 4
}
