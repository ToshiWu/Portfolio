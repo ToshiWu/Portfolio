{
 "cells": [
  {
   "cell_type": "markdown",
   "metadata": {},
   "source": [
    "## 作業:\n",
    "今天課程中以一個案例，說明資料分析的流程與探索性分析，是否對於課程中一開始的問題，更有想法了?!\n",
    "- 挑選 Mr./Ms. Right\n",
    "- 顧客下次會買哪些東西？\n",
    "- 半導體的良率預測？\n",
    "\n",
    "    1. 哪一個問題不適合用資料科學解決?\n",
    "    2. 以你的角度來分析，為什麼這樣的問題，較不適合用資料來解決?\n",
    "\n",
    "將答案寫在論壇中，大家一起互相討論激盪。"
   ]
  },
  {
   "cell_type": "markdown",
   "metadata": {},
   "source": [
    "### \t<font color=#FF0000>Answer</font>\n",
    "\n",
    "    1. 基本上都可以用資料科學解決，但其中挑選Mr./Ms. Right或許較不適合。\n",
    "    2. 因為牽涉到的變量過於繁雜，而且變量難以量化為數據。"
   ]
  }
 ],
 "metadata": {
  "colab": {
   "name": "Day33.YOLO 細節理解 - 網路輸出的後處理_HW.ipynb",
   "provenance": []
  },
  "kernelspec": {
   "display_name": "Python 3",
   "language": "python",
   "name": "python3"
  },
  "language_info": {
   "codemirror_mode": {
    "name": "ipython",
    "version": 3
   },
   "file_extension": ".py",
   "mimetype": "text/x-python",
   "name": "python",
   "nbconvert_exporter": "python",
   "pygments_lexer": "ipython3",
   "version": "3.8.3"
  }
 },
 "nbformat": 4,
 "nbformat_minor": 4
}
