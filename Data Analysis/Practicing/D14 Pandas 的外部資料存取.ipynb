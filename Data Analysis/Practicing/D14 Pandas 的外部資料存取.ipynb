{
 "cells": [
  {
   "cell_type": "code",
   "execution_count": 1,
   "metadata": {},
   "outputs": [],
   "source": [
    "import numpy as np, pandas as pd"
   ]
  },
  {
   "cell_type": "markdown",
   "metadata": {},
   "source": [
    "### 比較下列兩個讀入的 df 有什麼不同？為什麼造成的？\n"
   ]
  },
  {
   "cell_type": "code",
   "execution_count": 2,
   "metadata": {
    "colab": {},
    "colab_type": "code",
    "id": "5QrYoyNWsvFS"
   },
   "outputs": [
    {
     "name": "stdout",
     "output_type": "stream",
     "text": [
      "           PID  ST_NUM     ST_NAME OWN_OCCUPIED NUM_BEDROOMS NUM_BATH SQ_FT\n",
      "0  100001000.0   104.0      PUTNAM            Y            3        1  1000\n",
      "1  100002000.0   197.0   LEXINGTON            N            3      1.5    --\n",
      "2  100003000.0     NaN   LEXINGTON            N          NaN        1   850\n",
      "3  100004000.0   201.0    BERKELEY           12            1      NaN   700\n",
      "4          NaN   203.0    BERKELEY            Y            3        2  1600\n",
      "5  100006000.0   207.0    BERKELEY            Y          NaN        1   800\n",
      "6  100007000.0     NaN  WASHINGTON          NaN            2   HURLEY   950\n",
      "7  100008000.0   213.0     TREMONT            Y            1        1   NaN\n",
      "8  100009000.0   215.0     TREMONT            Y           na        2  1800\n"
     ]
    }
   ],
   "source": [
    "df1 = pd.read_csv('https://raw.githubusercontent.com/dataoptimal/posts/master/data%20cleaning%20with%20python%20and%20pandas/property%20data.csv')\n",
    "print(df1)"
   ]
  },
  {
   "cell_type": "code",
   "execution_count": 3,
   "metadata": {},
   "outputs": [
    {
     "name": "stdout",
     "output_type": "stream",
     "text": [
      "           PID  ST_NUM     ST_NAME OWN_OCCUPIED  NUM_BEDROOMS NUM_BATH   SQ_FT\n",
      "0  100001000.0   104.0      PUTNAM            Y           3.0        1  1000.0\n",
      "1  100002000.0   197.0   LEXINGTON            N           3.0      1.5     NaN\n",
      "2  100003000.0     NaN   LEXINGTON            N           NaN        1   850.0\n",
      "3  100004000.0   201.0    BERKELEY           12           1.0      NaN   700.0\n",
      "4          NaN   203.0    BERKELEY            Y           3.0        2  1600.0\n",
      "5  100006000.0   207.0    BERKELEY            Y           NaN        1   800.0\n",
      "6  100007000.0     NaN  WASHINGTON          NaN           2.0   HURLEY   950.0\n",
      "7  100008000.0   213.0     TREMONT            Y           1.0        1     NaN\n",
      "8  100009000.0   215.0     TREMONT            Y           NaN        2  1800.0\n"
     ]
    }
   ],
   "source": [
    "df2 = pd.read_csv(\n",
    "    'https://raw.githubusercontent.com/dataoptimal/posts/master/data%20cleaning%20with%20python%20and%20pandas/property%20data.csv',\n",
    "    keep_default_na=True,\n",
    "    na_values=['na', '--']\n",
    ")\n",
    "print(df2)"
   ]
  },
  {
   "cell_type": "markdown",
   "metadata": {},
   "source": [
    "##### 差別在於引數keep_default_na\n",
    "##### 當keep_default_na為True且na_values被指定時\n",
    "##### na_values讀入時會變為NaN"
   ]
  },
  {
   "cell_type": "markdown",
   "metadata": {},
   "source": [
    "### Dcard API 取得所有的看板資訊轉換成 DataFrame，並且依照熱門程度排序後存成一個 csv 的檔案。\n"
   ]
  },
  {
   "cell_type": "code",
   "execution_count": 4,
   "metadata": {},
   "outputs": [
    {
     "name": "stdout",
     "output_type": "stream",
     "text": [
      "[{'id': '7f125e07-4460-4ea5-80b5-33f0e9aafa0c', 'alias': 'midnightlab', 'name': '午夜實驗室', 'description': '午夜實驗室10/6、10/7即將在華山登場！這裏提供大家交流活動資訊與討論，請大家要遵守 Dcard 板規喔！', 'subscriptionCount': 1687, 'subscribed': False, 'read': False, 'createdAt': '2016-05-14T19:15:15.698Z', 'updatedAt': '2021-12-29T06:07:17.970Z', 'canPost': False, 'ignorePost': False, 'invisible': True, 'isSchool': False, 'fullyAnonymous': False, 'canUseNickname': True, 'postThumbnail': {'size': 'small'}, 'shouldCategorized': False, 'shouldPostCategorized': False, 'hasPostCategories': False, 'titlePlaceholder': '', 'postTitlePlaceholder': '', 'ipCountryCondition': {'exclude': [], 'include': []}, 'subcategories': [], 'topics': ['午夜實驗室'], 'nsfw': False, 'mediaThreshold': {}, 'limitCountries': [], 'limitStage': 0, 'availableLayouts': ['classic'], 'postCount': {'last30Days': 1}, 'favorite': False, 'enablePrivateMessage': False, 'restrictIdentityOnComment': False, 'enableSelectedPosts': False, 'displaySelectedPostsTab': False, 'allowModManageSelectedPosts': False, 'displayGroupChatEntry': False}, {'id': 'c0ed3f99-ed1c-49a8-b413-ed5e925aafe4', 'alias': 'timecapsule', 'name': '時光膠囊', 'description': 'Dcard 九週年最終章！告別動盪不安的 2020，說好了，2021 我們一起活得更努力！請寫一封信給 2021 的自己，你想要成為什麼樣的人、想達成的新年目標或行動計畫？這些願望，Dcard 陪你一起完成。許願的卡友們一年後都會收到「時光膠囊」，提醒你檢視「和 Dcard 的約定」完成了多少。在文章裡留下一句想隨身提醒自己的話，就有機會訂製你專屬的 D 卡。', 'subscriptionCount': 4288, 'subscribed': False, 'read': False, 'createdAt': '2016-05-14T20:15:15.698Z', 'updatedAt': '2022-01-17T06:29:19.858Z', 'canPost': False, 'ignorePost': False, 'invisible': True, 'isSchool': False, 'fullyAnonymous': False, 'canUseNickname': True, 'postThumbnail': {'size': 'small'}, 'shouldCategorized': False, 'shouldPostCategorized': False, 'hasPostCategories': False, 'titlePlaceholder': '', 'postTitlePlaceholder': '', 'ipCountryCondition': {}, 'subcategories': [], 'topics': [], 'nsfw': False, 'mediaThreshold': {}, 'limitCountries': [], 'limitStage': 0, 'availableLayouts': ['classic'], 'heroImage': {'url': 'https://megapx-assets.dcard.tw/images/9ab1db4e-8beb-4072-be8a-d067a0a02f92/full.jpeg', 'type': 'image/jpeg', 'width': 1800, 'height': 600}, 'logo': {'url': 'https://megapx-assets.dcard.tw/images/18ce292e-934e-41d0-8936-11433faf56be/full.jpeg', 'type': 'image/jpeg', 'width': 200, 'height': 200}, 'postCount': {'last30Days': 300}, 'favorite': False, 'enablePrivateMessage': False, 'restrictIdentityOnComment': False, 'enableSelectedPosts': False, 'displaySelectedPostsTab': False, 'allowModManageSelectedPosts': False, 'displayGroupChatEntry': False}, {'id': 'cc2164ae-88cd-466d-b11b-19e4b1f6f78c', 'alias': 'mother', 'name': '母親節', 'description': 'Dcard 母親節限定板，告訴媽媽我愛妳！', 'subscriptionCount': 356, 'subscribed': False, 'read': False, 'createdAt': '2016-05-14T22:15:15.698Z', 'updatedAt': '2021-12-29T06:07:35.918Z', 'canPost': False, 'ignorePost': False, 'invisible': True, 'isSchool': False, 'fullyAnonymous': False, 'canUseNickname': True, 'postThumbnail': {'size': 'small'}, 'shouldCategorized': False, 'shouldPostCategorized': False, 'hasPostCategories': False, 'titlePlaceholder': '', 'postTitlePlaceholder': '', 'ipCountryCondition': {}, 'subcategories': [], 'topics': ['我是媽寶我驕傲', '曬媽媽', '母親節蛋糕', '康乃馨', '母親節花束', '我愛媽媽', '母親節禮物', '媽媽我愛你', '媽媽', '母親節大餐', '母親節檔期'], 'nsfw': False, 'mediaThreshold': {}, 'limitCountries': [], 'limitStage': 0, 'availableLayouts': ['classic'], 'postCount': {'last30Days': 1}, 'favorite': False, 'enablePrivateMessage': False, 'restrictIdentityOnComment': False, 'enableSelectedPosts': False, 'displaySelectedPostsTab': False, 'allowModManageSelectedPosts': False, 'displayGroupChatEntry': False}, {'id': '11e8d941-0aad-4960-8348-b27c36270fd1', 'alias': 'merryxmas', 'name': '聖誕CiaoCiao', 'description': '期間限定開啟！只要是和聖誕節有關的事情，或是和「禮物」有關的東西通通都來分享吧！', 'subscriptionCount': 16933, 'subscribed': False, 'read': False, 'createdAt': '2016-05-17T00:11:15.741Z', 'updatedAt': '2021-12-29T06:07:23.970Z', 'canPost': False, 'ignorePost': False, 'invisible': False, 'isSchool': False, 'fullyAnonymous': False, 'canUseNickname': True, 'postThumbnail': {'size': 'small'}, 'shouldCategorized': False, 'shouldPostCategorized': False, 'hasPostCategories': False, 'titlePlaceholder': '', 'postTitlePlaceholder': '', 'ipCountryCondition': {}, 'subcategories': [], 'topics': ['Dcard聖誕列車', '交換禮物', '聖誕禮物', '聖誕卡片', '聖誕舞會', '聖誕樹', '聖誕節'], 'nsfw': False, 'mediaThreshold': {}, 'limitCountries': [], 'limitStage': 0, 'availableLayouts': ['classic'], 'heroImage': {'url': 'https://megapx-assets.dcard.tw/images/7b5b4c6c-ee5b-4903-a27f-e772de58f078/orig.jpeg', 'type': 'image/jpeg', 'width': 1800, 'height': 600}, 'logo': {'url': 'https://megapx-assets.dcard.tw/images/0d803925-c126-45db-8d21-2a18c65b85ee/full.jpeg', 'type': 'image/jpeg', 'width': 200, 'height': 200}, 'postCount': {'last30Days': 1}, 'favorite': False, 'enablePrivateMessage': False, 'restrictIdentityOnComment': False, 'enableSelectedPosts': False, 'displaySelectedPostsTab': False, 'allowModManageSelectedPosts': False, 'displayGroupChatEntry': False}, {'id': '8d5cabde-d0df-479f-8ab7-153209317537', 'alias': 'father', 'name': '父親節', 'description': 'Dcard 父親節特輯，上傳爸爸帥照，寫下真摯文字，一起謝謝我們心中的 「鋼鐵人老爸」。', 'subscriptionCount': 355, 'subscribed': False, 'read': False, 'createdAt': '2016-05-17T00:12:15.741Z', 'updatedAt': '2021-12-29T06:07:27.763Z', 'canPost': False, 'ignorePost': False, 'invisible': True, 'isSchool': False, 'fullyAnonymous': False, 'canUseNickname': True, 'postThumbnail': {'size': 'small'}, 'shouldCategorized': False, 'shouldPostCategorized': False, 'hasPostCategories': False, 'titlePlaceholder': '', 'postTitlePlaceholder': '', 'ipCountryCondition': {}, 'subcategories': [], 'topics': [], 'nsfw': False, 'mediaThreshold': {}, 'limitCountries': [], 'limitStage': 0, 'availableLayouts': ['classic', 'poll'], 'postCount': {'last30Days': 3}, 'favorite': False, 'enablePrivateMessage': False, 'restrictIdentityOnComment': False, 'enableSelectedPosts': False, 'displaySelectedPostsTab': False, 'allowModManageSelectedPosts': False, 'displayGroupChatEntry': False}]\n"
     ]
    }
   ],
   "source": [
    "import requests\n",
    "r = requests.get('https://www.dcard.tw/_api/forums')\n",
    "response = r.text\n",
    "import json\n",
    "data = json.loads(response)\n",
    "\n",
    "print(data[:5])"
   ]
  },
  {
   "cell_type": "code",
   "execution_count": 5,
   "metadata": {},
   "outputs": [
    {
     "name": "stdout",
     "output_type": "stream",
     "text": [
      "                                       id                 alias  \\\n",
      "224  be1a095b-175e-4523-9e06-66a05d939676               dressup   \n",
      "373  1ce3ebca-8701-42d5-b14c-076fc629bc8e                   sex   \n",
      "228  42851318-b9e2-4a75-8a05-9fe180becefe          relationship   \n",
      "233  06e07db4-c8b5-4dae-851f-e8a8236e770c                  meme   \n",
      "217  cbd5285f-3cba-4bfc-86d0-1ab52d201459                makeup   \n",
      "..                                    ...                   ...   \n",
      "156  d1377288-8432-4ec0-a539-e1ac6d59362c                   mkc   \n",
      "521  a932e2a7-be88-4c56-9ae9-ef4eb009666f  advancedPermission02   \n",
      "172  9e2ea80f-3342-4533-bb7a-d639e6c517e7               athlete   \n",
      "566  13d5bcd0-4003-4903-aca3-a15da482397a           pepethefrog   \n",
      "568  dbd8c5ef-2b09-459e-bafc-94a819983411                   cma   \n",
      "\n",
      "                 name                                        description  \\\n",
      "224                穿搭  穿搭板提供各種服裝搭配、包鞋、飾品配件等相關話題討論。\\n歡迎分享自己的日常穿搭，或任何潮流...   \n",
      "373                西斯  西斯板（Sex）提供男女私密話題分享或性教育等情慾議題討論，若有性方面相關問題也可在此發問。...   \n",
      "228                感情  無論是遠距離戀愛、情侶間的有趣互動、分手後的藕斷絲連等...都可以在感情板分享你們的愛情故事...   \n",
      "233                梗圖                                            梗圖=有梗的圖   \n",
      "217                美妝  不管你喜歡開架彩妝還是專櫃彩妝，美妝板提供各種最新彩妝開箱評比、粉底色號、唇膏試色、眼影試色...   \n",
      "..                ...                                                ...   \n",
      "156        馬偕醫護管理專科學校  馬偕醫護管理專科學校板，一個能讓你暢所欲言的地方。在這裡，卡友們可以盡情討論校園裡的大小事，...   \n",
      "521  正在測試中的進階權限測試看板02  做為日本最具代表性的藝術風格，浮世繪之美始終讓人深深著迷，不管是19世紀印象派大師，抑或是當...   \n",
      "172                選手                                                      \n",
      "566               佩佩蛙                                                測試用   \n",
      "568        中華民國陸軍軍官學校  中華民國陸軍軍官學校板，一個能讓你暢所欲言的地方。在這裡，卡友們可以盡情討論校園裡的大小事，...   \n",
      "\n",
      "     subscriptionCount  subscribed   read                 createdAt  \\\n",
      "224             754647       False  False  2020-02-04T07:28:03.573Z   \n",
      "373             742208       False  False  2020-02-04T07:52:53.573Z   \n",
      "228             699778       False  False  2020-02-04T07:28:43.573Z   \n",
      "233             666114       False  False  2020-02-04T07:29:33.573Z   \n",
      "217             615159       False  False  2020-02-04T07:26:53.573Z   \n",
      "..                 ...         ...    ...                       ...   \n",
      "156                  0       False  False  2016-09-23T09:35:46.370Z   \n",
      "521                  0       False  False  2021-08-18T08:43:00.111Z   \n",
      "172                  0       False  False  2017-08-22T05:22:03.771Z   \n",
      "566                  0       False  False  2022-02-18T03:15:00.751Z   \n",
      "568                  0       False  False  2022-02-18T04:20:11.951Z   \n",
      "\n",
      "                    updatedAt  canPost  ...              postCount  favorite  \\\n",
      "224  2022-01-11T09:26:51.212Z    False  ...   {'last30Days': 1672}     False   \n",
      "373  2021-12-29T06:07:35.025Z    False  ...   {'last30Days': 4897}     False   \n",
      "228  2021-12-29T06:07:45.972Z    False  ...  {'last30Days': 11087}     False   \n",
      "233  2021-12-29T06:07:39.225Z    False  ...   {'last30Days': 1650}     False   \n",
      "217  2022-02-16T05:14:37.137Z    False  ...   {'last30Days': 2707}     False   \n",
      "..                        ...      ...  ...                    ...       ...   \n",
      "156  2021-12-29T06:07:25.953Z    False  ...    {'last30Days': 132}     False   \n",
      "521  2021-12-29T06:07:33.439Z    False  ...      {'last30Days': 1}     False   \n",
      "172  2021-12-29T06:07:43.634Z    False  ...      {'last30Days': 1}     False   \n",
      "566  2022-02-18T03:15:56.031Z    False  ...      {'last30Days': 0}     False   \n",
      "568  2022-02-18T04:23:25.065Z    False  ...      {'last30Days': 0}     False   \n",
      "\n",
      "     enablePrivateMessage  restrictIdentityOnComment  enableSelectedPosts  \\\n",
      "224                  True                      False                 True   \n",
      "373                 False                      False                False   \n",
      "228                 False                      False                False   \n",
      "233                  True                      False                False   \n",
      "217                 False                      False                 True   \n",
      "..                    ...                        ...                  ...   \n",
      "156                  True                      False                False   \n",
      "521                 False                      False                False   \n",
      "172                 False                      False                False   \n",
      "566                 False                      False                False   \n",
      "568                  True                      False                False   \n",
      "\n",
      "    displaySelectedPostsTab  allowModManageSelectedPosts  \\\n",
      "224                    True                        False   \n",
      "373                   False                        False   \n",
      "228                   False                        False   \n",
      "233                   False                        False   \n",
      "217                    True                        False   \n",
      "..                      ...                          ...   \n",
      "156                   False                        False   \n",
      "521                   False                        False   \n",
      "172                   False                        False   \n",
      "566                   False                        False   \n",
      "568                   False                        False   \n",
      "\n",
      "     displayGroupChatEntry                                          heroImage  \\\n",
      "224                  False  {'url': 'https://megapx-assets.dcard.tw/images...   \n",
      "373                  False  {'url': 'https://megapx-assets.dcard.tw/images...   \n",
      "228                  False  {'url': 'https://megapx-assets.dcard.tw/images...   \n",
      "233                  False  {'url': 'https://megapx-assets.dcard.tw/images...   \n",
      "217                  False  {'url': 'https://megapx-assets.dcard.tw/images...   \n",
      "..                     ...                                                ...   \n",
      "156                  False  {'url': 'https://megapx-assets.dcard.tw/images...   \n",
      "521                  False                                                NaN   \n",
      "172                  False                                                NaN   \n",
      "566                  False                                                NaN   \n",
      "568                  False  {'url': 'https://megapx-assets.dcard.tw/images...   \n",
      "\n",
      "                                                  logo  \n",
      "224  {'url': 'https://megapx-assets.dcard.tw/images...  \n",
      "373  {'url': 'https://megapx-assets.dcard.tw/images...  \n",
      "228  {'url': 'https://megapx-assets.dcard.tw/images...  \n",
      "233  {'url': 'https://megapx-assets.dcard.tw/images...  \n",
      "217  {'url': 'https://megapx-assets.dcard.tw/images...  \n",
      "..                                                 ...  \n",
      "156  {'url': 'https://megapx-assets.dcard.tw/images...  \n",
      "521                                                NaN  \n",
      "172                                                NaN  \n",
      "566                                                NaN  \n",
      "568  {'url': 'https://megapx-assets.dcard.tw/images...  \n",
      "\n",
      "[569 rows x 39 columns]\n"
     ]
    }
   ],
   "source": [
    "df=pd.DataFrame(data).sort_values(by='subscriptionCount', ascending=False)\n",
    "print(df)\n",
    "df.to_csv('./D14/D14.csv')"
   ]
  }
 ],
 "metadata": {
  "colab": {
   "name": "Day_023_HW.ipynb",
   "provenance": []
  },
  "kernelspec": {
   "display_name": "Python 3",
   "language": "python",
   "name": "python3"
  },
  "language_info": {
   "codemirror_mode": {
    "name": "ipython",
    "version": 3
   },
   "file_extension": ".py",
   "mimetype": "text/x-python",
   "name": "python",
   "nbconvert_exporter": "python",
   "pygments_lexer": "ipython3",
   "version": "3.8.3"
  }
 },
 "nbformat": 4,
 "nbformat_minor": 4
}
