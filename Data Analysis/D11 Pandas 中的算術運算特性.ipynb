{
 "cells": [
  {
   "cell_type": "markdown",
   "metadata": {},
   "source": [
    "### 練習完成下列操作：\n",
    "\n",
    "```\n",
    "- 計算每個不同種類 animal 的 age 的平均數\n",
    "- 計算每個不同種類 animal 的 age 的平均數\n",
    "- 將資料依照 Age 欄位由小到大排序，再依照 visits 欄位由大到小排序\n",
    "- 將 priority 欄位中的 yes 和 no 字串，換成是布林值 的 True 和 False\n",
    "```\n"
   ]
  },
  {
   "cell_type": "code",
   "execution_count": 1,
   "metadata": {},
   "outputs": [],
   "source": [
    "import numpy as np\n",
    "import pandas as pd"
   ]
  },
  {
   "cell_type": "code",
   "execution_count": 2,
   "metadata": {
    "colab": {},
    "colab_type": "code",
    "id": "5QrYoyNWsvFS"
   },
   "outputs": [
    {
     "name": "stdout",
     "output_type": "stream",
     "text": [
      "  animal  age  visits priority\n",
      "a    cat  2.5       1      yes\n",
      "b    cat  3.0       3      yes\n",
      "c  snake  0.5       2       no\n",
      "d    dog  NaN       3      yes\n",
      "e    dog  5.0       2       no\n",
      "f    cat  2.0       3       no\n",
      "g  snake  4.5       1       no\n",
      "h    cat  NaN       1      yes\n",
      "i    dog  7.0       2       no\n",
      "j    dog  3.0       1       no\n"
     ]
    }
   ],
   "source": [
    "data = {\n",
    "    'animal': ['cat', 'cat', 'snake', 'dog', 'dog', 'cat', 'snake', 'cat', 'dog', 'dog'],\n",
    "    'age': [2.5, 3, 0.5, np.nan, 5, 2, 4.5, np.nan, 7, 3],\n",
    "    'visits': [1, 3, 2, 3, 2, 3, 1, 1, 2, 1],\n",
    "    'priority': ['yes', 'yes', 'no', 'yes', 'no', 'no', 'no', 'yes', 'no', 'no']\n",
    "}\n",
    "\n",
    "labels = ['a', 'b', 'c', 'd', 'e', 'f', 'g', 'h', 'i', 'j']\n",
    "df = pd.DataFrame(data, index=labels)\n",
    "print(df)"
   ]
  },
  {
   "cell_type": "code",
   "execution_count": 3,
   "metadata": {},
   "outputs": [
    {
     "name": "stdout",
     "output_type": "stream",
     "text": [
      "計算每個不同種類 animal 的 age 的平均數\n",
      "cat's average age is 2.5\n",
      "dog's average age is 5.0\n",
      "snake's average age is 2.5\n",
      "\n",
      "將資料依照 Age 欄位由小到大排序，再依照 visits 欄位由大到小排序\n",
      "  animal  age  visits priority\n",
      "c  snake  0.5       2       no\n",
      "f    cat  2.0       3       no\n",
      "a    cat  2.5       1      yes\n",
      "b    cat  3.0       3      yes\n",
      "j    dog  3.0       1       no\n",
      "g  snake  4.5       1       no\n",
      "e    dog  5.0       2       no\n",
      "i    dog  7.0       2       no\n",
      "d    dog  NaN       3      yes\n",
      "h    cat  NaN       1      yes\n",
      "\n",
      "將 priority 欄位中的 yes 和 no 字串，換成是布林值 的 True 和 False\n",
      "  animal  age  visits  priority\n",
      "a    cat  2.5       1      True\n",
      "b    cat  3.0       3      True\n",
      "c  snake  0.5       2     False\n",
      "d    dog  NaN       3      True\n",
      "e    dog  5.0       2     False\n",
      "f    cat  2.0       3     False\n",
      "g  snake  4.5       1     False\n",
      "h    cat  NaN       1      True\n",
      "i    dog  7.0       2     False\n",
      "j    dog  3.0       1     False\n"
     ]
    }
   ],
   "source": [
    "print('計算每個不同種類 animal 的 age 的平均數')\n",
    "for i in set(df['animal']):\n",
    "    print(f'{i}\\'s average age is',df[df['animal']==i]['age'].mean())\n",
    "\n",
    "print('\\n將資料依照 Age 欄位由小到大排序，再依照 visits 欄位由大到小排序')\n",
    "print(df.sort_values(by=['age','visits'],ascending=[True,False]))\n",
    "\n",
    "print('\\n將 priority 欄位中的 yes 和 no 字串，換成是布林值 的 True 和 False')\n",
    "df['priority'].replace({'yes':True, 'no':False},inplace = True)\n",
    "print(df)\n",
    "\n"
   ]
  },
  {
   "cell_type": "markdown",
   "metadata": {},
   "source": [
    "### 一個包含兩個欄位的 DataFrame，將每個數字減去\n",
    "\n",
    "* 1) 該欄位的平均數\n",
    "* 2) 該筆資料平均數"
   ]
  },
  {
   "cell_type": "code",
   "execution_count": 4,
   "metadata": {
    "colab": {},
    "colab_type": "code",
    "id": "e1gVI0tvsvFY"
   },
   "outputs": [
    {
     "name": "stdout",
     "output_type": "stream",
     "text": [
      "          0         1         2\n",
      "0  0.366289  0.189234  0.799367\n",
      "1  0.293050  0.338361  0.892824\n",
      "2  0.323413  0.008055  0.037459\n",
      "3  0.724069  0.389815  0.483044\n",
      "4  0.702950  0.340001  0.651371\n"
     ]
    }
   ],
   "source": [
    "df = pd.DataFrame(np.random.random(size=(5, 3)))\n",
    "print(df)"
   ]
  },
  {
   "cell_type": "code",
   "execution_count": 5,
   "metadata": {},
   "outputs": [
    {
     "name": "stdout",
     "output_type": "stream",
     "text": [
      "column0's average is 0.48195428471604984\n",
      "column1's average is 0.2530931519604994\n",
      "column2's average is 0.5728132094856597\n"
     ]
    }
   ],
   "source": [
    "#  該欄位的平均數\n",
    "for i in df.columns[:]:\n",
    "    print(f'column{i}\\'s average is {df[i].mean()}')"
   ]
  },
  {
   "cell_type": "code",
   "execution_count": 6,
   "metadata": {},
   "outputs": [
    {
     "name": "stdout",
     "output_type": "stream",
     "text": [
      "index0's average is 0.45162999027637324\n",
      "index1's average is 0.5080784281560207\n",
      "index2's average is 0.12297582774810827\n",
      "index3's average is 0.5323093227178352\n",
      "index4's average is 0.5647741747053443\n"
     ]
    }
   ],
   "source": [
    "#  該筆資料平均數\n",
    "for i in df.index[:]:\n",
    "    print(f'index{i}\\'s average is {df.loc[i].mean()}')"
   ]
  },
  {
   "cell_type": "markdown",
   "metadata": {},
   "source": [
    "#### 總合最小的資料"
   ]
  },
  {
   "cell_type": "code",
   "execution_count": 7,
   "metadata": {},
   "outputs": [
    {
     "name": "stdout",
     "output_type": "stream",
     "text": [
      "          0         1         2\n",
      "0  0.366289  0.189234  0.799367\n",
      "1  0.293050  0.338361  0.892824\n",
      "2  0.323413  0.008055  0.037459\n",
      "3  0.724069  0.389815  0.483044\n",
      "4  0.702950  0.340001  0.651371\n"
     ]
    }
   ],
   "source": [
    "print(df)"
   ]
  },
  {
   "cell_type": "code",
   "execution_count": 8,
   "metadata": {},
   "outputs": [
    {
     "name": "stdout",
     "output_type": "stream",
     "text": [
      "2\n"
     ]
    }
   ],
   "source": [
    "df_sum_index={i:df.loc[i].sum() for i in df.index[:]}\n",
    "print(''.join([str(i) for i in df_sum_index.keys() if df_sum_index[i] == min(df_sum_index.values())]))"
   ]
  },
  {
   "cell_type": "markdown",
   "metadata": {},
   "source": [
    "#### 資料總合最小的欄位"
   ]
  },
  {
   "cell_type": "code",
   "execution_count": 9,
   "metadata": {},
   "outputs": [
    {
     "name": "stdout",
     "output_type": "stream",
     "text": [
      "1\n"
     ]
    }
   ],
   "source": [
    "df_sum_col={i:df[i].sum() for i in df.columns[:]}\n",
    "print(''.join([str(i) for i in df_sum_col.keys() if df_sum_col[i] == min(df_sum_col.values())]))"
   ]
  }
 ],
 "metadata": {
  "colab": {
   "name": "Day_023_HW.ipynb",
   "provenance": []
  },
  "kernelspec": {
   "display_name": "Python 3",
   "language": "python",
   "name": "python3"
  },
  "language_info": {
   "codemirror_mode": {
    "name": "ipython",
    "version": 3
   },
   "file_extension": ".py",
   "mimetype": "text/x-python",
   "name": "python",
   "nbconvert_exporter": "python",
   "pygments_lexer": "ipython3",
   "version": "3.8.3"
  }
 },
 "nbformat": 4,
 "nbformat_minor": 4
}
