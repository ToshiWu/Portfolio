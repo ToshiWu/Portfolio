{
 "cells": [
  {
   "cell_type": "code",
   "execution_count": 1,
   "metadata": {},
   "outputs": [],
   "source": [
    "import numpy as np"
   ]
  },
  {
   "cell_type": "code",
   "execution_count": 2,
   "metadata": {},
   "outputs": [],
   "source": [
    "# [簡答題] 請比較 np.zeros 和 np.empty 產生出來的陣列有何差異？為什麼要設計兩種方法？\n",
    "\n",
    "# '''Answer\n",
    "# np.zeros()可以依照傳入的引數來建立特定大小且全為0的陣列。\n",
    "# np.empty()則是依照傳入的引數來建立特定大小且元素未初始化的陣列。\n",
    "\n",
    "# '''"
   ]
  },
  {
   "cell_type": "code",
   "execution_count": 3,
   "metadata": {},
   "outputs": [
    {
     "name": "stdout",
     "output_type": "stream",
     "text": [
      "[[38.16003947 33.24083581 43.75953977]\n",
      " [50.49621189 28.8080644  47.01246178]]\n",
      "[[38. 33. 44.]\n",
      " [50. 29. 47.]]\n"
     ]
    }
   ],
   "source": [
    "# 在不用「整數亂數方法」的限制下，如何將包含小數的轉換整數？請將給定的 a 陣列當中的元素變成去掉小數變成整數。\n",
    "a = np.random.rand(2, 3)*100\n",
    "a2=a.copy().round()\n",
    "\n",
    "print(a)\n",
    "print(a2)"
   ]
  },
  {
   "cell_type": "code",
   "execution_count": 4,
   "metadata": {},
   "outputs": [
    {
     "name": "stdout",
     "output_type": "stream",
     "text": [
      "[[28 21 30]\n",
      " [36 24 26]]\n",
      "[[21. 21. 36.]\n",
      " [30. 30. 38.]]\n"
     ]
    }
   ],
   "source": [
    "# 承上題，怎樣可以限制整數的範圍介於 m - n 之間？請將給定的 a 陣列當中的元素的範圍調整成 m - n 之間。\n",
    "m = 20\n",
    "n = 40\n",
    "\n",
    "from numpy.random import default_rng\n",
    "integers = default_rng().integers(m, n, size=(2,3))\n",
    "print(integers)\n",
    "\n",
    "# 在不用「整數亂數方法」的限制下\n",
    "\n",
    "a = np.random.rand(2, 3)\n",
    "print((a * (n - m)).round() + m)\n"
   ]
  }
 ],
 "metadata": {
  "kernelspec": {
   "display_name": "Python 3",
   "language": "python",
   "name": "python3"
  },
  "language_info": {
   "codemirror_mode": {
    "name": "ipython",
    "version": 3
   },
   "file_extension": ".py",
   "mimetype": "text/x-python",
   "name": "python",
   "nbconvert_exporter": "python",
   "pygments_lexer": "ipython3",
   "version": "3.8.3"
  }
 },
 "nbformat": 4,
 "nbformat_minor": 4
}
