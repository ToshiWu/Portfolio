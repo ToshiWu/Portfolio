{
 "cells": [
  {
   "cell_type": "markdown",
   "metadata": {
    "id": "FkeqfrdQEuUu"
   },
   "source": [
    "作業目標:<br>\r\n",
    "1. 運用編碼處理類別資料<br>\r\n",
    "2. 補缺失值"
   ]
  },
  {
   "cell_type": "markdown",
   "metadata": {
    "id": "KQnEzEUWSn-6"
   },
   "source": [
    "作業重點: <br>\r\n",
    "1. 類別編碼有多種方法，需分辨使用方法與時機<br>\r\n",
    "2. 補缺失值須因應情境決定如何補值"
   ]
  },
  {
   "cell_type": "markdown",
   "metadata": {
    "id": "QqR61iXKExtj"
   },
   "source": [
    "題目 : \n",
    "將以下問卷資料的職業(Profession)欄位缺失值填入字串'others'，更進一步將字串做編碼。\n",
    "此時用什麼方式做編碼比較適合?為什麼?"
   ]
  },
  {
   "cell_type": "code",
   "execution_count": 1,
   "metadata": {
    "colab": {
     "base_uri": "https://localhost:8080/",
     "height": 173
    },
    "executionInfo": {
     "elapsed": 845,
     "status": "ok",
     "timestamp": 1606568962588,
     "user": {
      "displayName": "献竤黃",
      "photoUrl": "",
      "userId": "07529243043474362942"
     },
     "user_tz": -480
    },
    "id": "31UzVh-FEvyu",
    "outputId": "66c3c15b-0453-47b9-e878-d66430365402"
   },
   "outputs": [
    {
     "name": "stdout",
     "output_type": "stream",
     "text": [
      "      Sex Profession\n",
      "0    male    teacher\n",
      "1    male   engineer\n",
      "2  female       None\n",
      "3  female   engineer\n"
     ]
    }
   ],
   "source": [
    "import pandas as pd\n",
    "q_df = pd.DataFrame([['male', 'teacher'], \n",
    "              ['male', 'engineer'],\n",
    "              ['female', None],\n",
    "              ['female', 'engineer']],columns=['Sex','Profession'])\n",
    "print(q_df)"
   ]
  },
  {
   "cell_type": "code",
   "execution_count": 2,
   "metadata": {
    "id": "-FiQRlTM56hL"
   },
   "outputs": [
    {
     "name": "stdout",
     "output_type": "stream",
     "text": [
      "      Sex Profession\n",
      "0    male    teacher\n",
      "1    male   engineer\n",
      "2  female     others\n",
      "3  female   engineer\n"
     ]
    }
   ],
   "source": [
    "#缺失值填入字串'others'\n",
    "\n",
    "q_df=q_df.fillna('others')\n",
    "print(q_df)"
   ]
  },
  {
   "cell_type": "code",
   "execution_count": 3,
   "metadata": {
    "id": "fqxavNQV7MiJ"
   },
   "outputs": [
    {
     "name": "stdout",
     "output_type": "stream",
     "text": [
      "      Sex Profession  Profession_engineer  Profession_others  \\\n",
      "0    male    teacher                    0                  0   \n",
      "1    male   engineer                    1                  0   \n",
      "2  female     others                    0                  1   \n",
      "3  female   engineer                    1                  0   \n",
      "\n",
      "   Profession_teacher  \n",
      "0                   1  \n",
      "1                   0  \n",
      "2                   0  \n",
      "3                   0  \n"
     ]
    }
   ],
   "source": [
    "#更進一步將字串做編碼。 此時用什麼方式做編碼比較適合?為什麼?\n",
    "\n",
    "#使用one-hot encoding，因為Profession欄位表示職業，職業之間沒有順序性\n",
    "onehot_df = pd.get_dummies(q_df[['Profession']])\n",
    "q_df = pd.concat([q_df, onehot_df], axis=1)\n",
    "print(q_df)"
   ]
  }
 ],
 "metadata": {
  "colab": {
   "authorship_tag": "ABX9TyOjMmDZf/vVbf+1vJaHFaKg",
   "collapsed_sections": [],
   "name": "類別資料與缺值處理作業題目.ipynb",
   "provenance": []
  },
  "kernelspec": {
   "display_name": "Python 3",
   "language": "python",
   "name": "python3"
  },
  "language_info": {
   "codemirror_mode": {
    "name": "ipython",
    "version": 3
   },
   "file_extension": ".py",
   "mimetype": "text/x-python",
   "name": "python",
   "nbconvert_exporter": "python",
   "pygments_lexer": "ipython3",
   "version": "3.8.3"
  }
 },
 "nbformat": 4,
 "nbformat_minor": 4
}
