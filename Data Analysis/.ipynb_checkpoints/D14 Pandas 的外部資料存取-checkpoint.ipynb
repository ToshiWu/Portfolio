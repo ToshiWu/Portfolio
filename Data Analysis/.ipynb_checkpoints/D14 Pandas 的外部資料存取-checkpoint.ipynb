{
 "cells": [
  {
   "cell_type": "markdown",
   "metadata": {
    "colab_type": "text",
    "id": "P6xk2_jLsvFF"
   },
   "source": [
    "# [作業目標]\n",
    "\n",
    "\n",
    "1. [簡答題] 比較下列兩個讀入的 df 有什麼不同？為什麼造成的？\n",
    "\n",
    "2. 請將 Dcard API 取得所有的看板資訊轉換成 DataFrame，並且依照熱門程度排序後存成一個 csv 的檔案。\n",
    "\n",
    "\n"
   ]
  },
  {
   "cell_type": "markdown",
   "metadata": {
    "colab_type": "text",
    "id": "uXGll28asvFS"
   },
   "source": [
    "# 作業 "
   ]
  },
  {
   "cell_type": "code",
   "execution_count": 1,
   "metadata": {},
   "outputs": [],
   "source": [
    "# 記得先 Import 正確的套件\n",
    "import numpy as np, pandas as pd"
   ]
  },
  {
   "cell_type": "markdown",
   "metadata": {},
   "source": [
    "### 1. [簡答題] 比較下列兩個讀入的 df 有什麼不同？為什麼造成的？\n"
   ]
  },
  {
   "cell_type": "code",
   "execution_count": 2,
   "metadata": {
    "colab": {},
    "colab_type": "code",
    "id": "5QrYoyNWsvFS"
   },
   "outputs": [
    {
     "name": "stdout",
     "output_type": "stream",
     "text": [
      "           PID  ST_NUM     ST_NAME OWN_OCCUPIED NUM_BEDROOMS NUM_BATH SQ_FT\n",
      "0  100001000.0   104.0      PUTNAM            Y            3        1  1000\n",
      "1  100002000.0   197.0   LEXINGTON            N            3      1.5    --\n",
      "2  100003000.0     NaN   LEXINGTON            N          NaN        1   850\n",
      "3  100004000.0   201.0    BERKELEY           12            1      NaN   700\n",
      "4          NaN   203.0    BERKELEY            Y            3        2  1600\n",
      "5  100006000.0   207.0    BERKELEY            Y          NaN        1   800\n",
      "6  100007000.0     NaN  WASHINGTON          NaN            2   HURLEY   950\n",
      "7  100008000.0   213.0     TREMONT            Y            1        1   NaN\n",
      "8  100009000.0   215.0     TREMONT            Y           na        2  1800\n"
     ]
    }
   ],
   "source": [
    "df1 = pd.read_csv('https://raw.githubusercontent.com/dataoptimal/posts/master/data%20cleaning%20with%20python%20and%20pandas/property%20data.csv')\n",
    "print(df1)"
   ]
  },
  {
   "cell_type": "code",
   "execution_count": 3,
   "metadata": {},
   "outputs": [
    {
     "name": "stdout",
     "output_type": "stream",
     "text": [
      "           PID  ST_NUM     ST_NAME OWN_OCCUPIED  NUM_BEDROOMS NUM_BATH   SQ_FT\n",
      "0  100001000.0   104.0      PUTNAM            Y           3.0        1  1000.0\n",
      "1  100002000.0   197.0   LEXINGTON            N           3.0      1.5     NaN\n",
      "2  100003000.0     NaN   LEXINGTON            N           NaN        1   850.0\n",
      "3  100004000.0   201.0    BERKELEY           12           1.0      NaN   700.0\n",
      "4          NaN   203.0    BERKELEY            Y           3.0        2  1600.0\n",
      "5  100006000.0   207.0    BERKELEY            Y           NaN        1   800.0\n",
      "6  100007000.0     NaN  WASHINGTON          NaN           2.0   HURLEY   950.0\n",
      "7  100008000.0   213.0     TREMONT            Y           1.0        1     NaN\n",
      "8  100009000.0   215.0     TREMONT            Y           NaN        2  1800.0\n"
     ]
    }
   ],
   "source": [
    "df2 = pd.read_csv(\n",
    "    'https://raw.githubusercontent.com/dataoptimal/posts/master/data%20cleaning%20with%20python%20and%20pandas/property%20data.csv',\n",
    "    keep_default_na=True,\n",
    "    na_values=['na', '--']\n",
    ")\n",
    "print(df2)"
   ]
  },
  {
   "cell_type": "code",
   "execution_count": 4,
   "metadata": {},
   "outputs": [],
   "source": [
    "# 差別在於引數keep_default_na\n",
    "# 當keep_default_na為True且na_values被指定時\n",
    "# na_values讀入時會變為NaN"
   ]
  },
  {
   "cell_type": "markdown",
   "metadata": {},
   "source": [
    "### 2. 請將 Dcard API 取得所有的看板資訊轉換成 DataFrame，並且依照熱門程度排序後存成一個 csv 的檔案。\n"
   ]
  },
  {
   "cell_type": "code",
   "execution_count": 5,
   "metadata": {},
   "outputs": [
    {
     "name": "stdout",
     "output_type": "stream",
     "text": [
      "[{'id': '7f125e07-4460-4ea5-80b5-33f0e9aafa0c', 'alias': 'midnightlab', 'name': '午夜實驗室', 'description': '午夜實驗室10/6、10/7即將在華山登場！這裏提供大家交流活動資訊與討論，請大家要遵守 Dcard 板規喔！', 'subscriptionCount': 1751, 'subscribed': False, 'read': False, 'createdAt': '2016-05-14T19:15:15.698Z', 'updatedAt': '2021-04-20T08:36:58.712Z', 'canPost': False, 'ignorePost': False, 'invisible': True, 'isSchool': False, 'fullyAnonymous': False, 'canUseNickname': True, 'postThumbnail': {'size': 'small'}, 'shouldCategorized': False, 'shouldPostCategorized': False, 'hasPostCategories': False, 'titlePlaceholder': '', 'postTitlePlaceholder': '', 'ipCountryCondition': {'exclude': [], 'include': []}, 'subcategories': [], 'topics': ['午夜實驗室'], 'nsfw': False, 'mediaThreshold': {}, 'limitCountries': [], 'limitStage': 0, 'availableLayouts': ['classic'], 'postCount': {'last30Days': 1}, 'favorite': False}, {'id': 'c0ed3f99-ed1c-49a8-b413-ed5e925aafe4', 'alias': 'timecapsule', 'name': '時光膠囊', 'description': 'Dcard 九週年最終章！告別動盪不安的 2020，說好了，2021 我們一起活得更努力！請寫一封信給 2021 的自己，你想要成為什麼樣的人、想達成的新年目標或行動計畫？這些願望，Dcard 陪你一起完成。許願的卡友們一年後都會收到「時光膠囊」，提醒你檢視「和 Dcard 的約定」完成了多少。在文章裡留下一句想隨身提醒自己的話，就有機會訂製你專屬的 D 卡。', 'subscriptionCount': 4276, 'subscribed': False, 'read': False, 'createdAt': '2016-05-14T20:15:15.698Z', 'updatedAt': '2021-01-07T07:24:57.455Z', 'canPost': False, 'ignorePost': False, 'invisible': True, 'isSchool': False, 'fullyAnonymous': False, 'canUseNickname': True, 'postThumbnail': {'size': 'small'}, 'shouldCategorized': False, 'shouldPostCategorized': False, 'hasPostCategories': False, 'titlePlaceholder': '', 'postTitlePlaceholder': '', 'ipCountryCondition': {}, 'subcategories': [], 'topics': [], 'nsfw': False, 'mediaThreshold': {}, 'limitCountries': [], 'limitStage': 0, 'availableLayouts': ['classic'], 'heroImage': {'url': 'https://megapx-assets.dcard.tw/images/9ab1db4e-8beb-4072-be8a-d067a0a02f92/full.jpeg', 'type': 'image/jpeg', 'width': 1800, 'height': 600}, 'logo': {'url': 'https://megapx-assets.dcard.tw/images/18ce292e-934e-41d0-8936-11433faf56be/full.jpeg', 'type': 'image/jpeg', 'width': 200, 'height': 200}, 'postCount': {'last30Days': 300}, 'favorite': False}, {'id': 'cc2164ae-88cd-466d-b11b-19e4b1f6f78c', 'alias': 'mother', 'name': '母親節', 'description': 'Dcard 母親節限定板，告訴媽媽我愛妳！', 'subscriptionCount': 371, 'subscribed': False, 'read': False, 'createdAt': '2016-05-14T22:15:15.699Z', 'updatedAt': '2021-04-20T08:36:35.702Z', 'canPost': False, 'ignorePost': False, 'invisible': True, 'isSchool': False, 'fullyAnonymous': False, 'canUseNickname': True, 'postThumbnail': {'size': 'small'}, 'shouldCategorized': False, 'shouldPostCategorized': False, 'hasPostCategories': False, 'titlePlaceholder': '', 'postTitlePlaceholder': '', 'ipCountryCondition': {}, 'subcategories': [], 'topics': ['我是媽寶我驕傲', '曬媽媽', '母親節蛋糕', '康乃馨', '母親節花束', '我愛媽媽', '母親節禮物', '媽媽我愛你', '媽媽', '母親節大餐', '母親節檔期'], 'nsfw': False, 'mediaThreshold': {}, 'limitCountries': [], 'limitStage': 0, 'availableLayouts': ['classic'], 'postCount': {'last30Days': 1}, 'favorite': False}, {'id': '11e8d941-0aad-4960-8348-b27c36270fd1', 'alias': 'merryxmas', 'name': '聖誕CiaoCiao', 'description': '期間限定開啟！只要是和聖誕節有關的事情，或是和「禮物」有關的東西通通都來分享吧！', 'subscriptionCount': 17352, 'subscribed': False, 'read': False, 'createdAt': '2016-05-17T00:11:15.742Z', 'updatedAt': '2021-04-20T08:36:54.019Z', 'canPost': False, 'ignorePost': False, 'invisible': True, 'isSchool': False, 'fullyAnonymous': False, 'canUseNickname': True, 'postThumbnail': {'size': 'small'}, 'shouldCategorized': False, 'shouldPostCategorized': False, 'hasPostCategories': False, 'titlePlaceholder': '', 'postTitlePlaceholder': '', 'ipCountryCondition': {}, 'subcategories': [], 'topics': ['Dcard聖誕列車', '交換禮物', '聖誕禮物', '聖誕卡片', '聖誕舞會', '聖誕樹', '聖誕節'], 'nsfw': False, 'mediaThreshold': {}, 'limitCountries': [], 'limitStage': 0, 'availableLayouts': ['classic'], 'heroImage': {'url': 'https://megapx-assets.dcard.tw/images/7b5b4c6c-ee5b-4903-a27f-e772de58f078/orig.jpeg', 'type': 'image/jpeg', 'width': 1800, 'height': 600}, 'logo': {'url': 'https://megapx-assets.dcard.tw/images/1d36a792-6e4a-40be-8656-89a0b5973f6c/orig.jpeg', 'type': 'image/jpeg', 'width': 200, 'height': 200}, 'postCount': {'last30Days': 1}, 'favorite': False}, {'id': '8d5cabde-d0df-479f-8ab7-153209317537', 'alias': 'father', 'name': '父親節', 'description': 'Dcard 父親節特輯，上傳爸爸帥照，寫下真摯文字，一起謝謝我們心中的 「鋼鐵人老爸」。', 'subscriptionCount': 371, 'subscribed': False, 'read': False, 'createdAt': '2016-05-17T00:12:15.742Z', 'updatedAt': '2017-01-01T10:36:38.235Z', 'canPost': False, 'ignorePost': False, 'invisible': True, 'isSchool': False, 'fullyAnonymous': False, 'canUseNickname': True, 'postThumbnail': {'size': 'small'}, 'shouldCategorized': False, 'shouldPostCategorized': False, 'hasPostCategories': False, 'titlePlaceholder': '', 'postTitlePlaceholder': '', 'ipCountryCondition': {}, 'subcategories': [], 'topics': [], 'nsfw': False, 'mediaThreshold': {}, 'limitCountries': [], 'limitStage': 0, 'availableLayouts': ['classic'], 'postCount': {'last30Days': 0}, 'favorite': False}]\n"
     ]
    }
   ],
   "source": [
    "import requests\n",
    "r = requests.get('https://www.dcard.tw/_api/forums')\n",
    "response = r.text\n",
    "import json\n",
    "data = json.loads(response)\n",
    "\n",
    "print(data[:5])"
   ]
  },
  {
   "cell_type": "code",
   "execution_count": 6,
   "metadata": {},
   "outputs": [
    {
     "name": "stdout",
     "output_type": "stream",
     "text": [
      "                                       id         alias        name  \\\n",
      "373  1ce3ebca-8701-42d5-b14c-076fc629bc8e           sex          西斯   \n",
      "228  42851318-b9e2-4a75-8a05-9fe180becefe  relationship          感情   \n",
      "224  be1a095b-175e-4523-9e06-66a05d939676       dressup          穿搭   \n",
      "217  cbd5285f-3cba-4bfc-86d0-1ab52d201459        makeup          美妝   \n",
      "273  de977130-f3eb-467b-822e-b0e91124e9eb          food          美食   \n",
      "..                                    ...           ...         ...   \n",
      "182  9ffbd450-4416-4023-87ef-81b38703a224    hkmacdaily        港澳日常   \n",
      "207  019f0994-375e-479a-9b08-1b8addb64cc3      hkbeauty   港澳 Beauty   \n",
      "208  1150ae79-6e67-46f2-bfec-74f8c365a4a1    hktrending        港澳時事   \n",
      "209  36443e19-9334-42f4-b91e-95e601150f61         hkacg      港澳 ACG   \n",
      "156  d1377288-8432-4ec0-a539-e1ac6d59362c           mkc  馬偕醫護管理專科學校   \n",
      "\n",
      "                                           description  subscriptionCount  \\\n",
      "373  西斯板（Sex）提供男女私密話題分享或性教育等情慾議題討論，若有性方面相關問題也可在此發問。...             552355   \n",
      "228  無論是遠距離戀愛、情侶間的有趣互動、分手後的藕斷絲連等...都可以在感情板分享你們的愛情故事...             485651   \n",
      "224  穿搭板提供各種服裝搭配、包鞋、飾品配件等相關話題討論。\\n歡迎分享自己的日常穿搭，或任何潮流...             470694   \n",
      "217  不管你喜歡開架彩妝還是專櫃彩妝，美妝板提供各種最新彩妝開箱評比、粉底色號、唇膏試色、眼影試色...             390110   \n",
      "273              美食板歡迎分享各種吃貨食記心得，或提供手搖飲料、校園美食、美食情報等文章！             327066   \n",
      "..                                                 ...                ...   \n",
      "182          專屬於香港澳門o既討論區，日常生活大小事都可以係度傾～發文請注意需超過15個中文字                  0   \n",
      "207    呢度係比香港澳門嘅同學仔討論化妝、護膚、美髮、任何扮靚相關話題嘅討論區，發文留言前請先閱讀板規                  0   \n",
      "208           呢度係比香港澳門嘅同學仔討論同港澳有關既時事議題嘅討論區，發文留言前請先閱讀板規                  0   \n",
      "209           呢度係比香港澳門既同學仔討論同分享各種動漫、遊戲嘅討論區，發文留言前請先閱讀板規                  0   \n",
      "156  馬偕醫護管理專科學校板，一個能讓你暢所欲言的地方。在這裡，卡友們可以盡情討論校園裡的大小事，...                  0   \n",
      "\n",
      "     subscribed   read                 createdAt                 updatedAt  \\\n",
      "373       False  False  2020-02-04T07:52:53.573Z  2021-04-20T08:36:40.534Z   \n",
      "228       False  False  2020-02-04T07:28:43.573Z  2021-04-20T08:36:40.391Z   \n",
      "224       False  False  2020-02-04T07:28:03.573Z  2021-04-20T08:36:37.330Z   \n",
      "217       False  False  2020-02-04T07:26:53.573Z  2021-04-20T08:36:35.733Z   \n",
      "273       False  False  2020-02-04T07:36:13.573Z  2021-04-20T08:36:35.879Z   \n",
      "..          ...    ...                       ...                       ...   \n",
      "182       False  False  2018-10-03T03:41:18.556Z  2021-04-20T10:09:10.711Z   \n",
      "207       False  False  2020-01-02T03:21:28.406Z  2021-04-20T10:15:48.549Z   \n",
      "208       False  False  2020-01-02T03:22:36.962Z  2021-04-20T10:31:36.975Z   \n",
      "209       False  False  2020-01-02T03:23:17.450Z  2021-04-20T10:12:05.365Z   \n",
      "156       False  False  2016-09-23T09:35:46.370Z  2020-08-13T08:58:10.340Z   \n",
      "\n",
      "     canPost  ...                                             topics   nsfw  \\\n",
      "373    False  ...  [A片, 甲, 小熊貝爾, Les, 無碼片, NTR, 內射, 自慰, 3P, 外流, 意...   True   \n",
      "228    False  ...  [微西斯, 愛情, 閃光, 價值觀, 告白, 分手, 遠距離, 失戀, 曖昧, 做愛, 在一...  False   \n",
      "224    False  ...  [蝦皮, 耳環, 襯衫, 工裝, 後背包, 寬褲, 淘寶, 涼鞋, 洋裝, 情侶穿搭, 鞋子...  False   \n",
      "217    False  ...  [防曬, 粉餅, 受受狼, 刷具, 遮瑕, 粉刺, 打亮, 眼影, 粉底, 眉筆, 粉底液,...  False   \n",
      "273    False  ...  [台中美食, 高雄美食, 台南美食, 台北美食, 新竹美食, 板橋美食, 全聯, 711, ...  False   \n",
      "..       ...  ...                                                ...    ...   \n",
      "182    False  ...                                  [好玩, 港澳板, 生活, 日常]  False   \n",
      "207    False  ...                           [減肥, 護膚, 打扮, 搽面, 化妝, 分享]  False   \n",
      "208    False  ...                           [港聞, 正苦, 林鄭, 時事, 社會, 政治]  False   \n",
      "209    False  ...                    [電玩, 動漫節, Cosplay, 動漫, ACG, 遊戲]  False   \n",
      "156    False  ...                                                 []  False   \n",
      "\n",
      "                             mediaThreshold  limitCountries  limitStage  \\\n",
      "373  {'RACY': 1, 'ADULT': 1, 'VIOLENCE': 1}              []           0   \n",
      "228                                      {}              []           0   \n",
      "224                                      {}              []           0   \n",
      "217                                      {}              []           0   \n",
      "273                                      {}              []           0   \n",
      "..                                      ...             ...         ...   \n",
      "182                                      {}        [HK, MO]           0   \n",
      "207                                      {}        [HK, MO]           0   \n",
      "208                                      {}        [HK, MO]           0   \n",
      "209                                      {}        [HK, MO]           0   \n",
      "156                                      {}              []           0   \n",
      "\n",
      "                  availableLayouts             postCount  favorite  \\\n",
      "373                      [classic]  {'last30Days': 4297}     False   \n",
      "228                      [classic]  {'last30Days': 9464}     False   \n",
      "224                [classic, link]  {'last30Days': 1322}     False   \n",
      "217                      [classic]  {'last30Days': 2911}     False   \n",
      "273  [classic, link, image, video]  {'last30Days': 1708}     False   \n",
      "..                             ...                   ...       ...   \n",
      "182  [classic, image, video, link]   {'last30Days': 556}     False   \n",
      "207  [classic, image, video, link]    {'last30Days': 45}     False   \n",
      "208  [classic, image, video, link]    {'last30Days': 58}     False   \n",
      "209  [classic, image, video, link]    {'last30Days': 37}     False   \n",
      "156                [classic, link]   {'last30Days': 129}     False   \n",
      "\n",
      "                                             heroImage  \\\n",
      "373  {'url': 'https://megapx-assets.dcard.tw/images...   \n",
      "228  {'url': 'https://megapx-assets.dcard.tw/images...   \n",
      "224  {'url': 'https://megapx-assets.dcard.tw/images...   \n",
      "217  {'url': 'https://megapx-assets.dcard.tw/images...   \n",
      "273  {'url': 'https://megapx-assets.dcard.tw/images...   \n",
      "..                                                 ...   \n",
      "182  {'url': 'https://megapx-assets.dcard.tw/images...   \n",
      "207  {'url': 'https://megapx-assets.dcard.tw/images...   \n",
      "208  {'url': 'https://megapx-assets.dcard.tw/images...   \n",
      "209  {'url': 'https://megapx-assets.dcard.tw/images...   \n",
      "156  {'url': 'https://megapx-assets.dcard.tw/images...   \n",
      "\n",
      "                                                  logo  \n",
      "373  {'url': 'https://megapx-assets.dcard.tw/images...  \n",
      "228  {'url': 'https://megapx-assets.dcard.tw/images...  \n",
      "224  {'url': 'https://megapx-assets.dcard.tw/images...  \n",
      "217  {'url': 'https://megapx-assets.dcard.tw/images...  \n",
      "273  {'url': 'https://megapx-assets.dcard.tw/images...  \n",
      "..                                                 ...  \n",
      "182  {'url': 'https://megapx-assets.dcard.tw/images...  \n",
      "207  {'url': 'https://megapx-assets.dcard.tw/images...  \n",
      "208  {'url': 'https://megapx-assets.dcard.tw/images...  \n",
      "209  {'url': 'https://megapx-assets.dcard.tw/images...  \n",
      "156  {'url': 'https://megapx-assets.dcard.tw/images...  \n",
      "\n",
      "[485 rows x 33 columns]\n"
     ]
    }
   ],
   "source": [
    "df=pd.DataFrame(data).sort_values(by='subscriptionCount', ascending=False)\n",
    "print(df)\n",
    "df.to_csv('./D14/D14.csv')"
   ]
  }
 ],
 "metadata": {
  "colab": {
   "name": "Day_023_HW.ipynb",
   "provenance": []
  },
  "kernelspec": {
   "display_name": "Python 3",
   "language": "python",
   "name": "python3"
  },
  "language_info": {
   "codemirror_mode": {
    "name": "ipython",
    "version": 3
   },
   "file_extension": ".py",
   "mimetype": "text/x-python",
   "name": "python",
   "nbconvert_exporter": "python",
   "pygments_lexer": "ipython3",
   "version": "3.8.3"
  }
 },
 "nbformat": 4,
 "nbformat_minor": 4
}
