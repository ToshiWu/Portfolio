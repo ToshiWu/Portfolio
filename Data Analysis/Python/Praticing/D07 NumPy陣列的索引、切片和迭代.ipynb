{
 "cells": [
  {
   "cell_type": "code",
   "execution_count": 1,
   "metadata": {},
   "outputs": [],
   "source": [
    "import numpy as np"
   ]
  },
  {
   "cell_type": "code",
   "execution_count": 2,
   "metadata": {},
   "outputs": [],
   "source": [
    "# 請比較對一個 1000 x 100 x 100 的陣列，使用不同方法對每一個元素 +1 的時間比較。\n",
    "Z = np.random.randint(0, 10, 1000000).reshape(100, 100, 100)"
   ]
  },
  {
   "cell_type": "code",
   "execution_count": 3,
   "metadata": {},
   "outputs": [
    {
     "name": "stdout",
     "output_type": "stream",
     "text": [
      "20 ns ± 1.31 ns per loop (mean ± std. dev. of 7 runs, 100 loops each)\n"
     ]
    }
   ],
   "source": [
    "#直接運算\n",
    "%timeit -n 100 a = 2\n",
    "\n",
    "Z+=1"
   ]
  },
  {
   "cell_type": "code",
   "execution_count": 4,
   "metadata": {},
   "outputs": [
    {
     "name": "stdout",
     "output_type": "stream",
     "text": [
      "34.3 ns ± 7.28 ns per loop (mean ± std. dev. of 7 runs, 10 loops each)\n"
     ]
    }
   ],
   "source": [
    "#攤平運算後重新塑形\n",
    "%timeit -n 10 a = 2\n",
    "\n",
    "Z=(Z.flat+np.array([1])).reshape(100,100,100)"
   ]
  },
  {
   "cell_type": "code",
   "execution_count": 5,
   "metadata": {},
   "outputs": [
    {
     "name": "stdout",
     "output_type": "stream",
     "text": [
      "34.3 ns ± 10.5 ns per loop (mean ± std. dev. of 7 runs, 10 loops each)\n"
     ]
    }
   ],
   "source": [
    "#迭代物件運算後重新塑形\n",
    "%timeit -n 10 a = 2\n",
    "\n",
    "Z=np.array([i+1 for i in np.nditer(Z)]).reshape(100,100,100)"
   ]
  },
  {
   "cell_type": "code",
   "execution_count": 6,
   "metadata": {},
   "outputs": [
    {
     "name": "stdout",
     "output_type": "stream",
     "text": [
      "[9 1 9 5 0 8 6 6 0 9 7 3 4 1 5 5 8 1 1 6 1 1 3 4 9 5 7 2 4 4 0 9 5 1 2 6 7\n",
      " 7 9 6 6 1 6 5 3 1 6 6 1 3]\n",
      "出現頻率最高的元素:\t[1]\n",
      "出現頻率最高的元素位置:\t{1: [1, 13, 17, 18, 20, 21, 33, 41, 45, 48]}\n"
     ]
    }
   ],
   "source": [
    "# 如何從一個陣列中，找出出現頻率最高的數值與位置？\n",
    "Z = np.random.randint(0,10,50)\n",
    "print(Z)\n",
    "\n",
    "\n",
    "Z_max=[i for i in np.where(np.bincount(Z)==np.bincount(Z).max())[0]]\n",
    "Z_max_position=[np.where(Z==i)[0].tolist() for i in Z_max]\n",
    "dict_z_max={i:j for i in Z_max for j in Z_max_position}\n",
    "print(f'出現頻率最高的元素:\\t{Z_max}\\n出現頻率最高的元素位置:\\t{dict_z_max}')"
   ]
  },
  {
   "cell_type": "code",
   "execution_count": 7,
   "metadata": {},
   "outputs": [
    {
     "name": "stdout",
     "output_type": "stream",
     "text": [
      "[1, 0, 7, 8, 8, 8]\n",
      "[1, 0, 7, 8, 8, 8]\n",
      "[[1, 8, 7, 0], [2, 5, 1, 4], [0, 6, 5, 7]]\n",
      "[[1, 8, 7, 0], [2, 5, 1, 4], [0, 6, 5, 7]]\n",
      "[[[3, 2], [9, 9], [9, 7]], [[5, 0], [4, 2], [4, 1]]]\n",
      "[[[3, 2], [9, 9], [9, 7]], [[5, 0], [4, 2], [4, 1]]]\n"
     ]
    }
   ],
   "source": [
    "# 如何利用 list(...) 實現 a.tolist() 的效果？試著用程式實作。\n",
    "a = np.random.randint(10, size=6) \n",
    "b = np.random.randint(10, size=(3,4)) \n",
    "c = np.random.randint(10, size=(2,3,2)) \n",
    "\n",
    "tolist_ = lambda arr: list(map(tolist_, arr)) if isinstance(arr, np.ndarray) else arr\n",
    "\n",
    "for i in [a,b,c]:\n",
    "    print(list(tolist_(i)))\n",
    "    print(i.tolist())"
   ]
  }
 ],
 "metadata": {
  "kernelspec": {
   "display_name": "Python 3",
   "language": "python",
   "name": "python3"
  },
  "language_info": {
   "codemirror_mode": {
    "name": "ipython",
    "version": 3
   },
   "file_extension": ".py",
   "mimetype": "text/x-python",
   "name": "python",
   "nbconvert_exporter": "python",
   "pygments_lexer": "ipython3",
   "version": "3.8.3"
  }
 },
 "nbformat": 4,
 "nbformat_minor": 4
}
