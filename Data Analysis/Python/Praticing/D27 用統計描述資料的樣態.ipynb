{
 "cells": [
  {
   "cell_type": "markdown",
   "metadata": {
    "id": "H-z4L8J371GO"
   },
   "source": [
    "今天學到不同統計量之間特性，  \n",
    "試著分析男生女生身高資料，  \n",
    "試著回答下面的問題:  \n",
    "Q1:試著用今天所教的內容，如何描述這兩組資料的樣態?    \n",
    "Q2: 請問男生和女生在平均身高上誰比較高?   \n",
    "Q3:請問第二題的答案和日常生活中觀察的一致嗎? 如果不一致，你覺得原因可能為何?    \n",
    "上述問題透過  python 語法進行運算，\n",
    "並將上述答案填寫在 (google 表單)[https://docs.google.com/forms/d/e/1FAIpQLSdDzwpeJl8YLPwZaW8pBZvtuXY9kIbbZLqxcXyzFaoraV5JEA/viewform ]\n",
    "![](./D27_image.PNG)"
   ]
  },
  {
   "cell_type": "code",
   "execution_count": 1,
   "metadata": {
    "id": "yz28_IgkYdBW"
   },
   "outputs": [],
   "source": [
    "# library\n",
    "import matplotlib.pyplot as plt\n",
    "import numpy as np\n",
    "import pandas as pd\n",
    "from scipy import stats\n",
    "import math\n",
    "import statistics\n",
    "import seaborn as sns"
   ]
  },
  {
   "cell_type": "code",
   "execution_count": 2,
   "metadata": {
    "id": "3NtzuWtt71GU",
    "outputId": "be21c4eb-a6c2-4674-aadd-d378bafc0428"
   },
   "outputs": [],
   "source": [
    "## 輸入資料\n",
    "male=[164,175,183,173,\n",
    "      176,159,165,165,\n",
    "      169,151,156,163,\n",
    "      169,144,170,177,\n",
    "      165,160,164,171]\n",
    "\n",
    "female=[169,170,162,154,\n",
    "        183,173,169,167,\n",
    "        170,185,162,175,\n",
    "        168,151,181,170,\n",
    "        182,156,159,160]"
   ]
  },
  {
   "cell_type": "code",
   "execution_count": 3,
   "metadata": {
    "id": "uDM9AzrY71GW",
    "outputId": "f4e7ede3-fda9-4858-f122-af7c3b3f3ad4"
   },
   "outputs": [
    {
     "data": {
      "text/html": [
       "<div>\n",
       "<style scoped>\n",
       "    .dataframe tbody tr th:only-of-type {\n",
       "        vertical-align: middle;\n",
       "    }\n",
       "\n",
       "    .dataframe tbody tr th {\n",
       "        vertical-align: top;\n",
       "    }\n",
       "\n",
       "    .dataframe thead th {\n",
       "        text-align: right;\n",
       "    }\n",
       "</style>\n",
       "<table border=\"1\" class=\"dataframe\">\n",
       "  <thead>\n",
       "    <tr style=\"text-align: right;\">\n",
       "      <th></th>\n",
       "      <th>Mean</th>\n",
       "      <th>Median</th>\n",
       "      <th>Mode</th>\n",
       "      <th>Range</th>\n",
       "      <th>MAD(mean)</th>\n",
       "      <th>MAD(median)</th>\n",
       "      <th>MAD(mode)</th>\n",
       "      <th>Variance</th>\n",
       "      <th>STD</th>\n",
       "      <th>CV</th>\n",
       "      <th>Skewness</th>\n",
       "      <th>Kurtosis</th>\n",
       "    </tr>\n",
       "  </thead>\n",
       "  <tbody>\n",
       "    <tr>\n",
       "      <th>Male</th>\n",
       "      <td>165.95</td>\n",
       "      <td>165.0</td>\n",
       "      <td>165</td>\n",
       "      <td>39</td>\n",
       "      <td>6.945</td>\n",
       "      <td>6.85</td>\n",
       "      <td>6.85</td>\n",
       "      <td>80.6475</td>\n",
       "      <td>8.980395</td>\n",
       "      <td>0.054115</td>\n",
       "      <td>-0.471321</td>\n",
       "      <td>0.193959</td>\n",
       "    </tr>\n",
       "    <tr>\n",
       "      <th>Female</th>\n",
       "      <td>168.30</td>\n",
       "      <td>169.0</td>\n",
       "      <td>170</td>\n",
       "      <td>34</td>\n",
       "      <td>7.570</td>\n",
       "      <td>7.50</td>\n",
       "      <td>7.60</td>\n",
       "      <td>90.6100</td>\n",
       "      <td>9.518929</td>\n",
       "      <td>0.056559</td>\n",
       "      <td>0.059853</td>\n",
       "      <td>-0.820361</td>\n",
       "    </tr>\n",
       "  </tbody>\n",
       "</table>\n",
       "</div>"
      ],
      "text/plain": [
       "          Mean  Median  Mode  Range  MAD(mean)  MAD(median)  MAD(mode)  \\\n",
       "Male    165.95   165.0   165     39      6.945         6.85       6.85   \n",
       "Female  168.30   169.0   170     34      7.570         7.50       7.60   \n",
       "\n",
       "        Variance       STD        CV  Skewness  Kurtosis  \n",
       "Male     80.6475  8.980395  0.054115 -0.471321  0.193959  \n",
       "Female   90.6100  9.518929  0.056559  0.059853 -0.820361  "
      ]
     },
     "metadata": {},
     "output_type": "display_data"
    }
   ],
   "source": [
    "#Q1:試著用今天所教的內容，如何描述這兩組資料的樣態?\n",
    "#暗示:  分別計算男生和女生的統計量\n",
    "\n",
    "#創建Dataframe表格,轉換資料為nparray的二維串列\n",
    "df = pd.DataFrame(index=['Male','Female'])\n",
    "data=[np.array(male),np.array(female)]\n",
    "#填入統計數據\n",
    "#平均數,中位數,眾數,全距,平均差,方差,標準差,離散係數\n",
    "df['Mean']=list(map(np.mean, data))\n",
    "df['Median']=list(map(np.median, data))\n",
    "df['Mode']=list(map(lambda x : int(stats.mode(x)[0]), data))\n",
    "df['Range']=list(map(lambda x : max(x) - min(x), data))\n",
    "df['MAD(mean)']=list(map(lambda x : sum(abs(x-np.mean(x)))/ len(x), data))\n",
    "df['MAD(median)']=list(map(lambda x : sum(abs(x - np.median(x)))/ len(x), data))\n",
    "df['MAD(mode)']=list(map(lambda x : sum(abs(x - int(stats.mode(x)[0]))) / len(x), data))\n",
    "df['Variance']=list(map(np.var, data))\n",
    "df['STD']=list(map(np.std, data))\n",
    "df['CV']=list(map(lambda x: np.std(x) / np.mean(x), data))\n",
    "df['Skewness']=list(map(stats.skew, data))\n",
    "df['Kurtosis']=list(map(stats.kurtosis, data))\n",
    "display(df)"
   ]
  },
  {
   "cell_type": "code",
   "execution_count": 4,
   "metadata": {},
   "outputs": [
    {
     "data": {
      "image/png": "[encoded data removed]",
      "text/plain": [
       "<Figure size 432x288 with 1 Axes>"
      ]
     },
     "metadata": {
      "needs_background": "light"
     },
     "output_type": "display_data"
    },
    {
     "data": {
      "image/png": "[encoded data removed]",
      "text/plain": [
       "<Figure size 432x288 with 1 Axes>"
      ]
     },
     "metadata": {
      "needs_background": "light"
     },
     "output_type": "display_data"
    },
    {
     "data": {
      "image/png": "[encoded data removed]",
      "text/plain": [
       "<Figure size 432x288 with 1 Axes>"
      ]
     },
     "metadata": {
      "needs_background": "light"
     },
     "output_type": "display_data"
    }
   ],
   "source": [
    "# 畫圖看分布\n",
    "# 男性\n",
    "plt.hist(male,bins=df['Range'][0] + 1)\n",
    "plt.title('male,skewness={0},kurtosis={1}'.format(round(df['Skewness'][0],2),round(df['Kurtosis'][0],2)))\n",
    "plt.axvline(x=df['Mean'][0])\n",
    "plt.show()\n",
    "\n",
    "# 女性\n",
    "plt.hist(female,bins=df['Range'][1] + 1,color=sns.desaturate(\"indianred\", .8))\n",
    "plt.title('female,skewness={0},kurtosis={1}'.format(round(df['Skewness'][1],2),round(df['Kurtosis'][1],2)))\n",
    "plt.axvline(x=df['Mean'][1],color=sns.desaturate(\"indianred\", .8))\n",
    "plt.show()\n",
    "\n",
    "# 把樣本放在一起比較\n",
    "kwargs = dict(alpha=0.4, bins=max(df['Range']))\n",
    "plt.hist(male,**kwargs)\n",
    "plt.hist(female,color=sns.desaturate(\"indianred\", .8),**kwargs)\n",
    "plt.title(\"All samples\")\n",
    "plt.axvline(x=df['Mean'][0])\n",
    "plt.axvline(x=df['Mean'][1],color=sns.desaturate(\"indianred\", .8))\n",
    "plt.show()"
   ]
  },
  {
   "cell_type": "markdown",
   "metadata": {
    "id": "xH_GNsC271GW",
    "outputId": "f4b4c46a-0d8b-421c-9c70-0ebf2aab0e31"
   },
   "source": [
    "## Q2: 請問男生和女生在平均身高上誰比較高? \n",
    "### &emsp;&emsp;Ans: 分別以平均數,中位數,眾數來看皆為女生較高"
   ]
  },
  {
   "cell_type": "markdown",
   "metadata": {
    "id": "xAzZU0Dv71GX",
    "outputId": "e2017c09-70fc-41ab-99c0-9d41fe21629d"
   },
   "source": [
    "## Q3:請問第二題的答案和日常生活中觀察的一致嗎?</br>&emsp;&ensp;如果不一致，你覺得原因可能為何? \n",
    "### &emsp;&emsp;Ans: 不一致，根據統計部資料顯示，於2013~2016年間，成年男性平均身高</br>&emsp;&emsp;&emsp;&emsp;&nbsp;約為168cm，成年女性平均身高約為155cm，不一致的原因科能在於\n",
    "### &emsp;&emsp;&emsp;&emsp;&nbsp;   1.樣本取的不夠多\n",
    "### &emsp;&emsp;&emsp;&emsp;&nbsp;   2.在特定群體中取樣而造成取樣偏誤\n",
    "### &emsp;&emsp;&emsp;&emsp;&nbsp;   3.母群體並非台灣成年男、女性"
   ]
  }
 ],
 "metadata": {
  "colab": {
   "collapsed_sections": [],
   "name": "作業.ipynb",
   "provenance": []
  },
  "kernelspec": {
   "display_name": "Python 3",
   "language": "python",
   "name": "python3"
  },
  "language_info": {
   "codemirror_mode": {
    "name": "ipython",
    "version": 3
   },
   "file_extension": ".py",
   "mimetype": "text/x-python",
   "name": "python",
   "nbconvert_exporter": "python",
   "pygments_lexer": "ipython3",
   "version": "3.8.3"
  }
 },
 "nbformat": 4,
 "nbformat_minor": 4
}
