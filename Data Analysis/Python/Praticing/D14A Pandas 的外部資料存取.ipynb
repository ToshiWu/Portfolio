{
 "cells": [
  {
   "cell_type": "markdown",
   "metadata": {
    "id": "IabouywFNmI7"
   },
   "source": [
    "讀取資料夾中boston.csv讀取其欄位CHAS、NOX、RM，輸出成.xlsx檔案"
   ]
  },
  {
   "cell_type": "code",
   "execution_count": 1,
   "metadata": {
    "id": "Rid6t1NoNrlB"
   },
   "outputs": [],
   "source": [
    "import pandas as pd"
   ]
  },
  {
   "cell_type": "code",
   "execution_count": 2,
   "metadata": {},
   "outputs": [
    {
     "name": "stdout",
     "output_type": "stream",
     "text": [
      "     CHAS    NOX     RM\n",
      "0     0.0  0.538  6.575\n",
      "1     0.0  0.469  6.421\n",
      "2     0.0  0.469  7.185\n",
      "3     0.0  0.458  6.998\n",
      "4     0.0  0.458  7.147\n",
      "..    ...    ...    ...\n",
      "501   0.0  0.573  6.593\n",
      "502   0.0  0.573  6.120\n",
      "503   0.0  0.573  6.976\n",
      "504   0.0  0.573  6.794\n",
      "505   0.0  0.573  6.030\n",
      "\n",
      "[506 rows x 3 columns]\n"
     ]
    }
   ],
   "source": [
    "#讀取資料夾中boston.csv讀取其欄位CHAS、NOX、RM，輸出成.xlsx檔案\n",
    "df=pd.read_csv('./D14/boston.csv',usecols=['CHAS','NOX','RM'])\n",
    "print(df)\n",
    "df.to_excel('./D14/boston.xlsx')"
   ]
  }
 ],
 "metadata": {
  "colab": {
   "collapsed_sections": [],
   "name": "pandas_io_homework題目.ipynb",
   "provenance": []
  },
  "kernelspec": {
   "display_name": "Python 3",
   "language": "python",
   "name": "python3"
  },
  "language_info": {
   "codemirror_mode": {
    "name": "ipython",
    "version": 3
   },
   "file_extension": ".py",
   "mimetype": "text/x-python",
   "name": "python",
   "nbconvert_exporter": "python",
   "pygments_lexer": "ipython3",
   "version": "3.8.3"
  }
 },
 "nbformat": 4,
 "nbformat_minor": 4
}
