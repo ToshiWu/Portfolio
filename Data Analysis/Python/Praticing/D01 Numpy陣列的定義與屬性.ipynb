{
 "cells": [
  {
   "cell_type": "code",
   "execution_count": 1,
   "metadata": {},
   "outputs": [],
   "source": [
    "import numpy as np"
   ]
  },
  {
   "cell_type": "code",
   "execution_count": 2,
   "metadata": {},
   "outputs": [],
   "source": [
    "# [簡答題] 請問下列兩種將 Array 轉換成 List 的方式有何不同？\n",
    "# print('list(a): ', list(a))\n",
    "# print('tolist(): ', a.tolist())\n",
    "\n",
    "# '''Answer\n",
    "# list()只會將最外層的元素轉換成列表\n",
    "# tolist()則會將多維的陣列架構轉換為多維的列表\n",
    "\n",
    "# '''"
   ]
  },
  {
   "cell_type": "code",
   "execution_count": 3,
   "metadata": {},
   "outputs": [
    {
     "name": "stdout",
     "output_type": "stream",
     "text": [
      "1\n",
      "(6,)\n",
      "6\n",
      "int32\n",
      "4\n",
      "6\n",
      "<class 'numpy.ndarray'>\n",
      "\n",
      "\n",
      "2\n",
      "(3, 4)\n",
      "12\n",
      "int32\n",
      "4\n",
      "3\n",
      "<class 'numpy.ndarray'>\n",
      "\n",
      "\n",
      "3\n",
      "(2, 3, 2)\n",
      "12\n",
      "int32\n",
      "4\n",
      "2\n",
      "<class 'numpy.ndarray'>\n",
      "\n",
      "\n"
     ]
    }
   ],
   "source": [
    "# 請試著在程式中印出以下三個 NdArray 的屬性並且解釋結果？（屬性：ndim、shape、size、dtype、itemsize、length、type）\n",
    "# a = np.random.randint(10, size=6) \n",
    "# b = np.random.randint(10, size=(3,4)) \n",
    "# c = np.random.randint(10, size=(2,3,2)) \n",
    "\n",
    "a = np.random.randint(10, size=6) \n",
    "b = np.random.randint(10, size=(3,4)) \n",
    "c = np.random.randint(10, size=(2,3,2)) \n",
    "\n",
    "for i in [a,b,c]:\n",
    "    print(i.ndim,i.shape,i.size,i.dtype,i.itemsize,len(i),type(i),sep='\\n',end='\\n'*3)\n",
    "\n",
    "# '''Answer\n",
    "# 屬性ndim為陣列的維度數量\n",
    "# 屬性shape為陣列內各個維度的大小\n",
    "# 屬性size為陣列內元素的總數列，即屬性shape內元素的乘積\n",
    "# 屬性dtype為陣列內元素的資料型態\n",
    "# 屬性itemsize為陣列中每個元素佔用的空間,即陣列記憶體空間位元組的長度\n",
    "# length為函式len所回傳的陣列的元素個數,只計算最外層的元素\n",
    "# type為函式type所回傳的陣列的資料型態,即為類別numpy.ndarray\n",
    "\n",
    "# '''"
   ]
  },
  {
   "cell_type": "code",
   "execution_count": 4,
   "metadata": {},
   "outputs": [
    {
     "name": "stdout",
     "output_type": "stream",
     "text": [
      "[8, 1, 8, 9, 0, 0]\n",
      "[8, 1, 8, 9, 0, 0]\n",
      "[[4, 1, 1, 5], [6, 0, 1, 3], [7, 3, 0, 8]]\n",
      "[[4, 1, 1, 5], [6, 0, 1, 3], [7, 3, 0, 8]]\n",
      "[[[6, 9], [0, 2], [0, 6]], [[3, 2], [8, 1], [8, 1]]]\n",
      "[[[6, 9], [0, 2], [0, 6]], [[3, 2], [8, 1], [8, 1]]]\n"
     ]
    }
   ],
   "source": [
    "# 如何利用 list(...) 實現 a.tolist() 的效果？試著用程式實作。\n",
    "a = np.random.randint(10, size=6) \n",
    "b = np.random.randint(10, size=(3,4)) \n",
    "c = np.random.randint(10, size=(2,3,2)) \n",
    "\n",
    "tolist_ = lambda arr: list(map(tolist_, arr)) if isinstance(arr, np.ndarray) else arr\n",
    "\n",
    "for i in [a,b,c]:\n",
    "    print(list(tolist_(i)))\n",
    "    print(i.tolist())"
   ]
  }
 ],
 "metadata": {
  "kernelspec": {
   "display_name": "Python 3",
   "language": "python",
   "name": "python3"
  },
  "language_info": {
   "codemirror_mode": {
    "name": "ipython",
    "version": 3
   },
   "file_extension": ".py",
   "mimetype": "text/x-python",
   "name": "python",
   "nbconvert_exporter": "python",
   "pygments_lexer": "ipython3",
   "version": "3.8.3"
  }
 },
 "nbformat": 4,
 "nbformat_minor": 4
}
