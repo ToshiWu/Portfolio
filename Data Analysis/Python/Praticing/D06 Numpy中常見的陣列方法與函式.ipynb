{
 "cells": [
  {
   "cell_type": "code",
   "execution_count": 1,
   "metadata": {},
   "outputs": [],
   "source": [
    "import numpy as np"
   ]
  },
  {
   "cell_type": "code",
   "execution_count": 2,
   "metadata": {},
   "outputs": [],
   "source": [
    "# [簡答題] 請問下列這三種方法有什麼不同？\n",
    "# a.sum() \n",
    "# np.sum(a)\n",
    "# sum(a) \n",
    "\n",
    "# '''Answer\n",
    "# a.sum()只適用於a為陣列，可求得所有元素的總和\n",
    "# np.sum(a)適用於a為列表或陣列，可求得所有元素的總和\n",
    "# sum(a)適用於a為一維的列表或任何維度的陣列，或當a為二維以上的陣列時則會降維\n",
    "# '''"
   ]
  },
  {
   "cell_type": "code",
   "execution_count": 3,
   "metadata": {},
   "outputs": [
    {
     "name": "stdout",
     "output_type": "stream",
     "text": [
      "[[0.45464728 0.60846542 0.32752332 0.6589505  0.46532913]\n",
      " [0.21963632 0.8864056  0.44321038 0.17361214 0.2491218 ]\n",
      " [0.05969069 0.53412965 0.12663483 0.42216626 0.14785484]\n",
      " [0.11814753 0.43834875 0.74517463 0.00812488 0.17324579]\n",
      " [0.35047567 0.79210779 0.19867087 0.56076701 0.53340613]]\n",
      "[[0.5084051  0.68354061 0.36366327 0.74102232 0.52056733]\n",
      " [0.24082441 1.         0.49538318 0.18842183 0.27439623]\n",
      " [0.05871222 0.59890278 0.13493402 0.4714226  0.15909487]\n",
      " [0.12527048 0.48984779 0.83919609 0.         0.1880047 ]\n",
      " [0.38979655 0.89263363 0.2169534  0.62923177 0.598079  ]]\n"
     ]
    }
   ],
   "source": [
    "# 請對一個 5x5 的隨機矩陣作正規化的操作。\n",
    "A = np.random.random((5, 5))\n",
    "B = A.copy()\n",
    "B = (B-B.min())/(B.max()-B.min())\n",
    "print(A,B,sep='\\n')"
   ]
  },
  {
   "cell_type": "code",
   "execution_count": 4,
   "metadata": {},
   "outputs": [
    {
     "name": "stdout",
     "output_type": "stream",
     "text": [
      "[39 15 56 27 43  2 48 36 59 95]\n",
      "[39 15 56 27 43  2 48 36 59 -1]\n"
     ]
    }
   ],
   "source": [
    "# 請建立一個長度等於 10 的正整數向量，並且將其中的最大值改成 -1。\n",
    "arr = np.random.default_rng().integers(1,100,size=(10))\n",
    "arr2 = arr.copy()\n",
    "arr2[arr2.argmax()]=-1\n",
    "print(arr,arr2,sep='\\n')"
   ]
  }
 ],
 "metadata": {
  "kernelspec": {
   "display_name": "Python 3",
   "language": "python",
   "name": "python3"
  },
  "language_info": {
   "codemirror_mode": {
    "name": "ipython",
    "version": 3
   },
   "file_extension": ".py",
   "mimetype": "text/x-python",
   "name": "python",
   "nbconvert_exporter": "python",
   "pygments_lexer": "ipython3",
   "version": "3.8.3"
  }
 },
 "nbformat": 4,
 "nbformat_minor": 4
}
