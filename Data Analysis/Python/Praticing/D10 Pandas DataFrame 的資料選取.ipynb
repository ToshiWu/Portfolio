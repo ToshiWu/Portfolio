{
 "cells": [
  {
   "cell_type": "markdown",
   "metadata": {},
   "source": [
    "### 下列四種不同的 DataFrame 選取結果有什麼差異？\n",
    "\n",
    "```\n",
    "df.loc[ '2013-01-01', 'A'] \n",
    "df.loc[ '2013-01-01', ['A', 'B'] ] \n",
    "df.loc[ '2013-01-01':'2013-01-02', 'A' ] \n",
    "df.loc[ '2013-01-01':'2013-01-05', 'A':'C'] \n",
    "```"
   ]
  },
  {
   "cell_type": "markdown",
   "metadata": {
    "colab": {},
    "colab_type": "code",
    "id": "5QrYoyNWsvFS"
   },
   "source": [
    "##### 回傳A欄中索引為 2013-01-01 的值\n",
    "##### 回傳A欄與B欄中索引為 2013-01-01 的值\n",
    "##### 回傳A欄中索引為2013-01-01 到 2013-01-02的值\n",
    "##### 回傳A欄到C欄中索引為2013-01-01 到 2013-01-05的值"
   ]
  },
  {
   "cell_type": "code",
   "execution_count": 1,
   "metadata": {},
   "outputs": [],
   "source": [
    "import numpy as np\n",
    "import pandas as pd"
   ]
  },
  {
   "cell_type": "markdown",
   "metadata": {},
   "source": [
    "### 根據提供的資料，選擇出下列的要求：\n",
    "\n",
    "```\n",
    "# - select the first 3 rows.\n",
    "# - select the odd rows. (index = 1, 3, 5)\n",
    "# - select the last 2 columns.\n",
    "# - select the even columns. (index = 0, 2, 4)\n",
    "```"
   ]
  },
  {
   "cell_type": "code",
   "execution_count": 2,
   "metadata": {
    "colab": {},
    "colab_type": "code",
    "id": "e1gVI0tvsvFY"
   },
   "outputs": [
    {
     "name": "stdout",
     "output_type": "stream",
     "text": [
      "       col1      col2      col3\n",
      "0 -0.372579  1.150342 -0.328455\n",
      "1  0.489983 -0.394948 -0.705748\n",
      "2 -0.663119 -2.203520  0.185443\n",
      "3  0.779537  0.228570 -0.361016\n",
      "4 -1.131221  2.479813  1.027825\n",
      "5 -0.491334  1.150000 -2.228940\n"
     ]
    }
   ],
   "source": [
    "df = pd.DataFrame(np.random.randn(6,3),columns=['col1','col2','col3'])\n",
    "print(df)"
   ]
  },
  {
   "cell_type": "code",
   "execution_count": 3,
   "metadata": {},
   "outputs": [
    {
     "name": "stdout",
     "output_type": "stream",
     "text": [
      "       col1      col2      col3\n",
      "0 -0.372579  1.150342 -0.328455\n",
      "1  0.489983 -0.394948 -0.705748\n",
      "2 -0.663119 -2.203520  0.185443\n",
      "       col1      col2      col3\n",
      "1  0.489983 -0.394948 -0.705748\n",
      "3  0.779537  0.228570 -0.361016\n",
      "5 -0.491334  1.150000 -2.228940\n",
      "       col1      col2      col3\n",
      "4 -1.131221  2.479813  1.027825\n",
      "5 -0.491334  1.150000 -2.228940\n",
      "       col1      col2      col3\n",
      "0 -0.372579  1.150342 -0.328455\n",
      "2 -0.663119 -2.203520  0.185443\n",
      "4 -1.131221  2.479813  1.027825\n"
     ]
    }
   ],
   "source": [
    "# - select the first 3 rows.\n",
    "print(df.iloc[:3])\n",
    "\n",
    "# - select the odd rows. (index = 1, 3, 5)\n",
    "print(df.iloc[1::2])\n",
    "\n",
    "# - select the last 2 columns.\n",
    "print(df.iloc[-2:])\n",
    "\n",
    "# - select the even columns. (index = 0, 2, 4)\n",
    "print(df.iloc[::2])"
   ]
  },
  {
   "cell_type": "markdown",
   "metadata": {},
   "source": [
    "### 根據提供的資料，選擇出下列的要求：\n",
    "\n",
    "```\n",
    "# - 1. filtered by first column > 20?\n",
    "# - 2. filtered by first column + second column > 50\n",
    "# - 3. filtered by first column < 30 or second column > 30\n",
    "# - 4. filtered by total sum of row > 100\n",
    "```"
   ]
  },
  {
   "cell_type": "code",
   "execution_count": 4,
   "metadata": {},
   "outputs": [
    {
     "name": "stdout",
     "output_type": "stream",
     "text": [
      "     0   1   2   3\n",
      "0   14  14  34  16\n",
      "1   15  32  33  25\n",
      "2   39  14  37  28\n",
      "3   27  20  31  28\n",
      "4   28  13  38  19\n",
      "5   37  39  39  29\n",
      "6   17  26  20  38\n",
      "7   12  27  36  11\n",
      "8   31  11  14  15\n",
      "9   24  23  20  35\n",
      "10  10  38  35  25\n",
      "11  12  33  36  39\n",
      "12  10  24  28  22\n",
      "13  16  18  38  39\n",
      "14  23  19  35  28\n"
     ]
    }
   ],
   "source": [
    "df = pd.DataFrame(np.random.randint(10, 40, 60).reshape(-1, 4))\n",
    "print(df)"
   ]
  },
  {
   "cell_type": "code",
   "execution_count": 5,
   "metadata": {},
   "outputs": [
    {
     "name": "stdout",
     "output_type": "stream",
     "text": [
      "     0   1   2   3\n",
      "2   39  14  37  28\n",
      "3   27  20  31  28\n",
      "4   28  13  38  19\n",
      "5   37  39  39  29\n",
      "8   31  11  14  15\n",
      "9   24  23  20  35\n",
      "14  23  19  35  28\n",
      "    0   1   2   3\n",
      "2  39  14  37  28\n",
      "5  37  39  39  29\n",
      "     0   1   2   3\n",
      "1   15  32  33  25\n",
      "10  10  38  35  25\n",
      "11  12  33  36  39\n",
      "     0   1   2   3\n",
      "1   15  32  33  25\n",
      "2   39  14  37  28\n",
      "3   27  20  31  28\n",
      "5   37  39  39  29\n",
      "6   17  26  20  38\n",
      "9   24  23  20  35\n",
      "10  10  38  35  25\n",
      "11  12  33  36  39\n",
      "13  16  18  38  39\n",
      "14  23  19  35  28\n"
     ]
    }
   ],
   "source": [
    "# - 1. filtered by first column > 20?\n",
    "print(df[df[0]>20])\n",
    "\n",
    "# - 2. filtered by first column + second column > 50\n",
    "print(df[(df[0]+df[1])>50])\n",
    "\n",
    "# - 3. filtered by first column < 30 or second column > 30\n",
    "print(df[(df[0]<30) & (df[1]>30)])\n",
    "\n",
    "# - 4. filtered by total sum of row > 100\n",
    "print(df[df.sum(axis=1)>100])\n"
   ]
  }
 ],
 "metadata": {
  "colab": {
   "name": "Day_023_HW.ipynb",
   "provenance": []
  },
  "kernelspec": {
   "display_name": "Python 3",
   "language": "python",
   "name": "python3"
  },
  "language_info": {
   "codemirror_mode": {
    "name": "ipython",
    "version": 3
   },
   "file_extension": ".py",
   "mimetype": "text/x-python",
   "name": "python",
   "nbconvert_exporter": "python",
   "pygments_lexer": "ipython3",
   "version": "3.8.3"
  }
 },
 "nbformat": 4,
 "nbformat_minor": 4
}
