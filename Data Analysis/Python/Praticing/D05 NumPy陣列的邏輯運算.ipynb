{
 "cells": [
  {
   "cell_type": "code",
   "execution_count": 1,
   "metadata": {},
   "outputs": [],
   "source": [
    "import numpy as np"
   ]
  },
  {
   "cell_type": "code",
   "execution_count": 4,
   "metadata": {},
   "outputs": [
    {
     "name": "stdout",
     "output_type": "stream",
     "text": [
      "[ 1  2 -3 -4 -5 -6  7  8  9 10 11]\n",
      "[ 1  2 -3 -4 -5 -6  7  8  9 10 11]\n"
     ]
    }
   ],
   "source": [
    "# 產生一個 1-11 的一維陣列，並且把 3-6 由正數變成負數。\n",
    "arr=np.array([i if i < 3 or i > 6 else -i for i in range(1,12)])\n",
    "print(arr)\n",
    "\n",
    "arr=np.array(range(1,12))\n",
    "arr[2:6]*=-1\n",
    "print(arr)\n"
   ]
  },
  {
   "cell_type": "code",
   "execution_count": 5,
   "metadata": {},
   "outputs": [
    {
     "name": "stdout",
     "output_type": "stream",
     "text": [
      "[[0.91560015 0.60776537 0.17466729 0.29837217 0.05158748 0.3724119 ]\n",
      " [0.19446284 0.01698029 0.37839466 0.56787024 0.93894064 0.41918664]\n",
      " [0.39954375 0.90057334 0.78346188 0.9125745  0.93987263 0.66322739]]\n",
      "9\n"
     ]
    }
   ],
   "source": [
    "# 試著從一個隨機陣列中，找出比 0.5 大的數有幾個？\n",
    "a = np.random.rand(3, 6)\n",
    "\n",
    "print(a)\n",
    "print(a[a>0.5].size)"
   ]
  }
 ],
 "metadata": {
  "kernelspec": {
   "display_name": "Python 3",
   "language": "python",
   "name": "python3"
  },
  "language_info": {
   "codemirror_mode": {
    "name": "ipython",
    "version": 3
   },
   "file_extension": ".py",
   "mimetype": "text/x-python",
   "name": "python",
   "nbconvert_exporter": "python",
   "pygments_lexer": "ipython3",
   "version": "3.8.3"
  }
 },
 "nbformat": 4,
 "nbformat_minor": 4
}
