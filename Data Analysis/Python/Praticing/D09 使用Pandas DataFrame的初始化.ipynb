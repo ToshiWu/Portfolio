{
 "cells": [
  {
   "cell_type": "code",
   "execution_count": 1,
   "metadata": {},
   "outputs": [],
   "source": [
    "import numpy as np\n",
    "import pandas as pd"
   ]
  },
  {
   "cell_type": "markdown",
   "metadata": {
    "colab_type": "text",
    "id": "P6xk2_jLsvFF"
   },
   "source": [
    "### 練習建立類似提供結果的 DataFrame：\n",
    "\n",
    "```\n",
    "#    Apples  Bananas\n",
    "# 0      30       21\n",
    "\n",
    "#             Apples  Bananas\n",
    "# 2017 Sales      35       21\n",
    "# 2018 Sales      41       34\n",
    "\n",
    "```"
   ]
  },
  {
   "cell_type": "code",
   "execution_count": 2,
   "metadata": {
    "colab": {},
    "colab_type": "code",
    "id": "5QrYoyNWsvFS"
   },
   "outputs": [
    {
     "name": "stdout",
     "output_type": "stream",
     "text": [
      "   Apples  Bananas\n",
      "0      30       21\n",
      "\n",
      "            Apples  Bananas\n",
      "2017 sales      35       21\n",
      "2018 sales      41       34\n"
     ]
    }
   ],
   "source": [
    "labels=['Apples','Bananas']\n",
    "index=['2017 sales','2018 sales']\n",
    "\n",
    "df_A=pd.DataFrame([[30,21]],columns=labels)\n",
    "df_B=pd.DataFrame([[35,21],[41,34]],index=index,columns=labels)\n",
    "print(df_A,df_B,sep='\\n'*2)"
   ]
  },
  {
   "cell_type": "markdown",
   "metadata": {
    "colab_type": "text",
    "id": "P6xk2_jLsvFF"
   },
   "source": [
    "### 如果現在有一個 DataFrame 如下，同一資料在 Python 中可能長怎樣？\n",
    "\n",
    "```\n",
    "#      city  visitor weekday\n",
    "# 0  Austin      139     Sun\n",
    "# 1  Dallas      237     Sun\n",
    "# 2  Austin      326     Mon\n",
    "# 3  Dallas      456     Mon\n",
    "```"
   ]
  },
  {
   "cell_type": "code",
   "execution_count": 3,
   "metadata": {
    "colab": {},
    "colab_type": "code",
    "id": "e1gVI0tvsvFY"
   },
   "outputs": [
    {
     "name": "stdout",
     "output_type": "stream",
     "text": [
      "     city  vistor weekday\n",
      "0  Austin     139     Sun\n",
      "1  Dallas     237     Sun\n",
      "2  Austin     326     Mon\n",
      "3  Dallas     456     Mon\n"
     ]
    }
   ],
   "source": [
    "#dictionary\n",
    "data={'city':['Austin','Dallas','Austin','Dallas'],\n",
    "      'vistor':[139,237,326,456],\n",
    "      'weekday':['Sun','Sun','Mon','Mon']}\n",
    "\n",
    "print(pd.DataFrame(data))"
   ]
  },
  {
   "cell_type": "markdown",
   "metadata": {
    "colab_type": "text",
    "id": "P6xk2_jLsvFF"
   },
   "source": [
    "### 每個 weekday 的平均 visitor 數量"
   ]
  },
  {
   "cell_type": "code",
   "execution_count": 4,
   "metadata": {},
   "outputs": [
    {
     "name": "stdout",
     "output_type": "stream",
     "text": [
      "Mon 391.0\n",
      "Sun 188.0\n",
      "Mon 391.0\n",
      "Sun 188.0\n"
     ]
    }
   ],
   "source": [
    "df=pd.DataFrame(data)\n",
    "\n",
    "for i in set(df['weekday']):\n",
    "    print(i,df[df['weekday']==i]['vistor'].mean())\n",
    "\n",
    "#單行敘述\n",
    "print('\\n'.join([' '.join([i,str(df[df['weekday']==i]['vistor'].mean())]) for i in set(df['weekday'])]))"
   ]
  }
 ],
 "metadata": {
  "colab": {
   "name": "Day_023_HW.ipynb",
   "provenance": []
  },
  "kernelspec": {
   "display_name": "Python 3",
   "language": "python",
   "name": "python3"
  },
  "language_info": {
   "codemirror_mode": {
    "name": "ipython",
    "version": 3
   },
   "file_extension": ".py",
   "mimetype": "text/x-python",
   "name": "python",
   "nbconvert_exporter": "python",
   "pygments_lexer": "ipython3",
   "version": "3.8.3"
  }
 },
 "nbformat": 4,
 "nbformat_minor": 4
}
