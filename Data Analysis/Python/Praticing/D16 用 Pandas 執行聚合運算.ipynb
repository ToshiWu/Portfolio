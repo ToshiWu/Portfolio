{
 "cells": [
  {
   "cell_type": "markdown",
   "metadata": {
    "id": "vysasgqxcupS"
   },
   "source": [
    "### 運用下列分數資料分析<br>\n",
    "1. 找出全年級各科成績最高分與最低分?<br>\n",
    "2. 找出數學班平均最高的班級?<br>\n",
    "3. 分析全校女生與男生國文平均差幾分?  \n",
    "```\n",
    "score_df = pd.DataFrame([[1,50,80,70,'boy',1],\n",
    "                         [2,60,45,50,'boy',2],\n",
    "                         [3,98,43,55,'boy',1],\n",
    "                         [4,70,69,89,'boy',2],\n",
    "                         [5,56,79,60,'girl',1],\n",
    "                         [6,60,68,55,'girl',2],\n",
    "                         [7,45,70,77,'girl',1],\n",
    "                         [8,55,77,76,'girl',2],\n",
    "                         [9,25,57,60,'girl',1],\n",
    "                         [10,88,40,43,'girl',3],\n",
    "                         [11,25,60,45,'boy',3],\n",
    "                         [12,80,60,23,'boy',3],\n",
    "                         [13,20,90,66,'girl',3],\n",
    "                         [14,50,50,50,'girl',3],\n",
    "                         [15,89,67,77,'girl',3]],\n",
    "                        columns=['student_id','math_score','english_score','chinese_score','sex','class'])\n",
    "```"
   ]
  },
  {
   "cell_type": "code",
   "execution_count": 1,
   "metadata": {},
   "outputs": [
    {
     "name": "stdout",
     "output_type": "stream",
     "text": [
      "    student_id  math_score  english_score  chinese_score   sex  class\n",
      "0            1          50             80             70   boy      1\n",
      "1            2          60             45             50   boy      2\n",
      "2            3          98             43             55   boy      1\n",
      "3            4          70             69             89   boy      2\n",
      "4            5          56             79             60  girl      1\n",
      "5            6          60             68             55  girl      2\n",
      "6            7          45             70             77  girl      1\n",
      "7            8          55             77             76  girl      2\n",
      "8            9          25             57             60  girl      1\n",
      "9           10          88             40             43  girl      3\n",
      "10          11          25             60             45   boy      3\n",
      "11          12          80             60             23   boy      3\n",
      "12          13          20             90             66  girl      3\n",
      "13          14          50             50             50  girl      3\n",
      "14          15          89             67             77  girl      3\n"
     ]
    }
   ],
   "source": [
    "import pandas as pd\n",
    "score_df = pd.DataFrame([[1,50,80,70,'boy',1], \n",
    "              [2,60,45,50,'boy',2],\n",
    "              [3,98,43,55,'boy',1],\n",
    "              [4,70,69,89,'boy',2],\n",
    "              [5,56,79,60,'girl',1],\n",
    "              [6,60,68,55,'girl',2],\n",
    "              [7,45,70,77,'girl',1],\n",
    "              [8,55,77,76,'girl',2],\n",
    "              [9,25,57,60,'girl',1],\n",
    "              [10,88,40,43,'girl',3],\n",
    "              [11,25,60,45,'boy',3],\n",
    "              [12,80,60,23,'boy',3],\n",
    "              [13,20,90,66,'girl',3],\n",
    "              [14,50,50,50,'girl',3],\n",
    "              [15,89,67,77,'girl',3]],columns=['student_id','math_score','english_score','chinese_score','sex','class'])\n",
    "print(score_df)"
   ]
  },
  {
   "cell_type": "markdown",
   "metadata": {
    "id": "Zfs1uSNPfNBL"
   },
   "source": [
    "### 找出全年級各科成績最高分與最低分?"
   ]
  },
  {
   "cell_type": "code",
   "execution_count": 2,
   "metadata": {
    "id": "Zfs1uSNPfNBL"
   },
   "outputs": [
    {
     "name": "stdout",
     "output_type": "stream",
     "text": [
      "math_score's\t maximum is 98, minimum is 20\n",
      "english_score's\t maximum is 90, minimum is 40\n",
      "chinese_score's\t maximum is 89, minimum is 23\n"
     ]
    }
   ],
   "source": [
    "for i in score_df.columns[:]:\n",
    "    if 'score' in i:\n",
    "        print(f'{i}\\'s\\t maximum is {score_df[i].max()}, minimum is {score_df[i].min()}')"
   ]
  },
  {
   "cell_type": "markdown",
   "metadata": {
    "id": "iZdLLEzYfPnW"
   },
   "source": [
    "### 找出數學班平均最高的班級?"
   ]
  },
  {
   "cell_type": "code",
   "execution_count": 3,
   "metadata": {
    "id": "iZdLLEzYfPnW"
   },
   "outputs": [
    {
     "name": "stdout",
     "output_type": "stream",
     "text": [
      "Class 2 has the highest mean math score is 61.25\n"
     ]
    }
   ],
   "source": [
    "m_s_meanbyclass=score_df.groupby('class')['math_score'].mean()\n",
    "print(f'Class {m_s_meanbyclass.idxmax()} has the highest mean math score is {m_s_meanbyclass.max()}')"
   ]
  },
  {
   "cell_type": "markdown",
   "metadata": {
    "id": "CWxb-2TqfbNK"
   },
   "source": [
    "### 分析全校女生與男生國文平均差幾分?"
   ]
  },
  {
   "cell_type": "code",
   "execution_count": 4,
   "metadata": {
    "id": "CWxb-2TqfbNK"
   },
   "outputs": [
    {
     "name": "stdout",
     "output_type": "stream",
     "text": [
      "7.333333333333329\n"
     ]
    }
   ],
   "source": [
    "c_s_meanbysex=score_df.groupby('sex')['chinese_score'].mean()\n",
    "print(abs(c_s_meanbysex[0]-c_s_meanbysex[1]))"
   ]
  }
 ],
 "metadata": {
  "colab": {
   "collapsed_sections": [],
   "name": "作業題目.ipynb",
   "provenance": []
  },
  "kernelspec": {
   "display_name": "Python 3",
   "language": "python",
   "name": "python3"
  },
  "language_info": {
   "codemirror_mode": {
    "name": "ipython",
    "version": 3
   },
   "file_extension": ".py",
   "mimetype": "text/x-python",
   "name": "python",
   "nbconvert_exporter": "python",
   "pygments_lexer": "ipython3",
   "version": "3.8.3"
  }
 },
 "nbformat": 4,
 "nbformat_minor": 4
}
