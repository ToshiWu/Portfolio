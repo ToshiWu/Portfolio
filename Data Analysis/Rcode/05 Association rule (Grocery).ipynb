{
 "cells": [
  {
   "cell_type": "markdown",
   "metadata": {},
   "source": [
    "# 零售資料集 (grocery datasets)"
   ]
  },
  {
   "cell_type": "code",
   "execution_count": 1,
   "metadata": {},
   "outputs": [
    {
     "name": "stderr",
     "output_type": "stream",
     "text": [
      "\n",
      "載入套件：'arules'\n",
      "\n",
      "\n",
      "下列物件被遮斷自 'package:base':\n",
      "\n",
      "    abbreviate, write\n",
      "\n",
      "\n"
     ]
    }
   ],
   "source": [
    "library(Matrix)\n",
    "library(arules) # 關聯規則\n",
    "library(arulesViz) # 可視化"
   ]
  },
  {
   "cell_type": "code",
   "execution_count": 2,
   "metadata": {},
   "outputs": [
    {
     "data": {
      "text/plain": [
       "transactions as itemMatrix in sparse format with\n",
       " 9835 rows (elements/itemsets/transactions) and\n",
       " 169 columns (items) and a density of 0.02609146 \n",
       "\n",
       "most frequent items:\n",
       "      whole milk other vegetables       rolls/buns             soda \n",
       "            2513             1903             1809             1715 \n",
       "          yogurt          (Other) \n",
       "            1372            34055 \n",
       "\n",
       "element (itemset/transaction) length distribution:\n",
       "sizes\n",
       "   1    2    3    4    5    6    7    8    9   10   11   12   13   14   15   16 \n",
       "2159 1643 1299 1005  855  645  545  438  350  246  182  117   78   77   55   46 \n",
       "  17   18   19   20   21   22   23   24   26   27   28   29   32 \n",
       "  29   14   14    9   11    4    6    1    1    1    1    3    1 \n",
       "\n",
       "   Min. 1st Qu.  Median    Mean 3rd Qu.    Max. \n",
       "  1.000   2.000   3.000   4.409   6.000  32.000 \n",
       "\n",
       "includes extended item information - examples:\n",
       "       labels  level2           level1\n",
       "1 frankfurter sausage meat and sausage\n",
       "2     sausage sausage meat and sausage\n",
       "3  liver loaf sausage meat and sausage"
      ]
     },
     "metadata": {},
     "output_type": "display_data"
    }
   ],
   "source": [
    "# 讀入資料集\n",
    "data(\"Groceries\")\n",
    "summary(Groceries)"
   ]
  },
  {
   "cell_type": "code",
   "execution_count": 3,
   "metadata": {},
   "outputs": [
    {
     "name": "stdout",
     "output_type": "stream",
     "text": [
      "    items                     \n",
      "[1] {citrus fruit,            \n",
      "     semi-finished bread,     \n",
      "     margarine,               \n",
      "     ready soups}             \n",
      "[2] {tropical fruit,          \n",
      "     yogurt,                  \n",
      "     coffee}                  \n",
      "[3] {whole milk}              \n",
      "[4] {pip fruit,               \n",
      "     yogurt,                  \n",
      "     cream cheese ,           \n",
      "     meat spreads}            \n",
      "[5] {other vegetables,        \n",
      "     whole milk,              \n",
      "     condensed milk,          \n",
      "     long life bakery product}\n",
      "[6] {whole milk,              \n",
      "     butter,                  \n",
      "     yogurt,                  \n",
      "     rice,                    \n",
      "     abrasive cleaner}        \n",
      "[7] {rolls/buns}              \n",
      "[8] {other vegetables,        \n",
      "     UHT-milk,                \n",
      "     rolls/buns,              \n",
      "     bottled beer,            \n",
      "     liquor (appetizer)}      \n"
     ]
    }
   ],
   "source": [
    "# 觀看數據集資料的種類\n",
    "inspect(Groceries[1:8])"
   ]
  },
  {
   "cell_type": "code",
   "execution_count": 4,
   "metadata": {},
   "outputs": [
    {
     "name": "stdout",
     "output_type": "stream",
     "text": [
      "Apriori\n",
      "\n",
      "Parameter specification:\n",
      " confidence minval smax arem  aval originalSupport maxtime support minlen\n",
      "        0.6    0.1    1 none FALSE            TRUE       5   0.005      1\n",
      " maxlen target  ext\n",
      "     10  rules TRUE\n",
      "\n",
      "Algorithmic control:\n",
      " filter tree heap memopt load sort verbose\n",
      "    0.1 TRUE TRUE  FALSE TRUE    2    TRUE\n",
      "\n",
      "Absolute minimum support count: 49 \n",
      "\n",
      "set item appearances ...[0 item(s)] done [0.00s].\n",
      "set transactions ...[169 item(s), 9835 transaction(s)] done [0.01s].\n",
      "sorting and recoding items ... [120 item(s)] done [0.00s].\n",
      "creating transaction tree ... done [0.00s].\n",
      "checking subsets of size 1 2 3 4 done [0.01s].\n",
      "writing ... [22 rule(s)] done [0.00s].\n",
      "creating S4 object  ... done [0.00s].\n",
      "     lhs                        rhs                    support confidence    coverage     lift count\n",
      "[1]  {root vegetables,                                                                              \n",
      "      onions}                => {other vegetables} 0.005693950  0.6021505 0.009456024 3.112008    56\n",
      "[2]  {tropical fruit,                                                                               \n",
      "      curd}                  => {whole milk}       0.006507372  0.6336634 0.010269446 2.479936    64\n",
      "[3]  {domestic eggs,                                                                                \n",
      "      margarine}             => {whole milk}       0.005185562  0.6219512 0.008337570 2.434099    51\n",
      "[4]  {butter,                                                                                       \n",
      "      domestic eggs}         => {whole milk}       0.005998983  0.6210526 0.009659380 2.430582    59\n",
      "[5]  {butter,                                                                                       \n",
      "      whipped/sour cream}    => {whole milk}       0.006710727  0.6600000 0.010167768 2.583008    66\n",
      "[6]  {butter,                                                                                       \n",
      "      bottled water}         => {whole milk}       0.005388917  0.6022727 0.008947636 2.357084    53\n",
      "[7]  {tropical fruit,                                                                               \n",
      "      butter}                => {whole milk}       0.006202339  0.6224490 0.009964413 2.436047    61\n",
      "[8]  {root vegetables,                                                                              \n",
      "      butter}                => {whole milk}       0.008235892  0.6377953 0.012913066 2.496107    81\n",
      "[9]  {butter,                                                                                       \n",
      "      yogurt}                => {whole milk}       0.009354347  0.6388889 0.014641586 2.500387    92\n",
      "[10] {pip fruit,                                                                                    \n",
      "      domestic eggs}         => {whole milk}       0.005388917  0.6235294 0.008642603 2.440275    53\n",
      "[11] {tropical fruit,                                                                               \n",
      "      domestic eggs}         => {whole milk}       0.006914082  0.6071429 0.011387900 2.376144    68\n",
      "[12] {pip fruit,                                                                                    \n",
      "      whipped/sour cream}    => {other vegetables} 0.005592272  0.6043956 0.009252669 3.123610    55\n",
      "[13] {pip fruit,                                                                                    \n",
      "      whipped/sour cream}    => {whole milk}       0.005998983  0.6483516 0.009252669 2.537421    59\n",
      "[14] {other vegetables,                                                                             \n",
      "      yogurt,                                                                                       \n",
      "      fruit/vegetable juice} => {whole milk}       0.005083884  0.6172840 0.008235892 2.415833    50\n",
      "[15] {root vegetables,                                                                              \n",
      "      other vegetables,                                                                             \n",
      "      whipped/sour cream}    => {whole milk}       0.005185562  0.6071429 0.008540925 2.376144    51\n",
      "[16] {pip fruit,                                                                                    \n",
      "      root vegetables,                                                                              \n",
      "      other vegetables}      => {whole milk}       0.005490595  0.6750000 0.008134215 2.641713    54\n",
      "[17] {pip fruit,                                                                                    \n",
      "      root vegetables,                                                                              \n",
      "      whole milk}            => {other vegetables} 0.005490595  0.6136364 0.008947636 3.171368    54\n",
      "[18] {pip fruit,                                                                                    \n",
      "      other vegetables,                                                                             \n",
      "      yogurt}                => {whole milk}       0.005083884  0.6250000 0.008134215 2.446031    50\n",
      "[19] {citrus fruit,                                                                                 \n",
      "      root vegetables,                                                                              \n",
      "      whole milk}            => {other vegetables} 0.005795628  0.6333333 0.009150991 3.273165    57\n",
      "[20] {tropical fruit,                                                                               \n",
      "      root vegetables,                                                                              \n",
      "      yogurt}                => {whole milk}       0.005693950  0.7000000 0.008134215 2.739554    56\n",
      "[21] {tropical fruit,                                                                               \n",
      "      other vegetables,                                                                             \n",
      "      yogurt}                => {whole milk}       0.007625826  0.6198347 0.012302999 2.425816    75\n",
      "[22] {root vegetables,                                                                              \n",
      "      other vegetables,                                                                             \n",
      "      yogurt}                => {whole milk}       0.007829181  0.6062992 0.012913066 2.372842    77\n"
     ]
    }
   ],
   "source": [
    "rules0 <- apriori(Groceries, parameter=list(support=.005, confidence=0.6))\n",
    "inspect(rules0)"
   ]
  },
  {
   "cell_type": "code",
   "execution_count": 5,
   "metadata": {},
   "outputs": [
    {
     "name": "stdout",
     "output_type": "stream",
     "text": [
      "     lhs                        rhs                    support confidence    coverage     lift count\n",
      "[1]  {butter,                                                                                       \n",
      "      yogurt}                => {whole milk}       0.009354347  0.6388889 0.014641586 2.500387    92\n",
      "[2]  {root vegetables,                                                                              \n",
      "      butter}                => {whole milk}       0.008235892  0.6377953 0.012913066 2.496107    81\n",
      "[3]  {root vegetables,                                                                              \n",
      "      other vegetables,                                                                             \n",
      "      yogurt}                => {whole milk}       0.007829181  0.6062992 0.012913066 2.372842    77\n",
      "[4]  {tropical fruit,                                                                               \n",
      "      other vegetables,                                                                             \n",
      "      yogurt}                => {whole milk}       0.007625826  0.6198347 0.012302999 2.425816    75\n",
      "[5]  {tropical fruit,                                                                               \n",
      "      domestic eggs}         => {whole milk}       0.006914082  0.6071429 0.011387900 2.376144    68\n",
      "[6]  {butter,                                                                                       \n",
      "      whipped/sour cream}    => {whole milk}       0.006710727  0.6600000 0.010167768 2.583008    66\n",
      "[7]  {tropical fruit,                                                                               \n",
      "      curd}                  => {whole milk}       0.006507372  0.6336634 0.010269446 2.479936    64\n",
      "[8]  {tropical fruit,                                                                               \n",
      "      butter}                => {whole milk}       0.006202339  0.6224490 0.009964413 2.436047    61\n",
      "[9]  {butter,                                                                                       \n",
      "      domestic eggs}         => {whole milk}       0.005998983  0.6210526 0.009659380 2.430582    59\n",
      "[10] {pip fruit,                                                                                    \n",
      "      whipped/sour cream}    => {whole milk}       0.005998983  0.6483516 0.009252669 2.537421    59\n",
      "[11] {citrus fruit,                                                                                 \n",
      "      root vegetables,                                                                              \n",
      "      whole milk}            => {other vegetables} 0.005795628  0.6333333 0.009150991 3.273165    57\n",
      "[12] {root vegetables,                                                                              \n",
      "      onions}                => {other vegetables} 0.005693950  0.6021505 0.009456024 3.112008    56\n",
      "[13] {tropical fruit,                                                                               \n",
      "      root vegetables,                                                                              \n",
      "      yogurt}                => {whole milk}       0.005693950  0.7000000 0.008134215 2.739554    56\n",
      "[14] {pip fruit,                                                                                    \n",
      "      whipped/sour cream}    => {other vegetables} 0.005592272  0.6043956 0.009252669 3.123610    55\n",
      "[15] {pip fruit,                                                                                    \n",
      "      root vegetables,                                                                              \n",
      "      other vegetables}      => {whole milk}       0.005490595  0.6750000 0.008134215 2.641713    54\n",
      "[16] {pip fruit,                                                                                    \n",
      "      root vegetables,                                                                              \n",
      "      whole milk}            => {other vegetables} 0.005490595  0.6136364 0.008947636 3.171368    54\n",
      "[17] {butter,                                                                                       \n",
      "      bottled water}         => {whole milk}       0.005388917  0.6022727 0.008947636 2.357084    53\n",
      "[18] {pip fruit,                                                                                    \n",
      "      domestic eggs}         => {whole milk}       0.005388917  0.6235294 0.008642603 2.440275    53\n",
      "[19] {domestic eggs,                                                                                \n",
      "      margarine}             => {whole milk}       0.005185562  0.6219512 0.008337570 2.434099    51\n",
      "[20] {root vegetables,                                                                              \n",
      "      other vegetables,                                                                             \n",
      "      whipped/sour cream}    => {whole milk}       0.005185562  0.6071429 0.008540925 2.376144    51\n",
      "[21] {other vegetables,                                                                             \n",
      "      yogurt,                                                                                       \n",
      "      fruit/vegetable juice} => {whole milk}       0.005083884  0.6172840 0.008235892 2.415833    50\n",
      "[22] {pip fruit,                                                                                    \n",
      "      other vegetables,                                                                             \n",
      "      yogurt}                => {whole milk}       0.005083884  0.6250000 0.008134215 2.446031    50\n"
     ]
    }
   ],
   "source": [
    "# 排序 亦可設定 confidence, lift, ...\n",
    "rule.sup <- sort(rules0, by=\"support\")\n",
    "inspect(rule.sup)"
   ]
  },
  {
   "cell_type": "code",
   "execution_count": 6,
   "metadata": {},
   "outputs": [
    {
     "name": "stdout",
     "output_type": "stream",
     "text": [
      "Apriori\n",
      "\n",
      "Parameter specification:\n",
      " confidence minval smax arem  aval originalSupport maxtime support minlen\n",
      "        0.1    0.1    1 none FALSE            TRUE       5   7e-04      1\n",
      " maxlen target  ext\n",
      "     10  rules TRUE\n",
      "\n",
      "Algorithmic control:\n",
      " filter tree heap memopt load sort verbose\n",
      "    0.1 TRUE TRUE  FALSE TRUE    2    TRUE\n",
      "\n",
      "Absolute minimum support count: 6 \n",
      "\n",
      "set item appearances ...[1 item(s)] done [0.00s].\n",
      "set transactions ...[169 item(s), 9835 transaction(s)] done [0.01s].\n",
      "sorting and recoding items ... [162 item(s)] done [0.00s].\n",
      "creating transaction tree ... done [0.01s].\n",
      "checking subsets of size 1 2 3 4 5 6 done [0.04s].\n",
      "writing ... [9 rule(s)] done [0.00s].\n",
      "creating S4 object  ... done [0.00s].\n",
      "    lhs                            rhs            support confidence    coverage      lift count\n",
      "[1] {ketchup}                   => {mustard} 0.0007117438  0.1666667 0.004270463 13.891243     7\n",
      "[2] {mayonnaise}                => {mustard} 0.0014234875  0.1555556 0.009150991 12.965160    14\n",
      "[3] {other vegetables,                                                                          \n",
      "     mayonnaise}                => {mustard} 0.0007117438  0.2000000 0.003558719 16.669492     7\n",
      "[4] {whole milk,                                                                                \n",
      "     pickled vegetables}        => {mustard} 0.0007117438  0.1000000 0.007117438  8.334746     7\n",
      "[5] {oil,                                                                                       \n",
      "     chocolate}                 => {mustard} 0.0008134215  0.2962963 0.002745297 24.695543     8\n",
      "[6] {whole milk,                                                                                \n",
      "     oil}                       => {mustard} 0.0012201322  0.1081081 0.011286223  9.010536    12\n",
      "[7] {onions,                                                                                    \n",
      "     rolls/buns}                => {mustard} 0.0007117438  0.1044776 0.006812405  8.707943     7\n",
      "[8] {long life bakery product,                                                                  \n",
      "     chocolate}                 => {mustard} 0.0008134215  0.1538462 0.005287239 12.822686     8\n",
      "[9] {other vegetables,                                                                          \n",
      "     long life bakery product,                                                                  \n",
      "     chocolate}                 => {mustard} 0.0007117438  0.3043478 0.002338587 25.366618     7\n"
     ]
    }
   ],
   "source": [
    "rules1 <- apriori(Groceries, parameter=list(supp=.0007, conf=.1), appearance=list (rhs=\"mustard\", default=\"lhs\"))\n",
    "inspect(rules1)"
   ]
  },
  {
   "cell_type": "code",
   "execution_count": 7,
   "metadata": {},
   "outputs": [
    {
     "name": "stdout",
     "output_type": "stream",
     "text": [
      "Apriori\n",
      "\n",
      "Parameter specification:\n",
      " confidence minval smax arem  aval originalSupport maxtime support minlen\n",
      "         NA    0.1    1 none FALSE            TRUE       5    0.01      2\n",
      " maxlen            target  ext\n",
      "      5 frequent itemsets TRUE\n",
      "\n",
      "Algorithmic control:\n",
      " filter tree heap memopt load sort verbose\n",
      "    0.1 TRUE TRUE  FALSE TRUE   -1    TRUE\n",
      "\n",
      "Absolute minimum support count: 98 \n",
      "\n",
      "set item appearances ...[0 item(s)] done [0.00s].\n",
      "set transactions ...[169 item(s), 9835 transaction(s)] done [0.01s].\n",
      "sorting and recoding items ... [88 item(s)] done [0.00s].\n",
      "creating transaction tree ... done [0.01s].\n",
      "checking subsets of size 1 2 3 4 done [0.01s].\n",
      "sorting transactions ... done [0.00s].\n",
      "writing ... [245 set(s)] done [0.00s].\n",
      "creating S4 object  ... done [0.00s].\n"
     ]
    },
    {
     "data": {
      "text/plain": [
       "set of 245 itemsets\n",
       "\n",
       "most frequent items:\n",
       "      whole milk other vegetables           yogurt       rolls/buns \n",
       "              70               62               38               35 \n",
       " root vegetables          (Other) \n",
       "              33              284 \n",
       "\n",
       "element (itemset/transaction) length distribution:sizes\n",
       "  2   3 \n",
       "213  32 \n",
       "\n",
       "   Min. 1st Qu.  Median    Mean 3rd Qu.    Max. \n",
       "  2.000   2.000   2.000   2.131   2.000   3.000 \n",
       "\n",
       "summary of quality measures:\n",
       "    support            count      \n",
       " Min.   :0.01007   Min.   : 99.0  \n",
       " 1st Qu.:0.01149   1st Qu.:113.0  \n",
       " Median :0.01423   Median :140.0  \n",
       " Mean   :0.01745   Mean   :171.6  \n",
       " 3rd Qu.:0.02044   3rd Qu.:201.0  \n",
       " Max.   :0.07483   Max.   :736.0  \n",
       "\n",
       "includes transaction ID lists: FALSE \n",
       "\n",
       "mining info:\n",
       "      data ntransactions support confidence\n",
       " Groceries          9835    0.01          1\n",
       "                                                                                                                                      call\n",
       " apriori(data = Groceries, parameter = list(minlen = 2, maxlen = 5, supp = 0.01, target = \"frequent itemsets\"), control = list(sort = -1))"
      ]
     },
     "metadata": {},
     "output_type": "display_data"
    },
    {
     "name": "stdout",
     "output_type": "stream",
     "text": [
      "     items                          support    count\n",
      "[1]  {other vegetables, whole milk} 0.07483477 736  \n",
      "[2]  {whole milk, rolls/buns}       0.05663447 557  \n",
      "[3]  {whole milk, soda}             0.04006101 394  \n",
      "[4]  {whole milk, yogurt}           0.05602440 551  \n",
      "[5]  {whole milk, bottled water}    0.03436706 338  \n",
      "[6]  {root vegetables, whole milk}  0.04890696 481  \n",
      "[7]  {tropical fruit, whole milk}   0.04229792 416  \n",
      "[8]  {whole milk, shopping bags}    0.02450432 241  \n",
      "[9]  {sausage, whole milk}          0.02989324 294  \n",
      "[10] {whole milk, pastry}           0.03324860 327  \n"
     ]
    }
   ],
   "source": [
    "#Output frequent iemsets\n",
    "#breadth first searching (交易代碼為key)\n",
    "items0 <- apriori(Groceries, parameter= list(minlen=2, maxlen=5, supp=0.01, target=\"frequent itemsets\"), control=list(sort=-1)) \n",
    "summary(items0)\n",
    "inspect(items0[1:10])"
   ]
  },
  {
   "cell_type": "code",
   "execution_count": 8,
   "metadata": {},
   "outputs": [
    {
     "name": "stdout",
     "output_type": "stream",
     "text": [
      "Eclat\n",
      "\n",
      "parameter specification:\n",
      " tidLists support minlen maxlen            target  ext\n",
      "    FALSE    0.03      2      5 frequent itemsets TRUE\n",
      "\n",
      "algorithmic control:\n",
      " sparse sort verbose\n",
      "      7   -2    TRUE\n",
      "\n",
      "Absolute minimum support count: 295 \n",
      "\n",
      "create itemset ... \n",
      "set transactions ...[169 item(s), 9835 transaction(s)] done [0.01s].\n",
      "sorting and recoding items ... [44 item(s)] done [0.00s].\n",
      "creating sparse bit matrix ... [44 row(s), 9835 column(s)] done [0.00s].\n",
      "writing  ... [19 set(s)] done [0.01s].\n",
      "Creating S4 object  ... done [0.00s].\n"
     ]
    },
    {
     "data": {
      "text/plain": [
       "set of 19 itemsets\n",
       "\n",
       "most frequent items:\n",
       "      whole milk other vegetables       rolls/buns           yogurt \n",
       "              11                6                5                3 \n",
       "            soda          (Other) \n",
       "               3               10 \n",
       "\n",
       "element (itemset/transaction) length distribution:sizes\n",
       " 2 \n",
       "19 \n",
       "\n",
       "   Min. 1st Qu.  Median    Mean 3rd Qu.    Max. \n",
       "      2       2       2       2       2       2 \n",
       "\n",
       "summary of quality measures:\n",
       "    support            count      \n",
       " Min.   :0.03010   Min.   :296.0  \n",
       " 1st Qu.:0.03299   1st Qu.:324.5  \n",
       " Median :0.03833   Median :377.0  \n",
       " Mean   :0.04129   Mean   :406.1  \n",
       " 3rd Qu.:0.04540   3rd Qu.:446.5  \n",
       " Max.   :0.07483   Max.   :736.0  \n",
       "\n",
       "includes transaction ID lists: FALSE \n",
       "\n",
       "mining info:\n",
       "      data ntransactions support\n",
       " Groceries          9835    0.03\n",
       "                                                                                                         call\n",
       " eclat(data = Groceries, parameter = list(minlen = 2, maxlen = 5, supp = 0.03, target = \"frequent itemsets\"))"
      ]
     },
     "metadata": {},
     "output_type": "display_data"
    },
    {
     "name": "stdout",
     "output_type": "stream",
     "text": [
      "     items                               support    count\n",
      "[1]  {whole milk, whipped/sour cream}    0.03223183 317  \n",
      "[2]  {pip fruit, whole milk}             0.03009659 296  \n",
      "[3]  {whole milk, pastry}                0.03324860 327  \n",
      "[4]  {citrus fruit, whole milk}          0.03050330 300  \n",
      "[5]  {sausage, rolls/buns}               0.03060498 301  \n",
      "[6]  {whole milk, bottled water}         0.03436706 338  \n",
      "[7]  {tropical fruit, whole milk}        0.04229792 416  \n",
      "[8]  {tropical fruit, other vegetables}  0.03589222 353  \n",
      "[9]  {root vegetables, whole milk}       0.04890696 481  \n",
      "[10] {root vegetables, other vegetables} 0.04738180 466  \n",
      "[11] {whole milk, soda}                  0.04006101 394  \n",
      "[12] {other vegetables, soda}            0.03274021 322  \n",
      "[13] {rolls/buns, soda}                  0.03833249 377  \n",
      "[14] {whole milk, yogurt}                0.05602440 551  \n",
      "[15] {other vegetables, yogurt}          0.04341637 427  \n",
      "[16] {yogurt, rolls/buns}                0.03436706 338  \n",
      "[17] {whole milk, rolls/buns}            0.05663447 557  \n",
      "[18] {other vegetables, rolls/buns}      0.04260295 419  \n",
      "[19] {other vegetables, whole milk}      0.07483477 736  \n",
      "     lhs                     rhs                support    confidence lift    \n",
      "[1]  {whipped/sour cream} => {whole milk}       0.03223183 0.4496454  1.759754\n",
      "[2]  {pip fruit}          => {whole milk}       0.03009659 0.3978495  1.557043\n",
      "[3]  {pastry}             => {whole milk}       0.03324860 0.3737143  1.462587\n",
      "[4]  {citrus fruit}       => {whole milk}       0.03050330 0.3685504  1.442377\n",
      "[5]  {sausage}            => {rolls/buns}       0.03060498 0.3257576  1.771048\n",
      "[6]  {bottled water}      => {whole milk}       0.03436706 0.3109476  1.216940\n",
      "[7]  {tropical fruit}     => {whole milk}       0.04229792 0.4031008  1.577595\n",
      "[8]  {tropical fruit}     => {other vegetables} 0.03589222 0.3420543  1.767790\n",
      "[9]  {root vegetables}    => {whole milk}       0.04890696 0.4486940  1.756031\n",
      "[10] {root vegetables}    => {other vegetables} 0.04738180 0.4347015  2.246605\n",
      "[11] {yogurt}             => {whole milk}       0.05602440 0.4016035  1.571735\n",
      "[12] {yogurt}             => {other vegetables} 0.04341637 0.3112245  1.608457\n",
      "[13] {rolls/buns}         => {whole milk}       0.05663447 0.3079049  1.205032\n",
      "[14] {other vegetables}   => {whole milk}       0.07483477 0.3867578  1.513634\n",
      "     itemset\n",
      "[1]   1     \n",
      "[2]   2     \n",
      "[3]   3     \n",
      "[4]   4     \n",
      "[5]   5     \n",
      "[6]   6     \n",
      "[7]   7     \n",
      "[8]   8     \n",
      "[9]   9     \n",
      "[10] 10     \n",
      "[11] 14     \n",
      "[12] 15     \n",
      "[13] 17     \n",
      "[14] 19     \n"
     ]
    }
   ],
   "source": [
    "#depth first searching (商品代碼為key)\n",
    "items = eclat(Groceries, parameter=list (minlen=2, maxlen=5, supp=0.03, target=\"frequent itemsets\")) \n",
    "summary(items)\n",
    "inspect(items)\n",
    "rules <- ruleInduction(items, Groceries, conf = .3)\n",
    "inspect(rules)"
   ]
  },
  {
   "cell_type": "code",
   "execution_count": 9,
   "metadata": {},
   "outputs": [
    {
     "name": "stdout",
     "output_type": "stream",
     "text": [
      "Apriori\n",
      "\n",
      "Parameter specification:\n",
      " confidence minval smax arem  aval originalSupport maxtime support minlen\n",
      "        0.6    0.1    1 none FALSE            TRUE       5   0.004      1\n",
      " maxlen target  ext\n",
      "     10  rules TRUE\n",
      "\n",
      "Algorithmic control:\n",
      " filter tree heap memopt load sort verbose\n",
      "    0.1 TRUE TRUE  FALSE TRUE    2    TRUE\n",
      "\n",
      "Absolute minimum support count: 39 \n",
      "\n",
      "set item appearances ...[0 item(s)] done [0.00s].\n",
      "set transactions ...[169 item(s), 9835 transaction(s)] done [0.01s].\n",
      "sorting and recoding items ... [126 item(s)] done [0.00s].\n",
      "creating transaction tree ... done [0.01s].\n",
      "checking subsets of size 1 2 3 4 5 done [0.01s].\n",
      "writing ... [40 rule(s)] done [0.00s].\n",
      "creating S4 object  ... done [0.00s].\n"
     ]
    },
    {
     "data": {
      "image/png": "[encoded data removed]",
      "text/plain": [
       "plot without title"
      ]
     },
     "metadata": {
      "image/png": {
       "height": 420,
       "width": 420
      }
     },
     "output_type": "display_data"
    },
    {
     "data": {
      "image/png": "[encoded data removed]",
      "text/plain": [
       "plot without title"
      ]
     },
     "metadata": {
      "image/png": {
       "height": 420,
       "width": 420
      }
     },
     "output_type": "display_data"
    },
    {
     "data": {
      "image/png": "[encoded data removed]",
      "text/plain": [
       "plot without title"
      ]
     },
     "metadata": {
      "image/png": {
       "height": 420,
       "width": 420
      }
     },
     "output_type": "display_data"
    }
   ],
   "source": [
    "# 可視化Visualization\n",
    "rules2=apriori(Groceries, parameter=list(support=0.004, confidence=0.6))\n",
    "plot(rules2)\n",
    "plot(rules2, measure=c(\"support\", \"lift\"), shading=\"confidence\")\n",
    "plot(rules2, method=\"grouped\")"
   ]
  }
 ],
 "metadata": {
  "kernelspec": {
   "display_name": "R",
   "language": "R",
   "name": "ir"
  },
  "language_info": {
   "codemirror_mode": "r",
   "file_extension": ".r",
   "mimetype": "text/x-r-source",
   "name": "R",
   "pygments_lexer": "r",
   "version": "4.1.2"
  }
 },
 "nbformat": 4,
 "nbformat_minor": 4
}
