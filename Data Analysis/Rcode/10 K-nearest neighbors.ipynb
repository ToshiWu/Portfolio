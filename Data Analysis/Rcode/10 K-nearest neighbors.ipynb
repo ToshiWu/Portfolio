{
 "cells": [
  {
   "cell_type": "markdown",
   "metadata": {},
   "source": [
    "# KNN分類 (k-nearest neighbors)"
   ]
  },
  {
   "cell_type": "code",
   "execution_count": 1,
   "metadata": {},
   "outputs": [],
   "source": [
    "library(class)\n",
    "library(e1071) # for tune.knn"
   ]
  },
  {
   "cell_type": "markdown",
   "metadata": {},
   "source": [
    "# iris資料集"
   ]
  },
  {
   "cell_type": "code",
   "execution_count": 2,
   "metadata": {},
   "outputs": [
    {
     "data": {
      "text/plain": [
       "            Actual\n",
       "Prediction   setosa versicolor virginica\n",
       "  setosa         15          0         0\n",
       "  versicolor      0         14         2\n",
       "  virginica       0          1        13"
      ]
     },
     "metadata": {},
     "output_type": "display_data"
    },
    {
     "name": "stdout",
     "output_type": "stream",
     "text": [
      "\n",
      "  Accuracy: 93.33333 %"
     ]
    }
   ],
   "source": [
    "data(iris)\n",
    "\n",
    "# 切割資料集\n",
    "index <- c(sample(1:50,35), sample(51:100,35), sample(101:150,35)) # 取七成作為訓練集\n",
    "training <- iris[index,]\n",
    "testing <- iris[-index,]\n",
    "\n",
    "#訓練 (k=3)\n",
    "knn.iris <- knn(training[,-5], testing[,-5], training[,5], k = 3)\n",
    "\n",
    "# 結果輸出\n",
    "table(result=knn.iris, testing[,5], dnn=c(\"Prediction\",\"Actual\"))\n",
    "cat(\"\\n  Accuracy:\",\n",
    "    sum(as.numeric(knn.iris == testing[,5])) / nrow(testing)*100,\"%\")"
   ]
  },
  {
   "cell_type": "markdown",
   "metadata": {
    "tags": []
   },
   "source": [
    "# 性別資料集"
   ]
  },
  {
   "cell_type": "code",
   "execution_count": 3,
   "metadata": {},
   "outputs": [
    {
     "name": "stdout",
     "output_type": "stream",
     "text": [
      "The best k number: 7"
     ]
    },
    {
     "data": {
      "text/plain": [
       "          Actual\n",
       "Prediction female male\n",
       "    female     13    2\n",
       "    male        2   26"
      ]
     },
     "metadata": {},
     "output_type": "display_data"
    },
    {
     "name": "stdout",
     "output_type": "stream",
     "text": [
      "\n",
      "  Accuracy: 90.69767 %"
     ]
    }
   ],
   "source": [
    "gender_size <- read.csv(\"../data_files/gender_size.csv\", stringsAsFactors = TRUE)\n",
    "\n",
    "# 用tune.knn測試最佳的群數\n",
    "tune.gender <- tune.knn(gender_size[,-4], gender_size[,4], k=c(3,5,7,9))\n",
    "cat('The best k number:', tune.gender$best.model$k)\n",
    "\n",
    "#訓練\n",
    "index <- sample(1:nrow(gender_size),nrow(gender_size)*0.7)\n",
    "training <- gender_size[index,]\n",
    "testing <- gender_size[-index,]\n",
    "knn.gender <- knn(training[,-4], testing[,-4], training[,4],\n",
    "                  k = tune.gender$best.model$k)\n",
    "\n",
    "# 測試集結果\n",
    "table(knn.gender, testing[,4], dnn=c(\"Prediction\",\"Actual\"))\n",
    "cat(\"\\n  Accuracy:\",\n",
    "    sum(as.numeric(knn.gender == testing[,4])) / nrow(testing)*100,\"%\")"
   ]
  },
  {
   "cell_type": "code",
   "execution_count": 4,
   "metadata": {},
   "outputs": [],
   "source": [
    "# 寫成函式 (輸入knn_data最後一列為類別資料)\n",
    "best_knn <- function(knn_data) {\n",
    "    last <- ncol(knn_data)\n",
    "    tune.knn <- tune.knn(knn_data[,-last], knn_data[,last], k=c(3,5,7,9))\n",
    "    cat('The best k number:', tune.knn$best.model$k, '\\n')\n",
    "    \n",
    "    index <- sample(1:nrow(knn_data), nrow(knn_data)*0.7)\n",
    "    result.knn <- knn(knn_data[index,-last], knn_data[-index,-last], knn_data[index,last],\n",
    "                      k = tune.knn$best.model$k)\n",
    "\n",
    "    \n",
    "    print(table(result.knn, knn_data[-index,last], dnn=c(\"Prediction\",\"Actual\")))\n",
    "    cat(\"\\n  Accuracy:\",\n",
    "        sum(as.numeric(knn_data[-index,last]==result.knn)) / nrow(knn_data[-index,])*100,\"%\\n\\n\")\n",
    "    }"
   ]
  },
  {
   "cell_type": "markdown",
   "metadata": {},
   "source": [
    "# 癌症資料集"
   ]
  },
  {
   "cell_type": "code",
   "execution_count": 5,
   "metadata": {},
   "outputs": [
    {
     "name": "stdout",
     "output_type": "stream",
     "text": [
      "cancer_dataset:\n",
      "The best k number: 7 \n",
      "           Actual\n",
      "Prediction  benign malignant\n",
      "  benign       121         5\n",
      "  malignant      5        74\n",
      "\n",
      "  Accuracy: 95.12195 %\n",
      "\n"
     ]
    }
   ],
   "source": [
    "cancer_data <- read.csv(\"../data_files/breast_cancer.csv\", header=T, sep=\",\")\n",
    "cancer <- cancer_data[cancer_data$Bare.Nuclei!= 9999, 2:11]\n",
    "cancer$Class <- as.factor(cancer$Class)\n",
    "\n",
    "cat(\"cancer_dataset:\\n\")\n",
    "best_knn(cancer)"
   ]
  },
  {
   "cell_type": "markdown",
   "metadata": {},
   "source": [
    "# 玻璃資料集"
   ]
  },
  {
   "cell_type": "code",
   "execution_count": 6,
   "metadata": {},
   "outputs": [
    {
     "name": "stdout",
     "output_type": "stream",
     "text": [
      "glass_dataset:\n",
      "The best k number: 3 \n",
      "          Actual\n",
      "Prediction  1  2  3  5  6  7\n",
      "         1 14  2  5  0  0  0\n",
      "         2  3 19  1  3  1  0\n",
      "         3  0  0  2  0  0  0\n",
      "         5  0  0  0  3  0  0\n",
      "         6  0  0  0  0  0  0\n",
      "         7  0  0  0  0  0 12\n",
      "\n",
      "  Accuracy: 76.92308 %\n",
      "\n"
     ]
    }
   ],
   "source": [
    "glass_data<- read.table(\"../data_files/glass.txt\", header=F, sep=\",\") \n",
    "glass<-glass_data[,-1] #remove unnecessary column\n",
    "colnames(glass)=c(\"x1\", \"x2\", \"x3\", \"x4\", \"x5\", \"x6\", \"x7\", \"x8\", \"x9\", \"type\") \n",
    "glass[,10]<- as.factor(glass$type)\n",
    "\n",
    "cat(\"glass_dataset:\\n\")\n",
    "best_knn(glass)"
   ]
  }
 ],
 "metadata": {
  "kernelspec": {
   "display_name": "R",
   "language": "R",
   "name": "ir"
  },
  "language_info": {
   "codemirror_mode": "r",
   "file_extension": ".r",
   "mimetype": "text/x-r-source",
   "name": "R",
   "pygments_lexer": "r",
   "version": "4.1.2"
  }
 },
 "nbformat": 4,
 "nbformat_minor": 4
}
