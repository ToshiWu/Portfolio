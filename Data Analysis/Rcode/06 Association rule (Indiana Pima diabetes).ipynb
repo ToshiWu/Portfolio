{
 "cells": [
  {
   "cell_type": "markdown",
   "metadata": {},
   "source": [
    "# Pima印地安人糖尿病資料集(Indiana Pima diabetes dataset)"
   ]
  },
  {
   "cell_type": "code",
   "execution_count": 1,
   "metadata": {},
   "outputs": [
    {
     "name": "stderr",
     "output_type": "stream",
     "text": [
      "\n",
      "載入套件：'arules'\n",
      "\n",
      "\n",
      "下列物件被遮斷自 'package:base':\n",
      "\n",
      "    abbreviate, write\n",
      "\n",
      "\n"
     ]
    }
   ],
   "source": [
    "library(Matrix)\n",
    "library(arules) # 關聯規則\n",
    "\n",
    "library(MASS) #資料集庫"
   ]
  },
  {
   "cell_type": "code",
   "execution_count": 2,
   "metadata": {},
   "outputs": [
    {
     "name": "stdout",
     "output_type": "stream",
     "text": [
      "'data.frame':\t532 obs. of  8 variables:\n",
      " $ npreg: Ord.factor w/ 2 levels \"[-0.017,8.5]\"<..: 1 1 1 1 1 1 1 1 1 1 ...\n",
      " $ glu  : Ord.factor w/ 2 levels \"[55.9,128]\"<\"(128,199]\": 1 2 1 2 1 1 1 2 2 2 ...\n",
      " $ bp   : Ord.factor w/ 2 levels \"[23.9,67]\"<\"(67,110]\": 2 2 2 2 1 2 1 1 2 2 ...\n",
      " $ skin : Ord.factor w/ 2 levels \"[6.91,53]\"<\"(53,99.1]\": 1 1 1 1 1 1 1 1 1 1 ...\n",
      " $ bmi  : Ord.factor w/ 2 levels \"[18.2,42.6]\"<..: 1 1 1 2 1 1 1 1 1 2 ...\n",
      " $ ped  : Ord.factor w/ 2 levels \"[0.0827,1.25]\"<..: 1 1 1 1 1 1 1 1 1 1 ...\n",
      " $ age  : Ord.factor w/ 2 levels \"[20.9,51]\"<\"(51,81.1]\": 1 2 1 1 1 2 1 1 2 1 ...\n",
      " $ type : Factor w/ 2 levels \"No\",\"Yes\": 1 2 1 1 1 2 1 1 1 2 ...\n"
     ]
    }
   ],
   "source": [
    "# 讀入資料\n",
    "data(\"Pima.tr\")\n",
    "data(\"Pima.te\")\n",
    "Pima <- rbind(Pima.tr, Pima.te) #original data\n",
    "\n",
    "# number of pregnancy(懷孕次數)、glucose (血糖濃度)、blood pressure (血壓)、skin thickness (皮褶厚度)、BMI (體指數)、gene index (家族基因)、age (年紀)\n",
    "# 將數值參數離散 partition attributes into two discrete levels (discretization)\n",
    "for(i in 1:7) Pima[, i] = cut(Pima[, i], breaks= 2, ordered_result= T, include.lowest = T) \n",
    "str(Pima)"
   ]
  },
  {
   "cell_type": "code",
   "execution_count": 3,
   "metadata": {},
   "outputs": [
    {
     "name": "stdout",
     "output_type": "stream",
     "text": [
      "Apriori\n",
      "\n",
      "Parameter specification:\n",
      " confidence minval smax arem  aval originalSupport maxtime support minlen\n",
      "        0.6    0.1    1 none FALSE            TRUE       5    0.15      1\n",
      " maxlen target  ext\n",
      "     10  rules TRUE\n",
      "\n",
      "Algorithmic control:\n",
      " filter tree heap memopt load sort verbose\n",
      "    0.1 TRUE TRUE  FALSE TRUE    2    TRUE\n",
      "\n",
      "Absolute minimum support count: 79 \n",
      "\n",
      "set item appearances ...[1 item(s)] done [0.00s].\n",
      "set transactions ...[16 item(s), 532 transaction(s)] done [0.00s].\n",
      "sorting and recoding items ... [11 item(s)] done [0.00s].\n",
      "creating transaction tree ... done [0.00s].\n",
      "checking subsets of size 1 2 3 4 5 6 7 8 done [0.00s].\n",
      "writing ... [14 rule(s)] done [0.00s].\n",
      "creating S4 object  ... done [0.00s].\n",
      "     lhs                     rhs          support confidence  coverage     lift count\n",
      "[1]  {glu=(128,199],                                                                 \n",
      "      bp=(67,110]}        => {type=Yes} 0.1766917  0.6438356 0.2744361 1.935144    94\n",
      "[2]  {glu=(128,199],                                                                 \n",
      "      bp=(67,110],                                                                   \n",
      "      skin=[6.91,53]}     => {type=Yes} 0.1710526  0.6408451 0.2669173 1.926156    91\n",
      "[3]  {glu=(128,199],                                                                 \n",
      "      bp=(67,110],                                                                   \n",
      "      ped=[0.0827,1.25]}  => {type=Yes} 0.1635338  0.6304348 0.2593985 1.894866    87\n",
      "[4]  {glu=(128,199],                                                                 \n",
      "      bp=(67,110],                                                                   \n",
      "      skin=[6.91,53],                                                                \n",
      "      ped=[0.0827,1.25]}  => {type=Yes} 0.1597744  0.6296296 0.2537594 1.892446    85\n",
      "[5]  {glu=(128,199]}      => {type=Yes} 0.2218045  0.6243386 0.3552632 1.876543   118\n",
      "[6]  {glu=(128,199],                                                                 \n",
      "      age=[20.9,51]}      => {type=Yes} 0.1917293  0.6219512 0.3082707 1.869368   102\n",
      "[7]  {glu=(128,199],                                                                 \n",
      "      skin=[6.91,53]}     => {type=Yes} 0.2161654  0.6216216 0.3477444 1.868377   115\n",
      "[8]  {glu=(128,199],                                                                 \n",
      "      skin=[6.91,53],                                                                \n",
      "      age=[20.9,51]}      => {type=Yes} 0.1879699  0.6211180 0.3026316 1.866863   100\n",
      "[9]  {glu=(128,199],                                                                 \n",
      "      ped=[0.0827,1.25]}  => {type=Yes} 0.2048872  0.6089385 0.3364662 1.830256   109\n",
      "[10] {glu=(128,199],                                                                 \n",
      "      skin=[6.91,53],                                                                \n",
      "      ped=[0.0827,1.25]}  => {type=Yes} 0.2011278  0.6079545 0.3308271 1.827298   107\n",
      "[11] {glu=(128,199],                                                                 \n",
      "      skin=[6.91,53],                                                                \n",
      "      ped=[0.0827,1.25],                                                             \n",
      "      age=[20.9,51]}      => {type=Yes} 0.1729323  0.6052632 0.2857143 1.819209    92\n",
      "[12] {glu=(128,199],                                                                 \n",
      "      ped=[0.0827,1.25],                                                             \n",
      "      age=[20.9,51]}      => {type=Yes} 0.1748120  0.6038961 0.2894737 1.815100    93\n",
      "[13] {glu=(128,199],                                                                 \n",
      "      bmi=[18.2,42.6]}    => {type=Yes} 0.1879699  0.6024096 0.3120301 1.810632   100\n",
      "[14] {glu=(128,199],                                                                 \n",
      "      skin=[6.91,53],                                                                \n",
      "      bmi=[18.2,42.6]}    => {type=Yes} 0.1860902  0.6000000 0.3101504 1.803390    99\n"
     ]
    }
   ],
   "source": [
    "rule0<- apriori(Pima, parameter=list(supp=.15, conf=0.6), appearance=list(rhs=c(\"type=Yes\"), default=\"lhs\"))\n",
    "sorted0<- sort(rule0, by=\"confidence\")\n",
    "inspect(sorted0)"
   ]
  },
  {
   "cell_type": "code",
   "execution_count": 4,
   "metadata": {},
   "outputs": [
    {
     "name": "stdout",
     "output_type": "stream",
     "text": [
      "Apriori\n",
      "\n",
      "Parameter specification:\n",
      " confidence minval smax arem  aval originalSupport maxtime support minlen\n",
      "        0.8    0.1    1 none FALSE            TRUE       5     0.5      1\n",
      " maxlen target  ext\n",
      "     10  rules TRUE\n",
      "\n",
      "Algorithmic control:\n",
      " filter tree heap memopt load sort verbose\n",
      "    0.1 TRUE TRUE  FALSE TRUE    2    TRUE\n",
      "\n",
      "Absolute minimum support count: 266 \n",
      "\n",
      "set item appearances ...[1 item(s)] done [0.00s].\n",
      "set transactions ...[16 item(s), 532 transaction(s)] done [0.00s].\n",
      "sorting and recoding items ... [8 item(s)] done [0.00s].\n",
      "creating transaction tree ... done [0.00s].\n",
      "checking subsets of size 1 2 3 4 5 6 done [0.00s].\n",
      "writing ... [14 rule(s)] done [0.00s].\n",
      "creating S4 object  ... done [0.00s].\n",
      "     lhs                      rhs         support confidence  coverage     lift count\n",
      "[1]  {glu=[55.9,128]}      => {type=No} 0.5338346  0.8279883 0.6447368 1.240816   284\n",
      "[2]  {glu=[55.9,128],                                                                \n",
      "      skin=[6.91,53]}      => {type=No} 0.5300752  0.8269795 0.6409774 1.239304   282\n",
      "[3]  {glu=[55.9,128],                                                                \n",
      "      age=[20.9,51]}       => {type=No} 0.5225564  0.8348348 0.6259398 1.251076   278\n",
      "[4]  {glu=[55.9,128],                                                                \n",
      "      ped=[0.0827,1.25]}   => {type=No} 0.5225564  0.8348348 0.6259398 1.251076   278\n",
      "[5]  {glu=[55.9,128],                                                                \n",
      "      skin=[6.91,53],                                                                \n",
      "      age=[20.9,51]}       => {type=No} 0.5187970  0.8338369 0.6221805 1.249581   276\n",
      "[6]  {glu=[55.9,128],                                                                \n",
      "      skin=[6.91,53],                                                                \n",
      "      ped=[0.0827,1.25]}   => {type=No} 0.5187970  0.8338369 0.6221805 1.249581   276\n",
      "[7]  {glu=[55.9,128],                                                                \n",
      "      ped=[0.0827,1.25],                                                             \n",
      "      age=[20.9,51]}       => {type=No} 0.5112782  0.8395062 0.6090226 1.258077   272\n",
      "[8]  {npreg=[-0.017,8.5],                                                            \n",
      "      glu=[55.9,128]}      => {type=No} 0.5075188  0.8544304 0.5939850 1.280442   270\n",
      "[9]  {glu=[55.9,128],                                                                \n",
      "      bmi=[18.2,42.6]}     => {type=No} 0.5075188  0.8411215 0.6033835 1.260498   270\n",
      "[10] {glu=[55.9,128],                                                                \n",
      "      skin=[6.91,53],                                                                \n",
      "      ped=[0.0827,1.25],                                                             \n",
      "      age=[20.9,51]}       => {type=No} 0.5075188  0.8385093 0.6052632 1.256583   270\n",
      "[11] {npreg=[-0.017,8.5],                                                            \n",
      "      glu=[55.9,128],                                                                \n",
      "      skin=[6.91,53]}      => {type=No} 0.5056391  0.8539683 0.5921053 1.279750   269\n",
      "[12] {glu=[55.9,128],                                                                \n",
      "      skin=[6.91,53],                                                                \n",
      "      bmi=[18.2,42.6]}     => {type=No} 0.5056391  0.8406250 0.6015038 1.259754   269\n",
      "[13] {npreg=[-0.017,8.5],                                                            \n",
      "      glu=[55.9,128],                                                                \n",
      "      age=[20.9,51]}       => {type=No} 0.5018797  0.8612903 0.5827068 1.290722   267\n",
      "[14] {npreg=[-0.017,8.5],                                                            \n",
      "      glu=[55.9,128],                                                                \n",
      "      skin=[6.91,53],                                                                \n",
      "      age=[20.9,51]}       => {type=No} 0.5000000  0.8608414 0.5808271 1.290050   266\n"
     ]
    }
   ],
   "source": [
    "rule1<- apriori(Pima, parameter=list(supp=.5, conf=0.8), appearance=list(rhs=c(\"type=No\"), default=\"lhs\"))\n",
    "sorted1<- sort(rule1, by=\"support\")\n",
    "inspect(sorted1)"
   ]
  }
 ],
 "metadata": {
  "kernelspec": {
   "display_name": "R",
   "language": "R",
   "name": "ir"
  },
  "language_info": {
   "codemirror_mode": "r",
   "file_extension": ".r",
   "mimetype": "text/x-r-source",
   "name": "R",
   "pygments_lexer": "r",
   "version": "4.1.2"
  }
 },
 "nbformat": 4,
 "nbformat_minor": 4
}
