{
 "cells": [
  {
   "cell_type": "markdown",
   "metadata": {},
   "source": [
    "# 散裝貨運分析 "
   ]
  },
  {
   "cell_type": "code",
   "execution_count": 1,
   "metadata": {},
   "outputs": [],
   "source": [
    "library(Formula)\n",
    "library(plotrix)\n",
    "library(TeachingDemos)\n",
    "library(plotmo)\n",
    "library(earth) #for 多變量適應性迴歸模型 (MARS)\n",
    "\n",
    "library(FNN) # for Fast k-nearest neighbor searching"
   ]
  },
  {
   "cell_type": "markdown",
   "metadata": {},
   "source": [
    "# 海岬型(capesize) -> 裕民、新興、中航"
   ]
  },
  {
   "cell_type": "code",
   "execution_count": 2,
   "metadata": {},
   "outputs": [],
   "source": [
    "capesize <- read.csv(\"../data_files/capesize.csv\")\n",
    "capesize <- capesize[,-1]"
   ]
  },
  {
   "cell_type": "code",
   "execution_count": 3,
   "metadata": {},
   "outputs": [
    {
     "name": "stdout",
     "output_type": "stream",
     "text": [
      "------------------------------summary------------------------------\n"
     ]
    },
    {
     "data": {
      "text/plain": [
       "\n",
       "Call:\n",
       "lm(formula = Bulk_capesize ~ ., data = capesize)\n",
       "\n",
       "Residuals:\n",
       "     Min       1Q   Median       3Q      Max \n",
       "-8181858 -2573224  -286870  1967563 11932422 \n",
       "\n",
       "Coefficients:\n",
       "                                  Estimate Std. Error t value Pr(>|t|)    \n",
       "(Intercept)                     -2353995.2 35158108.0  -0.067 0.946742    \n",
       "BSI_t.1                             3941.3     6040.9   0.652 0.515510    \n",
       "PPI_US                            102260.5   184244.9   0.555 0.580025    \n",
       "BCI_t.1                             2326.6      661.6   3.517 0.000640 ***\n",
       "BPI_t.1                             2578.9     2660.8   0.969 0.334584    \n",
       "Australian.thermal.coal            67040.9    42589.5   1.574 0.118385    \n",
       "Soybeans                          -21290.4    11826.5  -1.800 0.074616 .  \n",
       "Wheat                              37148.1    21795.8   1.704 0.091188 .  \n",
       "BHI_t.1                             1410.9    10413.1   0.135 0.892477    \n",
       "WTI.crude.Oil                      69240.5    38143.8   1.815 0.072261 .  \n",
       "IMF_base.metal.index               87816.4    73038.2   1.202 0.231863    \n",
       "Corn                              -48612.2    26998.1  -1.801 0.074561 .  \n",
       "CN_metal.production                 3413.1      897.5   3.803 0.000237 ***\n",
       "Breakbulk.capesize._SeasonIndex 25686483.8 22778765.9   1.128 0.261967    \n",
       "Rock.Phosphate                     99735.8    31224.0   3.194 0.001838 ** \n",
       "Iron.Ore                          -70031.0    50354.4  -1.391 0.167157    \n",
       "PPI_CN                           -407911.1   217212.8  -1.878 0.063088 .  \n",
       "---\n",
       "Signif. codes:  0 '***' 0.001 '**' 0.01 '*' 0.05 '.' 0.1 ' ' 1\n",
       "\n",
       "Residual standard error: 4121000 on 108 degrees of freedom\n",
       "Multiple R-squared:  0.7176,\tAdjusted R-squared:  0.6757 \n",
       "F-statistic: 17.15 on 16 and 108 DF,  p-value: < 2.2e-16\n"
      ]
     },
     "metadata": {},
     "output_type": "display_data"
    }
   ],
   "source": [
    "# MLR\n",
    "mlr.capesize <- lm(Bulk_capesize~., capesize)\n",
    "cat(\"------------------------------summary------------------------------\\n\")\n",
    "summary(mlr.capesize)"
   ]
  },
  {
   "cell_type": "code",
   "execution_count": 4,
   "metadata": {},
   "outputs": [
    {
     "name": "stdout",
     "output_type": "stream",
     "text": [
      "x[125,16] with colnames BSI_t.1 PPI_US BCI_t.1 BPI_t.1 Australian.thermal.coal So...\n",
      "y[125,1] with colname Bulk_capesize, and values 4.601e+07, 4.8e+07, 4.741e+07...\n",
      "Forward pass: minspan 6 endspan 11   x[125,16] 15.6 kB   bx[125,33] 32.2 kB\n",
      "\n",
      "         GRSq    RSq     DeltaRSq Pred     PredName         Cut  Terms   Par Deg\n",
      "1      0.0000 0.0000                    (Intercept)\n",
      "2      0.4068 0.4537       0.4537    1      BSI_t.1      1034.5  2   3         1 \n",
      "4      0.4784 0.5591       0.1054    2       PPI_US       125.2  4   5         1 \n",
      "6      0.5364 0.6418       0.0827    5 Australian.t       77.61  6   7         1 \n",
      "8      0.5695 0.6972      0.05537   13 Breakbulk.ca       1.002  8   9         1 \n",
      "10     0.5625 0.7211      0.02398    4      BPI_t.1      1365.5  10  11        1 \n",
      "12     0.5519 0.7425      0.02133    7        Wheat      215.99  12  13    6   2 \n",
      "14     0.5471 0.7667      0.02423    6     Soybeans      471.74  14  15    6   2 \n",
      "16     0.5801 0.7957      0.02895    6     Soybeans      412.17  16        6   2 \n",
      "18     0.5762 0.8169      0.02128    3      BCI_t.1        3064  17  18        1 \n",
      "20     0.5930 0.8348      0.01786   14 Rock.Phospha       70.75< 19       10   2 \n",
      "22     0.5804 0.8506      0.01577    7        Wheat      203.43  20  21   19   2 \n",
      "24     0.5680 0.8662      0.01566   11         Corn       151.8  22  23        1 \n",
      "26     0.5530 0.8809      0.01469   14 Rock.Phospha        92.5  24  25    5   2 \n",
      "28     0.5349 0.8947       0.0138    8      BHI_t.1         456  26  27   12   3 \n",
      "30     0.4857 0.9025     0.007753   16       PPI_CN       103.1  28  29    6   2 \n",
      "32     0.4286 0.9108       0.0083    6     Soybeans      387.05  30  31    3   2 final (reached nk 33)\n",
      "\n",
      "Reached nk 33\n",
      "After forward pass GRSq 0.429 RSq 0.911\n",
      "Forward pass complete: 33 terms, 31 terms used\n",
      "Prune backward penalty 3 nprune null: selected 13 of 31 terms, and 9 of 16 preds\n",
      "After pruning pass GRSq 0.734 RSq 0.847\n",
      "------------------------------summary------------------------------\n"
     ]
    },
    {
     "data": {
      "text/plain": [
       "Call: earth(formula=Bulk_capesize~., data=capesize, trace=2, degree=3)\n",
       "\n",
       "                                                      coefficients\n",
       "(Intercept)                                               51459411\n",
       "h(125.2-PPI_US)                                            -901921\n",
       "h(BPI_t.1-1365.5)                                            23116\n",
       "h(Australian.thermal.coal-77.61)                           -928291\n",
       "h(Corn-151.8)                                               -59759\n",
       "h(1.00204-Breakbulk.capesize._SeasonIndex)              -137831441\n",
       "h(BPI_t.1-1365.5) * Rock.Phosphate                            -155\n",
       "h(125.2-PPI_US) * h(Rock.Phosphate-92.5)                     13234\n",
       "h(3064-BCI_t.1) * h(203.43-Wheat)                              -58\n",
       "h(Australian.thermal.coal-77.61) * h(Soybeans-471.74)       -18333\n",
       "h(Australian.thermal.coal-77.61) * h(471.74-Soybeans)        11542\n",
       "h(Australian.thermal.coal-77.61) * h(Soybeans-412.17)        19590\n",
       "h(Australian.thermal.coal-77.61) * h(Wheat-215.99)           -1749\n",
       "\n",
       "Selected 13 of 31 terms, and 9 of 16 predictors\n",
       "Termination condition: Reached nk 33\n",
       "Importance: BPI_t.1, BCI_t.1, Wheat, Australian.thermal.coal, Soybeans, ...\n",
       "Number of terms at each degree of interaction: 1 5 7\n",
       "GCV 1.401924e+13    RSS 9.909923e+14    GRSq 0.7344369    RSq 0.847391"
      ]
     },
     "metadata": {},
     "output_type": "display_data"
    },
    {
     "name": "stdout",
     "output_type": "stream",
     "text": [
      "-------------------------evimp-------------------------\n"
     ]
    },
    {
     "data": {
      "text/plain": [
       "                                nsubsets   gcv    rss\n",
       "BPI_t.1                               11  68.2   72.6\n",
       "BCI_t.1                               10 100.0> 100.0>\n",
       "Wheat                                 10 100.0  100.0\n",
       "Australian.thermal.coal               10  53.5   59.1\n",
       "Soybeans                               8  55.9   57.7\n",
       "Breakbulk.capesize._SeasonIndex        8  33.7   42.1\n",
       "PPI_US                                 7  25.5   36.0\n",
       "Corn                                   4  25.2   28.5\n",
       "Rock.Phosphate                         3  18.8   22.7\n",
       "BSI_t.1-unused                         0   0.0    0.0\n",
       "BHI_t.1-unused                         0   0.0    0.0\n",
       "WTI.crude.Oil-unused                   0   0.0    0.0\n",
       "IMF_base.metal.index-unused            0   0.0    0.0\n",
       "CN_metal.production-unused             0   0.0    0.0\n",
       "Iron.Ore-unused                        0   0.0    0.0\n",
       "PPI_CN-unused                          0   0.0    0.0"
      ]
     },
     "metadata": {},
     "output_type": "display_data"
    }
   ],
   "source": [
    "# MARS\n",
    "mars.capesize <- earth(Bulk_capesize~., degree =3, trace=2, capesize) # degree考慮交互項\n",
    "cat(\"------------------------------summary------------------------------\\n\")\n",
    "summary(mars.capesize)  ##ROE\n",
    "cat(\"-------------------------evimp-------------------------\\n\")\n",
    "evimp(mars.capesize, trim=FALSE)"
   ]
  },
  {
   "cell_type": "code",
   "execution_count": 5,
   "metadata": {},
   "outputs": [],
   "source": [
    "#KNN\n",
    "knn.capesize <- knn.reg(capesize[,-1], capesize[,-1], capesize[,1], k=3, algorithm= \"brute\")"
   ]
  },
  {
   "cell_type": "code",
   "execution_count": 6,
   "metadata": {},
   "outputs": [
    {
     "data": {
      "text/html": [
       "<table class=\"dataframe\">\n",
       "<caption>A matrix: 3 × 3 of type dbl</caption>\n",
       "<thead>\n",
       "\t<tr><th></th><th scope=col>MLR</th><th scope=col>MARS</th><th scope=col>KNN</th></tr>\n",
       "</thead>\n",
       "<tbody>\n",
       "\t<tr><th scope=row>RMSE</th><td>3.830416e+06</td><td>2.815660e+06</td><td>3.956058e+06</td></tr>\n",
       "\t<tr><th scope=row>MAE</th><td>2.955167e+06</td><td>2.223353e+06</td><td>3.085200e+06</td></tr>\n",
       "\t<tr><th scope=row>MAPE</th><td>6.301595e-02</td><td>4.845406e-02</td><td>6.825505e-02</td></tr>\n",
       "</tbody>\n",
       "</table>\n"
      ],
      "text/latex": [
       "A matrix: 3 × 3 of type dbl\n",
       "\\begin{tabular}{r|lll}\n",
       "  & MLR & MARS & KNN\\\\\n",
       "\\hline\n",
       "\tRMSE & 3.830416e+06 & 2.815660e+06 & 3.956058e+06\\\\\n",
       "\tMAE & 2.955167e+06 & 2.223353e+06 & 3.085200e+06\\\\\n",
       "\tMAPE & 6.301595e-02 & 4.845406e-02 & 6.825505e-02\\\\\n",
       "\\end{tabular}\n"
      ],
      "text/markdown": [
       "\n",
       "A matrix: 3 × 3 of type dbl\n",
       "\n",
       "| <!--/--> | MLR | MARS | KNN |\n",
       "|---|---|---|---|\n",
       "| RMSE | 3.830416e+06 | 2.815660e+06 | 3.956058e+06 |\n",
       "| MAE | 2.955167e+06 | 2.223353e+06 | 3.085200e+06 |\n",
       "| MAPE | 6.301595e-02 | 4.845406e-02 | 6.825505e-02 |\n",
       "\n"
      ],
      "text/plain": [
       "     MLR          MARS         KNN         \n",
       "RMSE 3.830416e+06 2.815660e+06 3.956058e+06\n",
       "MAE  2.955167e+06 2.223353e+06 3.085200e+06\n",
       "MAPE 6.301595e-02 4.845406e-02 6.825505e-02"
      ]
     },
     "metadata": {},
     "output_type": "display_data"
    }
   ],
   "source": [
    "table1 = array(0, c(3,3))\n",
    "rownames(table1) <- c(\"RMSE\",\"MAE\",\"MAPE\")\n",
    "colnames(table1) <- c(\"MLR\",\"MARS\",\"KNN\")\n",
    "\n",
    "#MLR\n",
    "table1[1,1] <- sqrt(mean((capesize$Bulk_capesize - mlr.capesize$fitted.values)^2))\n",
    "table1[2,1] <- mean(abs(capesize$Bulk_capesize - mlr.capesize$fitted.values))\n",
    "table1[3,1] <- mean(abs((capesize$Bulk_capesize - mlr.capesize$fitted.values)/capesize$Bulk_capesize))\n",
    "\n",
    "#MARS\n",
    "table1[1,2] <- sqrt(mean((capesize$Bulk_capesize - mars.capesize$fitted.values)^2))\n",
    "table1[2,2] <- mean(abs(capesize$Bulk_capesize - mars.capesize$fitted.values))\n",
    "table1[3,2] <- mean(abs((capesize$Bulk_capesize - mars.capesize$fitted.values)/capesize$Bulk_capesize))\n",
    "\n",
    "# KNN\n",
    "table1[1,3] <- sqrt(mean((capesize$Bulk_capesize - knn.capesize$pred)^2))\n",
    "table1[2,3] <- mean(abs(capesize$Bulk_capesize - knn.capesize$pred))\n",
    "table1[3,3] <- mean(abs((capesize$Bulk_capesize - knn.capesize$pred)/capesize$Bulk_capesize))\n",
    "\n",
    "table1"
   ]
  },
  {
   "cell_type": "code",
   "execution_count": 7,
   "metadata": {},
   "outputs": [
    {
     "data": {
      "image/png": "[encoded data removed]",
      "text/plain": [
       "Plot with title \"Simple Regressor\""
      ]
     },
     "metadata": {
      "image/png": {
       "height": 420,
       "width": 420
      }
     },
     "output_type": "display_data"
    }
   ],
   "source": [
    "# 視覺化\n",
    "plot(capesize[,1], type='l', col=1, lwd=2, ylab=\"capesize\", xlab=\"date\", main=\"Simple Regressor\")\n",
    "lines(mlr.capesize$fitted.values, col=2, lwd=2)\n",
    "lines(mars.capesize$fitted.values, col=3, lwd=2)\n",
    "lines(knn.capesize$pred, col=4, lwd=2)\n",
    "legend(\"topleft\", c(\"Raw data\",\"MLR\",\"MARS\",\"KNN\"), fill=1:4)"
   ]
  },
  {
   "cell_type": "markdown",
   "metadata": {},
   "source": [
    "# 輕便型(handysize) -> 慧洋、四維、台航"
   ]
  },
  {
   "cell_type": "code",
   "execution_count": 8,
   "metadata": {},
   "outputs": [],
   "source": [
    "handysize <- read.csv(\"../data_files/handysize.csv\")\n",
    "handysize <- handysize[,-1]"
   ]
  },
  {
   "cell_type": "code",
   "execution_count": 9,
   "metadata": {},
   "outputs": [
    {
     "data": {
      "text/plain": [
       "\n",
       "Call:\n",
       "lm(formula = Handysize ~ ., data = handysize)\n",
       "\n",
       "Residuals:\n",
       "      Min        1Q    Median        3Q       Max \n",
       "-10800597  -2147760    110231   1933132  11556235 \n",
       "\n",
       "Coefficients:\n",
       "                          Estimate Std. Error t value Pr(>|t|)    \n",
       "(Intercept)             -2.777e+07  2.485e+07  -1.117  0.26639    \n",
       "CN_metal.production      4.744e+03  7.083e+02   6.698 9.88e-10 ***\n",
       "Australian.thermal.coal  9.644e+04  3.594e+04   2.683  0.00844 ** \n",
       "Rock.Phosphate           5.136e+04  2.585e+04   1.987  0.04947 *  \n",
       "BPI                      3.491e+02  2.212e+03   0.158  0.87488    \n",
       "BHI                      1.984e+04  8.842e+03   2.244  0.02689 *  \n",
       "PPI_CN                  -5.670e+05  1.802e+05  -3.146  0.00214 ** \n",
       "PPI_US                   7.171e+05  1.517e+05   4.726 6.95e-06 ***\n",
       "Iron.Ore                -1.123e+05  4.224e+04  -2.660  0.00900 ** \n",
       "Soybeans                 1.978e+04  1.003e+04   1.972  0.05114 .  \n",
       "Corn                     1.508e+03  2.283e+04   0.066  0.94746    \n",
       "IMF_base.metal.index     1.325e+04  6.072e+04   0.218  0.82762    \n",
       "BCI                      9.211e+02  5.719e+02   1.611  0.11020    \n",
       "WTI.crude.Oil           -2.001e+04  3.200e+04  -0.625  0.53318    \n",
       "Wheat                   -5.110e+04  1.823e+04  -2.803  0.00600 ** \n",
       "BSI                     -3.216e+03  5.070e+03  -0.634  0.52720    \n",
       "Seasonindex              7.903e+04  9.080e+06   0.009  0.99307    \n",
       "---\n",
       "Signif. codes:  0 '***' 0.001 '**' 0.01 '*' 0.05 '.' 0.1 ' ' 1\n",
       "\n",
       "Residual standard error: 3451000 on 108 degrees of freedom\n",
       "Multiple R-squared:  0.8414,\tAdjusted R-squared:  0.818 \n",
       "F-statistic: 35.82 on 16 and 108 DF,  p-value: < 2.2e-16\n"
      ]
     },
     "metadata": {},
     "output_type": "display_data"
    }
   ],
   "source": [
    "mlr.handysize <- lm(Handysize~., handysize)\n",
    "summary(mlr.handysize)"
   ]
  },
  {
   "cell_type": "code",
   "execution_count": 10,
   "metadata": {},
   "outputs": [
    {
     "name": "stdout",
     "output_type": "stream",
     "text": [
      "x[125,16] with colnames CN_metal.production Australian.thermal.coal Rock.Phosphat...\n",
      "y[125,1] with colname handysize$Handysize, and values 2.949e+07, 3.244e+07, 3.275e+...\n",
      "Forward pass: minspan 6 endspan 11   x[125,16] 15.6 kB   bx[125,33] 32.2 kB\n",
      "\n",
      "         GRSq    RSq     DeltaRSq Pred     PredName         Cut  Terms   Par Deg\n",
      "1      0.0000 0.0000                    (Intercept)\n",
      "2      0.5499 0.5785       0.5785    1 CN_metal.pro        9125  2   3         1 \n",
      "4      0.6920 0.7304        0.152   13 WTI.crude.Oi       66.32  4   5         1 \n",
      "6      0.7194 0.7711      0.04067    4          BPI        1816  6   7         1 \n",
      "8      0.7961 0.8453      0.07423    2 Australian.t      111.56  8   9         1 \n",
      "10     0.8402 0.8876      0.04227    6       PPI_CN       96.52  10  11        1 \n",
      "12     0.8569 0.9069      0.01932    8     Iron.Ore      169.36  12  13        1 \n",
      "14     0.8634 0.9181      0.01119   11 IMF_base.met      199.01  14  15        1 \n",
      "16     0.8616 0.9238     0.005729    3 Rock.Phospha          80  16  17        1 \n",
      "18     0.8605 0.9298     0.005926   16  Seasonindex     0.98139  18  19        1 \n",
      "20     0.8551 0.9335     0.003776    9     Soybeans      551.32  20  21        1 \n",
      "22     0.8480 0.9335            0    -                                       reject (no DeltaRsq)\n",
      "\n",
      "RSq changed by less than 0.001 at 21 terms (DeltaRSq 0)\n",
      "After forward pass GRSq 0.848 RSq 0.934\n",
      "Forward pass complete: 21 terms\n",
      "Prune backward penalty 2 nprune null: selected 15 of 21 terms, and 10 of 16 preds\n",
      "After pruning pass GRSq 0.874 RSq 0.924\n",
      "x[125,16] with colnames CN_metal.production Australian.thermal.coal Rock.Phosphat...\n",
      "y[125,1] with colname handysize$Handysize, and values 2.949e+07, 3.244e+07, 3.275e+...\n",
      "Forward pass: minspan 6 endspan 11   x[125,16] 15.6 kB   bx[125,33] 32.2 kB\n",
      "\n",
      "         GRSq    RSq     DeltaRSq Pred     PredName         Cut  Terms   Par Deg\n",
      "1      0.0000 0.0000                    (Intercept)\n",
      "2      0.5423 0.5785       0.5785    1 CN_metal.pro        9125  2   3         1 \n",
      "4      0.6810 0.7304        0.152   13 WTI.crude.Oi       66.32  4   5         1 \n",
      "6      0.7553 0.8109      0.08053    8     Iron.Ore      120.24  6   7     3   2 \n",
      "8      0.8086 0.8653      0.05439    4          BPI        1816  8   9         1 \n",
      "10     0.8293 0.8912      0.02585    2 Australian.t      111.56  10  11        1 \n",
      "12     0.8686 0.9245      0.03328    6       PPI_CN       98.06  12  13    3   2 \n",
      "14     0.8665 0.9312     0.006771   10         Corn      189.42  14  15    9   2 \n",
      "16     0.8690 0.9399     0.008653   13 WTI.crude.Oi       49.89  16  17    9   2 \n",
      "18     0.8661 0.9457     0.005775   13 WTI.crude.Oi       70.48  18  19    3   2 \n",
      "20     0.8580 0.9494     0.003772    6       PPI_CN       100.9  20  21    9   2 \n",
      "22     0.8490 0.9532     0.003809   12          BCI      1859.5  22  23   11   2 \n",
      "24     0.8358 0.9562     0.002998    7       PPI_US       121.7  24  25    3   2 \n",
      "26     0.8223 0.9598     0.003513    5          BHI         503  26  27    3   2 \n",
      "28     0.8211 0.9629     0.003102    2 Australian.t      117.34  28            1 \n",
      "30     0.7995 0.9654      0.00256    7       PPI_US       122.7  29  30    9   2 \n",
      "32     0.7648 0.9669     0.001504   16  Seasonindex     0.98139  31  32    9   2 final (reached nk 33)\n",
      "\n",
      "Reached nk 33\n",
      "After forward pass GRSq 0.765 RSq 0.967\n",
      "Forward pass complete: 33 terms, 32 terms used\n",
      "Prune backward penalty 3 nprune null: selected 17 of 32 terms, and 10 of 16 preds\n",
      "After pruning pass GRSq 0.901 RSq 0.954\n",
      "x[125,16] with colnames CN_metal.production Australian.thermal.coal Rock.Phosphat...\n",
      "y[125,1] with colname handysize$Handysize, and values 2.949e+07, 3.244e+07, 3.275e+...\n",
      "Forward pass: minspan 6 endspan 11   x[125,16] 15.6 kB   bx[125,33] 32.2 kB\n",
      "\n",
      "         GRSq    RSq     DeltaRSq Pred     PredName         Cut  Terms   Par Deg\n",
      "1      0.0000 0.0000                    (Intercept)\n",
      "2      0.5423 0.5785       0.5785    1 CN_metal.pro        9125  2   3         1 \n",
      "4      0.6810 0.7304        0.152   13 WTI.crude.Oi       66.32  4   5         1 \n",
      "6      0.7553 0.8109      0.08053    8     Iron.Ore      120.24  6   7     3   2 \n",
      "8      0.8086 0.8653      0.05439    4          BPI        1816  8   9         1 \n",
      "10     0.8293 0.8912      0.02585    2 Australian.t      111.56  10  11        1 \n",
      "12     0.8700 0.9253      0.03413    6       PPI_CN        99.7  12  13    7   3 \n",
      "14     0.8798 0.9381      0.01277    6       PPI_CN        98.8  14  15        1 \n",
      "16     0.8771 0.9436     0.005504    4          BPI         926  16  17    7   3 \n",
      "18     0.8776 0.9471     0.003536    7       PPI_US       112.8< 18        8   2 \n",
      "20     0.8694 0.9503     0.003146    7       PPI_US         121  19  20    4   2 \n",
      "22     0.8665 0.9556     0.005336    2 Australian.t       83.73  21  22    4   2 \n",
      "24     0.8592 0.9595       0.0039   13 WTI.crude.Oi       62.16  23  24   11   2 \n",
      "26     0.8465 0.9622      0.00272   15          BSI        1354  25  26        1 \n",
      "28     0.8459 0.9651     0.002867    6       PPI_CN       94.06< 27       20   3 \n",
      "30     0.8258 0.9670     0.001861    5          BHI         441  28  29    3   2 \n",
      "32     0.7993 0.9687     0.001694   11 IMF_base.met      128.72  30  31   14   2 final (reached nk 33)\n",
      "\n",
      "Reached nk 33\n",
      "After forward pass GRSq 0.799 RSq 0.969\n",
      "Forward pass complete: 33 terms, 31 terms used\n",
      "Prune backward penalty 3 nprune null: selected 19 of 31 terms, and 8 of 16 preds\n",
      "After pruning pass GRSq 0.905 RSq 0.961\n",
      "x[125,16] with colnames CN_metal.production Australian.thermal.coal Rock.Phosphat...\n",
      "y[125,1] with colname handysize$Handysize, and values 2.949e+07, 3.244e+07, 3.275e+...\n",
      "Forward pass: minspan 6 endspan 11   x[125,16] 15.6 kB   bx[125,33] 32.2 kB\n",
      "\n",
      "         GRSq    RSq     DeltaRSq Pred     PredName         Cut  Terms   Par Deg\n",
      "1      0.0000 0.0000                    (Intercept)\n",
      "2      0.5423 0.5785       0.5785    1 CN_metal.pro        9125  2   3         1 \n",
      "4      0.6810 0.7304        0.152   13 WTI.crude.Oi       66.32  4   5         1 \n",
      "6      0.7553 0.8109      0.08053    8     Iron.Ore      120.24  6   7     3   2 \n",
      "8      0.8086 0.8653      0.05439    4          BPI        1816  8   9         1 \n",
      "10     0.8293 0.8912      0.02585    2 Australian.t      111.56  10  11        1 \n",
      "12     0.8700 0.9253      0.03413    6       PPI_CN        99.7  12  13    7   3 \n",
      "14     0.8798 0.9381      0.01277    6       PPI_CN        98.8  14  15        1 \n",
      "16     0.8771 0.9436     0.005504    4          BPI         926  16  17    7   3 \n",
      "18     0.8776 0.9471     0.003536    7       PPI_US       112.8< 18        8   2 \n",
      "20     0.8694 0.9503     0.003146    7       PPI_US         121  19  20    4   2 \n",
      "22     0.8665 0.9556     0.005336    2 Australian.t       83.73  21  22    4   2 \n",
      "24     0.8592 0.9595       0.0039   13 WTI.crude.Oi       62.16  23  24   11   2 \n",
      "26     0.8465 0.9622      0.00272   15          BSI        1354  25  26        1 \n",
      "28     0.8459 0.9651     0.002867    6       PPI_CN       94.06< 27       20   3 \n",
      "30     0.8258 0.9670     0.001861    5          BHI         441  28  29    3   2 \n",
      "32     0.8225 0.9694     0.002421    3 Rock.Phospha       70.75< 30       17   4 final (reached nk 33)\n",
      "\n",
      "Reached nk 33\n",
      "After forward pass GRSq 0.823 RSq 0.969\n",
      "Forward pass complete: 33 terms, 30 terms used\n",
      "Prune backward penalty 3 nprune null: selected 19 of 30 terms, and 8 of 16 preds\n",
      "After pruning pass GRSq 0.904 RSq 0.961\n",
      "x[125,16] with colnames CN_metal.production Australian.thermal.coal Rock.Phosphat...\n",
      "y[125,1] with colname handysize$Handysize, and values 2.949e+07, 3.244e+07, 3.275e+...\n",
      "Forward pass: minspan 6 endspan 11   x[125,16] 15.6 kB   bx[125,33] 32.2 kB\n",
      "\n",
      "         GRSq    RSq     DeltaRSq Pred     PredName         Cut  Terms   Par Deg\n",
      "1      0.0000 0.0000                    (Intercept)\n",
      "2      0.5423 0.5785       0.5785    1 CN_metal.pro        9125  2   3         1 \n",
      "4      0.6810 0.7304        0.152   13 WTI.crude.Oi       66.32  4   5         1 \n",
      "6      0.7553 0.8109      0.08053    8     Iron.Ore      120.24  6   7     3   2 \n",
      "8      0.8086 0.8653      0.05439    4          BPI        1816  8   9         1 \n",
      "10     0.8293 0.8912      0.02585    2 Australian.t      111.56  10  11        1 \n",
      "12     0.8700 0.9253      0.03413    6       PPI_CN        99.7  12  13    7   3 \n",
      "14     0.8798 0.9381      0.01277    6       PPI_CN        98.8  14  15        1 \n",
      "16     0.8771 0.9436     0.005504    4          BPI         926  16  17    7   3 \n",
      "18     0.8776 0.9471     0.003536    7       PPI_US       112.8< 18        8   2 \n",
      "20     0.8694 0.9503     0.003146    7       PPI_US         121  19  20    4   2 \n",
      "22     0.8665 0.9556     0.005336    2 Australian.t       83.73  21  22    4   2 \n",
      "24     0.8592 0.9595       0.0039   13 WTI.crude.Oi       62.16  23  24   11   2 \n",
      "26     0.8465 0.9622      0.00272   15          BSI        1354  25  26        1 \n",
      "28     0.8459 0.9651     0.002867    6       PPI_CN       94.06< 27       20   3 \n",
      "30     0.8258 0.9670     0.001861    5          BHI         441  28  29    3   2 \n",
      "32     0.8225 0.9694     0.002421    3 Rock.Phospha       70.75< 30       17   4 final (reached nk 33)\n",
      "\n",
      "Reached nk 33\n",
      "After forward pass GRSq 0.823 RSq 0.969\n",
      "Forward pass complete: 33 terms, 30 terms used\n",
      "Prune backward penalty 3 nprune null: selected 19 of 30 terms, and 8 of 16 preds\n",
      "After pruning pass GRSq 0.904 RSq 0.961\n",
      "\n",
      "\n",
      "\n",
      "The best degree: 3"
     ]
    }
   ],
   "source": [
    "# select the optimal degree of MARS\n",
    "min_mape <- 1\n",
    "mape <- 0\n",
    "\n",
    "for(i in 1:5) \n",
    "    {\n",
    "     mars.handysize<-earth(handysize$Handysize~., degree = i, trace=2, data=handysize)\n",
    "     mape=mean(abs((handysize$Handysize - mars.handysize$fitted.values))/handysize$Handysize)\n",
    "  \n",
    "     if(mape<min_mape)\n",
    "         {\n",
    "          min_mape=mape\n",
    "          best_i=i\n",
    "         }\n",
    "    }\n",
    "cat(\"\\n\\n\\nThe best degree:\",best_i)"
   ]
  },
  {
   "cell_type": "code",
   "execution_count": 11,
   "metadata": {},
   "outputs": [
    {
     "name": "stdout",
     "output_type": "stream",
     "text": [
      "x[125,16] with colnames CN_metal.production Australian.thermal.coal Rock.Phosphat...\n",
      "y[125,1] with colname handysize$Handysize, and values 2.949e+07, 3.244e+07, 3.275e+...\n",
      "Forward pass: minspan 6 endspan 11   x[125,16] 15.6 kB   bx[125,33] 32.2 kB\n",
      "\n",
      "         GRSq    RSq     DeltaRSq Pred     PredName         Cut  Terms   Par Deg\n",
      "1      0.0000 0.0000                    (Intercept)\n",
      "2      0.5423 0.5785       0.5785    1 CN_metal.pro        9125  2   3         1 \n",
      "4      0.6810 0.7304        0.152   13 WTI.crude.Oi       66.32  4   5         1 \n",
      "6      0.7553 0.8109      0.08053    8     Iron.Ore      120.24  6   7     3   2 \n",
      "8      0.8086 0.8653      0.05439    4          BPI        1816  8   9         1 \n",
      "10     0.8293 0.8912      0.02585    2 Australian.t      111.56  10  11        1 \n",
      "12     0.8700 0.9253      0.03413    6       PPI_CN        99.7  12  13    7   3 \n",
      "14     0.8798 0.9381      0.01277    6       PPI_CN        98.8  14  15        1 \n",
      "16     0.8771 0.9436     0.005504    4          BPI         926  16  17    7   3 \n",
      "18     0.8776 0.9471     0.003536    7       PPI_US       112.8< 18        8   2 \n",
      "20     0.8694 0.9503     0.003146    7       PPI_US         121  19  20    4   2 \n",
      "22     0.8665 0.9556     0.005336    2 Australian.t       83.73  21  22    4   2 \n",
      "24     0.8592 0.9595       0.0039   13 WTI.crude.Oi       62.16  23  24   11   2 \n",
      "26     0.8465 0.9622      0.00272   15          BSI        1354  25  26        1 \n",
      "28     0.8459 0.9651     0.002867    6       PPI_CN       94.06< 27       20   3 \n",
      "30     0.8258 0.9670     0.001861    5          BHI         441  28  29    3   2 \n",
      "32     0.7993 0.9687     0.001694   11 IMF_base.met      128.72  30  31   14   2 final (reached nk 33)\n",
      "\n",
      "Reached nk 33\n",
      "After forward pass GRSq 0.799 RSq 0.969\n",
      "Forward pass complete: 33 terms, 31 terms used\n",
      "Prune backward penalty 3 nprune null: selected 19 of 31 terms, and 8 of 16 preds\n",
      "After pruning pass GRSq 0.905 RSq 0.961\n",
      "-----------------------------------summary-----------------------------------\n"
     ]
    },
    {
     "data": {
      "text/plain": [
       "Call: earth(formula=handysize$Handysize~., data=handysize, trace=2, degree=3)\n",
       "\n",
       "                                                                  coefficients\n",
       "(Intercept)                                                           63305057\n",
       "h(9125-CN_metal.production)                                              -4812\n",
       "h(CN_metal.production-9125)                                              11982\n",
       "h(111.56-Australian.thermal.coal)                                      -147859\n",
       "h(98.8-PPI_CN)                                                        -1014522\n",
       "h(PPI_CN-98.8)                                                         -335212\n",
       "h(WTI.crude.Oil-66.32)                                                  629272\n",
       "h(BPI-1816) * PPI_US                                                        93\n",
       "h(9125-CN_metal.production) * h(Iron.Ore-120.24)                           -49\n",
       "h(83.73-Australian.thermal.coal) * h(WTI.crude.Oil-66.32)                28774\n",
       "h(Australian.thermal.coal-83.73) * h(WTI.crude.Oil-66.32)               -20830\n",
       "h(111.56-Australian.thermal.coal) * h(WTI.crude.Oil-62.16)              -16606\n",
       "h(111.56-Australian.thermal.coal) * h(62.16-WTI.crude.Oil)               -4334\n",
       "h(PPI_CN-98.8) * h(128.723-IMF_base.metal.index)                        -29116\n",
       "h(121-PPI_US) * h(WTI.crude.Oil-66.32)                                   54459\n",
       "h(PPI_US-121) * h(WTI.crude.Oil-66.32)                                -1350230\n",
       "PPI_CN * h(PPI_US-121) * h(WTI.crude.Oil-66.32)                          12915\n",
       "h(9125-CN_metal.production) * h(BPI-926) * h(120.24-Iron.Ore)                0\n",
       "h(9125-CN_metal.production) * h(99.7-PPI_CN) * h(120.24-Iron.Ore)           13\n",
       "\n",
       "Selected 19 of 31 terms, and 8 of 16 predictors\n",
       "Termination condition: Reached nk 33\n",
       "Importance: CN_metal.production, Iron.Ore, Australian.thermal.coal, BPI, ...\n",
       "Number of terms at each degree of interaction: 1 6 9 3\n",
       "GCV 6.296456e+12    RSS 3.143695e+14    GRSq 0.9045525    RSq 0.9612586"
      ]
     },
     "metadata": {},
     "output_type": "display_data"
    },
    {
     "name": "stdout",
     "output_type": "stream",
     "text": [
      "--------------------evimp--------------------\n"
     ]
    },
    {
     "data": {
      "text/plain": [
       "                        nsubsets   gcv    rss\n",
       "CN_metal.production           18 100.0  100.0\n",
       "Iron.Ore                      17  66.7   67.6\n",
       "Australian.thermal.coal       16  62.7   62.6\n",
       "BPI                           15  46.8   47.9\n",
       "PPI_US                        15  46.8   47.9\n",
       "PPI_CN                        14  32.5   35.7\n",
       "WTI.crude.Oil                 13  26.9   30.8\n",
       "IMF_base.metal.index           6  13.3   16.2\n",
       "Rock.Phosphate-unused          0   0.0    0.0\n",
       "BHI-unused                     0   0.0    0.0\n",
       "Soybeans-unused                0   0.0    0.0\n",
       "Corn-unused                    0   0.0    0.0\n",
       "BCI-unused                     0   0.0    0.0\n",
       "Wheat-unused                   0   0.0    0.0\n",
       "BSI-unused                     0   0.0    0.0\n",
       "Seasonindex-unused             0   0.0    0.0"
      ]
     },
     "metadata": {},
     "output_type": "display_data"
    }
   ],
   "source": [
    "# Use the best degree\n",
    "mars.handysize <- earth(handysize$Handysize~., degree =3, trace=2, data=handysize)\n",
    "cat(\"-----------------------------------summary-----------------------------------\\n\")\n",
    "summary(mars.handysize)  ##ROE\n",
    "cat(\"--------------------evimp--------------------\\n\")\n",
    "evimp(mars.handysize, trim=FALSE)"
   ]
  },
  {
   "cell_type": "code",
   "execution_count": 12,
   "metadata": {},
   "outputs": [
    {
     "data": {
      "image/png": "[encoded data removed]",
      "text/plain": [
       "Plot with title \"Selection of k=3,5,7,9,11\""
      ]
     },
     "metadata": {
      "image/png": {
       "height": 420,
       "width": 420
      }
     },
     "output_type": "display_data"
    }
   ],
   "source": [
    "#select the optimal K for KNN\n",
    "err_knn <- 1:5 \n",
    "knn.k <- c(1,3,5,7,9,11)\n",
    "\n",
    "for (i in 1:6)\n",
    "{\n",
    "  knn.handysize <- knn.reg(handysize[,-1], handysize[,-1], handysize[,1], k=2*i-1, algorithm= \"brute\")\n",
    "  err_knn[i]= mean((handysize$Handysize - knn.handysize$pred)^2)\n",
    "}\n",
    "plot(knn.k, err_knn, type=\"l\", xaxt=\"n\", xlab=\"k\", main=\"Selection of k=3,5,7,9,11\")\n",
    "axis(side=1, at=knn.k)"
   ]
  },
  {
   "cell_type": "code",
   "execution_count": 13,
   "metadata": {},
   "outputs": [],
   "source": [
    "# 取k=5\n",
    "knn.handysize <- knn.reg(handysize[,-1], handysize[,-1], handysize[,1], k=5, algorithm= \"brute\")"
   ]
  },
  {
   "cell_type": "code",
   "execution_count": 14,
   "metadata": {},
   "outputs": [
    {
     "data": {
      "text/html": [
       "<table class=\"dataframe\">\n",
       "<caption>A matrix: 3 × 3 of type dbl</caption>\n",
       "<thead>\n",
       "\t<tr><th></th><th scope=col>MLR</th><th scope=col>MARS</th><th scope=col>KNN</th></tr>\n",
       "</thead>\n",
       "<tbody>\n",
       "\t<tr><th scope=row>RMSE</th><td>3.208198e+06</td><td>1.585861e+06</td><td>3.441927e+06</td></tr>\n",
       "\t<tr><th scope=row>MAE</th><td>2.469631e+06</td><td>1.194925e+06</td><td>2.525742e+06</td></tr>\n",
       "\t<tr><th scope=row>MAPE</th><td>5.347246e-02</td><td>2.543850e-02</td><td>5.238378e-02</td></tr>\n",
       "</tbody>\n",
       "</table>\n"
      ],
      "text/latex": [
       "A matrix: 3 × 3 of type dbl\n",
       "\\begin{tabular}{r|lll}\n",
       "  & MLR & MARS & KNN\\\\\n",
       "\\hline\n",
       "\tRMSE & 3.208198e+06 & 1.585861e+06 & 3.441927e+06\\\\\n",
       "\tMAE & 2.469631e+06 & 1.194925e+06 & 2.525742e+06\\\\\n",
       "\tMAPE & 5.347246e-02 & 2.543850e-02 & 5.238378e-02\\\\\n",
       "\\end{tabular}\n"
      ],
      "text/markdown": [
       "\n",
       "A matrix: 3 × 3 of type dbl\n",
       "\n",
       "| <!--/--> | MLR | MARS | KNN |\n",
       "|---|---|---|---|\n",
       "| RMSE | 3.208198e+06 | 1.585861e+06 | 3.441927e+06 |\n",
       "| MAE | 2.469631e+06 | 1.194925e+06 | 2.525742e+06 |\n",
       "| MAPE | 5.347246e-02 | 2.543850e-02 | 5.238378e-02 |\n",
       "\n"
      ],
      "text/plain": [
       "     MLR          MARS         KNN         \n",
       "RMSE 3.208198e+06 1.585861e+06 3.441927e+06\n",
       "MAE  2.469631e+06 1.194925e+06 2.525742e+06\n",
       "MAPE 5.347246e-02 2.543850e-02 5.238378e-02"
      ]
     },
     "metadata": {},
     "output_type": "display_data"
    }
   ],
   "source": [
    "table2 = array(0, c(3,3))\n",
    "rownames(table2) <- c(\"RMSE\",\"MAE\",\"MAPE\")\n",
    "colnames(table2) <- c(\"MLR\",\"MARS\",\"KNN\")\n",
    "\n",
    "table2[1,1] <- sqrt(mean((handysize$Handysize - mlr.handysize$fitted.values)^2))\n",
    "table2[2,1] <- mean(abs(handysize$Handysize - mlr.handysize$fitted.values))\n",
    "table2[3,1] <- mean(abs((handysize$Handysize - mlr.handysize$fitted.values)/handysize$Handysize))\n",
    "\n",
    "table2[1,2] <- sqrt(mean((handysize$Handysize - mars.handysize$fitted.values)^2))\n",
    "table2[2,2] <- mean(abs(handysize$Handysize - mars.handysize$fitted.values))\n",
    "table2[3,2] <- mean(abs((handysize$Handysize - mars.handysize$fitted.values)/handysize$Handysize))\n",
    "\n",
    "table2[1,3] <- sqrt(mean((handysize$Handysize - knn.handysize$pred)^2))\n",
    "table2[2,3] <- mean(abs(handysize$Handysize - knn.handysize$pred))\n",
    "table2[3,3] <- mean(abs((handysize$Handysize - knn.handysize$pred)/handysize$Handysize))\n",
    "\n",
    "table2"
   ]
  },
  {
   "cell_type": "code",
   "execution_count": 15,
   "metadata": {},
   "outputs": [
    {
     "data": {
      "image/png": "[encoded data removed]",
      "text/plain": [
       "Plot with title \"Simple Regressor\""
      ]
     },
     "metadata": {
      "image/png": {
       "height": 420,
       "width": 420
      }
     },
     "output_type": "display_data"
    }
   ],
   "source": [
    "# 視覺化\n",
    "plot(handysize[,1], type='l', col=1, lwd=2, ylab=\"handysize\", xlab=\"date\", main=\"Simple Regressor\")\n",
    "lines(mlr.handysize$fitted.values, col=2, lwd=2)\n",
    "lines(mars.handysize$fitted.values, col=3, lwd=2)\n",
    "lines(knn.handysize$pred, col=4, lwd=2)\n",
    "legend(\"topleft\", c(\"Raw data\",\"MLR\",\"MARS\",\"KNN\"), fill=1:4)"
   ]
  }
 ],
 "metadata": {
  "kernelspec": {
   "display_name": "R",
   "language": "R",
   "name": "ir"
  },
  "language_info": {
   "codemirror_mode": "r",
   "file_extension": ".r",
   "mimetype": "text/x-r-source",
   "name": "R",
   "pygments_lexer": "r",
   "version": "4.1.2"
  }
 },
 "nbformat": 4,
 "nbformat_minor": 4
}
