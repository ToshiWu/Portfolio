{
 "cells": [
  {
   "cell_type": "code",
   "execution_count": 1,
   "metadata": {},
   "outputs": [
    {
     "name": "stderr",
     "output_type": "stream",
     "text": [
      "\n",
      "載入套件：'arules'\n",
      "\n",
      "\n",
      "下列物件被遮斷自 'package:base':\n",
      "\n",
      "    abbreviate, write\n",
      "\n",
      "\n"
     ]
    }
   ],
   "source": [
    "library(Matrix)\n",
    "library(arules) # 關聯規則"
   ]
  },
  {
   "cell_type": "markdown",
   "metadata": {},
   "source": [
    "# 鐵達尼號資料集"
   ]
  },
  {
   "cell_type": "code",
   "execution_count": 2,
   "metadata": {},
   "outputs": [
    {
     "name": "stdout",
     "output_type": "stream",
     "text": [
      "'data.frame':\t32 obs. of  5 variables:\n",
      " $ Class   : Factor w/ 4 levels \"1st\",\"2nd\",\"3rd\",..: 1 2 3 4 1 2 3 4 1 2 ...\n",
      " $ Sex     : Factor w/ 2 levels \"Male\",\"Female\": 1 1 1 1 2 2 2 2 1 1 ...\n",
      " $ Age     : Factor w/ 2 levels \"Child\",\"Adult\": 1 1 1 1 1 1 1 1 2 2 ...\n",
      " $ Survived: Factor w/ 2 levels \"No\",\"Yes\": 1 1 1 1 1 1 1 1 1 1 ...\n",
      " $ Freq    : num  0 0 35 0 0 0 17 0 118 154 ...\n"
     ]
    }
   ],
   "source": [
    "data(\"Titanic\")\n",
    "df <-as.data.frame(Titanic)\n",
    "str(df)"
   ]
  },
  {
   "cell_type": "code",
   "execution_count": 3,
   "metadata": {},
   "outputs": [
    {
     "name": "stdout",
     "output_type": "stream",
     "text": [
      "'data.frame':\t2201 obs. of  4 variables:\n",
      " $ Class   : Factor w/ 4 levels \"1st\",\"2nd\",\"3rd\",..: 3 3 3 3 3 3 3 3 3 3 ...\n",
      " $ Sex     : Factor w/ 2 levels \"Female\",\"Male\": 2 2 2 2 2 2 2 2 2 2 ...\n",
      " $ Age     : Factor w/ 2 levels \"Adult\",\"Child\": 2 2 2 2 2 2 2 2 2 2 ...\n",
      " $ Survived: Factor w/ 2 levels \"No\",\"Yes\": 1 1 1 1 1 1 1 1 1 1 ...\n"
     ]
    }
   ],
   "source": [
    "titanic<-NULL\n",
    "for (i in 1:4) titanic <- cbind(titanic, rep(as.character(df[, i]), df$Freq))\n",
    "titanic<-as.data.frame(titanic)\n",
    "names(titanic)<-names(df) [1:4]\n",
    "\n",
    "for (i in 1:4) titanic[, i] <- as.factor(titanic[, i]) # 將資料chr轉成 factor\n",
    "\n",
    "str(titanic)"
   ]
  },
  {
   "cell_type": "code",
   "execution_count": 4,
   "metadata": {
    "tags": []
   },
   "outputs": [
    {
     "name": "stdout",
     "output_type": "stream",
     "text": [
      "Apriori\n",
      "\n",
      "Parameter specification:\n",
      " confidence minval smax arem  aval originalSupport maxtime support minlen\n",
      "        0.8    0.1    1 none FALSE            TRUE       5   0.005      2\n",
      " maxlen target  ext\n",
      "     10  rules TRUE\n",
      "\n",
      "Algorithmic control:\n",
      " filter tree heap memopt load sort verbose\n",
      "    0.1 TRUE TRUE  FALSE TRUE    2    TRUE\n",
      "\n",
      "Absolute minimum support count: 11 \n",
      "\n",
      "set item appearances ...[2 item(s)] done [0.00s].\n",
      "set transactions ...[10 item(s), 2201 transaction(s)] done [0.00s].\n",
      "sorting and recoding items ... [10 item(s)] done [0.00s].\n",
      "creating transaction tree ... done [0.00s].\n",
      "checking subsets of size 1 2 3 4 done [0.00s].\n",
      "writing ... [12 rule(s)] done [0.00s].\n",
      "creating S4 object  ... done [0.00s].\n",
      "     lhs                                    rhs            support    \n",
      "[1]  {Class=2nd, Age=Child}              => {Survived=Yes} 0.010904134\n",
      "[2]  {Class=2nd, Sex=Female, Age=Child}  => {Survived=Yes} 0.005906406\n",
      "[3]  {Class=1st, Sex=Female}             => {Survived=Yes} 0.064061790\n",
      "[4]  {Class=1st, Sex=Female, Age=Adult}  => {Survived=Yes} 0.063607451\n",
      "[5]  {Class=2nd, Sex=Female}             => {Survived=Yes} 0.042253521\n",
      "[6]  {Class=Crew, Sex=Female}            => {Survived=Yes} 0.009086779\n",
      "[7]  {Class=Crew, Sex=Female, Age=Adult} => {Survived=Yes} 0.009086779\n",
      "[8]  {Class=2nd, Sex=Female, Age=Adult}  => {Survived=Yes} 0.036347115\n",
      "[9]  {Class=2nd, Sex=Male, Age=Adult}    => {Survived=No}  0.069968196\n",
      "[10] {Class=2nd, Sex=Male}               => {Survived=No}  0.069968196\n",
      "[11] {Class=3rd, Sex=Male, Age=Adult}    => {Survived=No}  0.175829169\n",
      "[12] {Class=3rd, Sex=Male}               => {Survived=No}  0.191731031\n",
      "     confidence coverage    lift     count\n",
      "[1]  1.0000000  0.010904134 3.095640  24  \n",
      "[2]  1.0000000  0.005906406 3.095640  13  \n",
      "[3]  0.9724138  0.065879146 3.010243 141  \n",
      "[4]  0.9722222  0.065424807 3.009650 140  \n",
      "[5]  0.8773585  0.048159927 2.715986  93  \n",
      "[6]  0.8695652  0.010449796 2.691861  20  \n",
      "[7]  0.8695652  0.010449796 2.691861  20  \n",
      "[8]  0.8602151  0.042253521 2.662916  80  \n",
      "[9]  0.9166667  0.076328941 1.354083 154  \n",
      "[10] 0.8603352  0.081326670 1.270871 154  \n",
      "[11] 0.8376623  0.209904589 1.237379 387  \n",
      "[12] 0.8274510  0.231712858 1.222295 422  \n"
     ]
    }
   ],
   "source": [
    "# 存活與沒存活的關聯規則\n",
    "rule0 <- apriori(titanic, parameter=list(minlen=2, supp=.005, conf=0.8), appearance=list(rhs=c(\"Survived=No\", \"Survived=Yes\"), default=\"lhs\"))\n",
    "sorted0 <- sort(rule0, by=\"lift\")\n",
    "inspect(sorted0)"
   ]
  },
  {
   "cell_type": "code",
   "execution_count": 5,
   "metadata": {},
   "outputs": [
    {
     "name": "stdout",
     "output_type": "stream",
     "text": [
      "Apriori\n",
      "\n",
      "Parameter specification:\n",
      " confidence minval smax arem  aval originalSupport maxtime support minlen\n",
      "        0.8    0.1    1 none FALSE            TRUE       5   0.005      3\n",
      " maxlen target  ext\n",
      "     10  rules TRUE\n",
      "\n",
      "Algorithmic control:\n",
      " filter tree heap memopt load sort verbose\n",
      "    0.1 TRUE TRUE  FALSE TRUE    2    TRUE\n",
      "\n",
      "Absolute minimum support count: 11 \n",
      "\n",
      "set item appearances ...[1 item(s)] done [0.00s].\n",
      "set transactions ...[10 item(s), 2201 transaction(s)] done [0.00s].\n",
      "sorting and recoding items ... [10 item(s)] done [0.00s].\n",
      "creating transaction tree ... done [0.00s].\n",
      "checking subsets of size 1 2 3 4 done [0.00s].\n",
      "writing ... [8 rule(s)] done [0.00s].\n",
      "creating S4 object  ... done [0.00s].\n",
      "    lhs                                    rhs            support    \n",
      "[1] {Class=2nd, Age=Child}              => {Survived=Yes} 0.010904134\n",
      "[2] {Class=2nd, Sex=Female, Age=Child}  => {Survived=Yes} 0.005906406\n",
      "[3] {Class=1st, Sex=Female}             => {Survived=Yes} 0.064061790\n",
      "[4] {Class=1st, Sex=Female, Age=Adult}  => {Survived=Yes} 0.063607451\n",
      "[5] {Class=2nd, Sex=Female}             => {Survived=Yes} 0.042253521\n",
      "[6] {Class=Crew, Sex=Female}            => {Survived=Yes} 0.009086779\n",
      "[7] {Class=Crew, Sex=Female, Age=Adult} => {Survived=Yes} 0.009086779\n",
      "[8] {Class=2nd, Sex=Female, Age=Adult}  => {Survived=Yes} 0.036347115\n",
      "    confidence coverage    lift     count\n",
      "[1] 1.0000000  0.010904134 3.095640  24  \n",
      "[2] 1.0000000  0.005906406 3.095640  13  \n",
      "[3] 0.9724138  0.065879146 3.010243 141  \n",
      "[4] 0.9722222  0.065424807 3.009650 140  \n",
      "[5] 0.8773585  0.048159927 2.715986  93  \n",
      "[6] 0.8695652  0.010449796 2.691861  20  \n",
      "[7] 0.8695652  0.010449796 2.691861  20  \n",
      "[8] 0.8602151  0.042253521 2.662916  80  \n"
     ]
    }
   ],
   "source": [
    "# 存活的關聯規則\n",
    "rule1 <- apriori(titanic, parameter=list(minlen=3, supp=.005, conf=0.8), appearance=list(rhs=c(\"Survived=Yes\"), default=\"lhs\"))\n",
    "sorted1 <- sort(rule1, by=\"confidence\")\n",
    "inspect(sorted1)"
   ]
  },
  {
   "cell_type": "code",
   "execution_count": 6,
   "metadata": {},
   "outputs": [
    {
     "name": "stdout",
     "output_type": "stream",
     "text": [
      "Apriori\n",
      "\n",
      "Parameter specification:\n",
      " confidence minval smax arem  aval originalSupport maxtime support minlen\n",
      "        0.8    0.1    1 none FALSE            TRUE       5   0.005      3\n",
      " maxlen target  ext\n",
      "     10  rules TRUE\n",
      "\n",
      "Algorithmic control:\n",
      " filter tree heap memopt load sort verbose\n",
      "    0.1 TRUE TRUE  FALSE TRUE    2    TRUE\n",
      "\n",
      "Absolute minimum support count: 11 \n",
      "\n",
      "set item appearances ...[1 item(s)] done [0.00s].\n",
      "set transactions ...[10 item(s), 2201 transaction(s)] done [0.00s].\n",
      "sorting and recoding items ... [10 item(s)] done [0.00s].\n",
      "creating transaction tree ... done [0.00s].\n",
      "checking subsets of size 1 2 3 4 done [0.00s].\n",
      "writing ... [4 rule(s)] done [0.00s].\n",
      "creating S4 object  ... done [0.00s].\n",
      "    lhs                                 rhs           support   confidence\n",
      "[1] {Class=2nd, Sex=Male, Age=Adult} => {Survived=No} 0.0699682 0.9166667 \n",
      "[2] {Class=2nd, Sex=Male}            => {Survived=No} 0.0699682 0.8603352 \n",
      "[3] {Class=3rd, Sex=Male, Age=Adult} => {Survived=No} 0.1758292 0.8376623 \n",
      "[4] {Class=3rd, Sex=Male}            => {Survived=No} 0.1917310 0.8274510 \n",
      "    coverage   lift     count\n",
      "[1] 0.07632894 1.354083 154  \n",
      "[2] 0.08132667 1.270871 154  \n",
      "[3] 0.20990459 1.237379 387  \n",
      "[4] 0.23171286 1.222295 422  \n"
     ]
    }
   ],
   "source": [
    "# 沒存活的關聯規則\n",
    "rule2 <- apriori(titanic, parameter=list(minlen=3, supp=.005, conf=0.8), appearance=list(rhs=c(\"Survived=No\"), default=\"lhs\"))\n",
    "sorted2 <- sort(rule2, by=\"confidence\")\n",
    "inspect(sorted2)"
   ]
  }
 ],
 "metadata": {
  "kernelspec": {
   "display_name": "R",
   "language": "R",
   "name": "ir"
  },
  "language_info": {
   "codemirror_mode": "r",
   "file_extension": ".r",
   "mimetype": "text/x-r-source",
   "name": "R",
   "pygments_lexer": "r",
   "version": "4.1.2"
  }
 },
 "nbformat": 4,
 "nbformat_minor": 4
}
