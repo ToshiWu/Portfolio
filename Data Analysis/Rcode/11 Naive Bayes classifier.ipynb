{
 "cells": [
  {
   "cell_type": "markdown",
   "metadata": {},
   "source": [
    "# 樸素貝式分類器 (Naive Bayes classifier)"
   ]
  },
  {
   "cell_type": "code",
   "execution_count": 1,
   "metadata": {},
   "outputs": [],
   "source": [
    "library(MASS)\n",
    "library(klaR)"
   ]
  },
  {
   "cell_type": "markdown",
   "metadata": {},
   "source": [
    "# Iris 資料集"
   ]
  },
  {
   "cell_type": "code",
   "execution_count": 2,
   "metadata": {},
   "outputs": [
    {
     "data": {
      "text/plain": [
       "            Actual\n",
       "Prediction   setosa versicolor virginica\n",
       "  setosa         15          0         0\n",
       "  versicolor      0         14         2\n",
       "  virginica       0          1        13"
      ]
     },
     "metadata": {},
     "output_type": "display_data"
    },
    {
     "name": "stdout",
     "output_type": "stream",
     "text": [
      "\n",
      "  Accuracy: 93.33333 %"
     ]
    }
   ],
   "source": [
    "data(iris)\n",
    "index <- c(sample(1:50,35), sample(51:100,35), sample(101:150,35))\n",
    "training <- iris[index,]\n",
    "testing <- iris[-index,]\n",
    "\n",
    "fit_bayes <- NaiveBayes(Species ~ ., data=training)\n",
    "pre_bayes <- predict(fit_bayes, testing)\n",
    "table(pre_bayes$class, testing$Species, dnn=c(\"Prediction\",\"Actual\"))\n",
    "cat(\"\\n  Accuracy:\",\n",
    "    sum(as.numeric(pre_bayes$class == testing$Species)) / nrow(testing)*100,\"%\")"
   ]
  },
  {
   "cell_type": "code",
   "execution_count": 3,
   "metadata": {},
   "outputs": [
    {
     "data": {
      "text/plain": [
       "grouping\n",
       "    setosa versicolor  virginica \n",
       " 0.3333333  0.3333333  0.3333333 "
      ]
     },
     "metadata": {},
     "output_type": "display_data"
    },
    {
     "name": "stdout",
     "output_type": "stream",
     "text": [
      "$Sepal.Length\n",
      "               [,1]      [,2]\n",
      "setosa     5.014286 0.3264271\n",
      "versicolor 5.902857 0.5601920\n",
      "virginica  6.645714 0.5937631\n",
      "\n",
      "$Sepal.Width\n",
      "               [,1]      [,2]\n",
      "setosa     3.474286 0.3509172\n",
      "versicolor 2.802857 0.3129421\n",
      "virginica  3.045714 0.2953989\n",
      "\n",
      "$Petal.Length\n",
      "               [,1]      [,2]\n",
      "setosa     1.457143 0.1786974\n",
      "versicolor 4.211429 0.4837181\n",
      "virginica  5.594286 0.5246527\n",
      "\n",
      "$Petal.Width\n",
      "                [,1]      [,2]\n",
      "setosa     0.2542857 0.1171797\n",
      "versicolor 1.3285714 0.1856173\n",
      "virginica  2.0514286 0.2715656\n",
      "\n"
     ]
    }
   ],
   "source": [
    "# fit的結果\n",
    "fit_bayes$apriori\n",
    "\n",
    "# tables of mean and standard deviation (in that order)\n",
    "print(fit_bayes$tables)"
   ]
  },
  {
   "cell_type": "code",
   "execution_count": 4,
   "metadata": {
    "tags": []
   },
   "outputs": [],
   "source": [
    "# 寫成函式\n",
    "fit_NaiveBayes <- function(rawdata) {\n",
    "    # print(rawdata[index,class])\n",
    "    last <- ncol(rawdata)\n",
    "    index <- sample(1:nrow(rawdata), round(nrow(rawdata)*0.7))\n",
    "    \n",
    "    fit_bayes <- NaiveBayes(rawdata[index,last] ~ ., data=rawdata[index,-last])\n",
    "    pre_bayes <- predict(fit_bayes, rawdata[-index,-last])\n",
    "    print(table(pre_bayes$class, rawdata[-index,last], dnn=c(\"Prediction\",\"Actual\")))\n",
    "    cat(\"\\n  Accuracy:\",\n",
    "        sum(as.numeric(pre_bayes$class == rawdata[-index,last])) / nrow(rawdata[-index,])*100,\"%\\n\\n\")\n",
    "    return(fit_bayes)\n",
    "    }"
   ]
  },
  {
   "cell_type": "markdown",
   "metadata": {},
   "source": [
    "# 性別資料集"
   ]
  },
  {
   "cell_type": "code",
   "execution_count": 5,
   "metadata": {},
   "outputs": [
    {
     "name": "stdout",
     "output_type": "stream",
     "text": [
      "          Actual\n",
      "Prediction female male\n",
      "    female     13    2\n",
      "    male        2   25\n",
      "\n",
      "  Accuracy: 90.47619 %\n",
      "\n"
     ]
    }
   ],
   "source": [
    "gender_size <- read.csv(\"../data_files/gender_size.csv\", stringsAsFactors = TRUE)\n",
    "fit_bayes <- fit_NaiveBayes(gender_size)"
   ]
  },
  {
   "cell_type": "code",
   "execution_count": 6,
   "metadata": {},
   "outputs": [
    {
     "name": "stdout",
     "output_type": "stream",
     "text": [
      "\n",
      "x1: 2\n",
      "x2: 2"
     ]
    }
   ],
   "source": [
    "# 預測資料(1 -> female, 2 -> male)\n",
    "x1 <- data.frame(Height= 175, Weight=72, Waist=32)\n",
    "x2 <- data.frame(Height= 165, Weight=58, Waist=28)\n",
    "cat('\\nx1:', predict(fit_bayes, x1)$class)\n",
    "cat('\\nx2:', predict(fit_bayes, x2)$class)"
   ]
  },
  {
   "cell_type": "markdown",
   "metadata": {},
   "source": [
    "# 鐵達尼號資料集"
   ]
  },
  {
   "cell_type": "code",
   "execution_count": 7,
   "metadata": {},
   "outputs": [
    {
     "name": "stdout",
     "output_type": "stream",
     "text": [
      "          Actual\n",
      "Prediction  no yes\n",
      "       no  232  75\n",
      "       yes  16  63\n",
      "\n",
      "  Accuracy: 76.42487 %\n",
      "\n"
     ]
    }
   ],
   "source": [
    "titanic_data <-read.csv(\"../data_files/titanic.csv\", header=T, sep=\",\",stringsAsFactors = TRUE)\n",
    "\n",
    "# 整理數據\n",
    "titanic <- na.exclude(titanic_data) #remove missing values\n",
    "rw <- c(which(titanic$age==9999), which(titanic$fare==9999))  \n",
    "#identify the id which has missing values in age or fare\n",
    "titan <- titanic[-rw, 2:5]\n",
    "titan$survival <- titanic[-rw, 10] #set survival\n",
    "\n",
    "titan[which(titan[,1]==0), 1]<-\"male\"  #rename 0 by male\n",
    "titan[which(titan[,1]==1), 1]<-\"female\"  #rename 1 by female\n",
    "titan[,1] <- as.factor(titan$gender)\n",
    "\n",
    "titan[which(titan[,5]==1), 5]<-\"yes\"\n",
    "titan[which(titan[,5]==0), 5]<-\"no\"\n",
    "titan[,5]<-as.factor(titan[,\"survival\"])\n",
    "\n",
    "fit_bayes <-fit_NaiveBayes(titan)"
   ]
  }
 ],
 "metadata": {
  "kernelspec": {
   "display_name": "R",
   "language": "R",
   "name": "ir"
  },
  "language_info": {
   "codemirror_mode": "r",
   "file_extension": ".r",
   "mimetype": "text/x-r-source",
   "name": "R",
   "pygments_lexer": "r",
   "version": "4.1.2"
  }
 },
 "nbformat": 4,
 "nbformat_minor": 4
}
