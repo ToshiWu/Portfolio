{
 "cells": [
  {
   "cell_type": "markdown",
   "metadata": {},
   "source": [
    "# Logistic 回歸模型 (性別資料集)"
   ]
  },
  {
   "cell_type": "code",
   "execution_count": 1,
   "metadata": {},
   "outputs": [],
   "source": [
    "gender_size <- read.csv(\"../data_files/gender_size.csv\", stringsAsFactors = TRUE)"
   ]
  },
  {
   "cell_type": "code",
   "execution_count": 2,
   "metadata": {},
   "outputs": [
    {
     "name": "stderr",
     "output_type": "stream",
     "text": [
      "Warning message:\n",
      "\"glm.fit: fitted probabilities numerically 0 or 1 occurred\"\n"
     ]
    },
    {
     "data": {
      "text/plain": [
       "\n",
       "Call:\n",
       "glm(formula = Gender ~ ., family = binomial(link = \"logit\"), \n",
       "    data = gender_size)\n",
       "\n",
       "Deviance Residuals: \n",
       "     Min        1Q    Median        3Q       Max  \n",
       "-2.06729  -0.02516   0.00014   0.00435   1.79134  \n",
       "\n",
       "Coefficients:\n",
       "              Estimate Std. Error z value Pr(>|z|)   \n",
       "(Intercept) -137.44792   42.55968  -3.230  0.00124 **\n",
       "Height         0.42164    0.15681   2.689  0.00717 **\n",
       "Weight        -0.09541    0.10902  -0.875  0.38152   \n",
       "Waist          2.62804    0.92506   2.841  0.00450 **\n",
       "---\n",
       "Signif. codes:  0 '***' 0.001 '**' 0.01 '*' 0.05 '.' 0.1 ' ' 1\n",
       "\n",
       "(Dispersion parameter for binomial family taken to be 1)\n",
       "\n",
       "    Null deviance: 187.672  on 140  degrees of freedom\n",
       "Residual deviance:  23.917  on 137  degrees of freedom\n",
       "AIC: 31.917\n",
       "\n",
       "Number of Fisher Scoring iterations: 10\n"
      ]
     },
     "metadata": {},
     "output_type": "display_data"
    }
   ],
   "source": [
    "# 建立logistic迴歸模型 (用全部的參數)\n",
    "LR0 <- glm(formula=Gender ~ ., family=binomial(link=\"logit\"), data=gender_size)\n",
    "summary(LR0)"
   ]
  },
  {
   "cell_type": "code",
   "execution_count": 3,
   "metadata": {},
   "outputs": [
    {
     "data": {
      "text/plain": [
       "          Actual\n",
       "Prediction female male\n",
       "    female     51    4\n",
       "    male        3   83"
      ]
     },
     "metadata": {},
     "output_type": "display_data"
    },
    {
     "name": "stdout",
     "output_type": "stream",
     "text": [
      "Accuracy: 95.03546 % \n"
     ]
    },
    {
     "data": {
      "image/png": "[encoded data removed]",
      "text/plain": [
       "plot without title"
      ]
     },
     "metadata": {
      "image/png": {
       "height": 420,
       "width": 420
      }
     },
     "output_type": "display_data"
    }
   ],
   "source": [
    "# 預測原資料的結果\n",
    "pre.LR0 <- predict.glm(LR0, type=\"response\", newdata=gender_size)\n",
    "result0 <- ifelse (round(pre.LR0)>=0.5, \"male\", \"female\")\n",
    "\n",
    "table(result0, gender_size[,4], dnn=c(\"Prediction\",\"Actual\"))\n",
    "cat(\"Accuracy:\", sum(gender_size[,4]==result0)/ nrow(gender_size)*100, \"% \\n\")\n",
    "plot(sort(pre.LR0))"
   ]
  },
  {
   "cell_type": "code",
   "execution_count": 4,
   "metadata": {},
   "outputs": [
    {
     "name": "stdout",
     "output_type": "stream",
     "text": [
      "Data x1 predict by LR0: male , probability: 0.9999946 \n",
      "\n",
      "Data x2 predict by LR0: female , probability: 0.982749 \n",
      "\n"
     ]
    }
   ],
   "source": [
    "# 預測新資料\n",
    "x1 <- list(Height= 170, Weight=65, Waist=32)\n",
    "x2 <- list(Height= 155, Weight=58, Waist=28)\n",
    "\n",
    "predict.LR0 <- function (data){\n",
    "    pre.data <- predict.glm(LR0, type=\"response\", newdata=data)\n",
    "    result.data <- ifelse (round(pre.data)>=0.5, \"male\", \"female\")\n",
    "    pre.data <- ifelse (round(pre.data)>=0.5, pre.data, 1-pre.data)\n",
    "    cat(result.data, \", probability:\", pre.data, \"\\n\\n\")\n",
    "    }\n",
    "\n",
    "cat(\"Data x1 predict by LR0: \")\n",
    "predict.LR0(x1)\n",
    "cat(\"Data x2 predict by LR0: \")\n",
    "predict.LR0(x2)"
   ]
  },
  {
   "cell_type": "code",
   "execution_count": 5,
   "metadata": {},
   "outputs": [
    {
     "data": {
      "image/png": "[encoded data removed]",
      "text/plain": [
       "plot without title"
      ]
     },
     "metadata": {
      "image/png": {
       "height": 420,
       "width": 420
      }
     },
     "output_type": "display_data"
    }
   ],
   "source": [
    "# 由於原資料幾乎線性可分，故觀看原資料有無限性不可分的參數\n",
    "plot(gender_size[,-4], col=gender_size[,4])"
   ]
  },
  {
   "cell_type": "code",
   "execution_count": 6,
   "metadata": {},
   "outputs": [
    {
     "data": {
      "text/plain": [
       "\n",
       "Call:\n",
       "glm(formula = Gender ~ Height + Weight, family = binomial(link = \"logit\"), \n",
       "    data = gender_size)\n",
       "\n",
       "Deviance Residuals: \n",
       "    Min       1Q   Median       3Q      Max  \n",
       "-3.5061  -0.2126   0.0190   0.1611   2.1341  \n",
       "\n",
       "Coefficients:\n",
       "             Estimate Std. Error z value Pr(>|z|)    \n",
       "(Intercept) -60.61573   14.87762  -4.074 4.62e-05 ***\n",
       "Height        0.28953    0.09272   3.123 0.001793 ** \n",
       "Weight        0.22574    0.06623   3.408 0.000654 ***\n",
       "---\n",
       "Signif. codes:  0 '***' 0.001 '**' 0.01 '*' 0.05 '.' 0.1 ' ' 1\n",
       "\n",
       "(Dispersion parameter for binomial family taken to be 1)\n",
       "\n",
       "    Null deviance: 187.672  on 140  degrees of freedom\n",
       "Residual deviance:  52.841  on 138  degrees of freedom\n",
       "AIC: 58.841\n",
       "\n",
       "Number of Fisher Scoring iterations: 7\n"
      ]
     },
     "metadata": {},
     "output_type": "display_data"
    }
   ],
   "source": [
    "# Height/Weight資料點較混雜,故使用其作為logistic迴歸模型的參數\n",
    "LR1 <- glm(formula=Gender~ Height+Weight, family=binomial(link=\"logit\"), data=gender_size) #警告消失\n",
    "summary(LR1)"
   ]
  },
  {
   "cell_type": "code",
   "execution_count": 7,
   "metadata": {},
   "outputs": [
    {
     "data": {
      "text/plain": [
       "          Actual\n",
       "Prediction female male\n",
       "    female     51    2\n",
       "    male        3   85"
      ]
     },
     "metadata": {},
     "output_type": "display_data"
    },
    {
     "name": "stdout",
     "output_type": "stream",
     "text": [
      "Accuracy: 96.4539 % \n"
     ]
    },
    {
     "data": {
      "image/png": "[encoded data removed]",
      "text/plain": [
       "plot without title"
      ]
     },
     "metadata": {
      "image/png": {
       "height": 420,
       "width": 420
      }
     },
     "output_type": "display_data"
    }
   ],
   "source": [
    "pre.LR1 <- predict.glm(LR1, type=\"response\", newdata=gender_size)\n",
    "result1 <- ifelse(pre.LR1>0.5, \"male\", \"female\")\n",
    "\n",
    "table(result1, gender_size[,4], dnn=c(\"Prediction\",\"Actual\"))\n",
    "cat(\"Accuracy:\", sum(gender_size[,4]==result1)/ nrow(gender_size)*100, \"% \\n\")\n",
    "plot(sort(pre.LR1)) # 屬於logistic迴歸模型的S曲線"
   ]
  },
  {
   "cell_type": "code",
   "execution_count": 8,
   "metadata": {},
   "outputs": [
    {
     "name": "stderr",
     "output_type": "stream",
     "text": [
      "Warning message:\n",
      "\"glm.fit: fitted probabilities numerically 0 or 1 occurred\"\n"
     ]
    },
    {
     "data": {
      "text/plain": [
       "          Actual\n",
       "Prediction female male\n",
       "    female     49    4\n",
       "    male        5   83"
      ]
     },
     "metadata": {},
     "output_type": "display_data"
    },
    {
     "name": "stdout",
     "output_type": "stream",
     "text": [
      "Accuracy: 93.61702 % \n"
     ]
    },
    {
     "name": "stderr",
     "output_type": "stream",
     "text": [
      "Warning message:\n",
      "\"glm.fit: fitted probabilities numerically 0 or 1 occurred\"\n"
     ]
    },
    {
     "data": {
      "text/plain": [
       "          Actual\n",
       "Prediction female male\n",
       "    female     51    3\n",
       "    male        3   84"
      ]
     },
     "metadata": {},
     "output_type": "display_data"
    },
    {
     "name": "stdout",
     "output_type": "stream",
     "text": [
      "Accuracy: 95.74468 % \n"
     ]
    }
   ],
   "source": [
    "#觀看移除其他兩項參數的影響 (準確率會下降)\n",
    "# remove height\n",
    "LR2 <- glm(Gender ~ Weight+Waist, data=gender_size, family=binomial(link=\"logit\"))\n",
    "pre.LR2 <- predict.glm(LR2, type=\"response\", newdata=gender_size)\n",
    "without_height <- ifelse(pre.LR2>0.5, \"male\", \"female\")\n",
    "table(without_height, gender_size[,4], dnn=c(\"Prediction\",\"Actual\"))\n",
    "cat(\"Accuracy:\", sum(gender_size[,4]==without_height)/ nrow(gender_size)*100, \"% \\n\")\n",
    "\n",
    "#remove weight\n",
    "LR3 <- glm(Gender~ Height+Waist, data=gender_size, family=binomial(link=\"logit\"))\n",
    "pre.LR3 <- predict.glm(LR3, type=\"response\", newdata=gender_size)\n",
    "without_weight <- ifelse(pre.LR3>0.5, \"male\", \"female\")\n",
    "table(without_weight, gender_size[,4], dnn=c(\"Prediction\",\"Actual\"))\n",
    "cat(\"Accuracy:\", sum(gender_size[,4]==without_weight)/ nrow(gender_size)*100, \"% \\n\")"
   ]
  },
  {
   "cell_type": "code",
   "execution_count": 9,
   "metadata": {},
   "outputs": [
    {
     "data": {
      "text/plain": [
       "\n",
       "Call:\n",
       "glm(formula = Gender ~ Height + Weight + Waist, family = quasibinomial(link = \"probit\"), \n",
       "    data = gender_size)\n",
       "\n",
       "Deviance Residuals: \n",
       "     Min        1Q    Median        3Q       Max  \n",
       "-2.00120  -0.00168   0.00000   0.00001   1.75799  \n",
       "\n",
       "Coefficients:\n",
       "             Estimate Std. Error t value Pr(>|t|)    \n",
       "(Intercept) -79.01682    9.51979  -8.300 8.81e-14 ***\n",
       "Height        0.24324    0.03574   6.806 2.86e-10 ***\n",
       "Weight       -0.05034    0.02515  -2.002   0.0473 *  \n",
       "Waist         1.49548    0.20480   7.302 2.10e-11 ***\n",
       "---\n",
       "Signif. codes:  0 '***' 0.001 '**' 0.01 '*' 0.05 '.' 0.1 ' ' 1\n",
       "\n",
       "(Dispersion parameter for quasibinomial family taken to be 0.1688274)\n",
       "\n",
       "    Null deviance: 187.672  on 140  degrees of freedom\n",
       "Residual deviance:  23.409  on 137  degrees of freedom\n",
       "AIC: NA\n",
       "\n",
       "Number of Fisher Scoring iterations: 11\n"
      ]
     },
     "metadata": {},
     "output_type": "display_data"
    }
   ],
   "source": [
    "# Probit distribution (similar to cumulative density function)\n",
    "PRO <- glm(Gender~Height+Weight+Waist, data = gender_size, family = quasibinomial(link =\"probit\"))\n",
    "summary(PRO)"
   ]
  },
  {
   "cell_type": "code",
   "execution_count": 10,
   "metadata": {},
   "outputs": [
    {
     "data": {
      "text/plain": [
       "          Actual\n",
       "Prediction female male\n",
       "    female     51    4\n",
       "    male        3   83"
      ]
     },
     "metadata": {},
     "output_type": "display_data"
    },
    {
     "name": "stdout",
     "output_type": "stream",
     "text": [
      "Accuracy: 95.03546 % \n"
     ]
    },
    {
     "data": {
      "image/png": "[encoded data removed]",
      "text/plain": [
       "plot without title"
      ]
     },
     "metadata": {
      "image/png": {
       "height": 420,
       "width": 420
      }
     },
     "output_type": "display_data"
    }
   ],
   "source": [
    "pre.PRO <- predict.glm(PRO, type=\"response\", newdata= gender_size)\n",
    "result.PRO<-ifelse (pre.PRO>0.5, \"male\", \"female\")\n",
    "table(result.PRO, gender_size[, 4], dnn=c(\"Prediction\",\"Actual\"))\n",
    "plot(sort(pre.PRO))\n",
    "cat(\"Accuracy:\", sum(gender_size$Gender==result.PRO)/ nrow(gender_size)*100, \"% \\n\")"
   ]
  },
  {
   "cell_type": "markdown",
   "metadata": {},
   "source": [
    "# Logistic 回歸模型 (鐵達尼號資料集)"
   ]
  },
  {
   "cell_type": "code",
   "execution_count": 11,
   "metadata": {},
   "outputs": [],
   "source": [
    "titanic_data <-read.csv(\"../data_files/titanic.csv\", header=T, sep=\",\",stringsAsFactors = TRUE)\n",
    "\n",
    "# 整理數據\n",
    "titanic <- na.exclude(titanic_data) #remove missing values\n",
    "rw <- c(which(titanic$age==9999), which(titanic$fare==9999))\n",
    "#identify the id which has missing values in age or fare\n",
    "titan <- titanic[-rw, 2:5]\n",
    "titan$survival <- titanic[-rw, 10] #set survival\n",
    "\n",
    "titan[which(titan[,1]==0), 1]<-\"male\"  #rename 0 by male\n",
    "titan[which(titan[,1]==1), 1]<-\"female\"  #rename 1 by female\n",
    "titan[,1] <- as.factor(titan$gender)\n",
    "\n",
    "titan[which(titan[,5]==1), 5]<-\"yes\"\n",
    "titan[which(titan[,5]==0), 5]<-\"no\"\n",
    "titan[,5]<-as.factor(titan[,\"survival\"])\n",
    "\n",
    "titan$class <- as.factor(as.integer(titan$class))"
   ]
  },
  {
   "cell_type": "code",
   "execution_count": 12,
   "metadata": {},
   "outputs": [
    {
     "data": {
      "text/plain": [
       "\n",
       "Call:\n",
       "glm(formula = survival ~ ., family = binomial(link = \"logit\"), \n",
       "    data = training, na.action = na.exclude)\n",
       "\n",
       "Deviance Residuals: \n",
       "    Min       1Q   Median       3Q      Max  \n",
       "-2.2365  -0.6927  -0.4717   0.7566   2.3881  \n",
       "\n",
       "Coefficients:\n",
       "             Estimate Std. Error z value Pr(>|z|)    \n",
       "(Intercept)  4.019200   0.422021   9.524  < 2e-16 ***\n",
       "gendermale  -2.250598   0.177289 -12.695  < 2e-16 ***\n",
       "age         -0.042796   0.007110  -6.019 1.75e-09 ***\n",
       "class2      -1.762299   0.287500  -6.130 8.80e-10 ***\n",
       "class3      -2.618438   0.287178  -9.118  < 2e-16 ***\n",
       "fare        -0.002033   0.002086  -0.975     0.33    \n",
       "---\n",
       "Signif. codes:  0 '***' 0.001 '**' 0.01 '*' 0.05 '.' 0.1 ' ' 1\n",
       "\n",
       "(Dispersion parameter for binomial family taken to be 1)\n",
       "\n",
       "    Null deviance: 1201.86  on 898  degrees of freedom\n",
       "Residual deviance:  876.14  on 893  degrees of freedom\n",
       "AIC: 888.14\n",
       "\n",
       "Number of Fisher Scoring iterations: 4\n"
      ]
     },
     "metadata": {},
     "output_type": "display_data"
    }
   ],
   "source": [
    "index <- sample(1: nrow(titan), round(0.7*nrow(titan)) ) \n",
    "training <- titan[index,]\n",
    "testing <- titan[-index,]\n",
    "\n",
    "LR <- glm(formula=survival ~ ., data=training, family=binomial(link=\"logit\"), na.action=na.exclude)\n",
    "summary(LR)"
   ]
  },
  {
   "cell_type": "code",
   "execution_count": 13,
   "metadata": {},
   "outputs": [
    {
     "data": {
      "text/plain": [
       "          Actual\n",
       "Prediction  no yes\n",
       "       no  194  36\n",
       "       yes  56 100"
      ]
     },
     "metadata": {},
     "output_type": "display_data"
    },
    {
     "name": "stdout",
     "output_type": "stream",
     "text": [
      "Accuracy: 76.1658 % \n"
     ]
    },
    {
     "data": {
      "image/png": "[encoded data removed]",
      "text/plain": [
       "plot without title"
      ]
     },
     "metadata": {
      "image/png": {
       "height": 420,
       "width": 420
      }
     },
     "output_type": "display_data"
    }
   ],
   "source": [
    "# 預測結果\n",
    "pre.LR= predict.glm(LR, type=\"response\", newdata=testing)\n",
    "result<-ifelse (round(pre.LR)>=0.5, \"yes\", \"no\")\n",
    "table(result, testing$survival, dnn=c(\"Prediction\",\"Actual\"))\n",
    "cat(\"Accuracy:\", sum(testing$survival==result)/ nrow(testing)*100, \"% \\n\")\n",
    "plot(sort(pre.LR))"
   ]
  },
  {
   "cell_type": "code",
   "execution_count": 14,
   "metadata": {},
   "outputs": [
    {
     "data": {
      "text/html": [
       "<strong>1:</strong> 0.475648780038234"
      ],
      "text/latex": [
       "\\textbf{1:} 0.475648780038234"
      ],
      "text/markdown": [
       "**1:** 0.475648780038234"
      ],
      "text/plain": [
       "        1 \n",
       "0.4756488 "
      ]
     },
     "metadata": {},
     "output_type": "display_data"
    },
    {
     "data": {
      "text/html": [
       "<strong>1:</strong> 0.145973222991979"
      ],
      "text/latex": [
       "\\textbf{1:} 0.145973222991979"
      ],
      "text/markdown": [
       "**1:** 0.145973222991979"
      ],
      "text/plain": [
       "        1 \n",
       "0.1459732 "
      ]
     },
     "metadata": {},
     "output_type": "display_data"
    },
    {
     "data": {
      "text/html": [
       "<strong>1:</strong> 0.503805707839773"
      ],
      "text/latex": [
       "\\textbf{1:} 0.503805707839773"
      ],
      "text/markdown": [
       "**1:** 0.503805707839773"
      ],
      "text/plain": [
       "        1 \n",
       "0.5038057 "
      ]
     },
     "metadata": {},
     "output_type": "display_data"
    },
    {
     "data": {
      "text/html": [
       "<strong>1:</strong> 0.932996770508526"
      ],
      "text/latex": [
       "\\textbf{1:} 0.932996770508526"
      ],
      "text/markdown": [
       "**1:** 0.932996770508526"
      ],
      "text/plain": [
       "        1 \n",
       "0.9329968 "
      ]
     },
     "metadata": {},
     "output_type": "display_data"
    }
   ],
   "source": [
    "# 測試預測各種資料\n",
    "predict.glm(LR, type=\"response\", newdata=data.frame(fare=30, age=1, class=\"2\", gender=\"male\"))\n",
    "predict.glm(LR, type=\"response\", newdata=data.frame(fare=30, age=40, class=\"2\", gender=\"male\"))\n",
    "predict.glm(LR, type=\"response\", newdata=data.frame(fare=50, age=30, class=\"3\", gender=\"female\"))\n",
    "predict.glm(LR, type=\"response\", newdata=data.frame(fare=50, age=30, class=\"1\", gender=\"female\"))"
   ]
  },
  {
   "cell_type": "code",
   "execution_count": 15,
   "metadata": {},
   "outputs": [
    {
     "data": {
      "text/plain": [
       "   \n",
       "           no       yes\n",
       "  1 0.3546326 0.6453674\n",
       "  2 0.5867159 0.4132841\n",
       "  3 0.7546362 0.2453638"
      ]
     },
     "metadata": {},
     "output_type": "display_data"
    },
    {
     "data": {
      "text/plain": [
       "        \n",
       "                no       yes\n",
       "  female 0.3115468 0.6884532\n",
       "  male   0.7941889 0.2058111"
      ]
     },
     "metadata": {},
     "output_type": "display_data"
    }
   ],
   "source": [
    "classtab <- table(titan$class, titan$survival)\n",
    "prop.table(classtab, 1)\n",
    "gendertab <- table(titan$gender, titan$survival)\n",
    "prop.table(gendertab, 1)"
   ]
  },
  {
   "cell_type": "markdown",
   "metadata": {},
   "source": [
    "# 多元logistic迴歸 (Iris 資料集)"
   ]
  },
  {
   "cell_type": "code",
   "execution_count": 16,
   "metadata": {},
   "outputs": [],
   "source": [
    "library(nnet)"
   ]
  },
  {
   "cell_type": "code",
   "execution_count": 17,
   "metadata": {},
   "outputs": [],
   "source": [
    "data(iris)\n",
    "\n",
    "# 切割資料集\n",
    "index <- c(sample(1:50,35), sample(51:100,35), sample(101:150,35)) # 取七成作為訓練集\n",
    "training <- iris[index,]\n",
    "testing <- iris[-index,]"
   ]
  },
  {
   "cell_type": "code",
   "execution_count": 18,
   "metadata": {},
   "outputs": [
    {
     "name": "stdout",
     "output_type": "stream",
     "text": [
      "# weights:  18 (10 variable)\n",
      "initial  value 115.354290 \n",
      "iter  10 value 11.890357\n",
      "iter  20 value 4.894333\n",
      "iter  30 value 4.706763\n",
      "iter  40 value 4.526143\n",
      "iter  50 value 4.113175\n",
      "iter  60 value 4.068841\n",
      "iter  70 value 3.890040\n",
      "iter  80 value 3.869457\n",
      "iter  90 value 3.830437\n",
      "iter 100 value 3.823064\n",
      "final  value 3.823064 \n",
      "stopped after 100 iterations\n"
     ]
    },
    {
     "data": {
      "text/plain": [
       "Call:\n",
       "multinom(formula = Species ~ ., data = training, Hess = TRUE)\n",
       "\n",
       "Coefficients:\n",
       "           (Intercept) Sepal.Length Sepal.Width Petal.Length Petal.Width\n",
       "versicolor    55.45408    -8.910431   -15.20217     15.16626   -4.481475\n",
       "virginica    -63.00951    -2.074723   -22.26441     26.08266   21.560843\n",
       "\n",
       "Std. Errors:\n",
       "           (Intercept) Sepal.Length Sepal.Width Petal.Length Petal.Width\n",
       "versicolor     71.4230     183.2751    222.8409     63.93699    141.9656\n",
       "virginica      78.2804     183.2821    223.1647     65.09879    142.3995\n",
       "\n",
       "Residual Deviance: 7.646128 \n",
       "AIC: 27.64613 "
      ]
     },
     "metadata": {},
     "output_type": "display_data"
    },
    {
     "name": "stdout",
     "output_type": "stream",
     "text": [
      ", , versicolor\n",
      "\n",
      "                  2.5 %   97.5 %\n",
      "(Intercept)   -84.53242 195.4406\n",
      "Sepal.Length -368.12300 350.3021\n",
      "Sepal.Width  -451.96238 421.5580\n",
      "Petal.Length -110.14794 140.4805\n",
      "Petal.Width  -282.72900 273.7661\n",
      "\n",
      ", , virginica\n",
      "\n",
      "                 2.5 %    97.5 %\n",
      "(Intercept)  -216.4363  90.41725\n",
      "Sepal.Length -361.3011 357.15168\n",
      "Sepal.Width  -459.6591 415.13029\n",
      "Petal.Length -101.5086 153.67394\n",
      "Petal.Width  -257.5370 300.65867\n",
      "\n"
     ]
    }
   ],
   "source": [
    "# 建立模型\n",
    "LR.iris <- multinom(Species~., data=training, Hess=TRUE)\n",
    "summary(LR.iris)\n",
    "print(confint(LR.iris))"
   ]
  },
  {
   "cell_type": "code",
   "execution_count": 19,
   "metadata": {},
   "outputs": [
    {
     "data": {
      "text/plain": [
       "            Actual\n",
       "Prediction   setosa versicolor virginica\n",
       "  setosa         35          0         0\n",
       "  versicolor      0         34         1\n",
       "  virginica       0          1        34"
      ]
     },
     "metadata": {},
     "output_type": "display_data"
    },
    {
     "name": "stdout",
     "output_type": "stream",
     "text": [
      "Training Data Accuracy: 98.09524 % \n"
     ]
    },
    {
     "data": {
      "text/plain": [
       "            Actual\n",
       "Prediction   setosa versicolor virginica\n",
       "  setosa         15          0         0\n",
       "  versicolor      0         14         1\n",
       "  virginica       0          1        14"
      ]
     },
     "metadata": {},
     "output_type": "display_data"
    },
    {
     "name": "stdout",
     "output_type": "stream",
     "text": [
      "Testing Data Accuracy: 95.55556 % \n"
     ]
    }
   ],
   "source": [
    "train.pred=predict(LR.iris, training[, -5])\n",
    "table(train.pred, training[, 5], dnn=c(\"Prediction\",\"Actual\"))\n",
    "cat(\"Training Data Accuracy:\", sum(train.pred == training[, 5])/ nrow(training)*100, \"% \\n\")\n",
    "\n",
    "test.pred=predict(LR.iris, testing[,-5])\n",
    "table(test.pred, testing[, 5], dnn=c(\"Prediction\",\"Actual\"))\n",
    "cat(\"Testing Data Accuracy:\", sum(test.pred == testing[, 5])/ nrow(testing)*100, \"% \\n\")"
   ]
  },
  {
   "cell_type": "code",
   "execution_count": 20,
   "metadata": {},
   "outputs": [
    {
     "name": "stdout",
     "output_type": "stream",
     "text": [
      "Pobability:\n",
      " Setosa:  1.50987e-15 % \n",
      " Versicolor:  34.09215 % \n",
      " Virginca:  65.90785 % \n"
     ]
    }
   ],
   "source": [
    "# 取資料做預測\n",
    "x.120 <- as.numeric(c(1, iris[120, -5]))\n",
    "\n",
    "# versicolor vs. setosa\n",
    "beta.versicolor <- as.numeric(coef(LR.iris)[1,])\n",
    "ver <- exp(x.120 %*% beta.versicolor)  \n",
    "# virginca vs. setosa\n",
    "beta.virginca <- as.numeric(coef(LR.iris)[2,])\n",
    "vir <- exp(x.120 %*% beta.virginca)  \n",
    "\n",
    "# 相對概率\n",
    "pb.setosa <- 1/(1+ver+vir) \n",
    "pb.versicolor <- ver/(1+ver+vir)\n",
    "pb.virginca <- vir/(1+ver+vir)\n",
    "\n",
    "cat(\"Pobability:\\n\",\n",
    "    \"Setosa: \", pb.setosa*100, \"% \\n\",\n",
    "    \"Versicolor: \", pb.versicolor*100, \"% \\n\",\n",
    "    \"Virginca: \", pb.virginca*100, \"% \\n\")"
   ]
  },
  {
   "cell_type": "markdown",
   "metadata": {},
   "source": [
    "# 其他型式的回歸 (波士頓房價資料集)"
   ]
  },
  {
   "cell_type": "code",
   "execution_count": 21,
   "metadata": {},
   "outputs": [
    {
     "name": "stderr",
     "output_type": "stream",
     "text": [
      "Loaded glmnet 4.1-3\n",
      "\n"
     ]
    },
    {
     "data": {
      "text/html": [
       "<table class=\"dataframe\">\n",
       "<caption>A data.frame: 6 × 14</caption>\n",
       "<thead>\n",
       "\t<tr><th></th><th scope=col>CRIM</th><th scope=col>ZN</th><th scope=col>INDUS</th><th scope=col>CHAS</th><th scope=col>NOX</th><th scope=col>RM</th><th scope=col>AGE</th><th scope=col>DIS</th><th scope=col>RAD</th><th scope=col>TAX</th><th scope=col>PT</th><th scope=col>B</th><th scope=col>LSTAT</th><th scope=col>MV</th></tr>\n",
       "\t<tr><th></th><th scope=col>&lt;dbl&gt;</th><th scope=col>&lt;dbl&gt;</th><th scope=col>&lt;dbl&gt;</th><th scope=col>&lt;fct&gt;</th><th scope=col>&lt;dbl&gt;</th><th scope=col>&lt;dbl&gt;</th><th scope=col>&lt;dbl&gt;</th><th scope=col>&lt;dbl&gt;</th><th scope=col>&lt;int&gt;</th><th scope=col>&lt;int&gt;</th><th scope=col>&lt;dbl&gt;</th><th scope=col>&lt;dbl&gt;</th><th scope=col>&lt;dbl&gt;</th><th scope=col>&lt;dbl&gt;</th></tr>\n",
       "</thead>\n",
       "<tbody>\n",
       "\t<tr><th scope=row>1</th><td>0.00632</td><td>18</td><td>2.31</td><td>0</td><td>0.538</td><td>6.575</td><td>65.2</td><td>4.0900</td><td>1</td><td>296</td><td>15.3</td><td>396.90</td><td>4.98</td><td>24.0</td></tr>\n",
       "\t<tr><th scope=row>2</th><td>0.02731</td><td> 0</td><td>7.07</td><td>0</td><td>0.469</td><td>6.421</td><td>78.9</td><td>4.9671</td><td>2</td><td>242</td><td>17.8</td><td>396.90</td><td>9.14</td><td>21.6</td></tr>\n",
       "\t<tr><th scope=row>3</th><td>0.02729</td><td> 0</td><td>7.07</td><td>0</td><td>0.469</td><td>7.185</td><td>61.1</td><td>4.9671</td><td>2</td><td>242</td><td>17.8</td><td>392.83</td><td>4.03</td><td>34.7</td></tr>\n",
       "\t<tr><th scope=row>4</th><td>0.03237</td><td> 0</td><td>2.18</td><td>0</td><td>0.458</td><td>6.998</td><td>45.8</td><td>6.0622</td><td>3</td><td>222</td><td>18.7</td><td>394.63</td><td>2.94</td><td>33.4</td></tr>\n",
       "\t<tr><th scope=row>5</th><td>0.06905</td><td> 0</td><td>2.18</td><td>0</td><td>0.458</td><td>7.147</td><td>54.2</td><td>6.0622</td><td>3</td><td>222</td><td>18.7</td><td>396.90</td><td>5.33</td><td>36.2</td></tr>\n",
       "\t<tr><th scope=row>6</th><td>0.02985</td><td> 0</td><td>2.18</td><td>0</td><td>0.458</td><td>6.430</td><td>58.7</td><td>6.0622</td><td>3</td><td>222</td><td>18.7</td><td>394.12</td><td>5.21</td><td>28.7</td></tr>\n",
       "</tbody>\n",
       "</table>\n"
      ],
      "text/latex": [
       "A data.frame: 6 × 14\n",
       "\\begin{tabular}{r|llllllllllllll}\n",
       "  & CRIM & ZN & INDUS & CHAS & NOX & RM & AGE & DIS & RAD & TAX & PT & B & LSTAT & MV\\\\\n",
       "  & <dbl> & <dbl> & <dbl> & <fct> & <dbl> & <dbl> & <dbl> & <dbl> & <int> & <int> & <dbl> & <dbl> & <dbl> & <dbl>\\\\\n",
       "\\hline\n",
       "\t1 & 0.00632 & 18 & 2.31 & 0 & 0.538 & 6.575 & 65.2 & 4.0900 & 1 & 296 & 15.3 & 396.90 & 4.98 & 24.0\\\\\n",
       "\t2 & 0.02731 &  0 & 7.07 & 0 & 0.469 & 6.421 & 78.9 & 4.9671 & 2 & 242 & 17.8 & 396.90 & 9.14 & 21.6\\\\\n",
       "\t3 & 0.02729 &  0 & 7.07 & 0 & 0.469 & 7.185 & 61.1 & 4.9671 & 2 & 242 & 17.8 & 392.83 & 4.03 & 34.7\\\\\n",
       "\t4 & 0.03237 &  0 & 2.18 & 0 & 0.458 & 6.998 & 45.8 & 6.0622 & 3 & 222 & 18.7 & 394.63 & 2.94 & 33.4\\\\\n",
       "\t5 & 0.06905 &  0 & 2.18 & 0 & 0.458 & 7.147 & 54.2 & 6.0622 & 3 & 222 & 18.7 & 396.90 & 5.33 & 36.2\\\\\n",
       "\t6 & 0.02985 &  0 & 2.18 & 0 & 0.458 & 6.430 & 58.7 & 6.0622 & 3 & 222 & 18.7 & 394.12 & 5.21 & 28.7\\\\\n",
       "\\end{tabular}\n"
      ],
      "text/markdown": [
       "\n",
       "A data.frame: 6 × 14\n",
       "\n",
       "| <!--/--> | CRIM &lt;dbl&gt; | ZN &lt;dbl&gt; | INDUS &lt;dbl&gt; | CHAS &lt;fct&gt; | NOX &lt;dbl&gt; | RM &lt;dbl&gt; | AGE &lt;dbl&gt; | DIS &lt;dbl&gt; | RAD &lt;int&gt; | TAX &lt;int&gt; | PT &lt;dbl&gt; | B &lt;dbl&gt; | LSTAT &lt;dbl&gt; | MV &lt;dbl&gt; |\n",
       "|---|---|---|---|---|---|---|---|---|---|---|---|---|---|---|\n",
       "| 1 | 0.00632 | 18 | 2.31 | 0 | 0.538 | 6.575 | 65.2 | 4.0900 | 1 | 296 | 15.3 | 396.90 | 4.98 | 24.0 |\n",
       "| 2 | 0.02731 |  0 | 7.07 | 0 | 0.469 | 6.421 | 78.9 | 4.9671 | 2 | 242 | 17.8 | 396.90 | 9.14 | 21.6 |\n",
       "| 3 | 0.02729 |  0 | 7.07 | 0 | 0.469 | 7.185 | 61.1 | 4.9671 | 2 | 242 | 17.8 | 392.83 | 4.03 | 34.7 |\n",
       "| 4 | 0.03237 |  0 | 2.18 | 0 | 0.458 | 6.998 | 45.8 | 6.0622 | 3 | 222 | 18.7 | 394.63 | 2.94 | 33.4 |\n",
       "| 5 | 0.06905 |  0 | 2.18 | 0 | 0.458 | 7.147 | 54.2 | 6.0622 | 3 | 222 | 18.7 | 396.90 | 5.33 | 36.2 |\n",
       "| 6 | 0.02985 |  0 | 2.18 | 0 | 0.458 | 6.430 | 58.7 | 6.0622 | 3 | 222 | 18.7 | 394.12 | 5.21 | 28.7 |\n",
       "\n"
      ],
      "text/plain": [
       "  CRIM    ZN INDUS CHAS NOX   RM    AGE  DIS    RAD TAX PT   B      LSTAT MV  \n",
       "1 0.00632 18 2.31  0    0.538 6.575 65.2 4.0900 1   296 15.3 396.90 4.98  24.0\n",
       "2 0.02731  0 7.07  0    0.469 6.421 78.9 4.9671 2   242 17.8 396.90 9.14  21.6\n",
       "3 0.02729  0 7.07  0    0.469 7.185 61.1 4.9671 2   242 17.8 392.83 4.03  34.7\n",
       "4 0.03237  0 2.18  0    0.458 6.998 45.8 6.0622 3   222 18.7 394.63 2.94  33.4\n",
       "5 0.06905  0 2.18  0    0.458 7.147 54.2 6.0622 3   222 18.7 396.90 5.33  36.2\n",
       "6 0.02985  0 2.18  0    0.458 6.430 58.7 6.0622 3   222 18.7 394.12 5.21  28.7"
      ]
     },
     "metadata": {},
     "output_type": "display_data"
    }
   ],
   "source": [
    "library(ISLR)\n",
    "library(Matrix)\n",
    "library(glmnet)\n",
    "\n",
    "boston = read.csv(\"../data_files/boston.csv\")\n",
    "boston$CHAS<- as.factor(boston$CHAS)\n",
    "head(boston)"
   ]
  },
  {
   "cell_type": "code",
   "execution_count": 22,
   "metadata": {},
   "outputs": [
    {
     "data": {
      "text/plain": [
       "\n",
       "Call:\n",
       "lm(formula = MV ~ ., data = boston)\n",
       "\n",
       "Residuals:\n",
       "    Min      1Q  Median      3Q     Max \n",
       "-15.595  -2.730  -0.518   1.777  26.199 \n",
       "\n",
       "Coefficients:\n",
       "              Estimate Std. Error t value Pr(>|t|)    \n",
       "(Intercept)  3.646e+01  5.103e+00   7.144 3.28e-12 ***\n",
       "CRIM        -1.080e-01  3.286e-02  -3.287 0.001087 ** \n",
       "ZN           4.642e-02  1.373e-02   3.382 0.000778 ***\n",
       "INDUS        2.056e-02  6.150e-02   0.334 0.738287    \n",
       "CHAS1        2.687e+00  8.616e-01   3.118 0.001925 ** \n",
       "NOX         -1.777e+01  3.820e+00  -4.651 4.25e-06 ***\n",
       "RM           3.810e+00  4.179e-01   9.116  < 2e-16 ***\n",
       "AGE          6.922e-04  1.321e-02   0.052 0.958229    \n",
       "DIS         -1.476e+00  1.995e-01  -7.398 6.01e-13 ***\n",
       "RAD          3.060e-01  6.635e-02   4.613 5.07e-06 ***\n",
       "TAX         -1.233e-02  3.760e-03  -3.280 0.001112 ** \n",
       "PT          -9.527e-01  1.308e-01  -7.283 1.31e-12 ***\n",
       "B            9.312e-03  2.686e-03   3.467 0.000573 ***\n",
       "LSTAT       -5.248e-01  5.072e-02 -10.347  < 2e-16 ***\n",
       "---\n",
       "Signif. codes:  0 '***' 0.001 '**' 0.01 '*' 0.05 '.' 0.1 ' ' 1\n",
       "\n",
       "Residual standard error: 4.745 on 492 degrees of freedom\n",
       "Multiple R-squared:  0.7406,\tAdjusted R-squared:  0.7338 \n",
       "F-statistic: 108.1 on 13 and 492 DF,  p-value: < 2.2e-16\n"
      ]
     },
     "metadata": {},
     "output_type": "display_data"
    }
   ],
   "source": [
    "# MLR\n",
    "mlr.boston<- lm(MV ~ ., boston)\n",
    "summary(mlr.boston)"
   ]
  },
  {
   "cell_type": "code",
   "execution_count": 23,
   "metadata": {},
   "outputs": [
    {
     "name": "stdout",
     "output_type": "stream",
     "text": [
      "\n",
      "Call:  glmnet(x = data.matrix(boston[, -14]), y = boston$MV, family = \"gaussian\",      alpha = 0, lambda = 1) \n",
      "\n",
      "  Df  %Dev Lambda\n",
      "1 13 73.06      1\n"
     ]
    },
    {
     "data": {
      "text/plain": [
       "13 x 1 sparse Matrix of class \"dgCMatrix\"\n",
       "                 s0\n",
       "CRIM   -0.083120682\n",
       "ZN      0.029415416\n",
       "INDUS  -0.047373028\n",
       "CHAS    2.925150819\n",
       "NOX   -10.458539253\n",
       "RM      4.024631834\n",
       "AGE    -0.004842028\n",
       "DIS    -1.006950875\n",
       "RAD     0.124029301\n",
       "TAX    -0.004735751\n",
       "PT     -0.825836574\n",
       "B       0.008924223\n",
       "LSTAT  -0.452803477"
      ]
     },
     "metadata": {},
     "output_type": "display_data"
    }
   ],
   "source": [
    "# Ridge\n",
    "ridge.boston <- glmnet(data.matrix(boston[,-14]), boston$MV, family=\"gaussian\", alpha=0, lambda=1)\n",
    "print(ridge.boston)\n",
    "ridge.boston$beta\n",
    "\n",
    "pre_boston.ridge <- predict(ridge.boston, data.matrix(boston[,-14]), s=0.01, type=\"response\")"
   ]
  },
  {
   "cell_type": "code",
   "execution_count": 24,
   "metadata": {},
   "outputs": [
    {
     "name": "stdout",
     "output_type": "stream",
     "text": [
      "\n",
      "Call:  glmnet(x = data.matrix(boston[, -14]), y = boston$MV, family = \"gaussian\",      alpha = 1, lambda = 1) \n",
      "\n",
      "  Df  %Dev Lambda\n",
      "1  4 66.28      1\n"
     ]
    },
    {
     "data": {
      "text/plain": [
       "13 x 1 sparse Matrix of class \"dgCMatrix\"\n",
       "                s0\n",
       "CRIM   .          \n",
       "ZN     .          \n",
       "INDUS  .          \n",
       "CHAS   .          \n",
       "NOX    .          \n",
       "RM     3.864829495\n",
       "AGE    .          \n",
       "DIS    .          \n",
       "RAD    .          \n",
       "TAX    .          \n",
       "PT    -0.621118238\n",
       "B      0.001980155\n",
       "LSTAT -0.496764322"
      ]
     },
     "metadata": {},
     "output_type": "display_data"
    }
   ],
   "source": [
    "# Lasso\n",
    "lasso.boston <- glmnet(data.matrix(boston[,-14]), boston$MV, family=\"gaussian\", alpha=1, lambda=1)\n",
    "print(lasso.boston)\n",
    "lasso.boston$beta\n",
    "\n",
    "pre_boston.lasso <- predict(lasso.boston, data.matrix(boston[,-14]), s=0.01, type=\"response\")"
   ]
  },
  {
   "cell_type": "code",
   "execution_count": 25,
   "metadata": {},
   "outputs": [
    {
     "name": "stdout",
     "output_type": "stream",
     "text": [
      "\n",
      "Call:  glmnet(x = data.matrix(boston[, -14]), y = boston$MV, family = \"gaussian\",      alpha = 0.5, lambda = 1) \n",
      "\n",
      "  Df  %Dev Lambda\n",
      "1  9 68.72      1\n"
     ]
    },
    {
     "data": {
      "text/plain": [
       "13 x 1 sparse Matrix of class \"dgCMatrix\"\n",
       "                 s0\n",
       "CRIM  -0.0199812921\n",
       "ZN     .           \n",
       "INDUS  .           \n",
       "CHAS   1.5862329781\n",
       "NOX   -0.1352259277\n",
       "RM     4.1773040682\n",
       "AGE    .           \n",
       "DIS   -0.0392889037\n",
       "RAD    .           \n",
       "TAX   -0.0002832354\n",
       "PT    -0.7211265539\n",
       "B      0.0059515323\n",
       "LSTAT -0.4788120765"
      ]
     },
     "metadata": {},
     "output_type": "display_data"
    }
   ],
   "source": [
    "# ElasticNet\n",
    "elastic.boston <- glmnet(data.matrix(boston[,-14]), boston$MV, family=\"gaussian\", alpha=0.5, lambda=1)\n",
    "print(elastic.boston)\n",
    "elastic.boston$beta\n",
    "\n",
    "pre_boston.elastic <- predict(elastic.boston, data.matrix(boston[,-14]), s=0.01, type=\"response\")"
   ]
  },
  {
   "cell_type": "code",
   "execution_count": 26,
   "metadata": {},
   "outputs": [
    {
     "data": {
      "text/html": [
       "<table class=\"dataframe\">\n",
       "<caption>A matrix: 3 × 4 of type dbl</caption>\n",
       "<thead>\n",
       "\t<tr><th></th><th scope=col>MLR</th><th scope=col>Ridge</th><th scope=col>Lasso</th><th scope=col>ElasticNet</th></tr>\n",
       "</thead>\n",
       "<tbody>\n",
       "\t<tr><th scope=row>RMSE</th><td>4.679191</td><td>4.7689611</td><td>5.3353318</td><td>5.138831</td></tr>\n",
       "\t<tr><th scope=row>MAE</th><td>3.270863</td><td>3.2424763</td><td>3.7062283</td><td>3.537802</td></tr>\n",
       "\t<tr><th scope=row>MAPE</th><td>0.164173</td><td>0.1617799</td><td>0.1890731</td><td>0.178655</td></tr>\n",
       "</tbody>\n",
       "</table>\n"
      ],
      "text/latex": [
       "A matrix: 3 × 4 of type dbl\n",
       "\\begin{tabular}{r|llll}\n",
       "  & MLR & Ridge & Lasso & ElasticNet\\\\\n",
       "\\hline\n",
       "\tRMSE & 4.679191 & 4.7689611 & 5.3353318 & 5.138831\\\\\n",
       "\tMAE & 3.270863 & 3.2424763 & 3.7062283 & 3.537802\\\\\n",
       "\tMAPE & 0.164173 & 0.1617799 & 0.1890731 & 0.178655\\\\\n",
       "\\end{tabular}\n"
      ],
      "text/markdown": [
       "\n",
       "A matrix: 3 × 4 of type dbl\n",
       "\n",
       "| <!--/--> | MLR | Ridge | Lasso | ElasticNet |\n",
       "|---|---|---|---|---|\n",
       "| RMSE | 4.679191 | 4.7689611 | 5.3353318 | 5.138831 |\n",
       "| MAE | 3.270863 | 3.2424763 | 3.7062283 | 3.537802 |\n",
       "| MAPE | 0.164173 | 0.1617799 | 0.1890731 | 0.178655 |\n",
       "\n"
      ],
      "text/plain": [
       "     MLR      Ridge     Lasso     ElasticNet\n",
       "RMSE 4.679191 4.7689611 5.3353318 5.138831  \n",
       "MAE  3.270863 3.2424763 3.7062283 3.537802  \n",
       "MAPE 0.164173 0.1617799 0.1890731 0.178655  "
      ]
     },
     "metadata": {},
     "output_type": "display_data"
    }
   ],
   "source": [
    "# 比較全部(均方根誤差RMSE、平均絕對誤差MAE、平均絕對百分比誤差MAPE)\n",
    "table = array(0, c(3,4))\n",
    "rownames(table)<-c(\"RMSE\",\"MAE\",\"MAPE\")\n",
    "colnames(table)<-c(\"MLR\",\"Ridge\",\"Lasso\",\"ElasticNet\")\n",
    "\n",
    "# MLR\n",
    "table[1,1] <-sqrt(mean((boston$MV- mlr.boston$fitted.values)^2))\n",
    "table[2,1] <-mean(abs(boston$MV- mlr.boston$fitted.values))\n",
    "table[3,1] <-mean(abs((boston$MV- mlr.boston$fitted.values)/boston$MV))\n",
    "\n",
    "# Ridge\n",
    "table[1,2] <-sqrt(mean((boston$MV- pre_boston.ridge)^2))\n",
    "table[2,2] <-mean(abs(boston$MV- pre_boston.ridge))\n",
    "table[3,2] <-mean(abs((boston$MV- pre_boston.ridge)/boston$MV))\n",
    "\n",
    "# Lasso\n",
    "table[1,3] <-sqrt(mean((boston$MV- pre_boston.lasso)^2))\n",
    "table[2,3] <-mean(abs(boston$MV- pre_boston.lasso))\n",
    "table[3,3] <-mean(abs((boston$MV- pre_boston.lasso)/boston$MV))\n",
    "\n",
    "# ElasticNet\n",
    "table[1,4] <-sqrt(mean((boston$MV- pre_boston.elastic)^2))\n",
    "table[2,4] <-mean(abs(boston$MV- pre_boston.elastic))\n",
    "table[3,4] <-mean(abs((boston$MV- pre_boston.elastic)/boston$MV))\n",
    "\n",
    "table "
   ]
  }
 ],
 "metadata": {
  "kernelspec": {
   "display_name": "R",
   "language": "R",
   "name": "ir"
  },
  "language_info": {
   "codemirror_mode": "r",
   "file_extension": ".r",
   "mimetype": "text/x-r-source",
   "name": "R",
   "pygments_lexer": "r",
   "version": "4.1.2"
  }
 },
 "nbformat": 4,
 "nbformat_minor": 4
}
