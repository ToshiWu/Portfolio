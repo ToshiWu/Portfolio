{
 "cells": [
  {
   "cell_type": "code",
   "execution_count": 1,
   "metadata": {},
   "outputs": [],
   "source": [
    "import pandas as pd\n",
    "import numpy as np\n",
    "\n",
    "from ckiptagger import WS, POS\n",
    "from tqdm.notebook import tqdm"
   ]
  },
  {
   "cell_type": "code",
   "execution_count": 2,
   "metadata": {},
   "outputs": [],
   "source": [
    "df_train = pd.read_csv('news_clustering_train.tsv', sep='\\t')\n",
    "df_test = pd.read_csv('news_clustering_test.tsv', sep='\\t')"
   ]
  },
  {
   "cell_type": "code",
   "execution_count": 3,
   "metadata": {},
   "outputs": [
    {
     "data": {
      "text/html": [
       "<div>\n",
       "<style scoped>\n",
       "    .dataframe tbody tr th:only-of-type {\n",
       "        vertical-align: middle;\n",
       "    }\n",
       "\n",
       "    .dataframe tbody tr th {\n",
       "        vertical-align: top;\n",
       "    }\n",
       "\n",
       "    .dataframe thead th {\n",
       "        text-align: right;\n",
       "    }\n",
       "</style>\n",
       "<table border=\"1\" class=\"dataframe\">\n",
       "  <thead>\n",
       "    <tr style=\"text-align: right;\">\n",
       "      <th></th>\n",
       "      <th>index</th>\n",
       "      <th>class</th>\n",
       "      <th>title</th>\n",
       "    </tr>\n",
       "  </thead>\n",
       "  <tbody>\n",
       "    <tr>\n",
       "      <th>0</th>\n",
       "      <td>0</td>\n",
       "      <td>體育</td>\n",
       "      <td>亞洲杯奪冠賠率：日本、伊朗領銜 中國竟與泰國並列</td>\n",
       "    </tr>\n",
       "    <tr>\n",
       "      <th>1</th>\n",
       "      <td>1</td>\n",
       "      <td>體育</td>\n",
       "      <td>9輪4球本土射手僅次武磊 黃紫昌要搶最強U23頭銜</td>\n",
       "    </tr>\n",
       "    <tr>\n",
       "      <th>2</th>\n",
       "      <td>2</td>\n",
       "      <td>體育</td>\n",
       "      <td>如果今年勇士奪冠，下賽季詹姆斯何去何從？</td>\n",
       "    </tr>\n",
       "    <tr>\n",
       "      <th>3</th>\n",
       "      <td>3</td>\n",
       "      <td>體育</td>\n",
       "      <td>超級替補！科斯塔本賽季替補出場貢獻7次助攻</td>\n",
       "    </tr>\n",
       "    <tr>\n",
       "      <th>4</th>\n",
       "      <td>4</td>\n",
       "      <td>體育</td>\n",
       "      <td>騎士6天里發生了啥？從首輪搶七到次輪3-0猛龍</td>\n",
       "    </tr>\n",
       "  </tbody>\n",
       "</table>\n",
       "</div>"
      ],
      "text/plain": [
       "   index class                      title\n",
       "0      0    體育   亞洲杯奪冠賠率：日本、伊朗領銜 中國竟與泰國並列\n",
       "1      1    體育  9輪4球本土射手僅次武磊 黃紫昌要搶最強U23頭銜\n",
       "2      2    體育       如果今年勇士奪冠，下賽季詹姆斯何去何從？\n",
       "3      3    體育      超級替補！科斯塔本賽季替補出場貢獻7次助攻\n",
       "4      4    體育    騎士6天里發生了啥？從首輪搶七到次輪3-0猛龍"
      ]
     },
     "metadata": {},
     "output_type": "display_data"
    },
    {
     "data": {
      "text/html": [
       "<div>\n",
       "<style scoped>\n",
       "    .dataframe tbody tr th:only-of-type {\n",
       "        vertical-align: middle;\n",
       "    }\n",
       "\n",
       "    .dataframe tbody tr th {\n",
       "        vertical-align: top;\n",
       "    }\n",
       "\n",
       "    .dataframe thead th {\n",
       "        text-align: right;\n",
       "    }\n",
       "</style>\n",
       "<table border=\"1\" class=\"dataframe\">\n",
       "  <thead>\n",
       "    <tr style=\"text-align: right;\">\n",
       "      <th></th>\n",
       "      <th>index</th>\n",
       "      <th>class</th>\n",
       "      <th>title</th>\n",
       "    </tr>\n",
       "  </thead>\n",
       "  <tbody>\n",
       "    <tr>\n",
       "      <th>0</th>\n",
       "      <td>1800</td>\n",
       "      <td>體育</td>\n",
       "      <td>如果騎士火箭進入總決賽，誰的勝算大？</td>\n",
       "    </tr>\n",
       "    <tr>\n",
       "      <th>1</th>\n",
       "      <td>1801</td>\n",
       "      <td>體育</td>\n",
       "      <td>從個人競技狀態來看，三個階段的詹姆斯，哪個最強？</td>\n",
       "    </tr>\n",
       "    <tr>\n",
       "      <th>2</th>\n",
       "      <td>1802</td>\n",
       "      <td>體育</td>\n",
       "      <td>騎士總冠軍！地球人誰能阻擋詹姆斯？史上最佳就是他！打服所有人</td>\n",
       "    </tr>\n",
       "    <tr>\n",
       "      <th>3</th>\n",
       "      <td>1803</td>\n",
       "      <td>體育</td>\n",
       "      <td>詹姆斯絕殺，騎士3比0，猛龍懷疑人生</td>\n",
       "    </tr>\n",
       "    <tr>\n",
       "      <th>4</th>\n",
       "      <td>1804</td>\n",
       "      <td>體育</td>\n",
       "      <td>騎士和步行者戰成搶七險勝，而猛龍即將被橫掃，步行者跟猛龍的區別在哪裡？</td>\n",
       "    </tr>\n",
       "  </tbody>\n",
       "</table>\n",
       "</div>"
      ],
      "text/plain": [
       "   index class                                title\n",
       "0   1800    體育                   如果騎士火箭進入總決賽，誰的勝算大？\n",
       "1   1801    體育             從個人競技狀態來看，三個階段的詹姆斯，哪個最強？\n",
       "2   1802    體育       騎士總冠軍！地球人誰能阻擋詹姆斯？史上最佳就是他！打服所有人\n",
       "3   1803    體育                   詹姆斯絕殺，騎士3比0，猛龍懷疑人生\n",
       "4   1804    體育  騎士和步行者戰成搶七險勝，而猛龍即將被橫掃，步行者跟猛龍的區別在哪裡？"
      ]
     },
     "metadata": {},
     "output_type": "display_data"
    }
   ],
   "source": [
    "display(df_train.head())\n",
    "display(df_test.head())"
   ]
  },
  {
   "cell_type": "code",
   "execution_count": 4,
   "metadata": {},
   "outputs": [],
   "source": [
    "train_titles = {row['index']: row['title'] for _, row in df_train.iterrows()}\n",
    "train_classes = {row['index']: row['class'] for _, row in df_train.iterrows()}\n",
    "\n",
    "test_titles = {row['index']: row['title'] for _, row in df_test.iterrows()}\n",
    "test_classes = {row['index']: row['class'] for _, row in df_test.iterrows()}"
   ]
  },
  {
   "cell_type": "code",
   "execution_count": 5,
   "metadata": {},
   "outputs": [],
   "source": [
    "all_news_class = ['體育', '財經', '科技', '旅遊', '農業', '遊戲']"
   ]
  },
  {
   "cell_type": "markdown",
   "metadata": {},
   "source": [
    "# 斷詞 + POS"
   ]
  },
  {
   "cell_type": "code",
   "execution_count": 6,
   "metadata": {
    "tags": []
   },
   "outputs": [],
   "source": [
    "# 忽略警告\n",
    "import warnings\n",
    "warnings.simplefilter(\"ignore\")\n",
    "ws, pos = WS('./data/'), POS('./data/')"
   ]
  },
  {
   "cell_type": "code",
   "execution_count": 7,
   "metadata": {
    "tags": []
   },
   "outputs": [
    {
     "data": {
      "application/vnd.jupyter.widget-view+json": {
       "model_id": "d58c39b6d2c04230b9760fd04ebae511",
       "version_major": 2,
       "version_minor": 0
      },
      "text/plain": [
       "HBox(children=(FloatProgress(value=0.0, max=1800.0), HTML(value='')))"
      ]
     },
     "metadata": {},
     "output_type": "display_data"
    },
    {
     "name": "stdout",
     "output_type": "stream",
     "text": [
      "\n"
     ]
    }
   ],
   "source": [
    "train_title_cuts = {}\n",
    "for index, title in tqdm(train_titles.items()):\n",
    "    word_s = ws([title])\n",
    "    word_p = pos(word_s)\n",
    "    train_title_cuts[index] = list(zip(word_s[0], word_p[0]))"
   ]
  },
  {
   "cell_type": "code",
   "execution_count": 8,
   "metadata": {
    "tags": []
   },
   "outputs": [
    {
     "data": {
      "application/vnd.jupyter.widget-view+json": {
       "model_id": "5a8885e78cb04379a0c5019a17b457b4",
       "version_major": 2,
       "version_minor": 0
      },
      "text/plain": [
       "HBox(children=(FloatProgress(value=0.0, max=600.0), HTML(value='')))"
      ]
     },
     "metadata": {},
     "output_type": "display_data"
    },
    {
     "name": "stdout",
     "output_type": "stream",
     "text": [
      "\n"
     ]
    }
   ],
   "source": [
    "test_title_cuts = {}\n",
    "for index, title in tqdm(test_titles.items()):\n",
    "    word_s = ws([title])\n",
    "    word_p = pos(word_s)\n",
    "    test_title_cuts[index] = list(zip(word_s[0], word_p[0]))"
   ]
  },
  {
   "cell_type": "code",
   "execution_count": 9,
   "metadata": {},
   "outputs": [
    {
     "data": {
      "text/plain": [
       "[('國腳', 'Na'),\n",
       " ('張呈棟', 'Nb'),\n",
       " ('：', 'COLONCATEGORY'),\n",
       " ('從', 'D'),\n",
       " ('沒', 'D'),\n",
       " ('想', 'VE'),\n",
       " ('過', 'Di'),\n",
       " ('自己', 'Nh'),\n",
       " ('會', 'D'),\n",
       " ('出', 'VC'),\n",
       " ('一', 'Neu'),\n",
       " ('本', 'Nf'),\n",
       " ('書', 'Na')]"
      ]
     },
     "execution_count": 9,
     "metadata": {},
     "output_type": "execute_result"
    }
   ],
   "source": [
    "train_title_cuts[120]"
   ]
  },
  {
   "cell_type": "markdown",
   "metadata": {},
   "source": [
    "# 排除較無意義的詞性"
   ]
  },
  {
   "cell_type": "code",
   "execution_count": 10,
   "metadata": {
    "tags": []
   },
   "outputs": [
    {
     "name": "stdout",
     "output_type": "stream",
     "text": [
      "Nb : ['切沃', '恆生', '魯能', '高曉松', '霍金斯', '張大仙', '艾科麥佛鯊', '騰訊王', '舒斯特爾', '德比', '大神', '單薇恩', '富力', '伯克希爾', '戈麥斯', '泰倫盧', '朱嘯虎', '布茲德里克', '建成', '里坦克', '阿里巴巴', '章澤天', '電一', '庫里', '金英權', '小白', '伏爾加格勒', '馬龍', '小明', '昌圖', '勒布朗', '東皇', '米切爾西蒙斯', '盼保', 'P60八核讓', '拉卡拉', '刷安徒恩', '阿迪薩亞', '惠若琪', '紫鑫', '王楚欽', '圍甲', '哪吒', '萊昂納德', '梁建章', '旭旭', '昂科威', '安琪拉', '喬丹', 'U23']\n",
      "=======================\n",
      "VC : ['玩不動', '破除', '拍拍', '報', '獨造', '衝施', '丟棄', '秀', '比較', '實現', '拿', '購置', '留下', '舉辦', '學會', '操作', '問倒', '打不過', '找回', '過上', '追', '帶動', '審查', '監控', '毀滅', '止損', '帶火', '降', '撿到', '裝', '實施', '照看', '拋棄', '挑選出', '玩', '開出', '實拍', '嫁', '翻', '包車', '覽', '套現', '趕', '接', '拉黑', '制裁', '下調', '考', '遇到', '送走']\n",
      "=======================\n",
      "Na : ['葷素', '貨源', '有錢人', '參數', '閃電狼', '聖水', '騙子', '商人', '國家級', '莊稼漢', '星星', '花式', '頭腦', '水質', '原油', '老爸', '幣值', '夢奇', '紅心', '搏擊', '季後賽', '獎勵', '日', '腦', '電量', '命運', '戒指', '銀', '水怪', '人物', '背', '職業', '藥劑', '野螳螂', '答案', '媒體', '可口可樂', '雞蛋', '主網', '大型', '年費', '萬達學', '葬禮', '愛', '樣子', '遺憾', '段位', '女', '風潮', '目標']\n",
      "=======================\n",
      "COLONCATEGORY : ['：', ':']\n",
      "=======================\n",
      "Nc : ['韓國', '自駕游', '大鵬葵壩', '湖南省', '亞洲', '綿竹', '大洲島', '黃土高原', '成都', '火鍋店', '尼斯湖', '上川島', '大區', '臨洮', '北大', '縣區', '高空', '仁壽', '珠海', '便利店', '咸陽', '茶鄉', '吉隆坡', '債市', '福建', '泰拉瑞亞', '建行', '球場', '證監局', '科', '臥室', '上位', '萬寧', '利物浦', '城市', '英', '嵐皋', '神壇', '國外', '濱', '洋溪鎮', '寧波', '雪鄉', '南非', '全球', '波密', '戶外', '江蘇', '櫻花園', '家鄉']\n",
      "=======================\n",
      "PAUSECATEGORY : ['、']\n",
      "=======================\n",
      "VB : ['效力', '加冕', '加持', '解圍', '退改', '導航', '解體', '入賬', '鍍金', '退貨', '復仇', '解密', '護航', '領銜', '應對', '定位', '相比', '騙錢', '拍照', '罰款', '助威', '計算出來', '分段', '抓來', '融資', '通話', '加起來', '執教', '開戰', '退款', '加工', '分組', '鋪平', '站台', '再見', '罵屌絲', '一網打盡', '代打', '提前', '收回來', '上架', '分紅', '解惑', '加油', '充飢', '充氣', '扣分']\n",
      "=======================\n",
      "WHITESPACE : [' ']\n",
      "=======================\n",
      "D : ['為啥', '一', '可否', '搞不好', '到處', '常常', '應', '首次', '再', '同', '曾經', '該', '未必', '一起', '不應該', '還可以', '交互', '多多', '老是', '能不能', '能否', '不可', '總算', '就', '甚至', '只有', '凌空', '屢屢', '或許', '不再', '硬生生', '變相', '盡快', '率先', '快', '差點', '不可以', '從來', '即', '為何', '那麼', '連', '總是', '究竟', '雙雙', '再次', '絕對', '紛紛', '不得', '依然']\n",
      "=======================\n",
      "P : ['被', '遭', '比', '以', '根據', '針對', '與', '等', '靠', '直至', '自從', '臨', '就', '為', '給', '幫', '到', '把', '當', '繼', '和', '跟', '憑', '隨了', '像', '為了', '至', '比如', '趁著', '往', '距離', '關於', '除', '按', '待', '用', '因', '在', '除了', '於', '隨', '向', '趁', '受', '如', '將', '對', '慘遭', '離', '從']\n",
      "=======================\n",
      "VG : ['名叫', '排', '叫做', '稱', '排名', '算是', '理解為', '姓', '做', '彷彿', '算', '美成', '叫', '稱得上', '竟是', '投票成', '當上', '酷似', '作為', '成', '等於', '集成', '疑似', '為', '當', '成為', '形成', '排行', '改造成', '似', '像', '居', '建成', '封號', '堪稱', '賣成', '做成', '當成', '稱為', '譽為', '並列', '當作', '戰成', '屬於', '變成', '變', '升任', '類似', '稱作', '如']\n",
      "=======================\n",
      "Neu : ['一', '15萬', '九', '5050', '100多', '32', '2:1', '23萬一', '30萬', '一萬', '60多', '第一', '450億', '1300萬', '20', '4.7億', '24', '十六', '2400', '幾百', '2:3', '54', '1.23億', '1.46億', '7', '10', '千', '60萬', '兩', '十幾', '80', '7000', '幾', '1699', '980', '5', '四', '17', '13', '46萬', '6', '9-0', '15.60', '1099', '150', '5.5', '2888', '零', '十萬', '715']\n",
      "=======================\n",
      "Nf : ['刻', '批', '色', '週', '些', '名', '回', '鍋', '句', '只', '方', '度', '級', '米', '個', '碗', '頓', 'K', '日', '隊', '點', '周', '招', '英吋', '則', '票', '股', '毛', '期', '串', '處', '家', '所', '把', '斤', '群', '行', '步', '局', '隻', '晚', '分', '種', '對', '棵', '檔', '噸', '班', '套', '港元']\n",
      "=======================\n",
      "VJ : ['服', '發揮', '從事', '超', '限', '痛失', '高達', '毫無', '歸屬於', '強過', '新增', '含有', '共享', '負', '近', '贏下', '耗', '來自', '失去', '喪失', '錯失', '替代', '吃上', '抗', '認識', '展望', '持有', '處於', '出', '出身', '負於', '發生', '惜', '受到', '入選', '羨慕', '沈迷', '歸', '贏得', '共有', '看好', '充', '領先', '得', '沒', '達', '養有', '靠', '獲', '適用']\n",
      "=======================\n",
      "VD : ['欠', '速遞', '清繳', '收費', '發放', '配', '發給', '發', '賣', '供應', '白送', '補貼', '補繳', '傳', '送', '借貸', '轉讓', '坑', '售', '郵給', '禁售', '給', '貸', '提供', '還', '予', '輸給', '貸款', '搶', '贏', '付', '分', '拒賠', '寄予', '交付', '輸', '支付', '給予', '借']\n",
      "=======================\n",
      "Dfa : ['更', '還要', '非常', '遠', '超', '如此', '極', '比較', '很', '好', '頗', '這麼', '十分', '還', '過', '遠遠', '最', '過於', '有些', '有點', '同樣', '多', '太', '不大', '較', '更為', '越來越']\n",
      "=======================\n",
      "VH : ['吃香', '掉', '拔涼拔涼', '太少', '負債累累', '畏難', '相反', '無盡', '固定', '啓用', '充足', '秀', '不見了', '還可以', '快速', '多多', '見效', '惡化', '心酸', '偽風口', '積雪', '深入', '發燒', '不錯', '假', '清淨', '急', '變幻莫測', '貧困', '撲朔迷離', '深', '壯觀', '凝重', '悲觀', '戰平', '閃崩', '舊', '別樣', '涼爽', '偉大', '暴躁', '跌停', '健', '乾嘛', '乾淨', '生存', '關門大吉', '安全', '紅', '錯']\n",
      "=======================\n",
      "Cbb : ['因為', '不過', '但是', '並', '如果', '即使', '不管', '還不如', '既然', '不僅', '只有', '但', '跟著', '若', '只要', '假如', '不如', '連', '縱使', '而', '並且', '因', '否則', '可是', '就算', '另外', '不然', '而是', '雖然', '既', '要是', '反而']\n",
      "=======================\n",
      "Nd : ['長期', '2018年', '5日', '季度', '3月', '四月', '5月', '最後', '五月份', '永久', '1990年', '旅遊節', '早晨', '未來', '明年', '6旬', '狗年', '夜', '首日', '正月', '6月', '春季', '春', '近日', '一日', '幾月份', '週末', '05月', '中期', '2018年度', '初夏', '荒古', '23日', '七月份', '2017年', '周', '採摘節', '熱天', '30號', '昨天', '現代', '秋季', '相親節', '短期', '目前', '一會', '大中', '90年', '2019', '2019年']\n",
      "=======================\n",
      "VA : ['自駕游', '娶妻', '爭冠', '撒沙', '旅遊', '求生', '反彈', '攻堅', '出台', '壓槍', '流動', '加密', '通信', '毀號', '唱歌', '升', '倒流', '實習', '播種', '捲土重來', '誕生', '排兵', '買單', '競技', '開店', '擺地攤', '開課', '結婚', '做生意', '抗詹', '砸盤', '掃碼', '減稅', '脫貧', '神杯', '出貨', '問津', '行', '違規', '招商', '奔馳', '造假', '做種', '轉農', '上班', '爆錘', '逃亡', '帶隊', '騎行', '看盤']\n",
      "=======================\n",
      "COMMACATEGORY : [',', '，']\n",
      "=======================\n",
      "Nes : ['每', '該', '前', '何', '另', '首', '各', '上', '同', '近', '貴', '頭', '下', '某', '本', '後']\n",
      "=======================\n",
      "QUESTIONCATEGORY : ['？']\n",
      "=======================\n",
      "EXCLAMATIONCATEGORY : ['！', '!']\n",
      "=======================\n",
      "Di : ['起來', '著', '個', '過', '了']\n",
      "=======================\n",
      "Nep : ['這', '什麼', '其', '此', '啥', '其中', '哪', '那']\n",
      "=======================\n",
      "Caa : ['及', '至', '暨', '比', '或者', '或', '到', '或是', 'VS', '又', '和', '還是', '與', '跟']\n",
      "=======================\n",
      "VCL : ['重回', '入', '走進', '進', '路過', '穿透', '直達', '走到', '暗渡', '回', '去', '前來', '登陸', '蒞臨', '栽進', '前往', '回到', '走下', '深入', '住', '跌至', '上', '到', '用於', '出發到', '穿過', '遊覽', '回歸', '遠離', '存進', '來到', '橫掃', '到達', '過', '往', '赴', '玩遍', '抵達', '升至', '走訪', '退出', '穿越', '在', '度過', '出', '走過', '重返', '跌出', '盤踞', '進入']\n",
      "=======================\n",
      "Neqa : ['四成', '一半', '這麼多', '所有', '1%', '30%', '步步', '部分', '大多數', '三分之一', '多少', '一切', '個個', '大多', '有的', '全', '百分之八十', '無數', '一些', '9.89%', '其他', '一點', '那些', '多點', '滴滴', '很多', '更多', '10%', '67%', '41.8%', '哪些', '90%', '8%', '這些', '句句', '半', '不少', '80%', '其它', '有些', '許多', '多', '100%', '0.8%', '一處處', '任何', '20%', '15%', '1/4', '大量']\n",
      "=======================\n",
      "Nh : ['他', '它', '人家', '自身', '我們', '對方', '個人', '別人', '她', '我', '本人', '各自', '自我', '誰', '你', '各位', '一方', '大家', '您', '他們', '自己', '她們', '私人', '父子倆', '屌絲', '小眾', '它們', '雙方', '俺們', '你們']\n",
      "=======================\n",
      "FW : ['+7', 'PK', 'steam', 'CCTV5', 'BCH', 'Hello ', 'eStarPro vs WF.D', 'cpu', '4AM', 'max2', 'J', 'bad boy', 'AMD', 'p', '6G+', '6 10.5', 'C', '-0', 'Pro', 'lol', '<', 'CFPL', '/', 'Aurum ', 'PVE', 'h', 'kpl', 'ADC', 'FPP', 'S11', 'eStar', 'N+1', 'QGhappy', 'NBA ', 'CFO', 'ST', '：AG', 'LPL', 'QM', ' 樂', 'K', 'iPhone X', 'G3', '-6', 'dnf', 'Mc', 'mAh+', 'CBA', 'Brian Kelly', 'KBM']\n",
      "=======================\n",
      "SHI : ['像是', '是']\n",
      "=======================\n",
      "VE : ['聊', '稱', '識別', '見', '提猜', '防止', '公佈', '發佈', '證', '發誓', '精准', '證明', '做到', '賭約', '預測', '感嘆', '炫耀', '探索', '講解', '判定', '聯想', '呼', '准', '預告', '揭曉', '想要', '安排', '探討', '介紹', '公認', '問', '警惕', '算', '示範', '調研', '形容', '預防', '深思', '承諾', '預期', '判斷', '幻想', '廣播', '以為', '管', '聽說', '查找', '想', '講', '自嘲']\n",
      "=======================\n",
      "DE : ['得', '的', '之', '地']\n",
      "=======================\n",
      "VHC : ['破', '增長', '加快', '結束', '還原', '壞', '溫暖', '團結', '機構化', '下來', '繁榮', '愁壞', '強化', '減少', '豐富', '公開', '冷卻', '現代化', '凍', '震驚', '開', '可憐', '告破', '規模化', '陷', '擴張', '滿足', '斷', '傷', '變動', '產生', '感動', '增加', '平衡', '國際化', '停', '肥', '熱', '智能化', '暫停', '縮小', '愁死', '降低', '麻煩', '恢復', '淡化', '增 ', '優化', '增強', '辛苦']\n",
      "=======================\n",
      "Ng : ['之間', '前', '底', '外', '時', '以外', '之上', '上', '之前', '以下', '之中', '之後', '之下', '後', '起', '中', '而言', '來', '之外', '初', '以後', '左右', '間', '以上', '般', '為止', '以來', '裡', '下', '之內', '內']\n",
      "=======================\n",
      "VK : ['需要', '感受', '恨', '怕', '討厭', '感覺', '奇怪', '放心', '瞭解', '願意', '面臨', '盼', '堅持', '意味', '願', '害怕', '知', '指望', '希望', '恐', '懷疑', '忘', '遇', '忘記', '擔心', '遺憾', '想見', '顯示', '小心', '覺', '感謝', '知道', '曲解', '不忘', '信', '意想不到', '依賴', '覺得', '明白', '理解', '流傳', '喜歡', '不滿', '同意', '注意', '感覺到', '欲', '回憶', '懂得', '有利於']\n",
      "=======================\n",
      "Ncd : ['西', '這裡', '兩旁', '前沿', '畔', '外', '西部', '上', '方', '以下', '哪下', '上方', '中', '底部', '北', '裡面', '邊', '當中', '東方', '一帶', '哪', '哪裡', '上面', '東部', '外面', '那裡', '間', '那邊', '中間', '末端', '東', '裡', '哪兒', '中部', '下', '對面', '內', '東西部', '旁邊']\n",
      "=======================\n",
      "A : ['一般', '國產', '現役', '單', '同一', '寶有', '獨家', '業餘', '超', '主', '長途', '中西', '獨門', '多餘', '現行', '唯一', '原', '眾', '綜合', '常務', '必備', '上上', '雙', '火紅', '彩色', '前置', '麻辣', '真正', '額外', '中', '基礎', '基層', '最佳', '碧藍', '大幅度', '小本', '新興', '歐式', '野生', '高度', '乒乓', '後置', '優質', '獨角', '頭號', '共同', '同等', '總', '超級', '新一代']\n",
      "=======================\n",
      "V_2 : ['有']\n",
      "=======================\n",
      "VL : ['便利', '使得', '習慣', '令', '持續', '愛好', '致', '喜好', '能', '開始', '趨於', '故意', '愛', '甘願', '用來', '後悔', '肯', '讓', '使', '敢', '不惜', '導致']\n",
      "=======================\n",
      "T : ['矣', '啦', '嘛', '來', '呢', '咯', '嗎', '的', '哦', '啊', '吧', '去', '哪', '麼', '了']\n",
      "=======================\n",
      "VI : ['傾心', '取勝', '驚艷', '專用', '著稱']\n",
      "=======================\n",
      "DASHCATEGORY : ['-', '—']\n",
      "=======================\n",
      "I : ['哦', '瑪法里奧']\n",
      "=======================\n",
      "Dk : ['想不到', '反過來', '據聞', '那麼', '據說', '外傳', '結果', '那']\n",
      "=======================\n",
      "VF : ['帶領', '拒絕', '策劃', '推選', '試', '叫', '圖', '申請', '助', '告誡', '請', '率領', '準備', '試試', '催', '勸住', '打算', '要求', '止住', '鼓勵', '勸說', '擬', '繼續', '拒', '判', '邀', '停止', '逼']\n",
      "=======================\n",
      "Da : ['共', '正好', '光', '足足', '不下', '只', '將近', '幾乎', '唯獨', '幾近', '才', '近', '約', '僅', '最多']\n",
      "=======================\n",
      "PARENTHESISCATEGORY : ['》', '」', '「', '（', '(', '）', '《']\n",
      "=======================\n",
      "Nv : ['經歷', '輔助', '問', '配置', '度假', '思考', '買單', '防治', '增發', '旅遊', '判罰', '遊樂', '錄制', '研究', '航海', '兼職', '回歸', '抗戰', '絕殺', '惡搞', '灌籃', '推薦', '銷售', '組合', '翻譯', '批發', '疊加', '開發', '生產', '登山', '營銷', '工作', '創業', '解救', '關聯', '護髮', '燃燒', '分銷', '射擊', '訴訟', '崩潰', '管理', '體驗', '私募', '代理', '供電']\n",
      "=======================\n",
      "PERIODCATEGORY : ['。', '·']\n",
      "=======================\n",
      "VAC : ['移動', '蒸發', '推進', '上演', '集合', '動']\n",
      "=======================\n",
      "Dfb : ['一點', '些', '極了']\n",
      "=======================\n",
      "Cab : ['等等', '等']\n",
      "=======================\n",
      "SEMICOLONCATEGORY : ['；']\n",
      "=======================\n",
      "Neqb : ['半', '多', '幾', '以上']\n",
      "=======================\n",
      "ETCCATEGORY : ['…']\n",
      "=======================\n",
      "Cba : ['的話']\n",
      "=======================\n",
      "DOTCATEGORY : ['.']\n",
      "=======================\n"
     ]
    }
   ],
   "source": [
    "pos_analysis = {}\n",
    "for _, pairs in train_title_cuts.items():\n",
    "    for word, flag in pairs:\n",
    "        if flag not in pos_analysis:\n",
    "            pos_analysis[flag] = set()\n",
    "        pos_analysis[flag].add(word)\n",
    "\n",
    "for flag, words in pos_analysis.items():\n",
    "    print(flag, ':', list(words)[:50])\n",
    "    print('=======================')"
   ]
  },
  {
   "cell_type": "markdown",
   "metadata": {},
   "source": [
    "|         Type        |     Description    |         Type        |     Description    |         Type        |     Description    |         Type        |     Description    |         Type        |     Description    |\n",
    "|:-------------------:|:------------------:|:-------------------:|:------------------:|:-------------------:|:------------------:|:-------------------:|:------------------:|:-------------------:|:------------------:|\n",
    "| A                   | 非謂形容詞         | Na                  | 普通名詞           | Nv                  | 名物化動詞         | VHC                 | 狀態使動動詞       | COLONCATEGORY       | 冒號               |\n",
    "| Caa                 | 對等連接詞         | Nb                  | 專有名詞           | P                   | 介詞               | VI                  | 狀態類及物動詞     | COMMACATEGORY       | 逗號               |\n",
    "| Cab                 | 連接詞，如：等等   | Nc                  | 地方詞             | T                   | 語助詞             | VJ                  | 狀態及物動詞       | DASHCATEGORY        | 破折號             |\n",
    "| Cba                 | 連接詞，如：的話   | Ncd                 | 位置詞             | VA                  | 動作不及物動詞     | VK                  | 狀態句賓動詞       | DOTCATEGORY         | 點號               |\n",
    "| Cbb                 | 關聯連接詞         | Nd                  | 時間詞             | VAC                 | 動作使動動詞       | VL                  | 狀態謂賓動詞       | ETCCATEGORY         | 刪節號             |\n",
    "| D                   | 副詞               | Nep                 | 指代定詞           | VB                  | 動作類及物動詞     | V_2                 | 有                 | EXCLAMATIONCATEGORY | 驚嘆號             |\n",
    "| Da                  | 數量副詞           | Neqa                | 數量定詞           | VC                  | 動作及物動詞       |                     |                    | PARENTHESISCATEGORY | 括號               |\n",
    "| Dfa                 | 動詞前程度副詞     | Neqb                | 後置數量定詞       | VCL                 | 動作接地方賓語動詞 |                     |                    | PAUSECATEGORY       | 頓號               |\n",
    "| Dfb                 | 動詞後程度副詞     | Nes                 | 特指定詞           | VD                  | 雙賓動詞           | DE                  | 的之得地           | PERIODCATEGORY      | 句號               |\n",
    "| Di                  | 時態標記           | Neu                 | 數詞定詞           | VF                  | 動作謂賓動詞       | SHI                 | 是                 | QUESTIONCATEGORY    | 問號               |\n",
    "| Dk                  | 句副詞             | Nf                  | 量詞               | VE                  | 動作句賓動詞       | FW                  | 外文               | SEMICOLONCATEGORY   | 分號               |\n",
    "| DM                  | 定量式             | Ng                  | 後置詞             | VG                  | 分類動詞           |                     |                    | SPCHANGECATEGORY    | 雙直線             |\n",
    "| I                   | 感嘆詞             | Nh                  | 代名詞             | VH                  | 狀態不及物動詞     |                     |                    | WHITESPACE          | 空白               |"
   ]
  },
  {
   "cell_type": "code",
   "execution_count": 11,
   "metadata": {},
   "outputs": [],
   "source": [
    "# 根據以上列舉出來的文字以及詞性表，請列出想要排除的詞性\n",
    "def get_excluded_flags(train_title_cuts, apper_times=20):\n",
    "    pos_analysis = {}\n",
    "    flags=[]\n",
    "    \n",
    "    for _, pairs in train_title_cuts.items():\n",
    "        for word, flag in pairs:\n",
    "            if flag not in pos_analysis:\n",
    "                pos_analysis[flag] = set()\n",
    "            pos_analysis[flag].add(word)\n",
    "\n",
    "    for flag, words in pos_analysis.items():\n",
    "        if len(words) < apper_times:\n",
    "            flags.append(flag)\n",
    "            \n",
    "    return flags"
   ]
  },
  {
   "cell_type": "code",
   "execution_count": 12,
   "metadata": {},
   "outputs": [],
   "source": [
    "def get_selection_train_title_cuts(train_title_cuts):\n",
    "    excluded_flags = get_excluded_flags(train_title_cuts)\n",
    "    selection_train_title_cuts = {}\n",
    "    \n",
    "    for idx, pairs in train_title_cuts.items():\n",
    "        _list = []\n",
    "        for pair in pairs:\n",
    "            if pair[1] not in excluded_flags:\n",
    "                _list.append(pair)\n",
    "        selection_train_title_cuts[idx] =_list\n",
    "        \n",
    "    return selection_train_title_cuts"
   ]
  },
  {
   "cell_type": "markdown",
   "metadata": {},
   "source": [
    "# Bag of Words (BOW)"
   ]
  },
  {
   "cell_type": "code",
   "execution_count": 13,
   "metadata": {},
   "outputs": [],
   "source": [
    "word2index = {}\n",
    "index2word = {}\n",
    "# 產生字與index對應的關係\n",
    "unique_words = list(set(word for pairs in train_title_cuts.values() for word, _ in pairs))\n",
    "\n",
    "for index, word in enumerate(unique_words):\n",
    "    word2index[word] = index\n",
    "    index2word[index] = word"
   ]
  },
  {
   "cell_type": "code",
   "execution_count": 14,
   "metadata": {},
   "outputs": [
    {
     "name": "stdout",
     "output_type": "stream",
     "text": [
      "1873\n",
      "溫暖\n"
     ]
    }
   ],
   "source": [
    "print(word2index['溫暖'])\n",
    "print(index2word[word2index['溫暖']])"
   ]
  },
  {
   "cell_type": "code",
   "execution_count": 15,
   "metadata": {},
   "outputs": [],
   "source": [
    "def get_bow_vector(pairs, word2index):\n",
    "    vector = np.zeros(len(word2index))\n",
    "    \n",
    "    for word, _ in pairs:\n",
    "        if word in word2index :\n",
    "            vector[word2index[word]] += 1\n",
    "            \n",
    "    return vector"
   ]
  },
  {
   "cell_type": "code",
   "execution_count": 16,
   "metadata": {},
   "outputs": [],
   "source": [
    "def get_bow_vector_with_selection(pairs, word2index):\n",
    "    excluded_flags = get_excluded_flags(train_title_cuts)\n",
    "    vector = np.zeros(len(word2index))\n",
    "    \n",
    "    for word, flag in pairs:\n",
    "        if word in word2index and flag not in excluded_flags:\n",
    "            vector[word2index[word]] += 1\n",
    "            \n",
    "    return vector"
   ]
  },
  {
   "cell_type": "markdown",
   "metadata": {},
   "source": [
    "# Cosine Similarity"
   ]
  },
  {
   "cell_type": "code",
   "execution_count": 17,
   "metadata": {},
   "outputs": [],
   "source": [
    "def cosine_similarity(bow1, bow2):\n",
    "    uni_dist = lambda x: x/(np.sqrt(np.sum(x**2)))\n",
    "    return np.dot(uni_dist(bow1),uni_dist(bow2))"
   ]
  },
  {
   "cell_type": "code",
   "execution_count": 18,
   "metadata": {},
   "outputs": [
    {
     "data": {
      "text/plain": [
       "0.08703882797784893"
      ]
     },
     "execution_count": 18,
     "metadata": {},
     "output_type": "execute_result"
    }
   ],
   "source": [
    "bow1 = get_bow_vector(train_title_cuts[100], word2index)\n",
    "bow2 = get_bow_vector(train_title_cuts[130], word2index)\n",
    "cosine_similarity(bow1, bow2)"
   ]
  },
  {
   "cell_type": "code",
   "execution_count": 19,
   "metadata": {},
   "outputs": [
    {
     "data": {
      "text/plain": [
       "[('山東', 'Nc'),\n",
       " ('魯能', 'Nb'),\n",
       " ('有沒有', 'D'),\n",
       " ('可能', 'D'),\n",
       " ('拿到', 'VC'),\n",
       " ('今年', 'Nd'),\n",
       " ('的', 'DE'),\n",
       " ('中', 'A'),\n",
       " ('超', 'A'),\n",
       " ('冠軍', 'Na'),\n",
       " ('？', 'QUESTIONCATEGORY')]"
      ]
     },
     "metadata": {},
     "output_type": "display_data"
    },
    {
     "data": {
      "text/plain": [
       "[('NBA', 'Nb'),\n",
       " ('和', 'Caa'),\n",
       " ('CBA', 'FW'),\n",
       " ('差距', 'Na'),\n",
       " ('在', 'P'),\n",
       " ('哪裡', 'Ncd'),\n",
       " ('？', 'QUESTIONCATEGORY'),\n",
       " ('6', 'Neu'),\n",
       " ('張', 'Nf'),\n",
       " ('圖', 'VF'),\n",
       " ('一目瞭然', 'VH'),\n",
       " ('！', 'EXCLAMATIONCATEGORY')]"
      ]
     },
     "metadata": {},
     "output_type": "display_data"
    }
   ],
   "source": [
    "display(train_title_cuts[100])\n",
    "display(train_title_cuts[130])"
   ]
  },
  {
   "cell_type": "markdown",
   "metadata": {},
   "source": [
    "# Group mean vector"
   ]
  },
  {
   "cell_type": "code",
   "execution_count": 20,
   "metadata": {},
   "outputs": [
    {
     "data": {
      "text/plain": [
       "{'體育': array([0.        , 0.        , 0.00333333, ..., 0.00333333, 0.        ,\n",
       "        0.        ]),\n",
       " '財經': array([0.  , 0.  , 0.  , ..., 0.  , 0.02, 0.  ]),\n",
       " '科技': array([0.        , 0.        , 0.        , ..., 0.        , 0.00666667,\n",
       "        0.        ]),\n",
       " '旅遊': array([0.        , 0.        , 0.        , ..., 0.        , 0.01333333,\n",
       "        0.        ]),\n",
       " '農業': array([0.00333333, 0.        , 0.        , ..., 0.        , 0.01333333,\n",
       "        0.00333333]),\n",
       " '遊戲': array([0.        , 0.00333333, 0.        , ..., 0.        , 0.00333333,\n",
       "        0.        ])}"
      ]
     },
     "metadata": {},
     "output_type": "display_data"
    }
   ],
   "source": [
    "group_vectors = {news_class: [] for news_class in all_news_class}\n",
    "group_mean_vector = {}\n",
    "\n",
    "for index, pairs in sorted(train_title_cuts.items()):\n",
    "    vector = get_bow_vector_with_selection(pairs, word2index)\n",
    "    news_class = train_classes[index]\n",
    "    group_vectors[news_class].append(vector)\n",
    "\n",
    "for news_class, vectors in group_vectors.items():\n",
    "    group_mean_vector[news_class] = np.mean(vectors, axis=0)\n",
    "    \n",
    "display(group_mean_vector)"
   ]
  },
  {
   "cell_type": "markdown",
   "metadata": {},
   "source": [
    "# Group mean vector: 測試"
   ]
  },
  {
   "cell_type": "code",
   "execution_count": 21,
   "metadata": {
    "tags": []
   },
   "outputs": [],
   "source": [
    "classification = {news_class: [] for news_class in all_news_class}\n",
    "for index, pairs in sorted(test_title_cuts.items()):\n",
    "    vector = get_bow_vector_with_selection(pairs, word2index)\n",
    "    \n",
    "    if np.sum(np.square(vector)) == 0:\n",
    "        continue\n",
    "\n",
    "    max_val = -2.0\n",
    "    max_class = None\n",
    "    \n",
    "    for news_class, ref_vector in group_mean_vector.items():\n",
    "        val = cosine_similarity(ref_vector, vector)\n",
    "        if val > max_val:\n",
    "            max_class = news_class\n",
    "            max_val = val\n",
    "\n",
    "    classification[max_class].append(index)"
   ]
  },
  {
   "cell_type": "code",
   "execution_count": 22,
   "metadata": {
    "tags": []
   },
   "outputs": [
    {
     "name": "stdout",
     "output_type": "stream",
     "text": [
      "體育 : Counter({'體育': 71, '遊戲': 9, '財經': 6, '旅遊': 4, '農業': 3, '科技': 1})       \taccuracy : 75.53%\n",
      "財經 : Counter({'財經': 67, '科技': 18, '農業': 9, '旅遊': 6, '遊戲': 6, '體育': 3})      \taccuracy : 61.47%\n",
      "科技 : Counter({'科技': 64, '財經': 13, '體育': 8, '農業': 7, '遊戲': 3, '旅遊': 2})      \taccuracy : 65.98%\n",
      "旅遊 : Counter({'旅遊': 71, '農業': 11, '財經': 6, '遊戲': 3, '科技': 2, '體育': 1})      \taccuracy : 75.53%\n",
      "農業 : Counter({'農業': 65, '旅遊': 7, '科技': 5, '體育': 4, '財經': 3, '遊戲': 1})       \taccuracy : 76.47%\n",
      "遊戲 : Counter({'遊戲': 78, '體育': 12, '科技': 9, '旅遊': 8, '財經': 5, '農業': 4})      \taccuracy : 67.24%\n",
      "\n",
      "Average accuracy : 70.37%\n"
     ]
    }
   ],
   "source": [
    "from collections import Counter\n",
    "\n",
    "accuracy=[]\n",
    "\n",
    "for group, ids in classification.items():\n",
    "    counter = Counter([test_classes[id] for id in ids])\n",
    "    prediciton=round(counter[group]/sum(counter.values())*100,2)\n",
    "    accuracy.append(prediciton)\n",
    "    print(f'{group} : {str(counter):70} \\taccuracy : {prediciton}%')\n",
    "\n",
    "print(f'\\nAverage accuracy : {round(np.mean(accuracy),2)}%')"
   ]
  }
 ],
 "metadata": {
  "kernelspec": {
   "display_name": "Python 3",
   "language": "python",
   "name": "python3"
  },
  "language_info": {
   "codemirror_mode": {
    "name": "ipython",
    "version": 3
   },
   "file_extension": ".py",
   "mimetype": "text/x-python",
   "name": "python",
   "nbconvert_exporter": "python",
   "pygments_lexer": "ipython3",
   "version": "3.8.3"
  }
 },
 "nbformat": 4,
 "nbformat_minor": 4
}
