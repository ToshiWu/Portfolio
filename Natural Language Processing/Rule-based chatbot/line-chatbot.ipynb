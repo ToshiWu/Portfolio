{
 "cells": [
  {
   "cell_type": "markdown",
   "metadata": {
    "id": "zJbDC8UIBeCd"
   },
   "source": [
    "# Linebot設計  \n",
    "\n",
    "當query包含\"身高\"、\"體重\"、\"年齡\"、\"收入\"等隱私時，回覆以下貼圖  \n",
    "![](./play_dumb.png)"
   ]
  },
  {
   "cell_type": "code",
   "execution_count": 1,
   "metadata": {
    "id": "IJRQbmaMBeCf"
   },
   "outputs": [],
   "source": [
    "# @handler.add(MessageEvent, message = TextMessage)\n",
    "def get_response(event):\n",
    "    query = event.message.text\n",
    "    \n",
    "    sensitive = [\"身高\",\"體重\",\"年齡\",\"收入\"]\n",
    "    if any(s in query for s in sensitive):\n",
    "        line_bot_api.reply_message(event.reply_token,StickerSendMessage(package_id=11537, sticker_id=52002744))\n",
    "    else:\n",
    "        line_bot_api.reply_message(event.reply_token, TextSendMessage(text=\"這個問題不敏感!\"))"
   ]
  },
  {
   "cell_type": "markdown",
   "metadata": {
    "id": "Tnl1BwbeBeCi"
   },
   "source": [
    "## 以Python實現多輪對話 \n",
    "\n",
    "於多輪對話情境中加入\"取得股價資訊的功能\"，query為公司簡稱時(ex.鴻海)，即輸出2020/12/1 ~12/10之股價資訊"
   ]
  },
  {
   "cell_type": "code",
   "execution_count": 2,
   "metadata": {},
   "outputs": [],
   "source": [
    "import os, requests, json, configparser\n",
    "from flask import Flask, request, abort\n",
    "from linebot import LineBotApi, WebhookHandler\n",
    "from linebot.exceptions import InvalidSignatureError\n",
    "from linebot.models import *\n",
    "\n",
    "# 設定LineBot為工作目錄\n",
    "if os.getcwd().split('\\\\')[-1] != 'LineBot':\n",
    "    os.chdir('./LineBot')\n",
    "    \n",
    "import stock_utils as Stock\n",
    "import thsr_utils as Thsr"
   ]
  },
  {
   "cell_type": "code",
   "execution_count": 3,
   "metadata": {},
   "outputs": [],
   "source": [
    "# LINE 聊天機器人的基本資料\n",
    "config = configparser.ConfigParser()\n",
    "config.read('config.ini')\n",
    "\n",
    "line_bot_api = LineBotApi(config.get('line-bot', 'channel_access_token'))\n",
    "handler = WebhookHandler(config.get('line-bot', 'channel_secret'))"
   ]
  },
  {
   "cell_type": "code",
   "execution_count": 4,
   "metadata": {},
   "outputs": [
    {
     "name": "stdout",
     "output_type": "stream",
     "text": [
      "可使用對話參數\n",
      "station_names\t: ['南港', '台北', '板橋', '桃園', '新竹', '苗栗', '台中', '彰化', '雲林', '嘉義', '台南', '左營']\n",
      "date_keys\t: ['今天', '今日', '本日', '明天', '明日', '後天', '大後天']\n",
      "ampm_keys\t: ['上午', '中午以前', '中午之前', '早上', '白天', '下午', '中午以後', '中午之後', '晚上']\n",
      "StockSymbol\t: {'友達': 2409, '鴻海': 2317, '長榮': 2603, '日月光投控': 3711, '晨訊科-DR': 912000}\n"
     ]
    }
   ],
   "source": [
    "# 高鐵參數\n",
    "thsr = Thsr.ThsrModule()\n",
    "chat_record = []\n",
    "\n",
    "thsr_res = {\"starting\":\"\", \"ending\":\"\", \"date\":\"\", \"ampm\":\"\"}\n",
    "station_names = Thsr.station_name\n",
    "date_keys = Thsr.date_key\n",
    "ampm_keys = Thsr.ampm_key\n",
    "\n",
    "# 股票參數\n",
    "StockSymbol = Stock.stock_symbol\n",
    "\n",
    "print('可使用對話參數')\n",
    "for i in ['station_names','date_keys','ampm_keys','StockSymbol']:\n",
    "    print(f'{i}\\t: {globals()[i]}')"
   ]
  },
  {
   "cell_type": "code",
   "execution_count": 5,
   "metadata": {},
   "outputs": [
    {
     "name": "stdout",
     "output_type": "stream",
     "text": [
      " * Serving Flask app \"__main__\" (lazy loading)\n",
      " * Environment: production\n",
      "   WARNING: This is a development server. Do not use it in a production deployment.\n",
      "   Use a production WSGI server instead.\n",
      " * Debug mode: off\n"
     ]
    },
    {
     "name": "stderr",
     "output_type": "stream",
     "text": [
      " * Running on http://127.0.0.1:80/ (Press CTRL+C to quit)\n"
     ]
    }
   ],
   "source": [
    "# 建立LineBot app\n",
    "app = Flask(__name__)\n",
    "\n",
    "\n",
    "# 接收 LINE 資訊\n",
    "@app.route(\"/callback\", methods=['POST'])\n",
    "def callback():\n",
    "    signature = request.headers['X-Line-Signature']\n",
    "    body = request.get_data(as_text=True)\n",
    "    # app.logger.info(\"Request body: \" + body)\n",
    "\n",
    "    try:\n",
    "        print(\"body:\",body)\n",
    "        print(\"signature:\", signature)\n",
    "        print(\"===\")\n",
    "        handler.handle(body, signature)\n",
    "    except InvalidSignatureError:\n",
    "        abort(400)\n",
    "    return 'OK'\n",
    "\n",
    "# 回覆設定 (加入高鐵API多輪對話)\n",
    "@handler.add(MessageEvent, message=TextMessage)\n",
    "def get_response(event):\n",
    "    query = event.message.text       \n",
    "    \n",
    "    if len(chat_record) < 5:\n",
    "        chat_record.append(query)\n",
    "    else:\n",
    "        chat_record.pop(0)\n",
    "        chat_record.append(query)\n",
    "    print(\"chat_record:\",chat_record)\n",
    "\n",
    "\n",
    "    # 判斷是否為\"高鐵查詢意圖\"\n",
    "    if query == \"高鐵\":\n",
    "        line_bot_api.reply_message(event.reply_token, TextSendMessage(text=\"哪一天出發?\"))\n",
    "    try:\n",
    "        if chat_record[-2] == \"高鐵\" and any(chat_record[-1] == i for i in date_keys):\n",
    "            date_format = thsr.get_date_string_today(chat_record[-1])\n",
    "            thsr_res['date'] = date_format\n",
    "            line_bot_api.reply_message(event.reply_token, TextSendMessage(text=\"上午還是下午的車?\"))\n",
    "\n",
    "        elif any(chat_record[-2] == i for i in date_keys) and any(chat_record[-1] == i for i in ampm_keys):\n",
    "            thsr_res['ampm'] = chat_record[-1]\n",
    "            line_bot_api.reply_message(event.reply_token, TextSendMessage(text=\"起站是哪裡呢?\"))\n",
    "\n",
    "        elif any(chat_record[-2] == i for i in ampm_keys) and any(chat_record[-1] == i for i in station_names):\n",
    "            startind_id = Thsr.station_id[chat_record[-1]]\n",
    "            thsr_res['starting'] = startind_id\n",
    "            line_bot_api.reply_message(event.reply_token, TextSendMessage(text=\"終點站是哪裡呢?\"))\n",
    "\n",
    "        elif any(chat_record[-2] == i for i in station_names) and any(chat_record[-1] == i for i in station_names):\n",
    "            ending_id = Thsr.station_id[chat_record[-1]]\n",
    "            thsr_res['ending'] = ending_id\n",
    "            text = thsr.get_runs(thsr_res['starting'],thsr_res['ending'],thsr_res['date'],thsr_res['ampm'])\n",
    "            line_bot_api.reply_message(event.reply_token, TextSendMessage(text=text))\n",
    "\n",
    "    except IndexError:\n",
    "        pass\n",
    "    \n",
    "    \n",
    "    # 判斷是否為\"股價詢問意圖\"\n",
    "    try:\n",
    "        # 若股票名稱 = query ...\n",
    "        if any(sk == query for sk in list(StockSymbol.keys())):\n",
    "            stock_symbol = StockSymbol[query]\n",
    "            stock_data = Stock.get_stockdata(stock_symbol, \"2020-12-01\", \"2020-12-10\")\n",
    "            stock_info = Stock.get_stockinfo(query, stock_data, \"Close\")\n",
    "            line_bot_api.reply_message(event.reply_token, TextSendMessage(text=stock_info))\n",
    "\n",
    "    except:\n",
    "        pass\n",
    "      \n",
    "    \n",
    "    line_bot_api.reply_message(event.reply_token, TextSendMessage(text=\"請重新輸入\"))\n",
    "\n",
    "if __name__ == \"__main__\":\n",
    "    app.run(port=80)"
   ]
  }
 ],
 "metadata": {
  "colab": {
   "name": "rule-based chatbot_多輪 (作業).ipynb",
   "provenance": []
  },
  "kernelspec": {
   "display_name": "Python 3",
   "language": "python",
   "name": "python3"
  },
  "language_info": {
   "codemirror_mode": {
    "name": "ipython",
    "version": 3
   },
   "file_extension": ".py",
   "mimetype": "text/x-python",
   "name": "python",
   "nbconvert_exporter": "python",
   "pygments_lexer": "ipython3",
   "version": "3.8.3"
  }
 },
 "nbformat": 4,
 "nbformat_minor": 4
}
