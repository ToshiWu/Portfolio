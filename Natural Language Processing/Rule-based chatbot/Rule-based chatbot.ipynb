{
 "cells": [
  {
   "cell_type": "markdown",
   "metadata": {
    "id": "09e7noOM_trx"
   },
   "source": [
    "# 閒聊問答實作\n",
    "請匯入fuzzy套件，並嘗試判斷與下列語句的相似度:  \n",
    "`['最近有什麼好看的電影','推薦不錯的電影','那些影片評價不錯', \"高評價的電影\", \"很棒的影片\"]`  \n",
    "<br>\n",
    "若相似分數 >= 70，則回覆:  \n",
    "`\"最近當然要看鬼滅劇場版阿!\"`"
   ]
  },
  {
   "cell_type": "code",
   "execution_count": 1,
   "metadata": {},
   "outputs": [],
   "source": [
    "from fuzzychinese import FuzzyChineseMatch"
   ]
  },
  {
   "cell_type": "code",
   "execution_count": 2,
   "metadata": {},
   "outputs": [],
   "source": [
    "#建立中文模糊比對\n",
    "def fcm_fit(sentence_list : list, analyzer = 'stroke'):    \n",
    "    fcm = FuzzyChineseMatch(ngram_range = (3, 3), analyzer = analyzer)\n",
    "    fcm.fit(sentence_list)\n",
    "    return fcm\n",
    "\n",
    "def fcm_mapping(query : str, fcm, threshold) -> bool:\n",
    "    _similar = fcm.transform([query], n=1)\n",
    "    most_similar_score = fcm.get_similarity_score().max()\n",
    "    return most_similar_score >= threshold"
   ]
  },
  {
   "cell_type": "code",
   "execution_count": 3,
   "metadata": {},
   "outputs": [],
   "source": [
    "# chatbot\n",
    "class chatbotv1():\n",
    "    def __iniit__(self):\n",
    "        self.fcm = None\n",
    "        \n",
    "    def fit(self, sentence_list):\n",
    "        self.fcm = fcm_fit(sentence_list)\n",
    "        \n",
    "    def reply(self, sentence):\n",
    "        assert type(sentence) == str\n",
    "        return '最近當然要看鬼滅劇場版阿!' if fcm_mapping(sentence, self.fcm, 0.7) else '我還沒辦法回應這件事情'"
   ]
  },
  {
   "cell_type": "code",
   "execution_count": 4,
   "metadata": {
    "id": "I8uiD6LU_trz"
   },
   "outputs": [
    {
     "name": "stdout",
     "output_type": "stream",
     "text": [
      "Q : 推薦我一部電影\n",
      "A : 最近當然要看鬼滅劇場版阿! \n",
      "\n",
      "Q : 電影\n",
      "A : 最近當然要看鬼滅劇場版阿! \n",
      "\n",
      "Q : 電影推薦\n",
      "A : 最近當然要看鬼滅劇場版阿! \n",
      "\n",
      "Q : 影片推薦\n",
      "A : 最近當然要看鬼滅劇場版阿! \n",
      "\n",
      "Q : 好看的電影\n",
      "A : 最近當然要看鬼滅劇場版阿! \n",
      "\n",
      "Q : 好看電影\n",
      "A : 我還沒辦法回應這件事情 \n",
      "\n",
      "Q : 好看的影片\n",
      "A : 我還沒辦法回應這件事情 \n",
      "\n",
      "Q : 很棒電影\n",
      "A : 最近當然要看鬼滅劇場版阿! \n",
      "\n"
     ]
    }
   ],
   "source": [
    "# 推薦我一部電影\n",
    "chatbot = chatbotv1()\n",
    "\n",
    "# 建立自定義字句的模糊比對\n",
    "sentence_list = ['最近有什麼好看的電影', '推薦不錯的電影', '哪些影片評價不錯', '高評價的電影', '很棒的影片']\n",
    "chatbot.fit(sentence_list)\n",
    "\n",
    "\n",
    "query = ['推薦我一部電影', '電影', '電影推薦', '影片推薦', '好看的電影', '好看電影', '好看的影片', '很棒電影']\n",
    "for sentence in query:\n",
    "    print('Q :',sentence)\n",
    "    print('A :',chatbot.reply(sentence),'\\n')"
   ]
  },
  {
   "cell_type": "markdown",
   "metadata": {
    "id": "ubG4GmI5_tr0"
   },
   "source": [
    "# 知識問答實作\n",
    "\n",
    "請嘗試使用 regular expression 取得 html 的右側資訊摘要 ![](president.png)  \n",
    "並將其作為人物百科的回覆，已解決目前 parsing 結果的不足 ![](error.png)"
   ]
  },
  {
   "cell_type": "code",
   "execution_count": 5,
   "metadata": {
    "id": "dqLOR5C1_tr1"
   },
   "outputs": [],
   "source": [
    "import requests, urllib, re\n",
    "from bs4 import BeautifulSoup as bs\n",
    "\n",
    "def get_google_reply(kw):\n",
    "    \n",
    "    # 爬蟲用參數\n",
    "    headers = {'Referer':'https://accounts.pixiv.net/loginlang=zh&source=pc&view_type=page&ref=wwwtop_accounts_index',\n",
    "           'User-Agent':'Mozilla/5.0 (Windows NT 10.0; Win64; x64) AppleWebKit/537.36 (KHTML, like Gecko) Chrome/65.0.3325.146 Safari/537.36'}\n",
    "    kw = urllib.parse.quote(kw)\n",
    "    url = 'https://www.google.com/search?hl=zh-TW&q=' + kw\n",
    "    \n",
    "    # 取得 html\n",
    "    soup = bs(requests.get(url, headers = headers).text)\n",
    "        \n",
    "    # 嘗試取得說明內容\n",
    "    try:\n",
    "        soup = soup.find('h3',string = r'說明').find_parent('div').find_all('span')\n",
    "        for context in soup:\n",
    "            if '。' in str(context):\n",
    "                return context.string\n",
    "    \n",
    "    #沒有說明內容回傳空值\n",
    "    except:\n",
    "        return None"
   ]
  },
  {
   "cell_type": "code",
   "execution_count": 6,
   "metadata": {},
   "outputs": [
    {
     "name": "stdout",
     "output_type": "stream",
     "text": [
      "Q : 蔡英文\n",
      "A : 蔡英文，中華民國民主進步黨籍政治人物，現任中華民國總統、民主進步黨主席及中華文化總會會長，亦為法律學者與律師，曾擔任過行政院副院長、立法委員、大陸委員會主任委員、國家安全會議諮詢委員等職務。生於臺北市中山區，本籍屏東縣枋山鄉，是客家人和臺灣原住民族排灣族之後裔。 \n",
      "\n",
      "Q : 馬英九\n",
      "A : 馬英九，中華民國政治人物、學者，曾任第12、13任中華民國總統、第4、6任中國國民黨主席等職。祖籍江西省永新縣，籍貫湖南省湘潭縣，馬鶴凌和秦厚修之子，生於英屬香港九龍油麻地，1952年隨雙親定居臺灣臺北市。\n",
      "畢業於國立臺灣大學法律學系，其後前往美國深造，獲紐約大學法學碩士學位、哈佛大學司法學博士學位。 \n",
      "\n",
      "Q : 吳宗憲\n",
      "A : 吳宗憲，台灣男藝人、主持人、歌手、唱片製作人、演員、商人，生於臺灣臺南市中西區。因參與電視歌唱比賽節目《五燈獎》而嶄露頭角，1987年以歌手身分出道，早年有「星馬王子」之名。 \n",
      "\n",
      "Q : 拜登\n",
      "A : 小約瑟夫·羅比內特·拜登，通稱喬·拜登，美國民主黨籍政治人物，現任美國總統。此前曾於2009年至2017年擔任第47任美國副總統；於1973年至2009年間擔任家鄉德拉瓦州的聯邦參議員，是美國政壇資深政治人物。\n",
      "拜登曾在1988年和2008年兩次競選過民主黨的總統候選人提名，但都沒有成功。 \n",
      "\n",
      "Q : Joe Biden\n",
      "A : 小約瑟夫·羅比內特·拜登，通稱喬·拜登，美國民主黨籍政治人物，現任美國總統。此前曾於2009年至2017年擔任第47任美國副總統；於1973年至2009年間擔任家鄉德拉瓦州的聯邦參議員，是美國政壇資深政治人物。\n",
      "拜登曾在1988年和2008年兩次競選過民主黨的總統候選人提名，但都沒有成功。 \n",
      "\n",
      "Q : president\n",
      "A : 蔡英文，中華民國民主進步黨籍政治人物，現任中華民國總統、民主進步黨主席及中華文化總會會長，亦為法律學者與律師，曾擔任過行政院副院長、立法委員、大陸委員會主任委員、國家安全會議諮詢委員等職務。生於臺北市中山區，本籍屏東縣枋山鄉，是客家人和臺灣原住民族排灣族之後裔。 \n",
      "\n",
      "Q : test\n",
      "A : None \n",
      "\n"
     ]
    }
   ],
   "source": [
    "query = ['蔡英文', '馬英九', '吳宗憲', '拜登', 'Joe Biden', 'president', 'test']\n",
    "for sentence in query:\n",
    "    print('Q :',sentence)\n",
    "    print('A :',get_google_reply(sentence),'\\n')"
   ]
  },
  {
   "cell_type": "markdown",
   "metadata": {
    "id": "2OtUfP7L_tr3"
   },
   "source": [
    "# 3.聊天機器人answer selection  \n",
    "請嘗試加入\"形容詞\"及\"副詞\"的判斷，以優化\"閒聊\"與\"知識\"問答的分類效果"
   ]
  },
  {
   "cell_type": "code",
   "execution_count": 7,
   "metadata": {},
   "outputs": [],
   "source": [
    "# 青雲客 API\n",
    "def get_api_ans(query):\n",
    "    URL = f\"http://api.qingyunke.com/api.php?key=free&appid=0&msg={query}\"\n",
    "    headers = {'Content-Type': 'application/json'}\n",
    "    res = requests.get(URL, headers=headers)\n",
    "\n",
    "    return res.json()['content']"
   ]
  },
  {
   "cell_type": "code",
   "execution_count": 8,
   "metadata": {},
   "outputs": [],
   "source": [
    "# jieba斷詞並計算詞性數量\n",
    "import jieba\n",
    "import jieba.posseg\n",
    "jieba.setLogLevel(jieba.logging.INFO)\n",
    "jieba.set_dictionary('./dict.txt.big')\n",
    "\n",
    "def pos_counter(query):\n",
    "    word_pos = set(jieba.posseg.cut(query))\n",
    "\n",
    "    count_dict = {k:0 for k in ['count_names', 'count_nouns', 'count_verbs', 'count_advs', 'count_adjs']}\n",
    "    pos_dict ={'names':['nr', 'nz', 'nrt', 'nrfg'],\n",
    "               'nouns':['n', 'ng', 'ns', 'nt'],\n",
    "               'verbs':['v', 'vg', 'vd', 'vi', 'vn', 'vq'],\n",
    "               'advs':['a', 'ag', 'ad', 'an', 'b'],\n",
    "               'adjs':['d', 'dg', 'df', 'e', 'zg']}\n",
    "\n",
    "    for word, pos in word_pos:\n",
    "        for pos_key, pos_list in pos_dict.items():\n",
    "            if pos in pos_list:\n",
    "                count_dict['count_' + pos_key] += 1\n",
    "                break\n",
    "\n",
    "    return (len(word_pos), *count_dict.values())"
   ]
  },
  {
   "cell_type": "code",
   "execution_count": 9,
   "metadata": {},
   "outputs": [],
   "source": [
    "# 依詞性數量分類問題\n",
    "def query_classifier(query):\n",
    "    token_len, count_names, count_nouns, count_verbs, count_advs, count_adjs = pos_counter(query)\n",
    "    \n",
    "    # 比對出專有名詞 不應忽略\n",
    "    if count_names > 0:\n",
    "        return False\n",
    "    # 若完全沒比對出名詞 可能為口語短句 應忽略\n",
    "    elif count_nouns == 0:\n",
    "        return True\n",
    "    # 若比對出副詞但token長度 < 3 可能為口語短句 應忽略\n",
    "    elif count_advs != 0 and token_len <= 3:\n",
    "        return True\n",
    "    # 若一個名詞 + 一個形容詞或副詞 判斷其僅為名詞的補充說明 應忽略\n",
    "    elif count_nouns == 1 and (count_advs != 0 or count_adjs != 0):\n",
    "        if token_len < 4:\n",
    "            return True\n",
    "        else:\n",
    "            return False\n",
    "    # 若動詞超過兩個 可能為非口語短句 不應忽略\n",
    "    elif count_verbs >= 2:\n",
    "        return False\n",
    "    else:\n",
    "        return False"
   ]
  },
  {
   "cell_type": "code",
   "execution_count": 10,
   "metadata": {},
   "outputs": [],
   "source": [
    "# 優化聊天機器人判斷流程\n",
    "class chatbotv2(chatbotv1):\n",
    "    def __iniit__(self):\n",
    "        super().__init__()\n",
    "        \n",
    "    def reply(self, query):\n",
    "        res = query_classifier(query)\n",
    "    \n",
    "        # 先判斷是否為自定義語句\n",
    "        if fcm_mapping(sentence, self.fcm, 0.7):\n",
    "                return '最近當然要看鬼滅劇場版阿!'\n",
    "        else:\n",
    "            # 閒聊問句\n",
    "            if res:\n",
    "                return get_api_ans(query)\n",
    "            # 知識問句\n",
    "            else:\n",
    "                return get_google_reply(query)   "
   ]
  },
  {
   "cell_type": "code",
   "execution_count": 11,
   "metadata": {},
   "outputs": [
    {
     "name": "stdout",
     "output_type": "stream",
     "text": [
      "Q : 推薦我一部電影\n",
      "A : 最近當然要看鬼滅劇場版阿! \n",
      "\n",
      "Q : 電影\n",
      "A : 最近當然要看鬼滅劇場版阿! \n",
      "\n",
      "Q : 電影推薦\n",
      "A : 最近當然要看鬼滅劇場版阿! \n",
      "\n",
      "Q : 影片推薦\n",
      "A : 最近當然要看鬼滅劇場版阿! \n",
      "\n",
      "Q : 好看的電影\n",
      "A : 最近當然要看鬼滅劇場版阿! \n",
      "\n",
      "Q : 好看電影\n",
      "A : 是啊，很好看 \n",
      "\n",
      "Q : 好看的影片\n",
      "A : None \n",
      "\n",
      "Q : 很棒電影\n",
      "A : 最近當然要看鬼滅劇場版阿! \n",
      "\n",
      "Q : 蔡英文\n",
      "A : 蔡英文，中華民國民主進步黨籍政治人物，現任中華民國總統、民主進步黨主席及中華文化總會會長，亦為法律學者與律師，曾擔任過行政院副院長、立法委員、大陸委員會主任委員、國家安全會議諮詢委員等職務。生於臺北市中山區，本籍屏東縣枋山鄉，是客家人和臺灣原住民族排灣族之後裔。 \n",
      "\n",
      "Q : 馬英九\n",
      "A : {face:81}太深奥了吧,我真心没弄明白您的话 \n",
      "\n",
      "Q : 吳宗憲\n",
      "A : 虽然我很聪明，但也不可能全部都懂哦 \n",
      "\n",
      "Q : 拜登\n",
      "A : 小約瑟夫·羅比內特·拜登，通稱喬·拜登，美國民主黨籍政治人物，現任美國總統。此前曾於2009年至2017年擔任第47任美國副總統；於1973年至2009年間擔任家鄉德拉瓦州的聯邦參議員，是美國政壇資深政治人物。\n",
      "拜登曾在1988年和2008年兩次競選過民主黨的總統候選人提名，但都沒有成功。 \n",
      "\n"
     ]
    }
   ],
   "source": [
    "chatbot = chatbotv2()\n",
    "\n",
    "# 建立自定義字句的模糊比對\n",
    "sentence_list = ['最近有什麼好看的電影', '推薦不錯的電影', '哪些影片評價不錯', '高評價的電影', '很棒的影片']\n",
    "chatbot.fit(sentence_list)\n",
    "query = ['推薦我一部電影', '電影', '電影推薦', '影片推薦', '好看的電影', '好看電影', '好看的影片', '很棒電影',\n",
    "         '蔡英文', '馬英九', '吳宗憲', '拜登']\n",
    "\n",
    "for sentence in query:\n",
    "    print('Q :',sentence)\n",
    "    print('A :',chatbot.reply(sentence),'\\n')"
   ]
  }
 ],
 "metadata": {
  "colab": {
   "name": "rule-based chatbot_單輪 (作業).ipynb",
   "provenance": []
  },
  "kernelspec": {
   "display_name": "Python 3",
   "language": "python",
   "name": "python3"
  },
  "language_info": {
   "codemirror_mode": {
    "name": "ipython",
    "version": 3
   },
   "file_extension": ".py",
   "mimetype": "text/x-python",
   "name": "python",
   "nbconvert_exporter": "python",
   "pygments_lexer": "ipython3",
   "version": "3.8.3"
  }
 },
 "nbformat": 4,
 "nbformat_minor": 4
}
