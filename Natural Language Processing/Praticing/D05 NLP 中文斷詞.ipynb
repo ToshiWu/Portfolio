{
 "cells": [
  {
   "cell_type": "markdown",
   "metadata": {},
   "source": [
    "## 作業目標: 了解斷詞演算法的背後計算"
   ]
  },
  {
   "cell_type": "markdown",
   "metadata": {},
   "source": [
    "### 根據課程講述的內容, 請計算出下列剩餘所有情況的\n",
    "若有一個人連續觀察到三天水草都是乾燥的(Dry), 則這三天的天氣機率為何？(可參考講義第13頁)\n",
    "(Hint: 共有8種可能機率)\n",
    "\n",
    "```python\n",
    "states = ('sunny', 'rainy')\n",
    "observations = ('dry', 'damp', 'soggy')\n",
    "start_probability = {'sunny': 0.4, 'rainy': 0.6}\n",
    "transition_probability = {'sunny':{'sunny':0.6, 'rainy':0.4},\n",
    "                          'rainy': {'sunny':0.3, 'rainy':0.7}}\n",
    "emission_probatility = {'sunny': {'dry':0.6, 'damp':0.3, 'soggy':0.1},\n",
    "                        'rainy': {'dry':0.1, 'damp':0.4, 'soggy':0.5}}\n",
    "```"
   ]
  },
  {
   "cell_type": "code",
   "execution_count": 1,
   "metadata": {},
   "outputs": [],
   "source": [
    "observations = ('dry', 'dry', 'dry') #實際上觀察到的狀態為dry, dry, dry\n",
    "states = ('sunny', 'rainy')\n",
    "start_probability = {'sunny': 0.4, 'rainy': 0.6}\n",
    "transition_probability = {'sunny':{'sunny':0.6, 'rainy':0.4},\n",
    "                          'rainy': {'sunny':0.3, 'rainy':0.7}}\n",
    "emission_probatility = {'sunny': {'dry':0.6, 'damp':0.3, 'soggy':0.1},\n",
    "                        'rainy': {'dry':0.1, 'damp':0.4, 'soggy':0.5}}"
   ]
  },
  {
   "cell_type": "code",
   "execution_count": 2,
   "metadata": {},
   "outputs": [
    {
     "name": "stdout",
     "output_type": "stream",
     "text": [
      "Sunny, Sunny, Sunny: 0.4*0.6*0.6*0.6*0.6*0.6 = 0.031104\n",
      "Sunny, Sunny, Rainy: 0.4*0.6*0.6*0.6*0.4*0.1 = 0.003456\n",
      "Sunny, Rainy, Sunny: 0.4*0.6*0.4*0.1*0.3*0.6 = 0.001728\n",
      "Sunny, Rainy, Rainy: 0.4*0.6*0.4*0.1*0.7*0.1 = 0.000672\n",
      "Rainy, Sunny, Sunny: 0.6*0.1*0.3*0.6*0.6*0.6 = 0.003888\n",
      "Rainy, Sunny, Rainy: 0.6*0.1*0.3*0.6*0.4*0.1 = 0.000432\n",
      "Rainy, Rainy, Sunny: 0.6*0.1*0.7*0.1*0.3*0.6 = 0.000756\n",
      "Rainy, Rainy, Rainy: 0.6*0.1*0.7*0.1*0.7*0.1 = 0.000294\n"
     ]
    }
   ],
   "source": [
    "# 觀察狀態 = 'dry', 'dry', 'dry'\n",
    "# Sunny, Sunny, Sunny: 0.4*(0.6)*0.6*(0.6)*0.6*(0.6) = 0.031104\n",
    "# Rainy, Sunny, Sunny: 0.6*(0.1)*0.3*(0.6)*0.6*(0.6) = 0.003888\n",
    "for s1 in states:\n",
    "    for s2 in states:\n",
    "        for s3 in states:\n",
    "            print(f'{s1.capitalize()}, {s2.capitalize()}, {s3.capitalize()}: ', end='')\n",
    "            print(f'{start_probability[s1]}*{emission_probatility[s1][\"dry\"]}*', end='')\n",
    "            print(f'{transition_probability[s1][s2]}*{emission_probatility[s2][\"dry\"]}*', end='')\n",
    "            print(f'{transition_probability[s2][s3]}*{emission_probatility[s3][\"dry\"]} = ', end='')\n",
    "            prob = start_probability[s1]*emission_probatility[s1][\"dry\"]*\\\n",
    "                   transition_probability[s1][s2]*emission_probatility[s2][\"dry\"]*\\\n",
    "                   transition_probability[s2][s3]*emission_probatility[s3][\"dry\"]\n",
    "            print(f'{prob:.6f}')\n",
    "\n",
    "# 最大機率為: Sunny, Sunny, Sunny"
   ]
  },
  {
   "cell_type": "markdown",
   "metadata": {},
   "source": [
    "### 根據上述條件, 寫出Viterbi應用程式"
   ]
  },
  {
   "cell_type": "code",
   "execution_count": 3,
   "metadata": {},
   "outputs": [],
   "source": [
    "def viterbi(obs, states, start_p, trans_p, emit_p):\n",
    "    V = []\n",
    "    for i in range(len(obs)):\n",
    "        for state in states:\n",
    "            \n",
    "            # 第一天的話為發射*開始，其餘為發射*轉換*前一次機率\n",
    "            prob =  emit_p[state][obs[0]] * (trans_p[V[i-1][0]][state] * V[i-1][1] if i else start_p[state])\n",
    "            \n",
    "            # 當天第一次迭代新增狀態與機率，其餘為比較機率\n",
    "            if len(V) > i:\n",
    "                if prob > V[i][1]:\n",
    "                    V[i] = [state, prob]\n",
    "            else:\n",
    "                V.append([state, prob])\n",
    "    return (V[-1][-1], [i[0] for i in V]) # prob, path"
   ]
  },
  {
   "cell_type": "code",
   "execution_count": 4,
   "metadata": {},
   "outputs": [
    {
     "name": "stdout",
     "output_type": "stream",
     "text": [
      "(0.031103999999999993, ['sunny', 'sunny', 'sunny'])\n"
     ]
    }
   ],
   "source": [
    "result = viterbi(observations, states, start_probability, transition_probability, emission_probatility)\n",
    "print(result)"
   ]
  }
 ],
 "metadata": {
  "kernelspec": {
   "display_name": "Python 3",
   "language": "python",
   "name": "python3"
  },
  "language_info": {
   "codemirror_mode": {
    "name": "ipython",
    "version": 3
   },
   "file_extension": ".py",
   "mimetype": "text/x-python",
   "name": "python",
   "nbconvert_exporter": "python",
   "pygments_lexer": "ipython3",
   "version": "3.8.3"
  }
 },
 "nbformat": 4,
 "nbformat_minor": 4
}
