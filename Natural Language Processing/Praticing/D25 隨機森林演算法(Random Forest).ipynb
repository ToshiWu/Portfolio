{
 "cells": [
  {
   "cell_type": "markdown",
   "metadata": {},
   "source": [
    "### 作業目的: 了解何謂Bias-Variance Tradeoff"
   ]
  },
  {
   "cell_type": "markdown",
   "metadata": {},
   "source": [
    "### Q1: 一般模型誤差可拆為三部分，這三部分的誤差分別是？\n",
    "\n",
    "Answer:\n",
    "\n",
    "    1.偏差(Bias)\n",
    "    2.方差(Variance)\n",
    "    3.不可約誤差(irreducible error)，又稱噪聲(noise)"
   ]
  },
  {
   "cell_type": "markdown",
   "metadata": {},
   "source": [
    "### Q2: 請解釋何謂Bias-Variance Tradeoff\n",
    "\n",
    "<img src='D25 bias_variance_tradeoff.png' style='width:500px'>\n",
    "Answer:<br>\n",
    "　　過於簡單的模型假設會造成高偏差，但過於複雜反而會造成高方差，<br>\n",
    "　　因此需要權衡誤差大小找到最佳組合，如圖中間區域，稱為Bias-Variance Tradeoff。<br>"
   ]
  }
 ],
 "metadata": {
  "kernelspec": {
   "display_name": "Python 3",
   "language": "python",
   "name": "python3"
  },
  "language_info": {
   "codemirror_mode": {
    "name": "ipython",
    "version": 3
   },
   "file_extension": ".py",
   "mimetype": "text/x-python",
   "name": "python",
   "nbconvert_exporter": "python",
   "pygments_lexer": "ipython3",
   "version": "3.8.3"
  }
 },
 "nbformat": 4,
 "nbformat_minor": 4
}
