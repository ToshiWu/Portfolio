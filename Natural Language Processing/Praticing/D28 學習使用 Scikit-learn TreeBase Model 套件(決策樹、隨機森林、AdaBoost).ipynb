{
 "cells": [
  {
   "cell_type": "markdown",
   "metadata": {},
   "source": [
    "### 作業目的: 使用樹型模型進行文章分類\n",
    "\n",
    "本次作業主利用[Amazon Review data中的All Beauty](https://nijianmo.github.io/amazon/index.html)來進行review評價分類(文章分類)\n",
    "\n",
    "資料中將review分為1,2,3,4,5分，而在這份作業，我們將評論改分為差評價、普通評價、優良評價(1,2-->1差評、3-->2普通評價、4,5-->3優良評價)"
   ]
  },
  {
   "cell_type": "markdown",
   "metadata": {},
   "source": [
    "### 載入套件"
   ]
  },
  {
   "cell_type": "code",
   "execution_count": 1,
   "metadata": {},
   "outputs": [],
   "source": [
    "import json\n",
    "import re\n",
    "from sklearn.tree import DecisionTreeClassifier\n",
    "from sklearn.ensemble import AdaBoostClassifier, RandomForestClassifier\n",
    "from sklearn.metrics import classification_report, confusion_matrix\n",
    "from sklearn.model_selection import train_test_split\n",
    "from sklearn.feature_extraction.text import CountVectorizer, TfidfVectorizer, TfidfTransformer\n",
    "import pandas as pd"
   ]
  },
  {
   "cell_type": "markdown",
   "metadata": {},
   "source": [
    "### 資料前處理\n",
    "文本資料較為龐大，這裡我們取前10000筆資料來進行作業練習"
   ]
  },
  {
   "cell_type": "code",
   "execution_count": 2,
   "metadata": {},
   "outputs": [
    {
     "name": "stdout",
     "output_type": "stream",
     "text": [
      "(3, 'As advertised. Reasonably priced')\n",
      "\n",
      "(3, 'Like the oder and the feel when I put it on my face.  I have tried other brands but the reviews from people I know they prefer the oder of this brand. Not hard on the face when dry.  Does not leave dry skin.')\n",
      "\n",
      "(1, 'I bought this to smell nice after I shave.  When I put it on I smelled awful.  I am 19 and I smelled like a grandmother with too much perfume.')\n",
      "\n",
      "(3, 'HEY!! I am an Aqua Velva Man and absolutely love this stuff, been using it for over 50 years. This is a true after shave lotion classic. Not quite sure how many women that have been attracted to me because of Aqua Velva,  I do know for sure that it\\'s just to many to count. Ha.  Not sure how long this has been around but the Williams Company ran a paper advertisement, taken from a 1949 magazine, which features Ralph Bellamy of Detective Story and Ezio Pinza of South Pacific for Aqua Velva After Shave Lotion. I\\'m sure you all remember Ralph Bellamy and Ezio Pinza from the 40\\'s right.\\n\\nThere slogan was \" There is nothing like an AQUA VELVA MAN \" and it seemed to work because this was a hot item when I was a young man. It\\'s just amazing that this is still around when the vast majority of after shave lotions from that time period have disappeared over the years.\\n\\nThe only negative about Aqua Velva is it does not last very long. Usually in less than an hour the aroma has dissipated. The more expensive after shave lotions and perfumes have Ambergris in them which is quite expensive and comes from a sperm whale this enables the aroma to linger much longer.\\n\\nAt any rate this is a great classic after shave with a wonderful refreshing odor, give it a try you might just like it.\\n\\nNote :::; Some reviewers mention this 7oz size now comes in a plastic container, I just bought one in Wal-Mart and it was glass.')\n",
      "\n",
      "(3, \"If you ever want to feel pampered by a shampoo this one is the one.  It smells like a wonderful perfume and cleans your hair until it shines plus adding a fullness that most other shampoo's don't give you.  It is expensive, but worth it!\")\n",
      "\n"
     ]
    }
   ],
   "source": [
    "#load json data\n",
    "corpus = []\n",
    "labels = []\n",
    "\n",
    "with open('./D28_All_Beauty.json', 'r',encoding=\"utf-8\") as f:\n",
    "    for review in f:\n",
    "        _dic = json.loads(review)\n",
    "        \n",
    "        #parse corpus(reviewText) and label(overall)\n",
    "        corpus.append(_dic.setdefault('reviewText',''))\n",
    "        \n",
    "        #transform labels: 1,2 --> 1 and 3 --> 2 and 4,5 --> 3\n",
    "        labels.append(round((int(_dic['overall'])-1)/2)+1)\n",
    "        \n",
    "for data in zip(labels[:5], corpus[:5]):\n",
    "    print(data, end='\\n'*2)"
   ]
  },
  {
   "cell_type": "code",
   "execution_count": 3,
   "metadata": {},
   "outputs": [
    {
     "name": "stdout",
     "output_type": "stream",
     "text": [
      "As advertised  Reasonably priced\n",
      "\n",
      "Like the oder and the feel when I put it on my face   I have tried other brands but the reviews from people I know they prefer the oder of this brand  Not hard on the face when dry   Does not leave dry skin \n",
      "\n",
      "I bought this to smell nice after I shave   When I put it on I smelled awful   I am 19 and I smelled like a grandmother with too much perfume \n",
      "\n",
      "HEY   I am an Aqua Velva Man and absolutely love this stuff  been using it for over 50 years  This is a true after shave lotion classic  Not quite sure how many women that have been attracted to me because of Aqua Velva   I do know for sure that it s just to many to count  Ha   Not sure how long this has been around but the Williams Company ran a paper advertisement  taken from a 1949 magazine  which features Ralph Bellamy of Detective Story and Ezio Pinza of South Pacific for Aqua Velva After Shave Lotion  I m sure you all remember Ralph Bellamy and Ezio Pinza from the 40 s right   There slogan was   There is nothing like an AQUA VELVA MAN   and it seemed to work because this was a hot item when I was a young man  It s just amazing that this is still around when the vast majority of after shave lotions from that time period have disappeared over the years   The only negative about Aqua Velva is it does not last very long  Usually in less than an hour the aroma has dissipated  The more expensive after shave lotions and perfumes have Ambergris in them which is quite expensive and comes from a sperm whale this enables the aroma to linger much longer   At any rate this is a great classic after shave with a wonderful refreshing odor  give it a try you might just like it   Note      Some reviewers mention this 7oz size now comes in a plastic container  I just bought one in Wal Mart and it was glass \n",
      "\n",
      "If you ever want to feel pampered by a shampoo this one is the one   It smells like a wonderful perfume and cleans your hair until it shines plus adding a fullness that most other shampoo s don t give you   It is expensive  but worth it \n"
     ]
    }
   ],
   "source": [
    "#preprocessing data\n",
    "#remove email address, punctuations, and change line symbol(\\n)\n",
    "pattern = r'\\S*@\\S*|\\\\n|[^a-zA-Z0-9]'\n",
    "\n",
    "for i, review in enumerate(corpus):\n",
    "    fil_review = [w for w in re.sub(pattern, ' ', review).split(' ') if w != ' ']\n",
    "    corpus[i] = ' '.join(fil_review)\n",
    "\n",
    "print('\\n\\n'.join(corpus[:5]))"
   ]
  },
  {
   "cell_type": "code",
   "execution_count": 4,
   "metadata": {},
   "outputs": [
    {
     "name": "stdout",
     "output_type": "stream",
     "text": [
      "4215 1054 4215 1054\n"
     ]
    }
   ],
   "source": [
    "#split corpus and label into train and test\n",
    "x_train, x_test, y_train, y_test = train_test_split(corpus, labels, test_size=0.2)\n",
    "print(len(x_train), len(x_test), len(y_train), len(y_test))"
   ]
  },
  {
   "cell_type": "code",
   "execution_count": 5,
   "metadata": {},
   "outputs": [],
   "source": [
    "#change corpus into vector\n",
    "#you can use tfidf or BoW here\n",
    "tfidf_vec = TfidfVectorizer()\n",
    "tfidf_vec.fit(x_train)\n",
    "\n",
    "#transform training and testing corpus into vector form\n",
    "x_train = tfidf_vec.transform(x_train).toarray()\n",
    "x_test = tfidf_vec.transform(x_test).toarray()"
   ]
  },
  {
   "cell_type": "markdown",
   "metadata": {},
   "source": [
    "### 訓練與預測"
   ]
  },
  {
   "cell_type": "code",
   "execution_count": 6,
   "metadata": {},
   "outputs": [
    {
     "data": {
      "text/plain": [
       "DecisionTreeClassifier(max_depth=10)"
      ]
     },
     "execution_count": 6,
     "metadata": {},
     "output_type": "execute_result"
    }
   ],
   "source": [
    "#build classification model (decision tree, random forest, or adaboost)\n",
    "#start training\n",
    "tree = DecisionTreeClassifier(max_depth=10, min_samples_split=2)\n",
    "tree.fit(x_train, y_train)"
   ]
  },
  {
   "cell_type": "code",
   "execution_count": 7,
   "metadata": {},
   "outputs": [],
   "source": [
    "#start inference\n",
    "y_pred = tree.predict(x_test)"
   ]
  },
  {
   "cell_type": "code",
   "execution_count": 8,
   "metadata": {},
   "outputs": [
    {
     "name": "stdout",
     "output_type": "stream",
     "text": [
      "Accuracy: 0.969639468690702\n"
     ]
    }
   ],
   "source": [
    "#calculate accuracy\n",
    "print(f'Accuracy: {tree.score(x_test,y_test)}')"
   ]
  },
  {
   "cell_type": "code",
   "execution_count": 9,
   "metadata": {},
   "outputs": [
    {
     "name": "stdout",
     "output_type": "stream",
     "text": [
      "              precision    recall  f1-score   support\n",
      "\n",
      "           1       0.96      0.62      0.75        37\n",
      "           2       1.00      0.15      0.26        20\n",
      "           3       0.97      1.00      0.98       997\n",
      "\n",
      "    accuracy                           0.97      1054\n",
      "   macro avg       0.98      0.59      0.67      1054\n",
      "weighted avg       0.97      0.97      0.96      1054\n",
      "\n",
      "[[ 23   0  14]\n",
      " [  0   3  17]\n",
      " [  1   0 996]]\n"
     ]
    }
   ],
   "source": [
    "#calculate confusion matrix, precision, recall, and f1-score\n",
    "print(classification_report(y_test, y_pred))\n",
    "print(confusion_matrix(y_test, y_pred))"
   ]
  },
  {
   "cell_type": "markdown",
   "metadata": {},
   "source": [
    "由上述資訊可以發現, 模型在好評的準確度高(precision, recall都高), 而在差評的部分表現較不理想, 在普通評價的部分大部分跟差評搞混,\n",
    "同學可以試著學習到的各種方法來提升模型的表現"
   ]
  }
 ],
 "metadata": {
  "kernelspec": {
   "display_name": "Python 3",
   "language": "python",
   "name": "python3"
  },
  "language_info": {
   "codemirror_mode": {
    "name": "ipython",
    "version": 3
   },
   "file_extension": ".py",
   "mimetype": "text/x-python",
   "name": "python",
   "nbconvert_exporter": "python",
   "pygments_lexer": "ipython3",
   "version": "3.8.3"
  }
 },
 "nbformat": 4,
 "nbformat_minor": 4
}
