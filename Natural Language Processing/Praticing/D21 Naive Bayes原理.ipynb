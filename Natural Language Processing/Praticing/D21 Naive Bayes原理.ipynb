{
 "cells": [
  {
   "cell_type": "markdown",
   "metadata": {},
   "source": [
    "### 思考題：為什麼特徵獨立的假設足以讓 Naive Bayes 被稱為 Naive?"
   ]
  },
  {
   "cell_type": "markdown",
   "metadata": {},
   "source": [
    "### \t<font color=#FF0000>Answer</font>\n",
    "\n",
    "基本上，在自然界中特徵1不可能是完全獨立的， <br>\n",
    "故在這個假設上過於單純(天真/樸素)而使此方法被稱為Naive， <br>\n",
    "但Naive Bayes分類器在很多現實情形中仍能有相當好的效果。 <br>"
   ]
  }
 ],
 "metadata": {
  "kernelspec": {
   "display_name": "Python 3",
   "language": "python",
   "name": "python3"
  },
  "language_info": {
   "codemirror_mode": {
    "name": "ipython",
    "version": 3
   },
   "file_extension": ".py",
   "mimetype": "text/x-python",
   "name": "python",
   "nbconvert_exporter": "python",
   "pygments_lexer": "ipython3",
   "version": "3.8.3"
  }
 },
 "nbformat": 4,
 "nbformat_minor": 4
}
