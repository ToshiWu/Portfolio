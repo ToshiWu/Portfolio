{
 "cells": [
  {
   "cell_type": "markdown",
   "metadata": {},
   "source": [
    "### 作業目的:了解Ensemble中的Blending與Stacking"
   ]
  },
  {
   "cell_type": "markdown",
   "metadata": {},
   "source": [
    "### Question: 請描述Blending與Stacking的差異\n",
    "\n",
    "#### Answer:\n",
    "   1. Blending:<br>將訓練即拆成兩部分:base train data和holdout set，<br>由base tarin data訓練出基模型後，預測holdout set產出新特徵，<br>將holdout set和新特徵結合後，訓練出最後預測模型。<br><br>\n",
    "   2. Stacking:<br>將訓練即拆成K個部分，依順序抽出當作holdout set，<br>由剩下的部分分別訓練出各自的基模型，並預測holdout set產出新特徵，<br>將所有holdout set和所有新特徵結合後，訓練出最後預測模型。<br>"
   ]
  }
 ],
 "metadata": {
  "kernelspec": {
   "display_name": "Python 3",
   "language": "python",
   "name": "python3"
  },
  "language_info": {
   "codemirror_mode": {
    "name": "ipython",
    "version": 3
   },
   "file_extension": ".py",
   "mimetype": "text/x-python",
   "name": "python",
   "nbconvert_exporter": "python",
   "pygments_lexer": "ipython3",
   "version": "3.8.3"
  }
 },
 "nbformat": 4,
 "nbformat_minor": 4
}
