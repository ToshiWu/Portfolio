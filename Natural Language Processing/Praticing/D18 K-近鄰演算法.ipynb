{
 "cells": [
  {
   "cell_type": "markdown",
   "metadata": {},
   "source": [
    "##   監督式學習的優缺點\n",
    "###  &emsp;1.優點\n",
    "#### &emsp;&emsp;訓練過程中有明確的答案可以對比誤差、修正答案以達到更精準的預測，因此模型的準確率較高。也較能評斷模型的優劣，或針對自己想要的結果進行調整。\n",
    "###  &emsp;2.缺點\n",
    "#### &emsp;&emsp;訓練前需要大量的人工作業，標記所有可能的特徵。當範圍擴大、資訊量增加或是未知領域時，則會難以運作。\n",
    "<hr/>\n",
    "\n",
    "##   非監督式學習的優缺點\n",
    "###  &emsp;1.優點\n",
    "#### &emsp;&emsp;非監督式學習可以減低繁瑣的人工作業，直接找出潛在的規則。\n",
    "###  &emsp;2.缺點\n",
    "#### &emsp;&emsp;有機會造成過多功耗的浪費，或是造成不具重要性的特徵被過度放大，導致結果偏誤，產生無意義的分群結果。\n",
    "<hr/>\n",
    "\n",
    "### 此外，結合兩者的學習模型為半監督式學習，其輸入數據部分被標識，部分沒有被標識。這種學習模型可以用來進行預測，但是模型首先需要學習數據的內在結構以便合理的組織數據來進行預測。應用場景包括分類和迴歸，算法包括一些對常用監督式學習算法的延伸，這些算法首先試圖對未標識數據進行建模，在此基礎上再對標識的數據進行預測。"
   ]
  }
 ],
 "metadata": {
  "kernelspec": {
   "display_name": "Python 3",
   "language": "python",
   "name": "python3"
  },
  "language_info": {
   "codemirror_mode": {
    "name": "ipython",
    "version": 3
   },
   "file_extension": ".py",
   "mimetype": "text/x-python",
   "name": "python",
   "nbconvert_exporter": "python",
   "pygments_lexer": "ipython3",
   "version": "3.8.3"
  }
 },
 "nbformat": 4,
 "nbformat_minor": 4
}
