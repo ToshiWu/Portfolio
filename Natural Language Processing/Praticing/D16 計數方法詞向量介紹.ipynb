{
 "cells": [
  {
   "cell_type": "markdown",
   "metadata": {},
   "source": [
    "## 作業目標: 透過思考與回答以更加了解計數方法的詞向量"
   ]
  },
  {
   "cell_type": "markdown",
   "metadata": {},
   "source": [
    "### 請問詞庫手法會有什麼樣的優缺點？\n",
    "\n",
    "詞庫手法為創建包含大量字詞的詞庫，將相同意思字詞(同義字)或相似意思字詞(相似字)分類在相同群組。\n",
    "\n",
    "#### 　　優點:\n",
    "\n",
    "        1.較為直觀\n",
    "        2.將字詞轉換為向量較為容易\n",
    "\n",
    "#### 　　缺點:\n",
    "        1.需透過人工的方式更新詞庫，以因應新詞彙的產生。\n",
    "        2.建立與維護詞庫需要龐大的時間與人力成本。\n",
    "        3.同義詞或相似字是由人工定義，等同於人工進行特徵擷取。"
   ]
  },
  {
   "cell_type": "markdown",
   "metadata": {},
   "source": [
    "### 請問共現矩陣有什麼樣的優缺點？ \n",
    "\n",
    "根據分佈假說，相似的字詞會有類似的上下文，因此我們可以透過計數周圍(window)的字詞來表達特定字詞的向量。\n",
    "\n",
    "#### 　　優點:\n",
    "        1.保留了詞與詞之間的關係，特徵擷取方式也較為科學\n",
    "        2.建立良好的共現矩陣可重複使用\n",
    "\n",
    "#### 　　缺點:\n",
    "        1.字詞一多時，儲存矩陣維度龐大，需要大量的內存\n",
    "        2.無法良好處理高頻詞"
   ]
  },
  {
   "cell_type": "markdown",
   "metadata": {},
   "source": [
    "### 請問為何需要對共現矩陣或PPMI進行SVD降維?\n",
    "\n",
    "    兩者的元素大多值皆為0，即兩者皆為稀疏矩陣，透過SVD可以將其轉為稠密矩陣，藉此達到重要特徵提取與降維的功用。"
   ]
  },
  {
   "cell_type": "markdown",
   "metadata": {},
   "source": [
    "### 實作cosine similarity\n",
    "\n",
    "在比較兩個詞向量的相似度時可以使用cosine similarity:\n",
    "$$\n",
    "similarity(x,y) = \\frac{x \\cdot y}{||x||||y||} = \\frac{x_1y_1+...+x_ny_n}{\\sqrt{x_1^2+...+x_n^2}\\sqrt{y_1^2+...+y_n^2}}\n",
    "$$\n",
    "\n",
    "請實作cosine similarity並計算共現矩陣課程範例中you向量([0,1,0,0,0,0,0])與I([0,1,0,1,0,0,0])向量的相似度"
   ]
  },
  {
   "cell_type": "code",
   "execution_count": 1,
   "metadata": {},
   "outputs": [
    {
     "name": "stdout",
     "output_type": "stream",
     "text": [
      "Similarity: 0.7071067761865475\n"
     ]
    }
   ],
   "source": [
    "import numpy as np\n",
    "I = np.array([0,1,0,0,0,0,0])\n",
    "You = np.array([0,1,0,1,0,0,0])\n",
    "\n",
    "def cos_similarity(x, y, eps = 1e-8):\n",
    "    return np.dot(x, y) / (np.sqrt(np.sum(x**2)) * np.sqrt(np.sum(y**2)) + eps)\n",
    "\n",
    "print(f\"Similarity: {cos_similarity(I, You)}\")"
   ]
  }
 ],
 "metadata": {
  "kernelspec": {
   "display_name": "Python 3",
   "language": "python",
   "name": "python3"
  },
  "language_info": {
   "codemirror_mode": {
    "name": "ipython",
    "version": 3
   },
   "file_extension": ".py",
   "mimetype": "text/x-python",
   "name": "python",
   "nbconvert_exporter": "python",
   "pygments_lexer": "ipython3",
   "version": "3.8.3"
  }
 },
 "nbformat": 4,
 "nbformat_minor": 4
}
