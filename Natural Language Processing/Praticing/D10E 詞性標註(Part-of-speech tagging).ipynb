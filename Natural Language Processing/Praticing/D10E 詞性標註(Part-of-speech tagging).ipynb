{
 "cells": [
  {
   "cell_type": "markdown",
   "metadata": {
    "colab_type": "text",
    "id": "NIVL6V4sudZB"
   },
   "source": [
    "# String Operation"
   ]
  },
  {
   "cell_type": "markdown",
   "metadata": {
    "colab_type": "text",
    "id": "QKpWVGfxudZC"
   },
   "source": [
    "---"
   ]
  },
  {
   "cell_type": "markdown",
   "metadata": {
    "colab_type": "text",
    "id": "uMfa0_WAudZD"
   },
   "source": [
    "## String :判別字串是否為特定字元"
   ]
  },
  {
   "cell_type": "markdown",
   "metadata": {
    "colab_type": "text",
    "id": "G8vrpIPAudZD"
   },
   "source": [
    "### isnumeric(), isdigit(), isdecimal()"
   ]
  },
  {
   "cell_type": "code",
   "execution_count": 1,
   "metadata": {
    "colab": {},
    "colab_type": "code",
    "id": "Jz0fCGZkudZE"
   },
   "outputs": [],
   "source": [
    "## 差別主要在於unicode定義的區間不同，isdecimal() ⊆ isdigit() ⊆ isnumeric()"
   ]
  },
  {
   "cell_type": "code",
   "execution_count": 2,
   "metadata": {
    "colab": {},
    "colab_type": "code",
    "id": "9tHCaAuJudZI"
   },
   "outputs": [],
   "source": [
    "def spam(s):\n",
    "    for attr in ['isnumeric', 'isdecimal', 'isdigit']:\n",
    "        print(f'{s} {attr:<9} :', getattr(s, attr)())"
   ]
  },
  {
   "cell_type": "code",
   "execution_count": 3,
   "metadata": {
    "colab": {},
    "colab_type": "code",
    "id": "eGB7JjP7udZL",
    "outputId": "42718988-6771-4880-8cd2-b57f26c04beb"
   },
   "outputs": [
    {
     "name": "stdout",
     "output_type": "stream",
     "text": [
      "3 isnumeric : True\n",
      "3 isdecimal : True\n",
      "3 isdigit   : True\n"
     ]
    }
   ],
   "source": [
    "spam('3')"
   ]
  },
  {
   "cell_type": "code",
   "execution_count": 4,
   "metadata": {
    "colab": {},
    "colab_type": "code",
    "id": "LZoyQeCXudZO",
    "outputId": "88435fa9-7494-49a3-e42e-91bf5f7901e0"
   },
   "outputs": [
    {
     "name": "stdout",
     "output_type": "stream",
     "text": [
      "½ isnumeric : True\n",
      "½ isdecimal : False\n",
      "½ isdigit   : False\n"
     ]
    }
   ],
   "source": [
    "spam('½')"
   ]
  },
  {
   "cell_type": "code",
   "execution_count": 5,
   "metadata": {
    "colab": {},
    "colab_type": "code",
    "id": "SqIHCE5hudZS",
    "outputId": "d420796e-60d0-4644-c860-d47aa04b5750"
   },
   "outputs": [
    {
     "name": "stdout",
     "output_type": "stream",
     "text": [
      "⑩⑬㊿ isnumeric : True\n",
      "⑩⑬㊿ isdecimal : False\n",
      "⑩⑬㊿ isdigit   : False\n"
     ]
    }
   ],
   "source": [
    "spam(\"⑩⑬㊿\")"
   ]
  },
  {
   "cell_type": "code",
   "execution_count": 6,
   "metadata": {
    "colab": {},
    "colab_type": "code",
    "id": "ZJbrX2mmudZV",
    "outputId": "ed50e7f5-a493-4378-b54b-e368e15f5f8c"
   },
   "outputs": [
    {
     "name": "stdout",
     "output_type": "stream",
     "text": [
      "🄀⒊⒏ isnumeric : True\n",
      "🄀⒊⒏ isdecimal : False\n",
      "🄀⒊⒏ isdigit   : True\n"
     ]
    }
   ],
   "source": [
    "spam(\"🄀⒊⒏\")"
   ]
  },
  {
   "cell_type": "code",
   "execution_count": 7,
   "metadata": {
    "colab": {},
    "colab_type": "code",
    "id": "5PMLeTKLudZY",
    "outputId": "7d401da5-fd08-4acf-fbef-654a0d798a73"
   },
   "outputs": [
    {
     "name": "stdout",
     "output_type": "stream",
     "text": [
      "³ isnumeric : True\n",
      "³ isdecimal : False\n",
      "³ isdigit   : True\n"
     ]
    }
   ],
   "source": [
    "spam('³')"
   ]
  },
  {
   "cell_type": "code",
   "execution_count": 8,
   "metadata": {
    "colab": {},
    "colab_type": "code",
    "id": "CibP3B-dudZc",
    "outputId": "c8d5253f-7d51-454b-d65a-4905fd525208"
   },
   "outputs": [
    {
     "name": "stdout",
     "output_type": "stream",
     "text": [
      "2.345 isnumeric : False\n",
      "2.345 isdecimal : False\n",
      "2.345 isdigit   : False\n"
     ]
    }
   ],
   "source": [
    "## 因為.不屬於numeric定義內字元，所以三者都返回False\n",
    "spam('2.345')"
   ]
  },
  {
   "cell_type": "markdown",
   "metadata": {
    "colab_type": "text",
    "id": "pDYgyi78udZe"
   },
   "source": [
    "### isalnum()"
   ]
  },
  {
   "cell_type": "code",
   "execution_count": 9,
   "metadata": {
    "colab": {},
    "colab_type": "code",
    "id": "QGgS3uotudZf",
    "outputId": "b78458f9-af79-4778-bfab-88574065ccf3"
   },
   "outputs": [
    {
     "data": {
      "text/plain": [
       "True"
      ]
     },
     "execution_count": 9,
     "metadata": {},
     "output_type": "execute_result"
    }
   ],
   "source": [
    "## 如果string至少有一個字符和所有字符都是字母或數字則返回True，否則返回False\n",
    "'23'.isalnum()"
   ]
  },
  {
   "cell_type": "code",
   "execution_count": 10,
   "metadata": {
    "colab": {},
    "colab_type": "code",
    "id": "uNuzQMbmudZh",
    "outputId": "aa2c19e5-f0c5-47d0-cca8-3bba7c71894b"
   },
   "outputs": [
    {
     "data": {
      "text/plain": [
       "True"
      ]
     },
     "execution_count": 10,
     "metadata": {},
     "output_type": "execute_result"
    }
   ],
   "source": [
    "'我要學python'.isalnum()"
   ]
  },
  {
   "cell_type": "code",
   "execution_count": 11,
   "metadata": {
    "colab": {},
    "colab_type": "code",
    "id": "AJc4b6pwudZk",
    "outputId": "485f7ad4-72af-43c4-ea59-c4288b4ecc75"
   },
   "outputs": [
    {
     "data": {
      "text/plain": [
       "False"
      ]
     },
     "execution_count": 11,
     "metadata": {},
     "output_type": "execute_result"
    }
   ],
   "source": [
    "## .不算字母或數字\n",
    "'我要學python.'.isalnum()"
   ]
  },
  {
   "cell_type": "code",
   "execution_count": 12,
   "metadata": {
    "colab": {},
    "colab_type": "code",
    "id": "f_Xdfr8KudZn",
    "outputId": "becc6945-1aff-4892-e6d8-2969ba30a6cc"
   },
   "outputs": [
    {
     "data": {
      "text/plain": [
       "False"
      ]
     },
     "execution_count": 12,
     "metadata": {},
     "output_type": "execute_result"
    }
   ],
   "source": [
    "## space 不算字母或數字\n",
    "'我要學python '.isalnum()"
   ]
  },
  {
   "cell_type": "markdown",
   "metadata": {
    "colab_type": "text",
    "id": "nv2ZeQSTudZp"
   },
   "source": [
    "### isupper() / islower()"
   ]
  },
  {
   "cell_type": "code",
   "execution_count": 13,
   "metadata": {
    "colab": {},
    "colab_type": "code",
    "id": "BkJFFkE-udZq",
    "outputId": "1bc6cc61-9621-42ee-87cf-9851d3ae81de"
   },
   "outputs": [
    {
     "data": {
      "text/plain": [
       "True"
      ]
     },
     "execution_count": 13,
     "metadata": {},
     "output_type": "execute_result"
    }
   ],
   "source": [
    "'ABC'.isupper()"
   ]
  },
  {
   "cell_type": "code",
   "execution_count": 14,
   "metadata": {
    "colab": {},
    "colab_type": "code",
    "id": "1SOzZ9-JudZt",
    "outputId": "f015d208-c5ee-48d4-a88e-6eab27a127b8"
   },
   "outputs": [
    {
     "data": {
      "text/plain": [
       "False"
      ]
     },
     "execution_count": 14,
     "metadata": {},
     "output_type": "execute_result"
    }
   ],
   "source": [
    "'ABC'.islower()"
   ]
  },
  {
   "cell_type": "code",
   "execution_count": 15,
   "metadata": {
    "colab": {},
    "colab_type": "code",
    "id": "9Q0yR_CYudZw",
    "outputId": "d09486f0-5fa8-4536-dcd4-64110d0391e7"
   },
   "outputs": [
    {
     "data": {
      "text/plain": [
       "False"
      ]
     },
     "execution_count": 15,
     "metadata": {},
     "output_type": "execute_result"
    }
   ],
   "source": [
    "'ABc'.islower()"
   ]
  },
  {
   "cell_type": "markdown",
   "metadata": {
    "colab_type": "text",
    "id": "U9MF5afgudZy"
   },
   "source": [
    "## 常見格式化符號"
   ]
  },
  {
   "cell_type": "markdown",
   "metadata": {
    "colab_type": "text",
    "id": "sLB5qi3MudZz"
   },
   "source": [
    "### %s 格式化為string"
   ]
  },
  {
   "cell_type": "code",
   "execution_count": 16,
   "metadata": {
    "colab": {},
    "colab_type": "code",
    "id": "-yzZ5nqDudZz",
    "outputId": "df5c1a83-6070-4765-b80a-01506b7f8371"
   },
   "outputs": [
    {
     "data": {
      "text/plain": [
       "'I will like to be a AI engineer'"
      ]
     },
     "execution_count": 16,
     "metadata": {},
     "output_type": "execute_result"
    }
   ],
   "source": [
    "'I will like to be a AI %s' % ('engineer')"
   ]
  },
  {
   "cell_type": "code",
   "execution_count": 17,
   "metadata": {
    "colab": {},
    "colab_type": "code",
    "id": "9MuqxW7LudZ1",
    "outputId": "6a1763dc-3bbb-40c2-cf40-49fe08b03c06"
   },
   "outputs": [
    {
     "data": {
      "text/plain": [
       "'I will like to be a AI engineer'"
      ]
     },
     "execution_count": 17,
     "metadata": {},
     "output_type": "execute_result"
    }
   ],
   "source": [
    "'I will like to be a %s %s' % ('AI','engineer')"
   ]
  },
  {
   "cell_type": "markdown",
   "metadata": {
    "colab_type": "text",
    "id": "eJE3F-0PudZ4"
   },
   "source": [
    "### %i , %d 格式化為整數"
   ]
  },
  {
   "cell_type": "code",
   "execution_count": 18,
   "metadata": {
    "colab": {},
    "colab_type": "code",
    "id": "SJu0-BBrudZ5",
    "outputId": "9aaeada1-33b2-4ccf-8443-b496901e7ff3"
   },
   "outputs": [
    {
     "data": {
      "text/plain": [
       "'4'"
      ]
     },
     "execution_count": 18,
     "metadata": {},
     "output_type": "execute_result"
    }
   ],
   "source": [
    "'%i' % (4.356)"
   ]
  },
  {
   "cell_type": "code",
   "execution_count": 19,
   "metadata": {
    "colab": {},
    "colab_type": "code",
    "id": "RbdaO9M7udZ8",
    "outputId": "a4ff2f06-090b-45f5-a587-1992ec08e7b4"
   },
   "outputs": [
    {
     "data": {
      "text/plain": [
       "'4'"
      ]
     },
     "execution_count": 19,
     "metadata": {},
     "output_type": "execute_result"
    }
   ],
   "source": [
    "'%d' % (4.356)"
   ]
  },
  {
   "cell_type": "markdown",
   "metadata": {
    "colab_type": "text",
    "id": "M8a2es4sudZ_"
   },
   "source": [
    "### %e 格式化為科學符號"
   ]
  },
  {
   "cell_type": "code",
   "execution_count": 20,
   "metadata": {
    "colab": {},
    "colab_type": "code",
    "id": "V6zsS_6YudaB",
    "outputId": "9371451e-84fe-4fc2-8bf9-15de5f10c1a8"
   },
   "outputs": [
    {
     "data": {
      "text/plain": [
       "'4.356000e+00'"
      ]
     },
     "execution_count": 20,
     "metadata": {},
     "output_type": "execute_result"
    }
   ],
   "source": [
    "'%e' % (4.356)"
   ]
  },
  {
   "cell_type": "markdown",
   "metadata": {
    "colab_type": "text",
    "id": "AIZ3WYP_udaF"
   },
   "source": [
    "### %f 格式化為float"
   ]
  },
  {
   "cell_type": "code",
   "execution_count": 21,
   "metadata": {
    "colab": {},
    "colab_type": "code",
    "id": "1RSVqy3AudaH",
    "outputId": "55932aae-671c-4f06-cb3f-30dfd7cb1c60"
   },
   "outputs": [
    {
     "data": {
      "text/plain": [
       "'4.356000'"
      ]
     },
     "execution_count": 21,
     "metadata": {},
     "output_type": "execute_result"
    }
   ],
   "source": [
    "'%f' % (4.356)"
   ]
  },
  {
   "cell_type": "code",
   "execution_count": 22,
   "metadata": {
    "colab": {},
    "colab_type": "code",
    "id": "LwLYqxTDudaU",
    "outputId": "d8880cf8-3b6f-4593-eacc-339f11330ce6"
   },
   "outputs": [
    {
     "data": {
      "text/plain": [
       "'4.36'"
      ]
     },
     "execution_count": 22,
     "metadata": {},
     "output_type": "execute_result"
    }
   ],
   "source": [
    "## 只呈現到小數點後面兩位\n",
    "'%.2f' % (4.356)"
   ]
  },
  {
   "cell_type": "markdown",
   "metadata": {
    "colab_type": "text",
    "id": "DplVWd6Eudai"
   },
   "source": [
    "---"
   ]
  },
  {
   "cell_type": "markdown",
   "metadata": {
    "colab_type": "text",
    "id": "K3F12Obvudan"
   },
   "source": [
    "## string.format()  以可讀性更高的語法做到 string formatting "
   ]
  },
  {
   "cell_type": "markdown",
   "metadata": {
    "colab_type": "text",
    "id": "rss-725Pudaq"
   },
   "source": [
    "### 不指定位置，按照順序排列 :基本语法是通过 {} 和 : 来代替以前的 %"
   ]
  },
  {
   "cell_type": "code",
   "execution_count": 23,
   "metadata": {
    "colab": {},
    "colab_type": "code",
    "id": "b6lSSHRaudas",
    "outputId": "67dd2c89-ec37-45ec-cbb8-2cf6b2cfd0d0"
   },
   "outputs": [
    {
     "data": {
      "text/plain": [
       "'I Love Python'"
      ]
     },
     "execution_count": 23,
     "metadata": {},
     "output_type": "execute_result"
    }
   ],
   "source": [
    "'{} {} {}'.format('I','Love','Python')"
   ]
  },
  {
   "cell_type": "markdown",
   "metadata": {
    "colab_type": "text",
    "id": "C9ybrsZpuda2"
   },
   "source": [
    "## 給定順序"
   ]
  },
  {
   "cell_type": "code",
   "execution_count": 24,
   "metadata": {
    "colab": {},
    "colab_type": "code",
    "id": "QT9u6Ef8uda6",
    "outputId": "a5809da2-6330-4a8c-c5cf-8c6c654db3b3"
   },
   "outputs": [
    {
     "data": {
      "text/plain": [
       "'I Love Python'"
      ]
     },
     "execution_count": 24,
     "metadata": {},
     "output_type": "execute_result"
    }
   ],
   "source": [
    "'{1} {0} {2}'.format('Love','I','Python')"
   ]
  },
  {
   "cell_type": "markdown",
   "metadata": {
    "colab_type": "text",
    "id": "5_M2HSOaudbD"
   },
   "source": [
    "## 給定變數名稱"
   ]
  },
  {
   "cell_type": "code",
   "execution_count": 25,
   "metadata": {
    "colab": {},
    "colab_type": "code",
    "id": "zQCo-LvZudbE",
    "outputId": "f3c69da7-281b-481d-a063-873a708d1835"
   },
   "outputs": [
    {
     "data": {
      "text/plain": [
       "'I Love Python'"
      ]
     },
     "execution_count": 25,
     "metadata": {},
     "output_type": "execute_result"
    }
   ],
   "source": [
    "'{name} {verb} {language}'.format(verb = 'Love', name = 'I', language = 'Python')"
   ]
  },
  {
   "cell_type": "markdown",
   "metadata": {
    "colab_type": "text",
    "id": "Ul5i-8ybudbf"
   },
   "source": [
    "### 輸入字典"
   ]
  },
  {
   "cell_type": "code",
   "execution_count": 26,
   "metadata": {
    "colab": {},
    "colab_type": "code",
    "id": "8oO7jUZ7udbj",
    "outputId": "608a9527-9b5c-4eac-f878-42723c41f933"
   },
   "outputs": [
    {
     "data": {
      "text/plain": [
       "'I Love Python'"
      ]
     },
     "execution_count": 26,
     "metadata": {},
     "output_type": "execute_result"
    }
   ],
   "source": [
    "dic_ = {'verb' : 'Love', 'name' : 'I', 'language' : 'Python'}\n",
    "\n",
    "'{name} {verb} {language}'.format(**dic_)"
   ]
  },
  {
   "cell_type": "markdown",
   "metadata": {
    "colab_type": "text",
    "id": "gMs7f1bludcB"
   },
   "source": [
    "## 輸入list"
   ]
  },
  {
   "cell_type": "code",
   "execution_count": 27,
   "metadata": {
    "colab": {},
    "colab_type": "code",
    "id": "4cS5UwvxudcE",
    "outputId": "52d6d42f-2394-455d-bbb5-00a3998b1020"
   },
   "outputs": [
    {
     "data": {
      "text/plain": [
       "'I Love Python'"
      ]
     },
     "execution_count": 27,
     "metadata": {},
     "output_type": "execute_result"
    }
   ],
   "source": [
    "list_ = ['Love', 'I', 'Python']\n",
    "\n",
    "## 0 代表給入的list\n",
    "'{0[1]} {0[0]} {0[2]}'.format(list_)"
   ]
  },
  {
   "cell_type": "markdown",
   "metadata": {
    "colab_type": "text",
    "id": "lhqk9OXGudcU"
   },
   "source": [
    "### 用format 取代 %"
   ]
  },
  {
   "cell_type": "code",
   "execution_count": 28,
   "metadata": {
    "colab": {},
    "colab_type": "code",
    "id": "-dRjLHmzudcX",
    "outputId": "43f532a0-4a0e-4324-de19-20492f79491c"
   },
   "outputs": [
    {
     "data": {
      "text/plain": [
       "'4.356'"
      ]
     },
     "execution_count": 28,
     "metadata": {},
     "output_type": "execute_result"
    }
   ],
   "source": [
    "## 不給訂任何escape也可以\n",
    "'{}'.format(4.356)"
   ]
  },
  {
   "cell_type": "code",
   "execution_count": 29,
   "metadata": {
    "colab": {},
    "colab_type": "code",
    "id": "TkYp91wLudc0",
    "outputId": "edbf65c3-cbd8-4878-e894-3f5e4ef9962c"
   },
   "outputs": [
    {
     "data": {
      "text/plain": [
       "'4.36'"
      ]
     },
     "execution_count": 29,
     "metadata": {},
     "output_type": "execute_result"
    }
   ],
   "source": [
    "##與上方'%.2f'%(4.356)相同\n",
    "'{:.2f}'.format(4.356)"
   ]
  },
  {
   "cell_type": "code",
   "execution_count": 30,
   "metadata": {
    "colab": {},
    "colab_type": "code",
    "id": "KgY-Xw6Dudc8",
    "outputId": "bc5de1c8-120f-46e9-d685-78d4f9fd92f4"
   },
   "outputs": [
    {
     "data": {
      "text/plain": [
       "'435.60%'"
      ]
     },
     "execution_count": 30,
     "metadata": {},
     "output_type": "execute_result"
    }
   ],
   "source": [
    "'{:.2%}'.format(4.356)"
   ]
  },
  {
   "cell_type": "markdown",
   "metadata": {
    "colab_type": "text",
    "id": "u0hUkhywuddG"
   },
   "source": [
    "### 補齊數字字串長度"
   ]
  },
  {
   "cell_type": "code",
   "execution_count": 31,
   "metadata": {
    "colab": {},
    "colab_type": "code",
    "id": "FF_WSFSguddJ",
    "outputId": "66229154-bcd8-4b20-e09a-9cbac160e219"
   },
   "outputs": [
    {
     "data": {
      "text/plain": [
       "'5000000000'"
      ]
     },
     "execution_count": 31,
     "metadata": {},
     "output_type": "execute_result"
    }
   ],
   "source": [
    "## < 補右邊, 補0到10位數\n",
    "'{:0<10d}'.format(5)"
   ]
  },
  {
   "cell_type": "code",
   "execution_count": 32,
   "metadata": {
    "colab": {},
    "colab_type": "code",
    "id": "m0kh_v_uuddS",
    "outputId": "6141ace9-3eb7-4c3a-ba34-49416ea18356"
   },
   "outputs": [
    {
     "data": {
      "text/plain": [
       "'1111111115'"
      ]
     },
     "execution_count": 32,
     "metadata": {},
     "output_type": "execute_result"
    }
   ],
   "source": [
    "## > 補左邊, 補1到10位數\n",
    "'{:1>10d}'.format(5)"
   ]
  },
  {
   "cell_type": "code",
   "execution_count": 33,
   "metadata": {
    "colab": {},
    "colab_type": "code",
    "id": "YtvAIE71uddf",
    "outputId": "25561d54-79c3-477b-e7b7-6187c9a0b0e4"
   },
   "outputs": [
    {
     "data": {
      "text/plain": [
       "'         5'"
      ]
     },
     "execution_count": 33,
     "metadata": {},
     "output_type": "execute_result"
    }
   ],
   "source": [
    "## > 補左邊, 補空格，可用來對齊\n",
    "'{:>10d}'.format(5)"
   ]
  }
 ],
 "metadata": {
  "colab": {
   "name": "String基本操作練習-checkpoint.ipynb",
   "provenance": []
  },
  "kernelspec": {
   "display_name": "Python 3",
   "language": "python",
   "name": "python3"
  },
  "language_info": {
   "codemirror_mode": {
    "name": "ipython",
    "version": 3
   },
   "file_extension": ".py",
   "mimetype": "text/x-python",
   "name": "python",
   "nbconvert_exporter": "python",
   "pygments_lexer": "ipython3",
   "version": "3.8.3"
  }
 },
 "nbformat": 4,
 "nbformat_minor": 4
}
