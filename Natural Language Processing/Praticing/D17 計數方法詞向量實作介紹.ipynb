{
 "cells": [
  {
   "cell_type": "markdown",
   "metadata": {},
   "source": [
    "### 載入所需的Libraries"
   ]
  },
  {
   "cell_type": "code",
   "execution_count": 1,
   "metadata": {},
   "outputs": [],
   "source": [
    "import re\n",
    "import pandas as pd\n",
    "import numpy as np\n",
    "import time\n",
    "import matplotlib.pyplot as plt\n",
    "from warnings import filterwarnings\n",
    "filterwarnings('ignore')\n",
    "\n",
    "from sklearn.model_selection import train_test_split\n",
    "from sklearn.feature_extraction.text import TfidfVectorizer\n",
    "from sklearn.decomposition import TruncatedSVD\n",
    "from sklearn.neighbors import KNeighborsClassifier\n",
    "from typing import List"
   ]
  },
  {
   "cell_type": "markdown",
   "metadata": {},
   "source": [
    "### 載入資料"
   ]
  },
  {
   "cell_type": "code",
   "execution_count": 2,
   "metadata": {},
   "outputs": [
    {
     "name": "stdout",
     "output_type": "stream",
     "text": [
      "  label                                            content\n",
      "0   ham  Go until jurong point, crazy.. Available only ...\n",
      "1   ham                      Ok lar... Joking wif u oni...\n",
      "2  spam  Free entry in 2 a wkly comp to win FA Cup fina...\n",
      "3   ham  U dun say so early hor... U c already then say...\n",
      "4   ham  Nah I don't think he goes to usf, he lives aro...\n"
     ]
    }
   ],
   "source": [
    "# read data from spam.csv\n",
    "sms_data = pd.read_csv('./D17_spam.csv', usecols = [0,1], encoding = 'latin')\n",
    "sms_data.columns = ['label', 'content']\n",
    "print(sms_data.head())"
   ]
  },
  {
   "cell_type": "code",
   "execution_count": 3,
   "metadata": {},
   "outputs": [
    {
     "name": "stdout",
     "output_type": "stream",
     "text": [
      "       content\n",
      "label         \n",
      "ham       4825\n",
      "spam       747\n"
     ]
    }
   ],
   "source": [
    "# check how many spams and hams\n",
    "print(sms_data.groupby('label').count())"
   ]
  },
  {
   "cell_type": "code",
   "execution_count": 4,
   "metadata": {},
   "outputs": [
    {
     "name": "stdout",
     "output_type": "stream",
     "text": [
      "  label                                            content\n",
      "0     0  Go until jurong point, crazy.. Available only ...\n",
      "1     0                      Ok lar... Joking wif u oni...\n",
      "2     1  Free entry in 2 a wkly comp to win FA Cup fina...\n",
      "3     0  U dun say so early hor... U c already then say...\n",
      "4     0  Nah I don't think he goes to usf, he lives aro...\n"
     ]
    }
   ],
   "source": [
    "# change label to from string to number\n",
    "# \"ham\" --> 0, \"spam\" --> 1\n",
    "\n",
    "sms_data.loc[sms_data.loc[:, 'label'] == 'ham', 'label'] = 0\n",
    "sms_data.loc[sms_data.loc[:, 'label'] == 'spam', 'label'] = 1\n",
    "print(sms_data.head())"
   ]
  },
  {
   "cell_type": "markdown",
   "metadata": {},
   "source": [
    "### 切分資料\n",
    "將資料依據label比例切分為training data與testing data"
   ]
  },
  {
   "cell_type": "code",
   "execution_count": 5,
   "metadata": {},
   "outputs": [
    {
     "name": "stdout",
     "output_type": "stream",
     "text": [
      "       content\n",
      "label         \n",
      "0         3859\n",
      "1          598\n",
      "       content\n",
      "label         \n",
      "0          966\n",
      "1          149\n"
     ]
    }
   ],
   "source": [
    "sms_train, sms_test = train_test_split(sms_data, test_size = 0.2, stratify = sms_data.label)\n",
    "for sms in [sms_train, sms_test]:\n",
    "    sms.reset_index(inplace = True, drop = True)\n",
    "    print(sms.groupby('label').count())"
   ]
  },
  {
   "cell_type": "markdown",
   "metadata": {},
   "source": [
    "### 資料預處理\n",
    "* 將所有字詞轉為小寫\n",
    "* 移除所有數字、標點符號"
   ]
  },
  {
   "cell_type": "code",
   "execution_count": 6,
   "metadata": {
    "scrolled": true
   },
   "outputs": [
    {
     "name": "stdout",
     "output_type": "stream",
     "text": [
      "Train:\n",
      "   label                                            content\n",
      "0     0            are you available for soiree on june rd\n",
      "1     0  i don t know jack shit about anything or i d s...\n",
      "2     0  hi do u want to join me with sts later meeting...\n",
      "3     0  it s ok i noe u re busy but i m really too bor...\n",
      "4     0  well done blimey exercise yeah i kinda remembe...\n",
      "Test: \n",
      "   label                                            content\n",
      "0     1  private your account statement for shows un re...\n",
      "1     0                                           i m done\n",
      "2     0  yeah so basically any time next week you can g...\n",
      "3     0  lol i would but my mom would have a fit and te...\n",
      "4     0                           i send the print outs da\n"
     ]
    }
   ],
   "source": [
    "def preprocess(df: pd.DataFrame) -> pd.DataFrame:\n",
    "    for i in range(len(df)):\n",
    "        # make all content to lowercase\n",
    "        # remove all punctuations\n",
    "        df.loc[i, 'content'] = ' '.join([w for w in re.findall(r\"[a-zA-Z]*\", df.loc[i, 'content'].lower()) if w != ''])\n",
    "    return df\n",
    "\n",
    "processed_train = preprocess(sms_train)\n",
    "processed_test = preprocess(sms_test)\n",
    "\n",
    "print('Train:\\n', processed_train.head())\n",
    "print('Test: \\n', processed_test.head())"
   ]
  },
  {
   "cell_type": "code",
   "execution_count": 7,
   "metadata": {},
   "outputs": [
    {
     "name": "stdout",
     "output_type": "stream",
     "text": [
      "7708\n"
     ]
    }
   ],
   "source": [
    "# split data into x_train, y_train, x_test, y_test\n",
    "y_train, x_train = zip(*processed_train.values)\n",
    "y_test, x_test = zip(*processed_test.values)\n",
    "\n",
    "# check numbers of unique word in the corpus\n",
    "print(len(set(\" \".join(list(x_train + x_test)).split())))"
   ]
  },
  {
   "cell_type": "markdown",
   "metadata": {},
   "source": [
    "### TF-IDF\n",
    "可以發現種共有7708個字詞，這裡使用TF-IDF將來選取最高分的前2000個字詞\n",
    "(若忘記的學員可參考先前TF-IDF課程章節或[此篇教學](https://ithelp.ithome.com.tw/articles/10228815?sc=iThelpR))"
   ]
  },
  {
   "cell_type": "code",
   "execution_count": 8,
   "metadata": {
    "scrolled": true
   },
   "outputs": [
    {
     "name": "stdout",
     "output_type": "stream",
     "text": [
      "Number of unique word: 2000\n",
      "\n",
      "tfidf_train:\n",
      "  (0, 1990)\t0.19363412803336533\n",
      "  (0, 1354)\t0.6248945427573556\n",
      "  (0, 1188)\t0.29301191637220936\n",
      "  (0, 606)\t0.2734048608172129\n",
      "  (0, 120)\t0.5657462341374379\n",
      "  (0, 94)\t0.30222116470814386\n",
      "  (1, 1990)\t0.21258344532255313\n",
      "  (1, 1897)\t0.32810684094336384\n",
      "  (1, 1861)\t0.20418522275571047\n",
      "  (1, 1733)\t0.10346294731271503\n",
      "  (1, 1689)\t0.12598123122878557\n",
      "  (1, 1687)\t0.1577154298572037\n",
      "  (1, 1676)\t0.2096269121938853\n",
      "  (1, 1558)\t0.2494292269741238\n",
      "  (1, 1497)\t0.2780871675193943\n",
      "  (1, 1447)\t0.23881824372338012\n",
      "  (1, 1203)\t0.16935957665963164\n",
      "  (1, 1025)\t0.14520220241882048\n",
      "  (1, 885)\t0.19367235486307308\n",
      "  (1, 863)\t0.17665218440210256\n",
      "  (1, 806)\t0.137251854008412\n",
      "  (1, 797)\t0.17549144100733283\n",
      "  (1, 457)\t0.2189890071426026\n",
      "  (1, 423)\t0.22811326047922167\n",
      "  (1, 244)\t0.16808392441906164\n",
      "  :\t:\n",
      "  (4456, 1214)\t0.15853789106912963\n",
      "  (4456, 1188)\t0.11622207475766816\n",
      "  (4456, 1175)\t0.11324095084569853\n",
      "  (4456, 1167)\t0.1721109030932403\n",
      "  (4456, 1087)\t0.17035222169222808\n",
      "  (4456, 1060)\t0.1791041760583598\n",
      "  (4456, 987)\t0.13857598427909035\n",
      "  (4456, 984)\t0.23142908633068687\n",
      "  (4456, 958)\t0.22658555175258566\n",
      "  (4456, 899)\t0.1865184826039253\n",
      "  (4456, 841)\t0.143821460784295\n",
      "  (4456, 834)\t0.10144715093502404\n",
      "  (4456, 815)\t0.23142908633068687\n",
      "  (4456, 745)\t0.18516442195284688\n",
      "  (4456, 692)\t0.13874395982116886\n",
      "  (4456, 625)\t0.19255165089516033\n",
      "  (4456, 606)\t0.21689001980823008\n",
      "  (4456, 546)\t0.21858450024722775\n",
      "  (4456, 459)\t0.1597688268035689\n",
      "  (4456, 420)\t0.2136224121249444\n",
      "  (4456, 401)\t0.16519594484302383\n",
      "  (4456, 189)\t0.22041451360774994\n",
      "  (4456, 174)\t0.20796813214382262\n",
      "  (4456, 91)\t0.2575992462250668\n",
      "  (4456, 69)\t0.09954360506185284\n",
      "\n",
      "\n",
      "tfidf_test:\n",
      "  (0, 1991)\t0.14720077773418846\n",
      "  (0, 1791)\t0.3327899120830233\n",
      "  (0, 1597)\t0.3107263049478293\n",
      "  (0, 1506)\t0.2775115670500574\n",
      "  (0, 1374)\t0.3327899120830233\n",
      "  (0, 1316)\t0.3042231742212536\n",
      "  (0, 1287)\t0.30735851326655017\n",
      "  (0, 795)\t0.31436379707203466\n",
      "  (0, 606)\t0.14560277513859038\n",
      "  (0, 541)\t0.3107263049478293\n",
      "  (0, 310)\t0.2868183244641051\n",
      "  (0, 233)\t0.1489563587874731\n",
      "  (0, 12)\t0.2742641579325512\n",
      "  (1, 458)\t1.0\n",
      "  (2, 1991)\t0.16239180616272236\n",
      "  (2, 1990)\t0.11376255379643577\n",
      "  (2, 1977)\t0.2569774740891691\n",
      "  (2, 1885)\t0.24691700447748563\n",
      "  (2, 1805)\t0.19767272807057593\n",
      "  (2, 1725)\t0.2160135976441594\n",
      "  (2, 1551)\t0.17573557818823646\n",
      "  (2, 1140)\t0.27627142070895705\n",
      "  (2, 1075)\t0.351168192679941\n",
      "  (2, 658)\t0.3715309003290048\n",
      "  (2, 631)\t0.19875092498213714\n",
      "  :\t:\n",
      "  (1112, 631)\t0.16426290359593543\n",
      "  (1112, 374)\t0.2399708638825841\n",
      "  (1112, 316)\t0.2615117691938364\n",
      "  (1112, 258)\t0.2179185977384301\n",
      "  (1112, 233)\t0.1358136408891091\n",
      "  (1112, 199)\t0.22508029502304197\n",
      "  (1112, 122)\t0.26758624626225874\n",
      "  (1113, 1990)\t0.06884632498915988\n",
      "  (1113, 1768)\t0.17654659716183083\n",
      "  (1113, 1733)\t0.0670140958927418\n",
      "  (1113, 1694)\t0.1263968951436258\n",
      "  (1113, 1689)\t0.0815994375719275\n",
      "  (1113, 1337)\t0.19593628987684678\n",
      "  (1113, 1175)\t0.1015077086698143\n",
      "  (1113, 987)\t0.12421770159808745\n",
      "  (1113, 860)\t0.4524633302583999\n",
      "  (1113, 854)\t0.4618171967666957\n",
      "  (1113, 834)\t0.18187180106826625\n",
      "  (1113, 833)\t0.24321041404600197\n",
      "  (1113, 797)\t0.11366774832419213\n",
      "  (1113, 722)\t0.20115022848713912\n",
      "  (1113, 692)\t0.1243682726791462\n",
      "  (1113, 560)\t0.4524633302583999\n",
      "  (1113, 75)\t0.2031083279001296\n",
      "  (1113, 73)\t0.2186067827206937\n",
      "\n",
      "\n"
     ]
    }
   ],
   "source": [
    "vectorizer = TfidfVectorizer(max_features = 2000)\n",
    "vectorizer.fit(x_train)\n",
    "tfidf_train = vectorizer.transform(x_train)\n",
    "tfidf_test = vectorizer.transform(x_test)\n",
    "\n",
    "print(f'Number of unique word: {len(vectorizer.vocabulary_)}\\n')\n",
    "print(f'tfidf_train:\\n{tfidf_train}\\n\\n')\n",
    "print(f'tfidf_test:\\n{tfidf_test}\\n\\n')"
   ]
  },
  {
   "cell_type": "markdown",
   "metadata": {},
   "source": [
    "### 建立共現矩陣"
   ]
  },
  {
   "cell_type": "code",
   "execution_count": 9,
   "metadata": {},
   "outputs": [
    {
     "name": "stdout",
     "output_type": "stream",
     "text": [
      "2322/4457 is finished.\t [==========>..........] 52.10% \n",
      "4457/4457 is finished.\t [====================>] 100.00% Done!\n",
      "[[1. 0. 0. ... 0. 0. 0.]\n",
      " [0. 1. 0. ... 0. 0. 0.]\n",
      " [0. 0. 1. ... 0. 0. 0.]\n",
      " ...\n",
      " [0. 0. 0. ... 1. 0. 0.]\n",
      " [0. 0. 0. ... 0. 1. 0.]\n",
      " [0. 0. 0. ... 0. 0. 1.]]\n"
     ]
    }
   ],
   "source": [
    "# Function to create co-occurrence matrix\n",
    "def create_co_matrix(corpus: List[str], vocab_list: List[str], word2idx: dict,\n",
    "                     window_size: int=1, use_weighting: bool=False, verbose: bool=False) -> np.ndarray:\n",
    "    \n",
    "    # initialize co-occurrence matrix\n",
    "    vocab_size = len(vocab_list)\n",
    "    co_matrix = np.zeros(shape=(vocab_size, vocab_size))\n",
    "    start = time.time()\n",
    "    \n",
    "    for idx, sms in enumerate(corpus):\n",
    "        sms = sms.split()\n",
    "        sms_ids = [word2idx[word] for word in sms if word in vocab_list] #tokenize\n",
    "        \n",
    "        for center_i, center_word_id in enumerate(sms_ids):\n",
    "            context_ids = sms_ids[max(0, center_i - window_size):center_word_id]\n",
    "            content_len = len(context_ids)\n",
    "            \n",
    "            for left_i, left_word_id in enumerate(context_ids):\n",
    "                \n",
    "                if use_weighting:\n",
    "                    distance = content_len - left_i\n",
    "                    increment = 1./float(distance)\n",
    "                else:\n",
    "                    increment = 1\n",
    "                    \n",
    "                co_matrix[center_word_id, left_word_id] += increment\n",
    "                co_matrix[left_word_id, center_word_id] += increment\n",
    "        \n",
    "        if verbose:\n",
    "            if time.time()-start > 1 or not len(corpus)-(idx+1):\n",
    "                print(f\"{idx+1:<4}/{len(corpus)} is finished.\\t\",\n",
    "                      '['+'='*round((idx+1)/len(corpus)*20) + '>' + '.'*(20-round((idx+1)/len(corpus)*20)) + ']',\n",
    "                      f'{(idx+1)/len(corpus)*100:.2f}%',\n",
    "                      '' if len(corpus)-(idx+1) else 'Done!')\n",
    "                start = time.time()\n",
    "                \n",
    "    if use_weighting:\n",
    "        # if use weighting, then we set the co-occurrence with the word itself to 1.0\n",
    "        np.fill_diagonal(co_matrix, 1.)\n",
    "        \n",
    "    return co_matrix\n",
    "\n",
    "co_matrix = create_co_matrix(x_train, vectorizer.get_feature_names(), vectorizer.vocabulary_,\n",
    "                            window_size=3, use_weighting=True, verbose=True)\n",
    "\n",
    "print(co_matrix)"
   ]
  },
  {
   "cell_type": "markdown",
   "metadata": {},
   "source": [
    "### 建立PPMI矩陣"
   ]
  },
  {
   "cell_type": "code",
   "execution_count": 10,
   "metadata": {},
   "outputs": [
    {
     "name": "stdout",
     "output_type": "stream",
     "text": [
      "208504/4000000 is finished.\t [=>...................] 5.21% \n",
      "417966/4000000 is finished.\t [==>..................] 10.45% \n",
      "623723/4000000 is finished.\t [===>.................] 15.59% \n",
      "827985/4000000 is finished.\t [====>................] 20.70% \n",
      "1029632/4000000 is finished.\t [=====>...............] 25.74% \n",
      "1233162/4000000 is finished.\t [======>..............] 30.83% \n",
      "1440689/4000000 is finished.\t [=======>.............] 36.02% \n",
      "1653865/4000000 is finished.\t [========>............] 41.35% \n",
      "1858099/4000000 is finished.\t [=========>...........] 46.45% \n",
      "2066089/4000000 is finished.\t [==========>..........] 51.65% \n",
      "2268112/4000000 is finished.\t [===========>.........] 56.70% \n",
      "2473326/4000000 is finished.\t [============>........] 61.83% \n",
      "2675475/4000000 is finished.\t [=============>.......] 66.89% \n",
      "2877029/4000000 is finished.\t [==============>......] 71.93% \n",
      "3081886/4000000 is finished.\t [===============>.....] 77.05% \n",
      "3282307/4000000 is finished.\t [================>....] 82.06% \n",
      "3492127/4000000 is finished.\t [=================>...] 87.30% \n",
      "3699585/4000000 is finished.\t [==================>..] 92.49% \n",
      "3904396/4000000 is finished.\t [====================>] 97.61% \n",
      "4000000/4000000 is finished.\t [====================>] 100.00% Done!\n",
      "[[13.610069   0.         0.        ...  0.         0.         0.       ]\n",
      " [ 0.        11.619867   0.        ...  0.         0.         0.       ]\n",
      " [ 0.         0.         9.035505  ...  0.         0.         0.       ]\n",
      " ...\n",
      " [ 0.         0.         0.        ...  9.829127   0.         0.       ]\n",
      " [ 0.         0.         0.        ...  0.         5.4126306  0.       ]\n",
      " [ 0.         0.         0.        ...  0.         0.         6.7849984]]\n"
     ]
    }
   ],
   "source": [
    "#定義正向點間互資訊\n",
    "\n",
    "def ppmi(co_matrix: np.ndarray, eps: float=1e-8, verbose: bool=False):\n",
    "    M = np.zeros_like(co_matrix, dtype=np.float32)\n",
    "    N = np.sum(co_matrix)\n",
    "    S = np.sum(co_matrix, axis=0)\n",
    "    total = co_matrix.shape[0]*co_matrix.shape[1]\n",
    "    start = time.time()\n",
    "\n",
    "    cnt = 0\n",
    "    \n",
    "    for i in range(co_matrix.shape[0]):\n",
    "        for j in range(co_matrix.shape[1]):\n",
    "            pmi = np.log2(co_matrix[i, j]*N / (S[i]*S[j] + eps))\n",
    "            M[i, j] = max(0, pmi)\n",
    "            \n",
    "            if verbose:\n",
    "                cnt += 1\n",
    "                if time.time()-start > 1 or cnt == total:\n",
    "                    print(f\"{cnt}/{total} is finished.\\t\",\n",
    "                          '['+'='*round(cnt/total*20) + '>' + '.'*(20-round(cnt/total*20)) + ']',\n",
    "                          f'{cnt/total*100:.2f}%',\n",
    "                          '' if total - cnt else 'Done!')\n",
    "                    start = time.time()\n",
    "    return M\n",
    "\n",
    "ppmi_matrix = ppmi(co_matrix, verbose=True)\n",
    "print(ppmi_matrix)"
   ]
  },
  {
   "cell_type": "markdown",
   "metadata": {},
   "source": [
    "### 使用SVD降維\n",
    "利用sklearn中的TruncatedSVD對co-occurrence matrix進行降維，並利用variance來找出最適合的維度\n",
    "[參考文獻](https://medium.com/swlh/truncated-singular-value-decomposition-svd-using-amazon-food-reviews-891d97af5d8d)\n",
    "\n",
    "(讀者可以嘗試使用SVD對PPMI進行降維)"
   ]
  },
  {
   "cell_type": "code",
   "execution_count": 11,
   "metadata": {},
   "outputs": [],
   "source": [
    "# Program to find the optimal number of components for Truncated SVD\n",
    "def svd_fit(matrix, min_variance = 0.98, step = 10, max_n_comp = 2000):\n",
    "    variance_sum = {} # explained variance ratio for each component of Truncated SVD\n",
    "\n",
    "    print(\"Number of components: explained variance\")\n",
    "    for dim in range(int(max_n_comp/step)):# list containing different values of components\n",
    "        n_comp=(dim+1)*step\n",
    "        svd = TruncatedSVD(n_components = n_comp)\n",
    "        svd.fit(matrix)\n",
    "        variance_sum[n_comp]=(svd.explained_variance_ratio_.sum())\n",
    "        print(f\"{n_comp:^19} : {svd.explained_variance_ratio_.sum():.16f}\")\n",
    "        if svd.explained_variance_ratio_.sum() > min_variance:\n",
    "            break\n",
    "    return variance_sum"
   ]
  },
  {
   "cell_type": "code",
   "execution_count": 12,
   "metadata": {},
   "outputs": [
    {
     "name": "stdout",
     "output_type": "stream",
     "text": [
      "Number of components: explained variance\n",
      "        10          : 0.8625707281965956\n",
      "        20          : 0.8982801898302784\n",
      "        30          : 0.9163437269113452\n",
      "        40          : 0.9284850483253807\n",
      "        50          : 0.9373877614339173\n",
      "        60          : 0.9445894949725760\n",
      "        70          : 0.9503801098084328\n",
      "        80          : 0.9552447108116454\n",
      "        90          : 0.9593112992260779\n",
      "        100         : 0.9628033485716392\n",
      "        110         : 0.9658649698331909\n",
      "        120         : 0.9685520733704733\n",
      "        130         : 0.9709613216263718\n",
      "        140         : 0.9730580110749083\n",
      "        150         : 0.9749504677649297\n",
      "        160         : 0.9766574260863924\n",
      "        170         : 0.9781867797914818\n",
      "        180         : 0.9795767756322906\n",
      "        190         : 0.9808194347389869\n"
     ]
    },
    {
     "data": {
      "image/png": "[encoded data removed]",
      "text/plain": [
       "<Figure size 432x288 with 1 Axes>"
      ]
     },
     "metadata": {
      "needs_background": "light"
     },
     "output_type": "display_data"
    }
   ],
   "source": [
    "# co-matrix\n",
    "fit_data_co = svd_fit(co_matrix)\n",
    "\n",
    "plt.plot(list(fit_data_co), list(fit_data_co.values()))\n",
    "plt.xlabel('Number of components')\n",
    "plt.xticks(list(fit_data_co.keys())[::2])\n",
    "plt.ylabel(\"Explained Variance\")\n",
    "plt.title(\"Plot of Number of components v/s explained variance\")\n",
    "plt.show()"
   ]
  },
  {
   "cell_type": "code",
   "execution_count": 13,
   "metadata": {},
   "outputs": [],
   "source": [
    "# 利用上述找到的最適合dimension來對co-occurrence matrix進行降維\n",
    "# choose 190 as final dimension to reduce to\n",
    "svd = TruncatedSVD(n_components=list(fit_data_co.keys())[-1])\n",
    "svd.fit(co_matrix)\n",
    "re_co_matrix = svd.transform(co_matrix)"
   ]
  },
  {
   "cell_type": "code",
   "execution_count": 14,
   "metadata": {},
   "outputs": [
    {
     "name": "stdout",
     "output_type": "stream",
     "text": [
      "Number of components: explained variance\n",
      "        100         : 0.3993382155895233\n",
      "        200         : 0.5672731399536133\n",
      "        300         : 0.6676476001739502\n",
      "        400         : 0.7391121983528137\n",
      "        500         : 0.7959909439086914\n",
      "        600         : 0.8418309688568115\n",
      "        700         : 0.8788012862205505\n",
      "        800         : 0.9084998369216919\n",
      "        900         : 0.9322665333747864\n",
      "       1000         : 0.9510338306427002\n",
      "       1100         : 0.9656600356101990\n",
      "       1200         : 0.9768215417861938\n",
      "       1300         : 0.9851131439208984\n"
     ]
    },
    {
     "data": {
      "image/png": "[encoded data removed]",
      "text/plain": [
       "<Figure size 432x288 with 1 Axes>"
      ]
     },
     "metadata": {
      "needs_background": "light"
     },
     "output_type": "display_data"
    }
   ],
   "source": [
    "# ppmi-matrix\n",
    "fit_data_ppmi = svd_fit(ppmi_matrix,step=100)\n",
    "plt.plot(list(fit_data_ppmi), list(fit_data_ppmi.values()))\n",
    "plt.xlabel('Number of components')\n",
    "plt.xticks(list(fit_data_ppmi)[::2])\n",
    "plt.ylabel(\"Explained Variance\")\n",
    "plt.title(\"Plot of Number of components v/s explained variance\")\n",
    "plt.show()"
   ]
  },
  {
   "cell_type": "code",
   "execution_count": 15,
   "metadata": {},
   "outputs": [],
   "source": [
    "svd = TruncatedSVD(n_components=list(fit_data_ppmi.keys())[-1])\n",
    "svd.fit(ppmi_matrix)\n",
    "re_ppmi_matrix = svd.transform(ppmi_matrix)"
   ]
  },
  {
   "cell_type": "markdown",
   "metadata": {},
   "source": [
    "### 使用KNN模型進行分類\n",
    "在進行分類之前，先利用簡單的詞向量平均來計算文本向量\n",
    "\n",
    "[參考文獻](https://medium.com/ai-academy-taiwan/nlp-%E4%B8%8D%E5%90%8C%E8%A9%9E%E5%90%91%E9%87%8F%E5%9C%A8%E6%96%87%E6%9C%AC%E5%88%86%E9%A1%9E%E4%B8%8A%E7%9A%84%E8%A1%A8%E7%8F%BE%E8%88%87%E5%AF%A6%E4%BD%9C-e72a2daecfc)"
   ]
  },
  {
   "cell_type": "code",
   "execution_count": 16,
   "metadata": {
    "scrolled": true
   },
   "outputs": [],
   "source": [
    "# get doc vector via take mean of all word vectors inside the corresponding document\n",
    "\n",
    "def make_doc_vectors(corpus: List[str], word2idx: dict, vocab_list: List, matrix) -> List[np.ndarray]:\n",
    "    \n",
    "    # vectorizing data \n",
    "    # and make document vector by take mean to all word vecto\n",
    "    doc_vec = []\n",
    "    empty_doc_list = []\n",
    "    for i, sms_msg in enumerate(corpus):\n",
    "        sms_msg = [word2idx[word] for word in sms_msg.split() if word in vocab_list] #tokenize\n",
    "        if len(sms_msg) > 0:\n",
    "            sms_msg = np.array([matrix[ids] for ids in sms_msg]) #vectorize\n",
    "            doc_vec.append(sms_msg.mean(axis=0))\n",
    "        else:\n",
    "            empty_doc_list.append(i)\n",
    "            print(f\"document {i} doesn't contain word in vocab_list\\n{corpus[i]}\\n\\n\")\n",
    "        \n",
    "    return np.vstack(doc_vec), empty_doc_list"
   ]
  },
  {
   "cell_type": "code",
   "execution_count": 17,
   "metadata": {
    "scrolled": true
   },
   "outputs": [
    {
     "name": "stdout",
     "output_type": "stream",
     "text": [
      "======================train=======================\n",
      "document 611 doesn't contain word in vocab_list\n",
      "\n",
      "\n",
      "\n",
      "document 798 doesn't contain word in vocab_list\n",
      "ringtoneking\n",
      "\n",
      "\n",
      "document 816 doesn't contain word in vocab_list\n",
      "k k congratulation\n",
      "\n",
      "\n",
      "document 910 doesn't contain word in vocab_list\n",
      "beerage\n",
      "\n",
      "\n",
      "document 1680 doesn't contain word in vocab_list\n",
      "east coast\n",
      "\n",
      "\n",
      "document 2043 doesn't contain word in vocab_list\n",
      "audrie lousy autocorrect\n",
      "\n",
      "\n",
      "document 2278 doesn't contain word in vocab_list\n",
      "garbage bags eggs jam bread hannaford wheat chex\n",
      "\n",
      "\n",
      "document 2303 doesn't contain word in vocab_list\n",
      "ultimately tor motive tui achieve korli\n",
      "\n",
      "\n",
      "document 2413 doesn't contain word in vocab_list\n",
      "\n",
      "\n",
      "\n",
      "document 2650 doesn't contain word in vocab_list\n",
      "u\n",
      "\n",
      "\n",
      "document 2671 doesn't contain word in vocab_list\n",
      "hanks lotsly\n",
      "\n",
      "\n",
      "document 3552 doesn't contain word in vocab_list\n",
      "raviyog peripherals bhayandar east\n",
      "\n",
      "\n",
      "document 3617 doesn't contain word in vocab_list\n",
      "\n",
      "\n",
      "\n",
      "document 3686 doesn't contain word in vocab_list\n",
      "g w r\n",
      "\n",
      "\n",
      "=======================test=======================\n",
      "document 277 doesn't contain word in vocab_list\n",
      "tf p\n",
      "\n",
      "\n",
      "document 1114 doesn't contain word in vocab_list\n",
      "erutupalam thandiyachu\n",
      "\n",
      "\n"
     ]
    }
   ],
   "source": [
    "# co-occurrence matrix\n",
    "\n",
    "word2idx = vectorizer.vocabulary_\n",
    "vocab_list = vectorizer.get_feature_names()\n",
    "\n",
    "print(f'{\"train\":=^50}')\n",
    "doc_vec_train, missing_train_list = make_doc_vectors(x_train, word2idx, vocab_list, re_co_matrix)\n",
    "print(f'{\"test\":=^50}')\n",
    "doc_vec_test, missing_test_list = make_doc_vectors(x_test, word2idx, vocab_list, re_co_matrix)"
   ]
  },
  {
   "cell_type": "code",
   "execution_count": 18,
   "metadata": {},
   "outputs": [
    {
     "name": "stdout",
     "output_type": "stream",
     "text": [
      "train acc by co-occurrence matrix: 0.9725410758496511\n",
      "test acc by co-occurrence matrix:  0.9685534591194969\n"
     ]
    }
   ],
   "source": [
    "# training\n",
    "y_train_filter = np.delete(np.array(y_train), missing_train_list)\n",
    "knn = KNeighborsClassifier(n_neighbors=5)\n",
    "knn.fit(doc_vec_train, y_train_filter)\n",
    "train_pred = knn.predict(doc_vec_train)\n",
    "\n",
    "# testing\n",
    "y_test_filter = np.delete(np.array(y_test), missing_test_list)\n",
    "test_pred = knn.predict(doc_vec_test)\n",
    "\n",
    "print(f\"train acc by co-occurrence matrix: {np.sum(train_pred == y_train_filter) / len(y_train_filter)}\")\n",
    "print(f\"test acc by co-occurrence matrix:  {np.sum(test_pred == y_test_filter) / len(y_test_filter)}\")"
   ]
  },
  {
   "cell_type": "code",
   "execution_count": 19,
   "metadata": {
    "scrolled": true
   },
   "outputs": [
    {
     "name": "stdout",
     "output_type": "stream",
     "text": [
      "======================train=======================\n",
      "document 611 doesn't contain word in vocab_list\n",
      "\n",
      "\n",
      "\n",
      "document 798 doesn't contain word in vocab_list\n",
      "ringtoneking\n",
      "\n",
      "\n",
      "document 816 doesn't contain word in vocab_list\n",
      "k k congratulation\n",
      "\n",
      "\n",
      "document 910 doesn't contain word in vocab_list\n",
      "beerage\n",
      "\n",
      "\n",
      "document 1680 doesn't contain word in vocab_list\n",
      "east coast\n",
      "\n",
      "\n",
      "document 2043 doesn't contain word in vocab_list\n",
      "audrie lousy autocorrect\n",
      "\n",
      "\n",
      "document 2278 doesn't contain word in vocab_list\n",
      "garbage bags eggs jam bread hannaford wheat chex\n",
      "\n",
      "\n",
      "document 2303 doesn't contain word in vocab_list\n",
      "ultimately tor motive tui achieve korli\n",
      "\n",
      "\n",
      "document 2413 doesn't contain word in vocab_list\n",
      "\n",
      "\n",
      "\n",
      "document 2650 doesn't contain word in vocab_list\n",
      "u\n",
      "\n",
      "\n",
      "document 2671 doesn't contain word in vocab_list\n",
      "hanks lotsly\n",
      "\n",
      "\n",
      "document 3552 doesn't contain word in vocab_list\n",
      "raviyog peripherals bhayandar east\n",
      "\n",
      "\n",
      "document 3617 doesn't contain word in vocab_list\n",
      "\n",
      "\n",
      "\n",
      "document 3686 doesn't contain word in vocab_list\n",
      "g w r\n",
      "\n",
      "\n",
      "=======================test=======================\n",
      "document 277 doesn't contain word in vocab_list\n",
      "tf p\n",
      "\n",
      "\n",
      "document 1114 doesn't contain word in vocab_list\n",
      "erutupalam thandiyachu\n",
      "\n",
      "\n"
     ]
    }
   ],
   "source": [
    "# ppmi-matrix\n",
    "print(f'{\"train\":=^50}')\n",
    "doc_vec_train, missing_train_list = make_doc_vectors(x_train, word2idx, vocab_list, re_ppmi_matrix)\n",
    "print(f'{\"test\":=^50}')\n",
    "doc_vec_test, missing_test_list = make_doc_vectors(x_test, word2idx, vocab_list, re_ppmi_matrix)"
   ]
  },
  {
   "cell_type": "code",
   "execution_count": 20,
   "metadata": {},
   "outputs": [
    {
     "name": "stdout",
     "output_type": "stream",
     "text": [
      "train acc by ppmi-matrix: 0.9835696601395454\n",
      "test acc by ppmi-matrix:  0.9784366576819407\n"
     ]
    }
   ],
   "source": [
    "# training\n",
    "y_train_filter = np.delete(np.array(y_train), missing_train_list)\n",
    "knn = KNeighborsClassifier(n_neighbors=5)\n",
    "knn.fit(doc_vec_train, y_train_filter)\n",
    "train_pred = knn.predict(doc_vec_train)\n",
    "\n",
    "# testing\n",
    "y_test_filter = np.delete(np.array(y_test), missing_test_list)\n",
    "test_pred = knn.predict(doc_vec_test)\n",
    "\n",
    "print(f\"train acc by ppmi-matrix: {np.sum(train_pred == y_train_filter) / len(y_train_filter)}\")\n",
    "print(f\"test acc by ppmi-matrix:  {np.sum(test_pred == y_test_filter) / len(y_test_filter)}\")"
   ]
  }
 ],
 "metadata": {
  "kernelspec": {
   "display_name": "Python 3",
   "language": "python",
   "name": "python3"
  },
  "language_info": {
   "codemirror_mode": {
    "name": "ipython",
    "version": 3
   },
   "file_extension": ".py",
   "mimetype": "text/x-python",
   "name": "python",
   "nbconvert_exporter": "python",
   "pygments_lexer": "ipython3",
   "version": "3.8.3"
  }
 },
 "nbformat": 4,
 "nbformat_minor": 4
}
