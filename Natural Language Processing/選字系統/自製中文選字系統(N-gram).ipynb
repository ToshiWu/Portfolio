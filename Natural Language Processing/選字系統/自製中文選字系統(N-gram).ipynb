{
 "cells": [
  {
   "cell_type": "markdown",
   "metadata": {
    "colab_type": "text",
    "id": "dpYyaBgoJLR4"
   },
   "source": [
    "# 自製智能中文選字系統  (1)"
   ]
  },
  {
   "cell_type": "markdown",
   "metadata": {
    "colab_type": "text",
    "id": "9fQnVHVmJLSH"
   },
   "source": [
    "## 資料前處理\n",
    "僅僅挑出中文字元，並且斷開不連續的中文字"
   ]
  },
  {
   "cell_type": "code",
   "execution_count": 1,
   "metadata": {
    "colab": {},
    "colab_type": "code",
    "id": "xZXcaXMRJLSL"
   },
   "outputs": [],
   "source": [
    "import re\n",
    "\n",
    "def prepocess_line(line):\n",
    "    pattern = r'[\\u4E00-\\u9FFF\\u3400-\\u4DBF]+'\n",
    "    return re.findall(pattern,line)"
   ]
  },
  {
   "cell_type": "code",
   "execution_count": 2,
   "metadata": {
    "colab": {},
    "colab_type": "code",
    "id": "1V1YPovTJLSO",
    "outputId": "fb9b88ae-9b2e-4ab3-fa8a-9ebec8b5190c"
   },
   "outputs": [
    {
     "data": {
      "text/plain": [
       "['英語', '一詞源於遷居英格蘭的日耳曼部落盎格魯', '而', '盎格魯', '得名於']"
      ]
     },
     "execution_count": 2,
     "metadata": {},
     "output_type": "execute_result"
    }
   ],
   "source": [
    "prepocess_line('“英語”一詞源於遷居英格蘭的日耳曼部落盎格魯（），而“盎格魯”得名於')  "
   ]
  },
  {
   "cell_type": "code",
   "execution_count": 3,
   "metadata": {
    "colab": {},
    "colab_type": "code",
    "id": "xuRTq3ptJLR6",
    "tags": []
   },
   "outputs": [],
   "source": [
    "#讀取訓練資料\n",
    "segments = []\n",
    "\n",
    "with open('./wiki_zh_small.txt', encoding='utf-8') as fr:\n",
    "    for line in fr.readlines():\n",
    "        segments += prepocess_line(line)"
   ]
  },
  {
   "cell_type": "markdown",
   "metadata": {
    "colab_type": "text",
    "id": "N-E0XU7lJLSQ"
   },
   "source": [
    "## Ngram\n",
    "\n",
    "一開始要先計算字詞出現的次數"
   ]
  },
  {
   "cell_type": "code",
   "execution_count": 4,
   "metadata": {
    "colab": {},
    "colab_type": "code",
    "id": "U0GNtfVnJLSR"
   },
   "outputs": [],
   "source": [
    "from collections import Counter\n",
    "\n",
    "class Counters:\n",
    "    def __init__(self, n):\n",
    "        self.n = n\n",
    "        self.counters = [Counter() for _ in range(n + 1)]  # 分別代表計算0、1、...個字的出現次數\n",
    "\n",
    "    def fit(self, segments):\n",
    "        # 因為 self.counters 分別代表計算0、1、...個字的出現次數\n",
    "        for seg in segments:\n",
    "            self.counters[0].update([''] * len(seg))\n",
    "            for n in range(1,self.n + 1):\n",
    "                self.counters[n].update(self._skip(seg, n))\n",
    "\n",
    "    def __getitem__(self, k):\n",
    "        return self.counters[k]\n",
    "\n",
    "    def _skip(self, segment, n):\n",
    "        assert n > 0\n",
    "        if len(segment) < n:\n",
    "            return\n",
    "        shift = n - 1\n",
    "        for i in range(len(segment) - shift):\n",
    "            yield segment[i:i+shift+1]"
   ]
  },
  {
   "cell_type": "code",
   "execution_count": 5,
   "metadata": {
    "colab": {},
    "colab_type": "code",
    "id": "F4-d0YiMJLSU"
   },
   "outputs": [],
   "source": [
    "counters = Counters(n=3)\n",
    "counters.fit(segments)"
   ]
  },
  {
   "cell_type": "code",
   "execution_count": 6,
   "metadata": {
    "colab": {},
    "colab_type": "code",
    "id": "UpCDHjXHJLSW",
    "outputId": "a60d9344-c12b-4eed-d836-72a172b0ea1e"
   },
   "outputs": [
    {
     "data": {
      "text/plain": [
       "[('西班牙', 225),\n",
       " ('聯合國', 212),\n",
       " ('共和國', 212),\n",
       " ('人民共', 188),\n",
       " ('民共和', 188),\n",
       " ('中華人', 174),\n",
       " ('華人民', 173),\n",
       " ('新加坡', 172),\n",
       " ('中華民', 129),\n",
       " ('是中國', 119)]"
      ]
     },
     "metadata": {},
     "output_type": "display_data"
    }
   ],
   "source": [
    "display(counters[3].most_common(10))\n",
    "# 應該為： Counter({'': 371373})"
   ]
  },
  {
   "cell_type": "code",
   "execution_count": 7,
   "metadata": {
    "colab": {},
    "colab_type": "code",
    "id": "x2gOKTEyJLSY"
   },
   "outputs": [],
   "source": [
    "class Ngram:\n",
    "    def __init__(self, n, counters):\n",
    "        assert n <= counters.n\n",
    "        self.n = n\n",
    "        self.major_counter = counters[n]\n",
    "        self.minor_counter = counters[n-1]\n",
    "\n",
    "    def predict_proba(self, prefix='', top_k=5):\n",
    "        assert len(prefix) >= self.n - 1\n",
    "        \n",
    "        # 使用 Ngram 的公式計算出下一個字出現的機率\n",
    "        # 輸出為機率與字的tuple列表，詳見下方輸出範例\n",
    "        prefix = prefix[1-self.n:] if 1-self.n  else ''\n",
    "        probas=[]\n",
    "\n",
    "        for word in self.major_counter.keys():\n",
    "            if word.startswith(prefix):\n",
    "                probas.append((self.major_counter.get(word)/self.minor_counter.get(prefix), word[-1]))\n",
    "\n",
    "        sorted_probas=sorted(probas, reverse = True)\n",
    "        \n",
    "        return sorted_probas[:top_k] if top_k > 0 else sorted_probas\n",
    "\n",
    "    def get_proba_dict(self, prefix=''):\n",
    "        return {word: prob for prob, word in self.predict_proba(prefix, top_k=-1)}"
   ]
  },
  {
   "cell_type": "code",
   "execution_count": 8,
   "metadata": {
    "colab": {},
    "colab_type": "code",
    "id": "mErL4AtjJLSc"
   },
   "outputs": [],
   "source": [
    "unigram = Ngram(1, counters)"
   ]
  },
  {
   "cell_type": "code",
   "execution_count": 9,
   "metadata": {
    "colab": {},
    "colab_type": "code",
    "id": "M8BZcC7lJLSe",
    "outputId": "e395b66c-7de6-49d7-d796-95d0cec00a1d",
    "tags": []
   },
   "outputs": [
    {
     "data": {
      "text/plain": [
       "[(0.03573198052647451, '的'),\n",
       " (0.012927598983240704, '國'),\n",
       " (0.010619964671922796, '中'),\n",
       " (0.009984490112446684, '在'),\n",
       " (0.00985254836069105, '一')]"
      ]
     },
     "execution_count": 9,
     "metadata": {},
     "output_type": "execute_result"
    }
   ],
   "source": [
    "unigram.predict_proba('我思')\n",
    "# 應該為：[(0.035732269174118744, '的'),\n",
    "#         (0.012927703414087723, '國'),\n",
    "#         (0.010620050461395955, '中'),\n",
    "#         (0.009984570768472667, '在'),\n",
    "#         (0.009852627950874188, '一')]"
   ]
  },
  {
   "cell_type": "code",
   "execution_count": 10,
   "metadata": {
    "colab": {},
    "colab_type": "code",
    "id": "vYRqughPJLSh"
   },
   "outputs": [],
   "source": [
    "bigram = Ngram(2, counters)\n",
    "trigram = Ngram(3, counters)"
   ]
  },
  {
   "cell_type": "markdown",
   "metadata": {
    "colab_type": "text",
    "id": "lG6TV-8iJLSj"
   },
   "source": [
    "## 使用Ngram來建立第一版選字系統"
   ]
  },
  {
   "cell_type": "code",
   "execution_count": 11,
   "metadata": {
    "colab": {},
    "colab_type": "code",
    "id": "Ak-zlXIGJLSk"
   },
   "outputs": [],
   "source": [
    "class ChineseWordRecommenderV1:\n",
    "    def __init__(self, unigram, bigram, trigram):\n",
    "        self.unigram = unigram\n",
    "        self.bigram = bigram\n",
    "        self.trigram = trigram\n",
    "    \n",
    "    def predict_proba(self, prefix='', top_k=5):\n",
    "        # 使用Ngram來建立選字系統\n",
    "        probs = Counter({word: prob for prob, word in self.unigram.predict_proba(prefix, top_k)})\n",
    "        probs.update({word: prob for prob, word in (self.bigram.predict_proba(prefix, top_k) if len(prefix) > 0 else [])})\n",
    "        probs.update({word: prob for prob, word in (self.trigram.predict_proba(prefix, top_k) if len(prefix) > 1 else [])})\n",
    "        return [(prob, word) for word, prob in (probs.most_common(top_k) if top_k > 0 else probs.most_common())]\n",
    "            "
   ]
  },
  {
   "cell_type": "code",
   "execution_count": 12,
   "metadata": {
    "colab": {},
    "colab_type": "code",
    "id": "0LS4xO4XJLSl"
   },
   "outputs": [],
   "source": [
    "model = ChineseWordRecommenderV1(unigram, bigram, trigram)"
   ]
  },
  {
   "cell_type": "code",
   "execution_count": 13,
   "metadata": {
    "colab": {},
    "colab_type": "code",
    "id": "j8pziwHnJLSn",
    "outputId": "70ec8b6a-c222-4981-8628-fc8357966621",
    "tags": []
   },
   "outputs": [
    {
     "data": {
      "text/plain": [
       "[(0.7665745856353591, '故'),\n",
       " (0.34944751381215466, '維'),\n",
       " (0.3370165745856354, '想'),\n",
       " (0.12154696132596685, '考'),\n",
       " (0.05389257474844633, '是'),\n",
       " (0.04678170428338059, '的'),\n",
       " (0.03867403314917127, '汗'),\n",
       " (0.03189275672065374, '爲'),\n",
       " (0.012927598983240704, '國'),\n",
       " (0.011049723756906077, '聰')]"
      ]
     },
     "execution_count": 13,
     "metadata": {},
     "output_type": "execute_result"
    }
   ],
   "source": [
    "probs = model.predict_proba('我思', top_k=10)\n",
    "probs"
   ]
  },
  {
   "cell_type": "markdown",
   "metadata": {
    "colab_type": "text",
    "id": "sM7_WCTmJLSq"
   },
   "source": [
    "## Demo"
   ]
  },
  {
   "cell_type": "code",
   "execution_count": 14,
   "metadata": {
    "colab": {
     "referenced_widgets": [
      "671d1e5f6874463ab4f184d5e8606e81",
      "5e8aac42609740ecb19f192ac9542006"
     ]
    },
    "colab_type": "code",
    "id": "Qsupw9BoJLSs",
    "outputId": "90544490-4fc3-4350-8447-2673999a611f"
   },
   "outputs": [
    {
     "data": {
      "application/vnd.jupyter.widget-view+json": {
       "model_id": "ac348bedf7ee48e1a5b35286a7f6c38b",
       "version_major": 2,
       "version_minor": 0
      },
      "text/plain": [
       "Label(value='')"
      ]
     },
     "metadata": {},
     "output_type": "display_data"
    },
    {
     "data": {
      "application/vnd.jupyter.widget-view+json": {
       "model_id": "72473d7789c74e3a99896e20c33302ee",
       "version_major": 2,
       "version_minor": 0
      },
      "text/plain": [
       "Textarea(value='')"
      ]
     },
     "metadata": {},
     "output_type": "display_data"
    }
   ],
   "source": [
    "import ipywidgets as widgets\n",
    "from IPython.display import clear_output\n",
    "\n",
    "text = widgets.Textarea()\n",
    "label = widgets.Label()\n",
    "display(label, text)\n",
    "\n",
    "def func(change):\n",
    "    probs = model.predict_proba(change.new, top_k=10)\n",
    "    label.value = ' ' + '\\t'.join([word for prob, word in probs])\n",
    "\n",
    "text.observe(func, names='value')"
   ]
  }
 ],
 "metadata": {
  "colab": {
   "name": "final_project_A_1.ipynb",
   "provenance": []
  },
  "kernelspec": {
   "display_name": "Python 3",
   "language": "python",
   "name": "python3"
  },
  "language_info": {
   "codemirror_mode": {
    "name": "ipython",
    "version": 3
   },
   "file_extension": ".py",
   "mimetype": "text/x-python",
   "name": "python",
   "nbconvert_exporter": "python",
   "pygments_lexer": "ipython3",
   "version": "3.8.3"
  }
 },
 "nbformat": 4,
 "nbformat_minor": 4
}
