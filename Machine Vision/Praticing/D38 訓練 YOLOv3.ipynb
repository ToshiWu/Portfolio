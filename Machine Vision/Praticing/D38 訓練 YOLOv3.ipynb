{
 "cells": [
  {
   "cell_type": "markdown",
   "metadata": {
    "colab_type": "text",
    "id": "CG77DrrB2CrU"
   },
   "source": [
    "\n",
    "1. 如何使用已經訓練好的模型？"
   ]
  },
  {
   "cell_type": "markdown",
   "metadata": {},
   "source": [
    "Answer:  \n",
    "根據`qqwweee`的描述   \n",
    "需先使用convert.py讀入模型設定與權重輸出模型檔  \n",
    "`python convert.py yolov3.cfg yolov3.weights yolo.h5`\n",
    "\n",
    "使用yolo_video.py檔即可使用預訓練的模型做預測\n",
    "具體方法如下:\n",
    "```\n",
    "usage: yolo_video.py [-h] [--model MODEL] [--anchors ANCHORS]\n",
    "\n",
    "\n",
    "                     [--classes CLASSES] [--gpu_num GPU_NUM] [--image]\n",
    "                     [--input [INPUT]] [--output [OUTPUT]]\n",
    "\n",
    "optional arguments:\n",
    "  -h, --help         show this help message and exit\n",
    "  --model MODEL      path to model weight file, default model_data/yolo.h5\n",
    "  --anchors ANCHORS  path to anchor definitions, default\n",
    "                     model_data/yolo_anchors.txt\n",
    "  --classes CLASSES  path to class definitions, default\n",
    "                     model_data/coco_classes.txt\n",
    "  --gpu_num GPU_NUM  Number of GPU to use, default 1\n",
    "  --image            Image detection mode, will ignore all positional\n",
    "                     arguments\n",
    "  --input [INPUT]    Video input path\n",
    "  --output [OUTPUT]  [Optional] Video output path\n",
    "```"
   ]
  },
  {
   "cell_type": "markdown",
   "metadata": {},
   "source": [
    "2. 依照 https://github.com/qqwweee/keras-yolo3 的程式碼，請敘述，訓練模型時，資料集的格式是什麼？具體一點的說，要提供什麼格式的文件來描述資料集的圖片以及 bboxes 的信息呢？"
   ]
  },
  {
   "cell_type": "markdown",
   "metadata": {
    "colab": {
     "base_uri": "https://localhost:8080/",
     "height": 122
    },
    "colab_type": "code",
    "executionInfo": {
     "elapsed": 3899,
     "status": "ok",
     "timestamp": 1576082714890,
     "user": {
      "displayName": "杜靖愷",
      "photoUrl": "https://lh3.googleusercontent.com/a-/AAuE7mCXX8JZZ0DBZWt2P1EC5LvipxZDIWxKz2uCJ7bzpQ=s64",
      "userId": "03195633593178984431"
     },
     "user_tz": -480
    },
    "id": "NCEP-DG0VxlV",
    "outputId": "5adc330a-85ba-4196-ce0e-5455f58c127e"
   },
   "source": [
    "Answer:  \n",
    "根據`qqwweee`的描述資料及格式如下  \n",
    "```\n",
    "Row format: image_file_path box1 box2 ... boxN;\n",
    "Box format: x_min,y_min,x_max,y_max,class_id (no space).\n",
    "```\n",
    "即 圖片路徑 上邊界,左邊界,下邊界,右邊界,類別id 上邊界,左邊界,下邊界,右邊界,類別id ...  \n",
    "\n",
    "**Example:**  \n",
    "`path/to/img1.jpg 50,100,150,200,0 30,50,200,120,3`  \n",
    "`path/to/img2.jpg 120,300,250,600,2`"
   ]
  }
 ],
 "metadata": {
  "accelerator": "GPU",
  "colab": {
   "collapsed_sections": [],
   "name": "Day41_train_yolov3_HW.ipynb",
   "provenance": []
  },
  "kernelspec": {
   "display_name": "Python 3",
   "language": "python",
   "name": "python3"
  },
  "language_info": {
   "codemirror_mode": {
    "name": "ipython",
    "version": 3
   },
   "file_extension": ".py",
   "mimetype": "text/x-python",
   "name": "python",
   "nbconvert_exporter": "python",
   "pygments_lexer": "ipython3",
   "version": "3.8.3"
  }
 },
 "nbformat": 4,
 "nbformat_minor": 4
}
