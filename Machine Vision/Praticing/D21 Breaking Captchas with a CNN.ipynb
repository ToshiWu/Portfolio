{
 "cells": [
  {
   "cell_type": "markdown",
   "metadata": {},
   "source": [
    "#### 搭建一個能識別驗證碼的模型(CNN+CTC)"
   ]
  },
  {
   "cell_type": "markdown",
   "metadata": {},
   "source": [
    "  #### 了解如何結合CNN與CTC Loss\n",
    "  #### 有時間學員也可以延伸閱讀CNN+RNN+CTC模型\n",
    "  #### 沒有GPU的學員可以使用Colab，可以參考問答區的文章"
   ]
  },
  {
   "cell_type": "code",
   "execution_count": null,
   "metadata": {},
   "outputs": [],
   "source": [
    "## 使用Colab可先run這裡的code\n",
    "#假如要連結自己的雲端硬碟再開啟\n",
    "##from google.colab import drive\n",
    "##drive.mount('/content/gdrive')\n",
    "#檢查GPU\n",
    "# !nvidia-smi\n",
    "##安裝產生驗證碼的套件"
   ]
  },
  {
   "cell_type": "markdown",
   "metadata": {},
   "source": [
    "## 產生驗證碼"
   ]
  },
  {
   "cell_type": "code",
   "execution_count": 2,
   "metadata": {
    "colab": {
     "base_uri": "https://localhost:8080/",
     "height": 254
    },
    "colab_type": "code",
    "id": "h2VVCBKwk6Zv",
    "outputId": "72cda421-1eca-46b1-d5bd-3b3d9e47eb08"
   },
   "outputs": [
    {
     "name": "stdout",
     "output_type": "stream",
     "text": [
      "0123456789ABCDEFGHIJKLMNOPQRSTUVWXYZ\n"
     ]
    },
    {
     "data": {
      "text/plain": [
       "Text(0.5, 1.0, 'JP3Y')"
      ]
     },
     "execution_count": 2,
     "metadata": {},
     "output_type": "execute_result"
    },
    {
     "data": {
      "image/png": "[encoded data removed]",
      "text/plain": [
       "<Figure size 432x288 with 1 Axes>"
      ]
     },
     "metadata": {
      "image/png": {
       "height": 203,
       "width": 368
      },
      "needs_background": "light"
     },
     "output_type": "display_data"
    }
   ],
   "source": [
    "from captcha.image import ImageCaptcha\n",
    "import matplotlib.pyplot as plt\n",
    "import numpy as np\n",
    "import random\n",
    "\n",
    "%matplotlib inline\n",
    "%config InlineBackend.figure_format = 'retina'\n",
    "\n",
    "import string\n",
    "##驗證碼包含0-10數字以及26個英文字母\n",
    "characters = string.digits + string.ascii_uppercase\n",
    "print(characters)\n",
    "\n",
    "##設定產生圖片尺寸，以及總類別，n_class之所以要加一是為了留一個位置給Blank\n",
    "width, height, n_len, n_class = 170, 80, 4, len(characters)+1\n",
    "\n",
    "##設定產生驗證碼的generator\n",
    "generator = ImageCaptcha(width=width, height=height)\n",
    "\n",
    "##我們先練習固定長度4個字的驗證碼\n",
    "random_str = ''.join([random.choice(characters) for j in range(4)])\n",
    "img = generator.generate_image(random_str)\n",
    "\n",
    "plt.imshow(img)\n",
    "plt.title(random_str)"
   ]
  },
  {
   "cell_type": "markdown",
   "metadata": {},
   "source": [
    "## 自己搭建一個CNN模型使得output feature Map 高度被壓縮成小於4，8<寬度<20\n",
    "#### 解答的output feature Map 為 (batch_size,1,13,32)"
   ]
  },
  {
   "cell_type": "code",
   "execution_count": 3,
   "metadata": {},
   "outputs": [],
   "source": [
    "import numpy as np\n",
    "from keras import backend as K\n",
    "\n",
    "from keras.models import Model\n",
    "from keras.layers import Flatten\n",
    "from keras.layers import Dense\n",
    "from keras.layers import Input\n",
    "from keras.layers import Conv2D\n",
    "from keras.layers import MaxPooling2D\n",
    "from keras.layers import GlobalMaxPooling2D\n",
    "from keras.layers import GlobalAveragePooling2D\n",
    "from keras.layers import BatchNormalization\n",
    "from keras.layers import Reshape\n",
    "from keras.layers import Dropout\n",
    "from keras.layers import Lambda\n",
    "\n",
    "from keras.layers import Concatenate\n",
    "from keras.layers import GRU\n",
    "\n",
    "from keras.callbacks import ReduceLROnPlateau\n",
    "from keras.callbacks import EarlyStopping"
   ]
  },
  {
   "cell_type": "code",
   "execution_count": 4,
   "metadata": {},
   "outputs": [],
   "source": [
    "##CTC Loss需要四個資訊: Label, 預測, CNN OUTPUT寬度, 預測影像所包含文字長度\n",
    "def ctc_lambda_func(args):\n",
    "    y_pred, labels, input_length, label_length = args\n",
    "    return K.ctc_batch_cost(labels, y_pred, input_length, label_length)"
   ]
  },
  {
   "cell_type": "code",
   "execution_count": 5,
   "metadata": {
    "colab": {
     "base_uri": "https://localhost:8080/",
     "height": 136
    },
    "colab_type": "code",
    "id": "KX3Jq1sClGGn",
    "outputId": "ea40671a-fc3b-4758-8d29-4692252e840d"
   },
   "outputs": [],
   "source": [
    "input_tensor = Input((height,width, 3))\n",
    "x = input_tensor\n",
    "\n",
    "# 參考解答模型\n",
    "for i in range(4):\n",
    "    x = Conv2D(32, (3, 3), activation='relu')(x)\n",
    "    x = BatchNormalization(axis=-1)(x)\n",
    "    x = Conv2D(32, (3, 3), activation='relu')(x)\n",
    "    x = BatchNormalization(axis=-1)(x)\n",
    "    if i <3:\n",
    "        x = MaxPooling2D(pool_size=(2, 2))(x)\n",
    "    else:\n",
    "        x = MaxPooling2D(pool_size=(2, 1))(x)\n",
    "\n",
    "##記錄輸出CNN尺寸，loss部分需要這個資訊\n",
    "##conv_shape=(Batch_size,輸出高度,輸出寬度,輸出深度)\n",
    "conv_shape = x.get_shape()\n",
    "\n",
    "##從(Batch_size,輸出高度,輸出寬度,輸出深度)變成(Batch_size,輸出寬度,輸出深度*輸出高度)，以符合ctc loss需求\n",
    "x = Reshape(target_shape=(int(conv_shape[2]), int(conv_shape[1]*conv_shape[3])))(x)\n",
    "x = Dense(32, activation='relu')(x)\n",
    "x = Dropout(0.25)(x)\n",
    "x = Dense(n_class, activation='softmax')(x)\n",
    "\n",
    "\n",
    "##包裝用來預測的model\n",
    "base_model = Model(inputs=input_tensor, outputs=x)\n",
    "\n",
    "\n",
    "##設定要給CTC Loss的資訊\n",
    "labels = Input(name='the_labels', shape=[n_len], dtype='float32')\n",
    "input_length = Input(name='input_length', shape=[1], dtype='int64')\n",
    "label_length = Input(name='label_length', shape=[1], dtype='int64')\n",
    "loss_out = Lambda(ctc_lambda_func, output_shape=(1,), \n",
    "                  name='ctc')([x, labels, input_length, label_length])\n",
    "\n",
    "##這裡的model是用來計算loss\n",
    "model = Model(inputs=[input_tensor, labels, input_length, label_length],\n",
    "              outputs=[loss_out],\n",
    "              name='CNN_for_captcha')\n",
    "\n",
    "##之所以要lambda y_true, y_pred: y_pred是因為我們的loss已經包在網路裡，會output:y_true, y_pred，而我們只需要y_pred\n",
    "model.compile(loss={'ctc': lambda y_true, y_pred: y_pred}, optimizer='SGD')"
   ]
  },
  {
   "cell_type": "code",
   "execution_count": 6,
   "metadata": {
    "colab": {
     "base_uri": "https://localhost:8080/",
     "height": 1000
    },
    "colab_type": "code",
    "id": "m1YRv0TVN_FL",
    "outputId": "c5b995c5-43b0-481b-8cd1-0fd5f85e4f03"
   },
   "outputs": [
    {
     "name": "stdout",
     "output_type": "stream",
     "text": [
      "Model: \"CNN_for_captcha\"\n",
      "__________________________________________________________________________________________________\n",
      "Layer (type)                    Output Shape         Param #     Connected to                     \n",
      "==================================================================================================\n",
      "input_1 (InputLayer)            [(None, 80, 170, 3)] 0                                            \n",
      "__________________________________________________________________________________________________\n",
      "conv2d (Conv2D)                 (None, 78, 168, 32)  896         input_1[0][0]                    \n",
      "__________________________________________________________________________________________________\n",
      "batch_normalization (BatchNorma (None, 78, 168, 32)  128         conv2d[0][0]                     \n",
      "__________________________________________________________________________________________________\n",
      "conv2d_1 (Conv2D)               (None, 76, 166, 32)  9248        batch_normalization[0][0]        \n",
      "__________________________________________________________________________________________________\n",
      "batch_normalization_1 (BatchNor (None, 76, 166, 32)  128         conv2d_1[0][0]                   \n",
      "__________________________________________________________________________________________________\n",
      "max_pooling2d (MaxPooling2D)    (None, 38, 83, 32)   0           batch_normalization_1[0][0]      \n",
      "__________________________________________________________________________________________________\n",
      "conv2d_2 (Conv2D)               (None, 36, 81, 32)   9248        max_pooling2d[0][0]              \n",
      "__________________________________________________________________________________________________\n",
      "batch_normalization_2 (BatchNor (None, 36, 81, 32)   128         conv2d_2[0][0]                   \n",
      "__________________________________________________________________________________________________\n",
      "conv2d_3 (Conv2D)               (None, 34, 79, 32)   9248        batch_normalization_2[0][0]      \n",
      "__________________________________________________________________________________________________\n",
      "batch_normalization_3 (BatchNor (None, 34, 79, 32)   128         conv2d_3[0][0]                   \n",
      "__________________________________________________________________________________________________\n",
      "max_pooling2d_1 (MaxPooling2D)  (None, 17, 39, 32)   0           batch_normalization_3[0][0]      \n",
      "__________________________________________________________________________________________________\n",
      "conv2d_4 (Conv2D)               (None, 15, 37, 32)   9248        max_pooling2d_1[0][0]            \n",
      "__________________________________________________________________________________________________\n",
      "batch_normalization_4 (BatchNor (None, 15, 37, 32)   128         conv2d_4[0][0]                   \n",
      "__________________________________________________________________________________________________\n",
      "conv2d_5 (Conv2D)               (None, 13, 35, 32)   9248        batch_normalization_4[0][0]      \n",
      "__________________________________________________________________________________________________\n",
      "batch_normalization_5 (BatchNor (None, 13, 35, 32)   128         conv2d_5[0][0]                   \n",
      "__________________________________________________________________________________________________\n",
      "max_pooling2d_2 (MaxPooling2D)  (None, 6, 17, 32)    0           batch_normalization_5[0][0]      \n",
      "__________________________________________________________________________________________________\n",
      "conv2d_6 (Conv2D)               (None, 4, 15, 32)    9248        max_pooling2d_2[0][0]            \n",
      "__________________________________________________________________________________________________\n",
      "batch_normalization_6 (BatchNor (None, 4, 15, 32)    128         conv2d_6[0][0]                   \n",
      "__________________________________________________________________________________________________\n",
      "conv2d_7 (Conv2D)               (None, 2, 13, 32)    9248        batch_normalization_6[0][0]      \n",
      "__________________________________________________________________________________________________\n",
      "batch_normalization_7 (BatchNor (None, 2, 13, 32)    128         conv2d_7[0][0]                   \n",
      "__________________________________________________________________________________________________\n",
      "max_pooling2d_3 (MaxPooling2D)  (None, 1, 13, 32)    0           batch_normalization_7[0][0]      \n",
      "__________________________________________________________________________________________________\n",
      "reshape (Reshape)               (None, 13, 32)       0           max_pooling2d_3[0][0]            \n",
      "__________________________________________________________________________________________________\n",
      "dense (Dense)                   (None, 13, 32)       1056        reshape[0][0]                    \n",
      "__________________________________________________________________________________________________\n",
      "dropout (Dropout)               (None, 13, 32)       0           dense[0][0]                      \n",
      "__________________________________________________________________________________________________\n",
      "dense_1 (Dense)                 (None, 13, 37)       1221        dropout[0][0]                    \n",
      "__________________________________________________________________________________________________\n",
      "the_labels (InputLayer)         [(None, 4)]          0                                            \n",
      "__________________________________________________________________________________________________\n",
      "input_length (InputLayer)       [(None, 1)]          0                                            \n",
      "__________________________________________________________________________________________________\n",
      "label_length (InputLayer)       [(None, 1)]          0                                            \n",
      "__________________________________________________________________________________________________\n",
      "ctc (Lambda)                    (None, 1)            0           dense_1[0][0]                    \n",
      "                                                                 the_labels[0][0]                 \n",
      "                                                                 input_length[0][0]               \n",
      "                                                                 label_length[0][0]               \n",
      "==================================================================================================\n",
      "Total params: 68,933\n",
      "Trainable params: 68,421\n",
      "Non-trainable params: 512\n",
      "__________________________________________________________________________________________________\n"
     ]
    }
   ],
   "source": [
    "model.summary()"
   ]
  },
  {
   "cell_type": "code",
   "execution_count": 7,
   "metadata": {
    "colab": {},
    "colab_type": "code",
    "id": "5Jzb1YnqlJug"
   },
   "outputs": [],
   "source": [
    "##設計generator產生training data\n",
    "## 產生包含要給loss的資訊\n",
    "## X=輸入影像\n",
    "## np.ones(batch_size)*int(conv_shape[2])=CNN輸出feature Map寬度\n",
    "## np.ones(batch_size)*n_len=字串長度(可浮動)\n",
    "\n",
    "def gen(batch_size=128):\n",
    "    X = np.zeros((batch_size,height, width, 3), dtype=np.uint8)\n",
    "    y = np.zeros((batch_size, n_len), dtype=np.uint8)\n",
    "    while True:\n",
    "        generator = ImageCaptcha(width=width, height=height)\n",
    "        for i in range(batch_size):\n",
    "            random_str = ''.join([random.choice(characters) for j in range(4)])\n",
    "            X[i] = np.array(generator.generate_image(random_str))\n",
    "            y[i] = [characters.find(x) for x in random_str]\n",
    "        yield [X, y,np.ones(batch_size)*int(conv_shape[2]), np.ones(batch_size)*n_len], np.ones(batch_size)"
   ]
  },
  {
   "cell_type": "code",
   "execution_count": 8,
   "metadata": {
    "colab": {
     "base_uri": "https://localhost:8080/",
     "height": 225
    },
    "colab_type": "code",
    "id": "dfcFs6InVQaT",
    "outputId": "3f186d49-2e30-4efd-87c0-0670a58bc4c1"
   },
   "outputs": [
    {
     "name": "stdout",
     "output_type": "stream",
     "text": [
      "Label:  [[10 28  0 24]]\n",
      "CNN輸出寬度:  [13.]\n",
      "字串長度(可浮動):  [4.]\n"
     ]
    },
    {
     "data": {
      "image/png": "[encoded data removed]",
      "text/plain": [
       "<Figure size 432x288 with 1 Axes>"
      ]
     },
     "metadata": {
      "image/png": {
       "height": 191,
       "width": 368
      },
      "needs_background": "light"
     },
     "output_type": "display_data"
    }
   ],
   "source": [
    "next_ge=gen(batch_size=1)\n",
    "test_ge=next(next_ge)\n",
    "plt.imshow(test_ge[0][0][0])\n",
    "print('Label: ',test_ge[0][1])\n",
    "print('CNN輸出寬度: ',test_ge[0][2])\n",
    "print('字串長度(可浮動): ',test_ge[0][3])"
   ]
  },
  {
   "cell_type": "markdown",
   "metadata": {},
   "source": [
    "## 開始訓練"
   ]
  },
  {
   "cell_type": "code",
   "execution_count": 9,
   "metadata": {
    "colab": {
     "base_uri": "https://localhost:8080/",
     "height": 1000
    },
    "colab_type": "code",
    "id": "fqdKnqollUKj",
    "outputId": "3da34151-a9df-4287-ead6-50c414d30e65"
   },
   "outputs": [
    {
     "name": "stdout",
     "output_type": "stream",
     "text": [
      "Epoch 1/200\n",
      "100/100 [==============================] - 134s 1s/step - loss: 20.2254\n",
      "Epoch 2/200\n",
      "100/100 [==============================] - 113s 1s/step - loss: 15.3810\n",
      "Epoch 3/200\n",
      "100/100 [==============================] - 113s 1s/step - loss: 14.7283\n",
      "Epoch 4/200\n",
      "100/100 [==============================] - 112s 1s/step - loss: 13.4152\n",
      "Epoch 5/200\n",
      "100/100 [==============================] - 111s 1s/step - loss: 11.5709\n",
      "Epoch 6/200\n",
      "100/100 [==============================] - 114s 1s/step - loss: 9.8179\n",
      "Epoch 7/200\n",
      "100/100 [==============================] - 112s 1s/step - loss: 8.4990\n",
      "Epoch 8/200\n",
      "100/100 [==============================] - 111s 1s/step - loss: 7.4456\n",
      "Epoch 9/200\n",
      "100/100 [==============================] - 110s 1s/step - loss: 6.6327\n",
      "Epoch 10/200\n",
      "100/100 [==============================] - 109s 1s/step - loss: 5.9535\n",
      "Epoch 11/200\n",
      "100/100 [==============================] - 121s 1s/step - loss: 5.4194\n",
      "Epoch 12/200\n",
      "100/100 [==============================] - 112s 1s/step - loss: 5.0189\n",
      "Epoch 13/200\n",
      "100/100 [==============================] - 112s 1s/step - loss: 4.6930\n",
      "Epoch 14/200\n",
      "100/100 [==============================] - 114s 1s/step - loss: 4.3337\n",
      "Epoch 15/200\n",
      "100/100 [==============================] - 109s 1s/step - loss: 4.2132\n",
      "Epoch 16/200\n",
      "100/100 [==============================] - 109s 1s/step - loss: 3.9908\n",
      "Epoch 17/200\n",
      "100/100 [==============================] - 112s 1s/step - loss: 3.8256\n",
      "Epoch 18/200\n",
      "100/100 [==============================] - 121s 1s/step - loss: 3.6836\n",
      "Epoch 19/200\n",
      "100/100 [==============================] - 111s 1s/step - loss: 3.6085\n",
      "Epoch 20/200\n",
      "100/100 [==============================] - 113s 1s/step - loss: 3.5264\n",
      "Epoch 21/200\n",
      "100/100 [==============================] - 112s 1s/step - loss: 3.3807\n",
      "Epoch 22/200\n",
      "100/100 [==============================] - 113s 1s/step - loss: 3.2721\n",
      "Epoch 23/200\n",
      "100/100 [==============================] - 111s 1s/step - loss: 3.3083\n",
      "Epoch 24/200\n",
      "100/100 [==============================] - 109s 1s/step - loss: 3.2519\n",
      "Epoch 25/200\n",
      "100/100 [==============================] - 112s 1s/step - loss: 3.0521\n",
      "Epoch 26/200\n",
      "100/100 [==============================] - 114s 1s/step - loss: 3.0586\n",
      "Epoch 27/200\n",
      "100/100 [==============================] - 112s 1s/step - loss: 3.0158\n",
      "Epoch 28/200\n",
      "100/100 [==============================] - 113s 1s/step - loss: 2.9334\n",
      "Epoch 29/200\n",
      "100/100 [==============================] - 112s 1s/step - loss: 2.8686\n",
      "Epoch 30/200\n",
      "100/100 [==============================] - 113s 1s/step - loss: 2.8159\n",
      "Epoch 31/200\n",
      "100/100 [==============================] - 111s 1s/step - loss: 2.8178\n",
      "Epoch 32/200\n",
      "100/100 [==============================] - 110s 1s/step - loss: 2.7568\n",
      "Epoch 33/200\n",
      "100/100 [==============================] - 111s 1s/step - loss: 2.7566\n",
      "Epoch 34/200\n",
      "100/100 [==============================] - 111s 1s/step - loss: 2.8078\n",
      "Epoch 35/200\n",
      "100/100 [==============================] - 111s 1s/step - loss: 2.6304\n",
      "Epoch 36/200\n",
      "100/100 [==============================] - 112s 1s/step - loss: 2.5788\n",
      "Epoch 37/200\n",
      "100/100 [==============================] - 110s 1s/step - loss: 2.6120\n",
      "Epoch 38/200\n",
      "100/100 [==============================] - 113s 1s/step - loss: 2.5740\n",
      "Epoch 39/200\n",
      "100/100 [==============================] - 111s 1s/step - loss: 2.5627\n",
      "Epoch 40/200\n",
      "100/100 [==============================] - 111s 1s/step - loss: 2.5137\n",
      "Epoch 41/200\n",
      "100/100 [==============================] - 110s 1s/step - loss: 2.5302\n",
      "Epoch 42/200\n",
      "100/100 [==============================] - 111s 1s/step - loss: 2.5021\n",
      "Epoch 43/200\n",
      "100/100 [==============================] - 115s 1s/step - loss: 2.4767\n",
      "Epoch 44/200\n",
      "100/100 [==============================] - 112s 1s/step - loss: 2.4644\n",
      "Epoch 45/200\n",
      "100/100 [==============================] - 110s 1s/step - loss: 2.3423\n",
      "Epoch 46/200\n",
      "100/100 [==============================] - 112s 1s/step - loss: 2.4524\n",
      "Epoch 47/200\n",
      "100/100 [==============================] - 111s 1s/step - loss: 2.3562\n",
      "Epoch 48/200\n",
      "100/100 [==============================] - 110s 1s/step - loss: 2.3186\n",
      "Epoch 49/200\n",
      "100/100 [==============================] - 112s 1s/step - loss: 2.3476\n",
      "Epoch 50/200\n",
      "100/100 [==============================] - 111s 1s/step - loss: 2.2686\n",
      "Epoch 51/200\n",
      "100/100 [==============================] - 113s 1s/step - loss: 2.3202\n",
      "Epoch 52/200\n",
      "100/100 [==============================] - 113s 1s/step - loss: 2.2842\n",
      "Epoch 53/200\n",
      "100/100 [==============================] - 112s 1s/step - loss: 2.1800\n",
      "Epoch 54/200\n",
      "100/100 [==============================] - 111s 1s/step - loss: 2.2343\n",
      "Epoch 55/200\n",
      "100/100 [==============================] - 115s 1s/step - loss: 2.2505\n",
      "Epoch 56/200\n",
      "100/100 [==============================] - 111s 1s/step - loss: 2.1788\n",
      "Epoch 57/200\n",
      "100/100 [==============================] - 111s 1s/step - loss: 2.1704\n",
      "Epoch 58/200\n",
      "100/100 [==============================] - 110s 1s/step - loss: 2.1778\n",
      "Epoch 59/200\n",
      "100/100 [==============================] - 113s 1s/step - loss: 2.1129\n",
      "Epoch 60/200\n",
      "100/100 [==============================] - 112s 1s/step - loss: 2.0953\n",
      "Epoch 61/200\n",
      "100/100 [==============================] - 110s 1s/step - loss: 2.0859\n",
      "Epoch 62/200\n",
      "100/100 [==============================] - 111s 1s/step - loss: 2.0637\n",
      "Epoch 63/200\n",
      "100/100 [==============================] - 114s 1s/step - loss: 2.0661\n",
      "Epoch 64/200\n",
      "100/100 [==============================] - 111s 1s/step - loss: 2.0690\n",
      "Epoch 65/200\n",
      "100/100 [==============================] - 112s 1s/step - loss: 2.0173\n",
      "Epoch 66/200\n",
      "100/100 [==============================] - 111s 1s/step - loss: 2.0783\n",
      "Epoch 67/200\n",
      "100/100 [==============================] - 111s 1s/step - loss: 1.9809\n",
      "Epoch 68/200\n",
      "100/100 [==============================] - 112s 1s/step - loss: 2.0748\n",
      "Epoch 69/200\n",
      "100/100 [==============================] - 110s 1s/step - loss: 2.0025\n",
      "Epoch 70/200\n",
      "100/100 [==============================] - 111s 1s/step - loss: 1.9550\n",
      "\n",
      "Epoch 00070: ReduceLROnPlateau reducing learning rate to 0.004999999888241291.\n",
      "Epoch 71/200\n",
      "100/100 [==============================] - 113s 1s/step - loss: 1.9424\n",
      "Epoch 72/200\n",
      "100/100 [==============================] - 110s 1s/step - loss: 1.9166\n",
      "Epoch 73/200\n",
      "100/100 [==============================] - 113s 1s/step - loss: 1.9086\n",
      "Epoch 74/200\n",
      "100/100 [==============================] - 111s 1s/step - loss: 1.8619\n",
      "Epoch 75/200\n",
      "100/100 [==============================] - 115s 1s/step - loss: 1.8416\n",
      "Epoch 76/200\n",
      "100/100 [==============================] - 113s 1s/step - loss: 1.8302\n",
      "Epoch 77/200\n",
      "100/100 [==============================] - 111s 1s/step - loss: 1.8946\n",
      "Epoch 78/200\n",
      "100/100 [==============================] - 109s 1s/step - loss: 1.8536\n",
      "Epoch 79/200\n",
      "100/100 [==============================] - 112s 1s/step - loss: 1.8718\n",
      "\n",
      "Epoch 00079: ReduceLROnPlateau reducing learning rate to 0.0024999999441206455.\n",
      "Epoch 80/200\n",
      "100/100 [==============================] - 109s 1s/step - loss: 1.8188\n",
      "Epoch 81/200\n",
      "100/100 [==============================] - 110s 1s/step - loss: 1.8258\n",
      "Epoch 82/200\n",
      "100/100 [==============================] - 110s 1s/step - loss: 1.7485\n",
      "Epoch 83/200\n",
      "100/100 [==============================] - 111s 1s/step - loss: 1.7750\n",
      "Epoch 84/200\n",
      "100/100 [==============================] - 114s 1s/step - loss: 1.7510\n",
      "Epoch 85/200\n",
      "100/100 [==============================] - 111s 1s/step - loss: 1.8005\n",
      "\n",
      "Epoch 00085: ReduceLROnPlateau reducing learning rate to 0.0012499999720603228.\n",
      "Epoch 86/200\n",
      "100/100 [==============================] - 110s 1s/step - loss: 1.7391\n",
      "Epoch 87/200\n",
      "100/100 [==============================] - 113s 1s/step - loss: 1.7578\n",
      "Epoch 88/200\n",
      "100/100 [==============================] - 110s 1s/step - loss: 1.7324\n",
      "Epoch 89/200\n",
      "100/100 [==============================] - 111s 1s/step - loss: 1.7776\n",
      "Epoch 90/200\n",
      "100/100 [==============================] - 110s 1s/step - loss: 1.7293\n",
      "Epoch 91/200\n",
      "100/100 [==============================] - 110s 1s/step - loss: 1.7417\n",
      "Epoch 92/200\n",
      "100/100 [==============================] - 109s 1s/step - loss: 1.7400\n",
      "Epoch 93/200\n",
      "100/100 [==============================] - 111s 1s/step - loss: 1.7461\n",
      "\n",
      "Epoch 00093: ReduceLROnPlateau reducing learning rate to 0.001.\n",
      "Epoch 94/200\n",
      "100/100 [==============================] - 109s 1s/step - loss: 1.6917\n",
      "Epoch 95/200\n",
      "100/100 [==============================] - 111s 1s/step - loss: 1.7286\n",
      "Epoch 00095: early stopping\n"
     ]
    },
    {
     "data": {
      "text/plain": [
       "<keras.callbacks.History at 0x2a50cdc4640>"
      ]
     },
     "execution_count": 9,
     "metadata": {},
     "output_type": "execute_result"
    }
   ],
   "source": [
    "callbacks = [ReduceLROnPlateau(monitor=\"loss\", factor=0.5, patience=3, verbose=1, min_lr=0.001),\n",
    "             EarlyStopping(monitor=\"loss\", patience=5, verbose=1)]\n",
    "model.fit(gen(128), steps_per_epoch=100, epochs=200, callbacks=callbacks)"
   ]
  },
  {
   "cell_type": "markdown",
   "metadata": {},
   "source": [
    "## 預測"
   ]
  },
  {
   "cell_type": "code",
   "execution_count": 10,
   "metadata": {},
   "outputs": [
    {
     "data": {
      "image/png": "[encoded data removed]",
      "text/plain": [
       "<Figure size 432x288 with 1 Axes>"
      ]
     },
     "metadata": {
      "image/png": {
       "height": 217,
       "width": 368
      },
      "needs_background": "light"
     },
     "output_type": "display_data"
    }
   ],
   "source": [
    "[X_test, y_test, _, _], _  = next(gen(1))\n",
    "y_pred = base_model.predict(X_test)\n",
    "\n",
    "##用ctc_decode得到解答，自己寫可以參考下方\n",
    "out = K.get_value(K.ctc_decode(y_pred, input_length=np.ones(y_pred.shape[0])*y_pred.shape[1], )[0][0])\n",
    "out = ''.join([characters[x] for x in out[0] if x != -1])\n",
    "y_true = ''.join([characters[x] for x in y_test[0]])\n",
    "\n",
    "# 圖片輸出\n",
    "plt.imshow(X_test[0])\n",
    "plt.title(f'Prediction: {str(out)}\\n  Answer:   {str(y_true)}')\n",
    "\n",
    "argmax = np.argmax(y_pred, axis=2)[0]\n",
    "plt.show()"
   ]
  },
  {
   "cell_type": "markdown",
   "metadata": {},
   "source": [
    "## 自己寫 decode CTC"
   ]
  },
  {
   "cell_type": "code",
   "execution_count": 11,
   "metadata": {},
   "outputs": [
    {
     "data": {
      "image/png": "[encoded data removed]",
      "text/plain": [
       "<Figure size 432x288 with 1 Axes>"
      ]
     },
     "metadata": {
      "image/png": {
       "height": 217,
       "width": 368
      },
      "needs_background": "light"
     },
     "output_type": "display_data"
    }
   ],
   "source": [
    "## 其中0代表預測為空格，如果預測相同字符之間沒有空格要移除\n",
    "word, n = '', ''\n",
    "for single_result in y_pred[0].argmax(1):\n",
    "    if single_result != 36:\n",
    "        if n != single_result:\n",
    "            word += characters[single_result]\n",
    "    n = single_result \n",
    "\n",
    "# 圖片輸出\n",
    "plt.imshow(X_test[0])\n",
    "plt.title(f'Prediction: {str(out)}\\n  Answer:   {str(y_true)}')\n",
    "\n",
    "argmax = np.argmax(y_pred, axis=2)[0]\n",
    "plt.show()"
   ]
  },
  {
   "cell_type": "markdown",
   "metadata": {},
   "source": [
    "## 額外參考：加入RNN的神經網路"
   ]
  },
  {
   "cell_type": "code",
   "execution_count": 12,
   "metadata": {},
   "outputs": [],
   "source": [
    "K.clear_session() \n",
    "rnn_size = 128\n",
    "\n",
    "input_tensor = Input((height,width, 3))\n",
    "x = input_tensor\n",
    "for i in range(4):\n",
    "    x = Conv2D(32, (3, 3), activation='relu')(x)\n",
    "    x = BatchNormalization(axis=-1)(x)\n",
    "    x = Conv2D(32, (3, 3), activation='relu')(x)\n",
    "    x = BatchNormalization(axis=-1)(x)\n",
    "    if i <3:\n",
    "        x = MaxPooling2D(pool_size=(2, 2))(x)\n",
    "    else:\n",
    "        x = MaxPooling2D(pool_size=(2, 1))(x)\n",
    "\n",
    "\n",
    "conv_shape = x.get_shape()\n",
    "x = Reshape(target_shape=(int(conv_shape[2]), int(conv_shape[1]*conv_shape[3])))(x)\n",
    "x = Dense(32, activation='relu')(x)\n",
    "\n",
    "gru_1 = GRU(rnn_size, return_sequences=True, kernel_initializer='he_normal', name='gru1')(x)\n",
    "gru_1b = GRU(rnn_size, return_sequences=True, go_backwards=True, \n",
    "             kernel_initializer='he_normal', name='gru1_b')(x)\n",
    "gru1_merged = Concatenate()([gru_1, gru_1b])\n",
    "\n",
    "gru_2 = GRU(rnn_size, return_sequences=True, kernel_initializer='he_normal', name='gru2')(gru1_merged)\n",
    "gru_2b = GRU(rnn_size, return_sequences=True, go_backwards=True, \n",
    "             kernel_initializer='he_normal', name='gru2_b')(gru1_merged)\n",
    "x = Concatenate()([gru_2, gru_2b])\n",
    "\n",
    "x = Dropout(0.25)(x)\n",
    "x = Dense(n_class, kernel_initializer='he_normal', activation='softmax')(x)\n",
    "\n",
    "base_model = Model(inputs=input_tensor, outputs=x)\n",
    "\n",
    "labels = Input(name='the_labels', shape=[n_len], dtype='float32')\n",
    "input_length = Input(name='input_length', shape=[1], dtype='int64')\n",
    "label_length = Input(name='label_length', shape=[1], dtype='int64')\n",
    "loss_out = Lambda(ctc_lambda_func, output_shape=(1,), \n",
    "                  name='ctc')([x, labels, input_length, label_length])\n",
    "\n",
    "model = Model(inputs=[input_tensor, labels, input_length,label_length],\n",
    "              outputs=[loss_out],\n",
    "              name='RCNN_for_captcha')\n",
    "model.compile(loss={'ctc': lambda y_true, y_pred: y_pred}, optimizer='Adam')"
   ]
  },
  {
   "cell_type": "code",
   "execution_count": 13,
   "metadata": {},
   "outputs": [
    {
     "name": "stdout",
     "output_type": "stream",
     "text": [
      "Model: \"RCNN_for_captcha\"\n",
      "__________________________________________________________________________________________________\n",
      "Layer (type)                    Output Shape         Param #     Connected to                     \n",
      "==================================================================================================\n",
      "input_1 (InputLayer)            [(None, 80, 170, 3)] 0                                            \n",
      "__________________________________________________________________________________________________\n",
      "conv2d (Conv2D)                 (None, 78, 168, 32)  896         input_1[0][0]                    \n",
      "__________________________________________________________________________________________________\n",
      "batch_normalization (BatchNorma (None, 78, 168, 32)  128         conv2d[0][0]                     \n",
      "__________________________________________________________________________________________________\n",
      "conv2d_1 (Conv2D)               (None, 76, 166, 32)  9248        batch_normalization[0][0]        \n",
      "__________________________________________________________________________________________________\n",
      "batch_normalization_1 (BatchNor (None, 76, 166, 32)  128         conv2d_1[0][0]                   \n",
      "__________________________________________________________________________________________________\n",
      "max_pooling2d (MaxPooling2D)    (None, 38, 83, 32)   0           batch_normalization_1[0][0]      \n",
      "__________________________________________________________________________________________________\n",
      "conv2d_2 (Conv2D)               (None, 36, 81, 32)   9248        max_pooling2d[0][0]              \n",
      "__________________________________________________________________________________________________\n",
      "batch_normalization_2 (BatchNor (None, 36, 81, 32)   128         conv2d_2[0][0]                   \n",
      "__________________________________________________________________________________________________\n",
      "conv2d_3 (Conv2D)               (None, 34, 79, 32)   9248        batch_normalization_2[0][0]      \n",
      "__________________________________________________________________________________________________\n",
      "batch_normalization_3 (BatchNor (None, 34, 79, 32)   128         conv2d_3[0][0]                   \n",
      "__________________________________________________________________________________________________\n",
      "max_pooling2d_1 (MaxPooling2D)  (None, 17, 39, 32)   0           batch_normalization_3[0][0]      \n",
      "__________________________________________________________________________________________________\n",
      "conv2d_4 (Conv2D)               (None, 15, 37, 32)   9248        max_pooling2d_1[0][0]            \n",
      "__________________________________________________________________________________________________\n",
      "batch_normalization_4 (BatchNor (None, 15, 37, 32)   128         conv2d_4[0][0]                   \n",
      "__________________________________________________________________________________________________\n",
      "conv2d_5 (Conv2D)               (None, 13, 35, 32)   9248        batch_normalization_4[0][0]      \n",
      "__________________________________________________________________________________________________\n",
      "batch_normalization_5 (BatchNor (None, 13, 35, 32)   128         conv2d_5[0][0]                   \n",
      "__________________________________________________________________________________________________\n",
      "max_pooling2d_2 (MaxPooling2D)  (None, 6, 17, 32)    0           batch_normalization_5[0][0]      \n",
      "__________________________________________________________________________________________________\n",
      "conv2d_6 (Conv2D)               (None, 4, 15, 32)    9248        max_pooling2d_2[0][0]            \n",
      "__________________________________________________________________________________________________\n",
      "batch_normalization_6 (BatchNor (None, 4, 15, 32)    128         conv2d_6[0][0]                   \n",
      "__________________________________________________________________________________________________\n",
      "conv2d_7 (Conv2D)               (None, 2, 13, 32)    9248        batch_normalization_6[0][0]      \n",
      "__________________________________________________________________________________________________\n",
      "batch_normalization_7 (BatchNor (None, 2, 13, 32)    128         conv2d_7[0][0]                   \n",
      "__________________________________________________________________________________________________\n",
      "max_pooling2d_3 (MaxPooling2D)  (None, 1, 13, 32)    0           batch_normalization_7[0][0]      \n",
      "__________________________________________________________________________________________________\n",
      "reshape (Reshape)               (None, 13, 32)       0           max_pooling2d_3[0][0]            \n",
      "__________________________________________________________________________________________________\n",
      "dense (Dense)                   (None, 13, 32)       1056        reshape[0][0]                    \n",
      "__________________________________________________________________________________________________\n",
      "gru1 (GRU)                      (None, 13, 128)      62208       dense[0][0]                      \n",
      "__________________________________________________________________________________________________\n",
      "gru1_b (GRU)                    (None, 13, 128)      62208       dense[0][0]                      \n",
      "__________________________________________________________________________________________________\n",
      "concatenate (Concatenate)       (None, 13, 256)      0           gru1[0][0]                       \n",
      "                                                                 gru1_b[0][0]                     \n",
      "__________________________________________________________________________________________________\n",
      "gru2 (GRU)                      (None, 13, 128)      148224      concatenate[0][0]                \n",
      "__________________________________________________________________________________________________\n",
      "gru2_b (GRU)                    (None, 13, 128)      148224      concatenate[0][0]                \n",
      "__________________________________________________________________________________________________\n",
      "concatenate_1 (Concatenate)     (None, 13, 256)      0           gru2[0][0]                       \n",
      "                                                                 gru2_b[0][0]                     \n",
      "__________________________________________________________________________________________________\n",
      "dropout (Dropout)               (None, 13, 256)      0           concatenate_1[0][0]              \n",
      "__________________________________________________________________________________________________\n",
      "dense_1 (Dense)                 (None, 13, 37)       9509        dropout[0][0]                    \n",
      "__________________________________________________________________________________________________\n",
      "the_labels (InputLayer)         [(None, 4)]          0                                            \n",
      "__________________________________________________________________________________________________\n",
      "input_length (InputLayer)       [(None, 1)]          0                                            \n",
      "__________________________________________________________________________________________________\n",
      "label_length (InputLayer)       [(None, 1)]          0                                            \n",
      "__________________________________________________________________________________________________\n",
      "ctc (Lambda)                    (None, 1)            0           dense_1[0][0]                    \n",
      "                                                                 the_labels[0][0]                 \n",
      "                                                                 input_length[0][0]               \n",
      "                                                                 label_length[0][0]               \n",
      "==================================================================================================\n",
      "Total params: 498,085\n",
      "Trainable params: 497,573\n",
      "Non-trainable params: 512\n",
      "__________________________________________________________________________________________________\n"
     ]
    }
   ],
   "source": [
    "model.summary()"
   ]
  },
  {
   "cell_type": "code",
   "execution_count": 14,
   "metadata": {},
   "outputs": [
    {
     "name": "stdout",
     "output_type": "stream",
     "text": [
      "Epoch 1/200\n",
      "100/100 [==============================] - 130s 1s/step - loss: 18.4257\n",
      "Epoch 2/200\n",
      "100/100 [==============================] - 111s 1s/step - loss: 14.9862\n",
      "Epoch 3/200\n",
      "100/100 [==============================] - 114s 1s/step - loss: 9.5142\n",
      "Epoch 4/200\n",
      "100/100 [==============================] - 112s 1s/step - loss: 3.8160\n",
      "Epoch 5/200\n",
      "100/100 [==============================] - 112s 1s/step - loss: 2.4639\n",
      "Epoch 6/200\n",
      "100/100 [==============================] - 112s 1s/step - loss: 1.9374\n",
      "Epoch 7/200\n",
      "100/100 [==============================] - 111s 1s/step - loss: 1.5815\n",
      "Epoch 8/200\n",
      "100/100 [==============================] - 112s 1s/step - loss: 1.4055\n",
      "Epoch 9/200\n",
      "100/100 [==============================] - 113s 1s/step - loss: 1.1876\n",
      "Epoch 10/200\n",
      "100/100 [==============================] - 113s 1s/step - loss: 1.0482\n",
      "Epoch 11/200\n",
      "100/100 [==============================] - 112s 1s/step - loss: 0.9682\n",
      "Epoch 12/200\n",
      "100/100 [==============================] - 116s 1s/step - loss: 0.8768\n",
      "Epoch 13/200\n",
      "100/100 [==============================] - 112s 1s/step - loss: 0.7972\n",
      "Epoch 14/200\n",
      "100/100 [==============================] - 113s 1s/step - loss: 0.7729\n",
      "Epoch 15/200\n",
      "100/100 [==============================] - 111s 1s/step - loss: 0.7047\n",
      "Epoch 16/200\n",
      "100/100 [==============================] - 112s 1s/step - loss: 0.6656\n",
      "Epoch 17/200\n",
      "100/100 [==============================] - 114s 1s/step - loss: 0.6186\n",
      "Epoch 18/200\n",
      "100/100 [==============================] - 112s 1s/step - loss: 0.5979\n",
      "Epoch 19/200\n",
      "100/100 [==============================] - 112s 1s/step - loss: 0.5760\n",
      "Epoch 20/200\n",
      "100/100 [==============================] - 113s 1s/step - loss: 0.5431\n",
      "Epoch 21/200\n",
      "100/100 [==============================] - 115s 1s/step - loss: 0.5172\n",
      "Epoch 22/200\n",
      "100/100 [==============================] - 113s 1s/step - loss: 0.4864\n",
      "Epoch 23/200\n",
      "100/100 [==============================] - 111s 1s/step - loss: 0.4827\n",
      "Epoch 24/200\n",
      "100/100 [==============================] - 112s 1s/step - loss: 0.4728\n",
      "Epoch 25/200\n",
      "100/100 [==============================] - 113s 1s/step - loss: 0.4362\n",
      "Epoch 26/200\n",
      "100/100 [==============================] - 111s 1s/step - loss: 0.3796\n",
      "Epoch 27/200\n",
      "100/100 [==============================] - 111s 1s/step - loss: 0.3984\n",
      "Epoch 28/200\n",
      "100/100 [==============================] - 112s 1s/step - loss: 0.3755\n",
      "Epoch 29/200\n",
      "100/100 [==============================] - 111s 1s/step - loss: 0.3971\n",
      "Epoch 30/200\n",
      "100/100 [==============================] - 113s 1s/step - loss: 0.3886\n",
      "Epoch 31/200\n",
      "100/100 [==============================] - 112s 1s/step - loss: 0.3387\n",
      "Epoch 32/200\n",
      "100/100 [==============================] - 111s 1s/step - loss: 0.3345\n",
      "Epoch 33/200\n",
      "100/100 [==============================] - 114s 1s/step - loss: 0.3431\n",
      "Epoch 34/200\n",
      "100/100 [==============================] - 111s 1s/step - loss: 0.3225\n",
      "Epoch 35/200\n",
      "100/100 [==============================] - 112s 1s/step - loss: 0.3250\n",
      "Epoch 36/200\n",
      "100/100 [==============================] - 112s 1s/step - loss: 0.3115\n",
      "Epoch 37/200\n",
      "100/100 [==============================] - 113s 1s/step - loss: 0.3189\n",
      "Epoch 38/200\n",
      "100/100 [==============================] - 111s 1s/step - loss: 0.3055\n",
      "Epoch 39/200\n",
      "100/100 [==============================] - 112s 1s/step - loss: 0.2775\n",
      "Epoch 40/200\n",
      "100/100 [==============================] - 112s 1s/step - loss: 0.2944\n",
      "Epoch 41/200\n",
      "100/100 [==============================] - 114s 1s/step - loss: 0.2797\n",
      "Epoch 42/200\n",
      "100/100 [==============================] - 110s 1s/step - loss: 0.2906\n",
      "Epoch 43/200\n",
      "100/100 [==============================] - 111s 1s/step - loss: 0.2592\n",
      "Epoch 44/200\n",
      "100/100 [==============================] - 119s 1s/step - loss: 0.2672\n",
      "Epoch 45/200\n",
      "100/100 [==============================] - 114s 1s/step - loss: 0.2642\n",
      "Epoch 46/200\n",
      "100/100 [==============================] - 113s 1s/step - loss: 0.2660\n",
      "Epoch 47/200\n",
      "100/100 [==============================] - 112s 1s/step - loss: 0.2517\n",
      "Epoch 48/200\n",
      "100/100 [==============================] - 111s 1s/step - loss: 0.2559\n",
      "Epoch 49/200\n",
      "100/100 [==============================] - 114s 1s/step - loss: 0.2631\n",
      "Epoch 50/200\n",
      "100/100 [==============================] - 111s 1s/step - loss: 0.2483\n",
      "Epoch 51/200\n",
      "100/100 [==============================] - 113s 1s/step - loss: 0.2411\n",
      "Epoch 52/200\n",
      "100/100 [==============================] - 112s 1s/step - loss: 0.2133\n",
      "Epoch 53/200\n",
      "100/100 [==============================] - 115s 1s/step - loss: 0.2394\n",
      "Epoch 54/200\n",
      "100/100 [==============================] - 167s 2s/step - loss: 0.2160\n",
      "Epoch 55/200\n",
      "100/100 [==============================] - 126s 1s/step - loss: 0.2131\n",
      "Epoch 56/200\n",
      "100/100 [==============================] - 112s 1s/step - loss: 0.2137\n",
      "Epoch 57/200\n",
      "100/100 [==============================] - 114s 1s/step - loss: 0.2147\n",
      "Epoch 58/200\n",
      "100/100 [==============================] - 112s 1s/step - loss: 0.2200\n",
      "Epoch 59/200\n",
      "100/100 [==============================] - 113s 1s/step - loss: 0.2257\n",
      "Epoch 60/200\n",
      "100/100 [==============================] - 113s 1s/step - loss: 0.2230\n",
      "Epoch 61/200\n",
      "100/100 [==============================] - 113s 1s/step - loss: 0.2275\n",
      "Epoch 00061: early stopping\n"
     ]
    },
    {
     "data": {
      "text/plain": [
       "<keras.callbacks.History at 0x2a5bd412370>"
      ]
     },
     "execution_count": 14,
     "metadata": {},
     "output_type": "execute_result"
    }
   ],
   "source": [
    "callbacks = [ReduceLROnPlateau(monitor=\"loss\", factor=0.5, patience=3, verbose=1, min_lr=0.001),\n",
    "             EarlyStopping(monitor=\"loss\", patience=5, verbose=1)]\n",
    "model.fit(gen(128), steps_per_epoch=100, epochs=200, callbacks=callbacks)"
   ]
  },
  {
   "cell_type": "code",
   "execution_count": 15,
   "metadata": {},
   "outputs": [
    {
     "data": {
      "image/png": "[encoded data removed]",
      "text/plain": [
       "<Figure size 432x288 with 1 Axes>"
      ]
     },
     "metadata": {
      "image/png": {
       "height": 217,
       "width": 368
      },
      "needs_background": "light"
     },
     "output_type": "display_data"
    }
   ],
   "source": [
    "[X_test, y_test, _, _], _  = next(gen(1))\n",
    "y_pred = base_model.predict(X_test)\n",
    "\n",
    "##用ctc_decode得到解答，自己寫可以參考下方\n",
    "out = K.get_value(K.ctc_decode(y_pred, input_length=np.ones(y_pred.shape[0])*y_pred.shape[1], )[0][0])\n",
    "out = ''.join([characters[x] for x in out[0] if x != -1])\n",
    "y_true = ''.join([characters[x] for x in y_test[0]])\n",
    "\n",
    "# 圖片輸出\n",
    "plt.imshow(X_test[0])\n",
    "plt.title(f'Prediction: {str(out)}\\n  Answer:   {str(y_true)}')\n",
    "\n",
    "argmax = np.argmax(y_pred, axis=2)[0]\n",
    "plt.show()"
   ]
  }
 ],
 "metadata": {
  "accelerator": "GPU",
  "colab": {
   "collapsed_sections": [],
   "name": "Captcha.ipynb",
   "provenance": []
  },
  "kernelspec": {
   "display_name": "Python 3",
   "language": "python",
   "name": "python3"
  },
  "language_info": {
   "codemirror_mode": {
    "name": "ipython",
    "version": 3
   },
   "file_extension": ".py",
   "mimetype": "text/x-python",
   "name": "python",
   "nbconvert_exporter": "python",
   "pygments_lexer": "ipython3",
   "version": "3.8.3"
  }
 },
 "nbformat": 4,
 "nbformat_minor": 4
}
