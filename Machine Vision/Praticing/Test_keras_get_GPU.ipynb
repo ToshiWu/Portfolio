{
 "cells": [
  {
   "cell_type": "code",
   "execution_count": 43,
   "metadata": {},
   "outputs": [
    {
     "name": "stdout",
     "output_type": "stream",
     "text": [
      "list_local_devices :\n",
      "\t1.  name: \"/device:CPU:0\"\n",
      "\t    device_type: \"CPU\"\n",
      "\t    memory_limit: 268435456\n",
      "\t    locality {\n",
      "\t    }\n",
      "\t    incarnation: 4968747175241614837\n",
      "\t    \n",
      "\t2.  name: \"/device:GPU:0\"\n",
      "\t    device_type: \"GPU\"\n",
      "\t    memory_limit: 2249614951\n",
      "\t    locality {\n",
      "\t      bus_id: 1\n",
      "\t      links {\n",
      "\t      }\n",
      "\t    }\n",
      "\t    incarnation: 7900136622551382287\n",
      "\t    physical_device_desc: \"device: 0, name: NVIDIA GeForce GTX 1650 with Max-Q Design, pci bus id: 0000:02:00.0, compute capability: 7.5\"\n",
      "\t    \n",
      "test is_built_with_cuda :   True \n",
      "\n",
      "keras_get_available_gpus :  ['/device:GPU:0']\n"
     ]
    }
   ],
   "source": [
    "from tensorflow.python.client import device_lib\n",
    "import tensorflow as tf\n",
    "from keras import backend as K\n",
    "\n",
    "print(f'list_local_devices :')\n",
    "for i,d in enumerate(device_lib.list_local_devices()):\n",
    "    print(f'\\t{str(i+1)+\".\":<4}'+'\\n\\t    '.join(str(d).split('\\n')))\n",
    "print('test is_built_with_cuda :  ', tf.test.is_built_with_cuda(),'\\n')\n",
    "print('keras_get_available_gpus : ', K._get_available_gpus())"
   ]
  }
 ],
 "metadata": {
  "kernelspec": {
   "display_name": "Python 3",
   "language": "python",
   "name": "python3"
  },
  "language_info": {
   "codemirror_mode": {
    "name": "ipython",
    "version": 3
   },
   "file_extension": ".py",
   "mimetype": "text/x-python",
   "name": "python",
   "nbconvert_exporter": "python",
   "pygments_lexer": "ipython3",
   "version": "3.8.3"
  }
 },
 "nbformat": 4,
 "nbformat_minor": 4
}
