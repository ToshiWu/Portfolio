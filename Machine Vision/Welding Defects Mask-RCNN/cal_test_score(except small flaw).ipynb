{
 "cells": [
  {
   "cell_type": "code",
   "execution_count": 1,
   "metadata": {},
   "outputs": [],
   "source": [
    "import os\n",
    "import numpy as np\n",
    "import skimage.io\n",
    "import cv2\n",
    "from mrcnn.config import Config\n",
    "from mrcnn import utils\n",
    "import mrcnn.model as modellib\n",
    "\n",
    "import yaml\n",
    "from PIL import Image\n",
    "from tqdm.notebook import tqdm\n",
    "\n",
    "from train import WeldingConfig, WeldingDataset, setpath"
   ]
  },
  {
   "cell_type": "code",
   "execution_count": 2,
   "metadata": {},
   "outputs": [
    {
     "name": "stdout",
     "output_type": "stream",
     "text": [
      "WARNING:tensorflow:From C:\\Users\\user\\AppData\\Roaming\\Python\\Python38\\site-packages\\tensorflow\\python\\ops\\array_ops.py:5043: calling gather (from tensorflow.python.ops.array_ops) with validate_indices is deprecated and will be removed in a future version.\n",
      "Instructions for updating:\n",
      "The `validate_indices` argument has no effect. Indices are always validated on CPU and never validated on GPU.\n",
      "WARNING:tensorflow:From C:\\Users\\user\\AppData\\Roaming\\Python\\Python38\\site-packages\\tensorflow\\python\\util\\deprecation.py:602: calling map_fn_v2 (from tensorflow.python.ops.map_fn) with dtype is deprecated and will be removed in a future version.\n",
      "Instructions for updating:\n",
      "Use fn_output_signature instead\n"
     ]
    }
   ],
   "source": [
    "# Setting\n",
    "\n",
    "# Create model object in inference mode.\n",
    "config = WeldingConfig()\n",
    "MODEL_DIR = os.path.join(os.getcwd(), \"logs\")\n",
    "model = modellib.MaskRCNN(mode=\"inference\", model_dir=MODEL_DIR, config=config)\n",
    " \n",
    "# Prepare testing data\n",
    "image_path = './test_data-2/'\n",
    "img_list = os.listdir(image_path + 'pic/')\n",
    "dataset = WeldingDataset()\n",
    "dataset.load_img(*setpath(image_path))\n",
    "dataset.prepare()\n",
    "total_imgs = len(dataset.image_info)\n",
    "class_name = dataset.class_names\n",
    "\n",
    "# Testing models index range\n",
    "model_test_range=[40,60]\n",
    "\n",
    "# The boundary of postive/negtive samples (=positive samples' number)\n",
    "PN_boundary = 71"
   ]
  },
  {
   "cell_type": "code",
   "execution_count": 3,
   "metadata": {},
   "outputs": [],
   "source": [
    "def cal_iou(gt_mask,pre_mask):\n",
    "    inter = np.count_nonzero(gt_mask+pre_mask==2)\n",
    "    union = np.count_nonzero(gt_mask!=pre_mask)+inter\n",
    "    return inter/union if union != 0 else 0"
   ]
  },
  {
   "cell_type": "code",
   "execution_count": 4,
   "metadata": {
    "tags": []
   },
   "outputs": [
    {
     "name": "stdout",
     "output_type": "stream",
     "text": [
      "Re-starting from epoch 41\n",
      "model 41\n"
     ]
    },
    {
     "data": {
      "application/vnd.jupyter.widget-view+json": {
       "model_id": "66fb439f698c44a288292b4120bea2d1",
       "version_major": 2,
       "version_minor": 0
      },
      "text/plain": [
       "HBox(children=(FloatProgress(value=0.0, max=6.0), HTML(value='')))"
      ]
     },
     "metadata": {},
     "output_type": "display_data"
    },
    {
     "name": "stdout",
     "output_type": "stream",
     "text": [
      "iou: 0.6704323107723155 max-> 0.9063860667634253\n",
      "accuracy =  1.0\n",
      "precision =  1.0\n",
      "recall =  1.0\n",
      "f1 score =  1.0\n",
      "-------------------------------------\n",
      "Re-starting from epoch 42\n",
      "model 42\n"
     ]
    },
    {
     "data": {
      "application/vnd.jupyter.widget-view+json": {
       "model_id": "cb1ea6d7f4f54322925a297133ed110b",
       "version_major": 2,
       "version_minor": 0
      },
      "text/plain": [
       "HBox(children=(FloatProgress(value=0.0, max=6.0), HTML(value='')))"
      ]
     },
     "metadata": {},
     "output_type": "display_data"
    },
    {
     "name": "stdout",
     "output_type": "stream",
     "text": [
      "iou: 0.6623878224996956 max-> 0.8810682804894093\n",
      "accuracy =  1.0\n",
      "precision =  1.0\n",
      "recall =  1.0\n",
      "f1 score =  1.0\n",
      "-------------------------------------\n",
      "Re-starting from epoch 43\n",
      "model 43\n"
     ]
    },
    {
     "data": {
      "application/vnd.jupyter.widget-view+json": {
       "model_id": "787576df76b4437b8473a2e531e30c49",
       "version_major": 2,
       "version_minor": 0
      },
      "text/plain": [
       "HBox(children=(FloatProgress(value=0.0, max=6.0), HTML(value='')))"
      ]
     },
     "metadata": {},
     "output_type": "display_data"
    },
    {
     "name": "stdout",
     "output_type": "stream",
     "text": [
      "iou: 0.6782023076262499 max-> 0.9198638208720702\n",
      "accuracy =  1.0\n",
      "precision =  1.0\n",
      "recall =  1.0\n",
      "f1 score =  1.0\n",
      "-------------------------------------\n",
      "Re-starting from epoch 44\n",
      "model 44\n"
     ]
    },
    {
     "data": {
      "application/vnd.jupyter.widget-view+json": {
       "model_id": "76a72589876445d0b3698f4fd8cc362e",
       "version_major": 2,
       "version_minor": 0
      },
      "text/plain": [
       "HBox(children=(FloatProgress(value=0.0, max=6.0), HTML(value='')))"
      ]
     },
     "metadata": {},
     "output_type": "display_data"
    },
    {
     "name": "stdout",
     "output_type": "stream",
     "text": [
      "iou: 0.6649877782186114 max-> 0.8746732880292734\n",
      "accuracy =  1.0\n",
      "precision =  1.0\n",
      "recall =  1.0\n",
      "f1 score =  1.0\n",
      "-------------------------------------\n",
      "Re-starting from epoch 45\n",
      "model 45\n"
     ]
    },
    {
     "data": {
      "application/vnd.jupyter.widget-view+json": {
       "model_id": "bb9132a7d8b74459ad5223c96a98bc11",
       "version_major": 2,
       "version_minor": 0
      },
      "text/plain": [
       "HBox(children=(FloatProgress(value=0.0, max=6.0), HTML(value='')))"
      ]
     },
     "metadata": {},
     "output_type": "display_data"
    },
    {
     "name": "stdout",
     "output_type": "stream",
     "text": [
      "iou: 0.6713845189531549 max-> 0.8958196398054423\n",
      "accuracy =  1.0\n",
      "precision =  1.0\n",
      "recall =  1.0\n",
      "f1 score =  1.0\n",
      "-------------------------------------\n",
      "Re-starting from epoch 46\n",
      "model 46\n"
     ]
    },
    {
     "data": {
      "application/vnd.jupyter.widget-view+json": {
       "model_id": "58bdde13bdad4072bfc6cfee6637943c",
       "version_major": 2,
       "version_minor": 0
      },
      "text/plain": [
       "HBox(children=(FloatProgress(value=0.0, max=6.0), HTML(value='')))"
      ]
     },
     "metadata": {},
     "output_type": "display_data"
    },
    {
     "name": "stdout",
     "output_type": "stream",
     "text": [
      "iou: 0.6722604703160835 max-> 0.9234519104084321\n",
      "accuracy =  1.0\n",
      "precision =  1.0\n",
      "recall =  1.0\n",
      "f1 score =  1.0\n",
      "-------------------------------------\n",
      "Re-starting from epoch 47\n",
      "model 47\n"
     ]
    },
    {
     "data": {
      "application/vnd.jupyter.widget-view+json": {
       "model_id": "fd998dd2b46c4944bbaaaec827eef2cd",
       "version_major": 2,
       "version_minor": 0
      },
      "text/plain": [
       "HBox(children=(FloatProgress(value=0.0, max=6.0), HTML(value='')))"
      ]
     },
     "metadata": {},
     "output_type": "display_data"
    },
    {
     "name": "stdout",
     "output_type": "stream",
     "text": [
      "iou: 0.6683083779829206 max-> 0.8875228877844624\n",
      "accuracy =  1.0\n",
      "precision =  1.0\n",
      "recall =  1.0\n",
      "f1 score =  1.0\n",
      "-------------------------------------\n",
      "Re-starting from epoch 48\n",
      "model 48\n"
     ]
    },
    {
     "data": {
      "application/vnd.jupyter.widget-view+json": {
       "model_id": "f5282832c0934ec5b3eec1839b45dafc",
       "version_major": 2,
       "version_minor": 0
      },
      "text/plain": [
       "HBox(children=(FloatProgress(value=0.0, max=6.0), HTML(value='')))"
      ]
     },
     "metadata": {},
     "output_type": "display_data"
    },
    {
     "name": "stdout",
     "output_type": "stream",
     "text": [
      "iou: 0.6651786631677842 max-> 0.8940959652471533\n",
      "accuracy =  1.0\n",
      "precision =  1.0\n",
      "recall =  1.0\n",
      "f1 score =  1.0\n",
      "-------------------------------------\n",
      "Re-starting from epoch 49\n",
      "model 49\n"
     ]
    },
    {
     "data": {
      "application/vnd.jupyter.widget-view+json": {
       "model_id": "21cfa0681acc4cadae70d096211485ca",
       "version_major": 2,
       "version_minor": 0
      },
      "text/plain": [
       "HBox(children=(FloatProgress(value=0.0, max=6.0), HTML(value='')))"
      ]
     },
     "metadata": {},
     "output_type": "display_data"
    },
    {
     "name": "stdout",
     "output_type": "stream",
     "text": [
      "iou: 0.6672077013203213 max-> 0.8757032578830303\n",
      "accuracy =  1.0\n",
      "precision =  1.0\n",
      "recall =  1.0\n",
      "f1 score =  1.0\n",
      "-------------------------------------\n",
      "Re-starting from epoch 50\n",
      "model 50\n"
     ]
    },
    {
     "data": {
      "application/vnd.jupyter.widget-view+json": {
       "model_id": "93faf60742e34eb7836ae48d40e7da7e",
       "version_major": 2,
       "version_minor": 0
      },
      "text/plain": [
       "HBox(children=(FloatProgress(value=0.0, max=6.0), HTML(value='')))"
      ]
     },
     "metadata": {},
     "output_type": "display_data"
    },
    {
     "name": "stdout",
     "output_type": "stream",
     "text": [
      "iou: 0.6705255053502851 max-> 0.8880235602094241\n",
      "accuracy =  1.0\n",
      "precision =  1.0\n",
      "recall =  1.0\n",
      "f1 score =  1.0\n",
      "-------------------------------------\n",
      "Re-starting from epoch 51\n",
      "model 51\n"
     ]
    },
    {
     "data": {
      "application/vnd.jupyter.widget-view+json": {
       "model_id": "9b36c6312ef34c8eb7e11b49e709dd0a",
       "version_major": 2,
       "version_minor": 0
      },
      "text/plain": [
       "HBox(children=(FloatProgress(value=0.0, max=6.0), HTML(value='')))"
      ]
     },
     "metadata": {},
     "output_type": "display_data"
    },
    {
     "name": "stdout",
     "output_type": "stream",
     "text": [
      "iou: 0.6613321248587218 max-> 0.8636955107351985\n",
      "accuracy =  1.0\n",
      "precision =  1.0\n",
      "recall =  1.0\n",
      "f1 score =  1.0\n",
      "-------------------------------------\n",
      "Re-starting from epoch 52\n",
      "model 52\n"
     ]
    },
    {
     "data": {
      "application/vnd.jupyter.widget-view+json": {
       "model_id": "939e0ad2eee24bb6b19fa3884e915fc1",
       "version_major": 2,
       "version_minor": 0
      },
      "text/plain": [
       "HBox(children=(FloatProgress(value=0.0, max=6.0), HTML(value='')))"
      ]
     },
     "metadata": {},
     "output_type": "display_data"
    },
    {
     "name": "stdout",
     "output_type": "stream",
     "text": [
      "iou: 0.6616149152972637 max-> 0.8677063957647733\n",
      "accuracy =  1.0\n",
      "precision =  1.0\n",
      "recall =  1.0\n",
      "f1 score =  1.0\n",
      "-------------------------------------\n",
      "Re-starting from epoch 53\n",
      "model 53\n"
     ]
    },
    {
     "data": {
      "application/vnd.jupyter.widget-view+json": {
       "model_id": "5003e78bf854410c8c4bceb4ffd1e1ff",
       "version_major": 2,
       "version_minor": 0
      },
      "text/plain": [
       "HBox(children=(FloatProgress(value=0.0, max=6.0), HTML(value='')))"
      ]
     },
     "metadata": {},
     "output_type": "display_data"
    },
    {
     "name": "stdout",
     "output_type": "stream",
     "text": [
      "iou: 0.6468169757487633 max-> 0.8490246701090075\n",
      "accuracy =  1.0\n",
      "precision =  1.0\n",
      "recall =  1.0\n",
      "f1 score =  1.0\n",
      "-------------------------------------\n",
      "Re-starting from epoch 54\n",
      "model 54\n"
     ]
    },
    {
     "data": {
      "application/vnd.jupyter.widget-view+json": {
       "model_id": "f5a60818b76e4fe796361aa590b56226",
       "version_major": 2,
       "version_minor": 0
      },
      "text/plain": [
       "HBox(children=(FloatProgress(value=0.0, max=6.0), HTML(value='')))"
      ]
     },
     "metadata": {},
     "output_type": "display_data"
    },
    {
     "name": "stdout",
     "output_type": "stream",
     "text": [
      "iou: 0.663412291208455 max-> 0.8985753496274996\n",
      "accuracy =  1.0\n",
      "precision =  1.0\n",
      "recall =  1.0\n",
      "f1 score =  1.0\n",
      "-------------------------------------\n",
      "Re-starting from epoch 55\n",
      "model 55\n"
     ]
    },
    {
     "data": {
      "application/vnd.jupyter.widget-view+json": {
       "model_id": "e5ae62666ff84391b55b19e055ff385c",
       "version_major": 2,
       "version_minor": 0
      },
      "text/plain": [
       "HBox(children=(FloatProgress(value=0.0, max=6.0), HTML(value='')))"
      ]
     },
     "metadata": {},
     "output_type": "display_data"
    },
    {
     "name": "stdout",
     "output_type": "stream",
     "text": [
      "iou: 0.6492988975463823 max-> 0.8587497853340202\n",
      "accuracy =  1.0\n",
      "precision =  1.0\n",
      "recall =  1.0\n",
      "f1 score =  1.0\n",
      "-------------------------------------\n",
      "Re-starting from epoch 56\n",
      "model 56\n"
     ]
    },
    {
     "data": {
      "application/vnd.jupyter.widget-view+json": {
       "model_id": "66acf3b44e6d4e04ad7c7ac8e29eea46",
       "version_major": 2,
       "version_minor": 0
      },
      "text/plain": [
       "HBox(children=(FloatProgress(value=0.0, max=6.0), HTML(value='')))"
      ]
     },
     "metadata": {},
     "output_type": "display_data"
    },
    {
     "name": "stdout",
     "output_type": "stream",
     "text": [
      "iou: 0.6565769545837771 max-> 0.8663951910025208\n",
      "accuracy =  1.0\n",
      "precision =  1.0\n",
      "recall =  1.0\n",
      "f1 score =  1.0\n",
      "-------------------------------------\n",
      "Re-starting from epoch 57\n",
      "model 57\n"
     ]
    },
    {
     "data": {
      "application/vnd.jupyter.widget-view+json": {
       "model_id": "340fa00c2dc14990bc8ebd3bf27f14fd",
       "version_major": 2,
       "version_minor": 0
      },
      "text/plain": [
       "HBox(children=(FloatProgress(value=0.0, max=6.0), HTML(value='')))"
      ]
     },
     "metadata": {},
     "output_type": "display_data"
    },
    {
     "name": "stdout",
     "output_type": "stream",
     "text": [
      "iou: 0.6676963270667601 max-> 0.8992278497578851\n",
      "accuracy =  1.0\n",
      "precision =  1.0\n",
      "recall =  1.0\n",
      "f1 score =  1.0\n",
      "-------------------------------------\n",
      "Re-starting from epoch 58\n",
      "model 58\n"
     ]
    },
    {
     "data": {
      "application/vnd.jupyter.widget-view+json": {
       "model_id": "da6b23674a884eeda991334467f791c1",
       "version_major": 2,
       "version_minor": 0
      },
      "text/plain": [
       "HBox(children=(FloatProgress(value=0.0, max=6.0), HTML(value='')))"
      ]
     },
     "metadata": {},
     "output_type": "display_data"
    },
    {
     "name": "stdout",
     "output_type": "stream",
     "text": [
      "iou: 0.6653938913356555 max-> 0.8750408470034639\n",
      "accuracy =  1.0\n",
      "precision =  1.0\n",
      "recall =  1.0\n",
      "f1 score =  1.0\n",
      "-------------------------------------\n",
      "Re-starting from epoch 59\n",
      "model 59\n"
     ]
    },
    {
     "data": {
      "application/vnd.jupyter.widget-view+json": {
       "model_id": "d6044ffc2d864c068e3057f5c3659a18",
       "version_major": 2,
       "version_minor": 0
      },
      "text/plain": [
       "HBox(children=(FloatProgress(value=0.0, max=6.0), HTML(value='')))"
      ]
     },
     "metadata": {},
     "output_type": "display_data"
    },
    {
     "name": "stdout",
     "output_type": "stream",
     "text": [
      "iou: 0.6684867844923774 max-> 0.8824796084828711\n",
      "accuracy =  1.0\n",
      "precision =  1.0\n",
      "recall =  1.0\n",
      "f1 score =  1.0\n",
      "-------------------------------------\n",
      "Re-starting from epoch 60\n",
      "model 60\n"
     ]
    },
    {
     "data": {
      "application/vnd.jupyter.widget-view+json": {
       "model_id": "05bb0f4751cf4e1d9531527fc3ecd8e9",
       "version_major": 2,
       "version_minor": 0
      },
      "text/plain": [
       "HBox(children=(FloatProgress(value=0.0, max=6.0), HTML(value='')))"
      ]
     },
     "metadata": {},
     "output_type": "display_data"
    },
    {
     "name": "stdout",
     "output_type": "stream",
     "text": [
      "iou: 0.6590296019868059 max-> 0.8569380173368963\n",
      "accuracy =  1.0\n",
      "precision =  1.0\n",
      "recall =  1.0\n",
      "f1 score =  1.0\n",
      "-------------------------------------\n"
     ]
    }
   ],
   "source": [
    "import warnings\n",
    "warnings.filterwarnings('ignore')\n",
    "\n",
    "for i in range(*model_test_range):\n",
    "    TP,FP,TN,FN = 0,0,0,0\n",
    "    iou_list=[]\n",
    "    \n",
    "    #Load weights\n",
    "    model_id = ('0' if i < 9 else '') + str(i + 1)\n",
    "    MODEL_PATH = os.path.join(MODEL_DIR, \"welding20220531T1122/mask_rcnn_welding_00\" + model_id + \".h5\")\n",
    "    model.load_weights(MODEL_PATH, by_name=True)\n",
    "        \n",
    "    #Set tqdm\n",
    "    print('model', model_id)\n",
    "    progress = tqdm(total=total_imgs)\n",
    "    \n",
    "    for idx in range(total_imgs):\n",
    "        name = img_list[idx]\n",
    "        iou = 0\n",
    "        # Load ground_truth's information\n",
    "        path = image_path + 'pic/' + name# + '.png'\n",
    "        gt_mask = dataset.load_mask(idx)[0]\n",
    "        a=dataset.class_names\n",
    "        gt_class_id = a.index(dataset.from_yaml_get_class(idx)[0])\n",
    "        \n",
    "        # Prdict\n",
    "        image = skimage.io.imread(path)\n",
    "        r = model.detect([image], verbose=0)[0]\n",
    "        pre_mask = r['masks']\n",
    "        \n",
    "        # Classificate samples\n",
    "        if gt_class_id in r['class_ids']:\n",
    "            iou = 0\n",
    "            for i, class_id in enumerate(r['class_ids']):\n",
    "                if class_id == gt_class_id:\n",
    "                    pre_mask = r['masks'][:,:,[i]]\n",
    "                    iou = max(cal_iou(gt_mask,pre_mask),iou)\n",
    "            iou_list.append(iou)\n",
    "            if idx < PN_boundary:\n",
    "                TP+=1\n",
    "            else:\n",
    "                TN+=1\n",
    "        else:\n",
    "            if idx < PN_boundary:\n",
    "                FP+=1\n",
    "            else:\n",
    "                FN+=1\n",
    "                \n",
    "        progress.update(1)\n",
    "\n",
    "    print('iou:',sum(iou_list)/len(iou_list),'max->',max(iou_list))\n",
    "    print('accuracy = ', (TP+TN)/(TP+FN+FP+TN))\n",
    "    precision = TP/(TP+FP)\n",
    "    recall = TP/(TP+FN)\n",
    "    print('precision = ', precision)\n",
    "    print('recall = ', recall)\n",
    "    print('f1 score = ', 2*precision*recall/(precision+recall))\n",
    "    print('-------------------------------------')"
   ]
  }
 ],
 "metadata": {
  "kernelspec": {
   "display_name": "Python 3",
   "language": "python",
   "name": "python3"
  },
  "language_info": {
   "codemirror_mode": {
    "name": "ipython",
    "version": 3
   },
   "file_extension": ".py",
   "mimetype": "text/x-python",
   "name": "python",
   "nbconvert_exporter": "python",
   "pygments_lexer": "ipython3",
   "version": "3.8.3"
  }
 },
 "nbformat": 4,
 "nbformat_minor": 4
}
