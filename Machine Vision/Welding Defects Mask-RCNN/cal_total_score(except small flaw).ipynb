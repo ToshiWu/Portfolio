{
 "cells": [
  {
   "cell_type": "code",
   "execution_count": 1,
   "metadata": {},
   "outputs": [],
   "source": [
    "import os\n",
    "import numpy as np\n",
    "import skimage.io\n",
    "import cv2\n",
    "from mrcnn.config import Config\n",
    "from mrcnn import utils\n",
    "import mrcnn.model as modellib\n",
    "\n",
    "import yaml\n",
    "from PIL import Image\n",
    "from tqdm.notebook import tqdm\n",
    "\n",
    "from train import WeldingConfig, WeldingDataset, setpath"
   ]
  },
  {
   "cell_type": "code",
   "execution_count": 2,
   "metadata": {},
   "outputs": [
    {
     "name": "stdout",
     "output_type": "stream",
     "text": [
      "WARNING:tensorflow:From C:\\Users\\user\\AppData\\Roaming\\Python\\Python38\\site-packages\\tensorflow\\python\\ops\\array_ops.py:5043: calling gather (from tensorflow.python.ops.array_ops) with validate_indices is deprecated and will be removed in a future version.\n",
      "Instructions for updating:\n",
      "The `validate_indices` argument has no effect. Indices are always validated on CPU and never validated on GPU.\n",
      "WARNING:tensorflow:From C:\\Users\\user\\AppData\\Roaming\\Python\\Python38\\site-packages\\tensorflow\\python\\util\\deprecation.py:602: calling map_fn_v2 (from tensorflow.python.ops.map_fn) with dtype is deprecated and will be removed in a future version.\n",
      "Instructions for updating:\n",
      "Use fn_output_signature instead\n"
     ]
    }
   ],
   "source": [
    "# Setting\n",
    "\n",
    "# Create model object in inference mode.\n",
    "config = WeldingConfig()\n",
    "MODEL_DIR = os.path.join(os.getcwd(), \"logs\")\n",
    "model = modellib.MaskRCNN(mode=\"inference\", model_dir=MODEL_DIR, config=config)\n",
    " \n",
    "# Prepare testing data\n",
    "image_path = './total_data-2/'\n",
    "img_list = os.listdir(image_path + 'pic/')\n",
    "dataset = WeldingDataset()\n",
    "dataset.load_img(*setpath(image_path))\n",
    "dataset.prepare()\n",
    "total_imgs = len(dataset.image_info)\n",
    "class_name = dataset.class_names\n",
    "\n",
    "# Testing models index range\n",
    "model_test_range=[40,60]\n",
    "\n",
    "# The boundary of postive/negtive samples (=positive samples' number)\n",
    "PN_boundary = 51"
   ]
  },
  {
   "cell_type": "code",
   "execution_count": 3,
   "metadata": {},
   "outputs": [],
   "source": [
    "def cal_iou(gt_mask,pre_mask):\n",
    "    inter = np.count_nonzero(gt_mask+pre_mask==2)\n",
    "    union = np.count_nonzero(gt_mask!=pre_mask)+inter\n",
    "    return inter/union if union != 0 else 0"
   ]
  },
  {
   "cell_type": "code",
   "execution_count": 4,
   "metadata": {
    "tags": []
   },
   "outputs": [
    {
     "name": "stdout",
     "output_type": "stream",
     "text": [
      "Re-starting from epoch 41\n",
      "model 41\n"
     ]
    },
    {
     "data": {
      "application/vnd.jupyter.widget-view+json": {
       "model_id": "41d9973042f44a3c9c8da1b1ddc97581",
       "version_major": 2,
       "version_minor": 0
      },
      "text/plain": [
       "HBox(children=(FloatProgress(value=0.0, max=61.0), HTML(value='')))"
      ]
     },
     "metadata": {},
     "output_type": "display_data"
    },
    {
     "name": "stdout",
     "output_type": "stream",
     "text": [
      "iou: 0.8411796685699329 max-> 0.9070623916811091\n",
      "accuracy =  1.0\n",
      "precision =  1.0\n",
      "recall =  1.0\n",
      "f1 score =  1.0\n",
      "-------------------------------------\n",
      "Re-starting from epoch 42\n",
      "model 42\n"
     ]
    },
    {
     "data": {
      "application/vnd.jupyter.widget-view+json": {
       "model_id": "33d10412a92f4776b001eeafe22334ca",
       "version_major": 2,
       "version_minor": 0
      },
      "text/plain": [
       "HBox(children=(FloatProgress(value=0.0, max=61.0), HTML(value='')))"
      ]
     },
     "metadata": {},
     "output_type": "display_data"
    },
    {
     "name": "stdout",
     "output_type": "stream",
     "text": [
      "iou: 0.8275564705970562 max-> 0.9159414556962026\n",
      "accuracy =  1.0\n",
      "precision =  1.0\n",
      "recall =  1.0\n",
      "f1 score =  1.0\n",
      "-------------------------------------\n",
      "Re-starting from epoch 43\n",
      "model 43\n"
     ]
    },
    {
     "data": {
      "application/vnd.jupyter.widget-view+json": {
       "model_id": "d55b7cde59b44347b4007978a0b9f480",
       "version_major": 2,
       "version_minor": 0
      },
      "text/plain": [
       "HBox(children=(FloatProgress(value=0.0, max=61.0), HTML(value='')))"
      ]
     },
     "metadata": {},
     "output_type": "display_data"
    },
    {
     "name": "stdout",
     "output_type": "stream",
     "text": [
      "iou: 0.8414633115775678 max-> 0.9266019164330878\n",
      "accuracy =  1.0\n",
      "precision =  1.0\n",
      "recall =  1.0\n",
      "f1 score =  1.0\n",
      "-------------------------------------\n",
      "Re-starting from epoch 44\n",
      "model 44\n"
     ]
    },
    {
     "data": {
      "application/vnd.jupyter.widget-view+json": {
       "model_id": "07f62c26a3de48e89d5be3a97dc32f42",
       "version_major": 2,
       "version_minor": 0
      },
      "text/plain": [
       "HBox(children=(FloatProgress(value=0.0, max=61.0), HTML(value='')))"
      ]
     },
     "metadata": {},
     "output_type": "display_data"
    },
    {
     "name": "stdout",
     "output_type": "stream",
     "text": [
      "iou: 0.8315722297838138 max-> 0.9100758396533044\n",
      "accuracy =  1.0\n",
      "precision =  1.0\n",
      "recall =  1.0\n",
      "f1 score =  1.0\n",
      "-------------------------------------\n",
      "Re-starting from epoch 45\n",
      "model 45\n"
     ]
    },
    {
     "data": {
      "application/vnd.jupyter.widget-view+json": {
       "model_id": "06eaf8a55797420f82c3b6730052b20d",
       "version_major": 2,
       "version_minor": 0
      },
      "text/plain": [
       "HBox(children=(FloatProgress(value=0.0, max=61.0), HTML(value='')))"
      ]
     },
     "metadata": {},
     "output_type": "display_data"
    },
    {
     "name": "stdout",
     "output_type": "stream",
     "text": [
      "iou: 0.8370570805805593 max-> 0.9155709804445038\n",
      "accuracy =  1.0\n",
      "precision =  1.0\n",
      "recall =  1.0\n",
      "f1 score =  1.0\n",
      "-------------------------------------\n",
      "Re-starting from epoch 46\n",
      "model 46\n"
     ]
    },
    {
     "data": {
      "application/vnd.jupyter.widget-view+json": {
       "model_id": "bd15716c54834f0d8364c8f8f4bcf29e",
       "version_major": 2,
       "version_minor": 0
      },
      "text/plain": [
       "HBox(children=(FloatProgress(value=0.0, max=61.0), HTML(value='')))"
      ]
     },
     "metadata": {},
     "output_type": "display_data"
    },
    {
     "name": "stdout",
     "output_type": "stream",
     "text": [
      "iou: 0.8425731886043168 max-> 0.9234519104084321\n",
      "accuracy =  1.0\n",
      "precision =  1.0\n",
      "recall =  1.0\n",
      "f1 score =  1.0\n",
      "-------------------------------------\n",
      "Re-starting from epoch 47\n",
      "model 47\n"
     ]
    },
    {
     "data": {
      "application/vnd.jupyter.widget-view+json": {
       "model_id": "acafc70e46544c6089757358b012e8fa",
       "version_major": 2,
       "version_minor": 0
      },
      "text/plain": [
       "HBox(children=(FloatProgress(value=0.0, max=61.0), HTML(value='')))"
      ]
     },
     "metadata": {},
     "output_type": "display_data"
    },
    {
     "name": "stdout",
     "output_type": "stream",
     "text": [
      "iou: 0.8338260174382149 max-> 0.9244337542593706\n",
      "accuracy =  1.0\n",
      "precision =  1.0\n",
      "recall =  1.0\n",
      "f1 score =  1.0\n",
      "-------------------------------------\n",
      "Re-starting from epoch 48\n",
      "model 48\n"
     ]
    },
    {
     "data": {
      "application/vnd.jupyter.widget-view+json": {
       "model_id": "30e007aff135481384612c53a3478de9",
       "version_major": 2,
       "version_minor": 0
      },
      "text/plain": [
       "HBox(children=(FloatProgress(value=0.0, max=61.0), HTML(value='')))"
      ]
     },
     "metadata": {},
     "output_type": "display_data"
    },
    {
     "name": "stdout",
     "output_type": "stream",
     "text": [
      "iou: 0.8320135109311478 max-> 0.9128431308011322\n",
      "accuracy =  1.0\n",
      "precision =  1.0\n",
      "recall =  1.0\n",
      "f1 score =  1.0\n",
      "-------------------------------------\n",
      "Re-starting from epoch 49\n",
      "model 49\n"
     ]
    },
    {
     "data": {
      "application/vnd.jupyter.widget-view+json": {
       "model_id": "d7f758adbb32460c93f7065470c1fbdc",
       "version_major": 2,
       "version_minor": 0
      },
      "text/plain": [
       "HBox(children=(FloatProgress(value=0.0, max=61.0), HTML(value='')))"
      ]
     },
     "metadata": {},
     "output_type": "display_data"
    },
    {
     "name": "stdout",
     "output_type": "stream",
     "text": [
      "iou: 0.8335570524390232 max-> 0.9116161616161617\n",
      "accuracy =  1.0\n",
      "precision =  1.0\n",
      "recall =  1.0\n",
      "f1 score =  1.0\n",
      "-------------------------------------\n",
      "Re-starting from epoch 50\n",
      "model 50\n"
     ]
    },
    {
     "data": {
      "application/vnd.jupyter.widget-view+json": {
       "model_id": "fe061f9fc73d49b981f329b6a3524f95",
       "version_major": 2,
       "version_minor": 0
      },
      "text/plain": [
       "HBox(children=(FloatProgress(value=0.0, max=61.0), HTML(value='')))"
      ]
     },
     "metadata": {},
     "output_type": "display_data"
    },
    {
     "name": "stdout",
     "output_type": "stream",
     "text": [
      "iou: 0.8349081291798179 max-> 0.921994884910486\n",
      "accuracy =  1.0\n",
      "precision =  1.0\n",
      "recall =  1.0\n",
      "f1 score =  1.0\n",
      "-------------------------------------\n",
      "Re-starting from epoch 51\n",
      "model 51\n"
     ]
    },
    {
     "data": {
      "application/vnd.jupyter.widget-view+json": {
       "model_id": "b145f8dc5cf8487b948ed4a94928112d",
       "version_major": 2,
       "version_minor": 0
      },
      "text/plain": [
       "HBox(children=(FloatProgress(value=0.0, max=61.0), HTML(value='')))"
      ]
     },
     "metadata": {},
     "output_type": "display_data"
    },
    {
     "name": "stdout",
     "output_type": "stream",
     "text": [
      "iou: 0.8307105325964012 max-> 0.9197570332480819\n",
      "accuracy =  1.0\n",
      "precision =  1.0\n",
      "recall =  1.0\n",
      "f1 score =  1.0\n",
      "-------------------------------------\n",
      "Re-starting from epoch 52\n",
      "model 52\n"
     ]
    },
    {
     "data": {
      "application/vnd.jupyter.widget-view+json": {
       "model_id": "289787bd1cbb4040a5b4db2094f04ef1",
       "version_major": 2,
       "version_minor": 0
      },
      "text/plain": [
       "HBox(children=(FloatProgress(value=0.0, max=61.0), HTML(value='')))"
      ]
     },
     "metadata": {},
     "output_type": "display_data"
    },
    {
     "name": "stdout",
     "output_type": "stream",
     "text": [
      "iou: 0.8410164378305737 max-> 0.921146953405018\n",
      "accuracy =  1.0\n",
      "precision =  1.0\n",
      "recall =  1.0\n",
      "f1 score =  1.0\n",
      "-------------------------------------\n",
      "Re-starting from epoch 53\n",
      "model 53\n"
     ]
    },
    {
     "data": {
      "application/vnd.jupyter.widget-view+json": {
       "model_id": "e7382722dd4b4896b4d64ceb188795cb",
       "version_major": 2,
       "version_minor": 0
      },
      "text/plain": [
       "HBox(children=(FloatProgress(value=0.0, max=61.0), HTML(value='')))"
      ]
     },
     "metadata": {},
     "output_type": "display_data"
    },
    {
     "name": "stdout",
     "output_type": "stream",
     "text": [
      "iou: 0.8230898063059278 max-> 0.9206816747317483\n",
      "accuracy =  1.0\n",
      "precision =  1.0\n",
      "recall =  1.0\n",
      "f1 score =  1.0\n",
      "-------------------------------------\n",
      "Re-starting from epoch 54\n",
      "model 54\n"
     ]
    },
    {
     "data": {
      "application/vnd.jupyter.widget-view+json": {
       "model_id": "80c8e253098e4526bfd64c8ef3670b03",
       "version_major": 2,
       "version_minor": 0
      },
      "text/plain": [
       "HBox(children=(FloatProgress(value=0.0, max=61.0), HTML(value='')))"
      ]
     },
     "metadata": {},
     "output_type": "display_data"
    },
    {
     "name": "stdout",
     "output_type": "stream",
     "text": [
      "iou: 0.8303900061395805 max-> 0.9218624025799517\n",
      "accuracy =  1.0\n",
      "precision =  1.0\n",
      "recall =  1.0\n",
      "f1 score =  1.0\n",
      "-------------------------------------\n",
      "Re-starting from epoch 55\n",
      "model 55\n"
     ]
    },
    {
     "data": {
      "application/vnd.jupyter.widget-view+json": {
       "model_id": "ca476f9c6d1348f5957f917380ba4449",
       "version_major": 2,
       "version_minor": 0
      },
      "text/plain": [
       "HBox(children=(FloatProgress(value=0.0, max=61.0), HTML(value='')))"
      ]
     },
     "metadata": {},
     "output_type": "display_data"
    },
    {
     "name": "stdout",
     "output_type": "stream",
     "text": [
      "iou: 0.8296139076484043 max-> 0.9143710587454364\n",
      "accuracy =  1.0\n",
      "precision =  1.0\n",
      "recall =  1.0\n",
      "f1 score =  1.0\n",
      "-------------------------------------\n",
      "Re-starting from epoch 56\n",
      "model 56\n"
     ]
    },
    {
     "data": {
      "application/vnd.jupyter.widget-view+json": {
       "model_id": "80b9304789c443f3a690db0fedc07d23",
       "version_major": 2,
       "version_minor": 0
      },
      "text/plain": [
       "HBox(children=(FloatProgress(value=0.0, max=61.0), HTML(value='')))"
      ]
     },
     "metadata": {},
     "output_type": "display_data"
    },
    {
     "name": "stdout",
     "output_type": "stream",
     "text": [
      "iou: 0.8290226153311614 max-> 0.9264874334613571\n",
      "accuracy =  1.0\n",
      "precision =  1.0\n",
      "recall =  1.0\n",
      "f1 score =  1.0\n",
      "-------------------------------------\n",
      "Re-starting from epoch 57\n",
      "model 57\n"
     ]
    },
    {
     "data": {
      "application/vnd.jupyter.widget-view+json": {
       "model_id": "159c5983f37e4559971237afc5f0a6b2",
       "version_major": 2,
       "version_minor": 0
      },
      "text/plain": [
       "HBox(children=(FloatProgress(value=0.0, max=61.0), HTML(value='')))"
      ]
     },
     "metadata": {},
     "output_type": "display_data"
    },
    {
     "name": "stdout",
     "output_type": "stream",
     "text": [
      "iou: 0.8337604236762394 max-> 0.9236143768894861\n",
      "accuracy =  1.0\n",
      "precision =  1.0\n",
      "recall =  1.0\n",
      "f1 score =  1.0\n",
      "-------------------------------------\n",
      "Re-starting from epoch 58\n",
      "model 58\n"
     ]
    },
    {
     "data": {
      "application/vnd.jupyter.widget-view+json": {
       "model_id": "934824da6ed44a188c3a4bd4a4dbe7bc",
       "version_major": 2,
       "version_minor": 0
      },
      "text/plain": [
       "HBox(children=(FloatProgress(value=0.0, max=61.0), HTML(value='')))"
      ]
     },
     "metadata": {},
     "output_type": "display_data"
    },
    {
     "name": "stdout",
     "output_type": "stream",
     "text": [
      "iou: 0.8351931432591745 max-> 0.9118492494410732\n",
      "accuracy =  1.0\n",
      "precision =  1.0\n",
      "recall =  1.0\n",
      "f1 score =  1.0\n",
      "-------------------------------------\n",
      "Re-starting from epoch 59\n",
      "model 59\n"
     ]
    },
    {
     "data": {
      "application/vnd.jupyter.widget-view+json": {
       "model_id": "87e89f6e161148378d4c248868ef684f",
       "version_major": 2,
       "version_minor": 0
      },
      "text/plain": [
       "HBox(children=(FloatProgress(value=0.0, max=61.0), HTML(value='')))"
      ]
     },
     "metadata": {},
     "output_type": "display_data"
    },
    {
     "name": "stdout",
     "output_type": "stream",
     "text": [
      "iou: 0.8346610722397118 max-> 0.9180635644361003\n",
      "accuracy =  1.0\n",
      "precision =  1.0\n",
      "recall =  1.0\n",
      "f1 score =  1.0\n",
      "-------------------------------------\n",
      "Re-starting from epoch 60\n",
      "model 60\n"
     ]
    },
    {
     "data": {
      "application/vnd.jupyter.widget-view+json": {
       "model_id": "ff5736bacd044104b18405d4da2df07f",
       "version_major": 2,
       "version_minor": 0
      },
      "text/plain": [
       "HBox(children=(FloatProgress(value=0.0, max=61.0), HTML(value='')))"
      ]
     },
     "metadata": {},
     "output_type": "display_data"
    },
    {
     "name": "stdout",
     "output_type": "stream",
     "text": [
      "iou: 0.8301948924108714 max-> 0.9147615937295885\n",
      "accuracy =  1.0\n",
      "precision =  1.0\n",
      "recall =  1.0\n",
      "f1 score =  1.0\n",
      "-------------------------------------\n"
     ]
    }
   ],
   "source": [
    "import warnings\n",
    "warnings.filterwarnings('ignore')\n",
    "\n",
    "for i in range(*model_test_range):\n",
    "    TP,FP,TN,FN = 0,0,0,0\n",
    "    iou_list=[]\n",
    "    \n",
    "    #Load weights\n",
    "    model_id = ('0' if i < 9 else '') + str(i + 1)\n",
    "    MODEL_PATH = os.path.join(MODEL_DIR, \"welding20220531T1122/mask_rcnn_welding_00\" + model_id + \".h5\")\n",
    "    model.load_weights(MODEL_PATH, by_name=True)\n",
    "        \n",
    "    #Set tqdm\n",
    "    print('model', model_id)\n",
    "    progress = tqdm(total=total_imgs)\n",
    "    \n",
    "    for idx in range(total_imgs):\n",
    "        name = img_list[idx]\n",
    "        iou = 0\n",
    "        # Load ground_truth's information\n",
    "        path = image_path + 'pic/' + name# + '.png'\n",
    "        gt_mask = dataset.load_mask(idx)[0]\n",
    "        a=dataset.class_names\n",
    "        gt_class_id = a.index(dataset.from_yaml_get_class(idx)[0])\n",
    "        \n",
    "        # Prdict\n",
    "        image = skimage.io.imread(path)\n",
    "        r = model.detect([image], verbose=0)[0]\n",
    "        pre_mask = r['masks']\n",
    "        \n",
    "        # Classificate samples\n",
    "        if gt_class_id in r['class_ids']:\n",
    "            iou = 0\n",
    "            for i, class_id in enumerate(r['class_ids']):\n",
    "                if class_id == gt_class_id:\n",
    "                    pre_mask = r['masks'][:,:,[i]]\n",
    "                    iou = max(cal_iou(gt_mask,pre_mask),iou)\n",
    "            iou_list.append(iou)\n",
    "            if idx < PN_boundary:\n",
    "                TP+=1\n",
    "            else:\n",
    "                TN+=1\n",
    "        else:\n",
    "            if idx < PN_boundary:\n",
    "                FP+=1\n",
    "            else:\n",
    "                FN+=1\n",
    "                \n",
    "        progress.update(1)\n",
    "\n",
    "    print('iou:',sum(iou_list)/len(iou_list),'max->',max(iou_list))\n",
    "    print('accuracy = ', (TP+TN)/(TP+FN+FP+TN))\n",
    "    precision = TP/(TP+FP)\n",
    "    recall = TP/(TP+FN)\n",
    "    print('precision = ', precision)\n",
    "    print('recall = ', recall)\n",
    "    print('f1 score = ', 2*precision*recall/(precision+recall))\n",
    "    print('-------------------------------------')"
   ]
  }
 ],
 "metadata": {
  "kernelspec": {
   "display_name": "Python 3",
   "language": "python",
   "name": "python3"
  },
  "language_info": {
   "codemirror_mode": {
    "name": "ipython",
    "version": 3
   },
   "file_extension": ".py",
   "mimetype": "text/x-python",
   "name": "python",
   "nbconvert_exporter": "python",
   "pygments_lexer": "ipython3",
   "version": "3.8.3"
  }
 },
 "nbformat": 4,
 "nbformat_minor": 4
}
