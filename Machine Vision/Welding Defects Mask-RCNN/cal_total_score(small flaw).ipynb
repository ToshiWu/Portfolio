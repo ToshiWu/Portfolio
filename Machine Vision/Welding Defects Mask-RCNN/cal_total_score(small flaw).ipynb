{
 "cells": [
  {
   "cell_type": "code",
   "execution_count": 1,
   "metadata": {},
   "outputs": [],
   "source": [
    "import os\n",
    "import numpy as np\n",
    "import skimage.io\n",
    "import cv2\n",
    "from mrcnn.config import Config\n",
    "from mrcnn import utils\n",
    "import mrcnn.model as modellib\n",
    "\n",
    "import yaml\n",
    "from PIL import Image\n",
    "from tqdm.notebook import tqdm\n",
    "\n",
    "from train import WeldingConfig, WeldingDataset, setpath"
   ]
  },
  {
   "cell_type": "code",
   "execution_count": 2,
   "metadata": {},
   "outputs": [
    {
     "name": "stdout",
     "output_type": "stream",
     "text": [
      "WARNING:tensorflow:From C:\\Users\\user\\AppData\\Roaming\\Python\\Python38\\site-packages\\tensorflow\\python\\ops\\array_ops.py:5043: calling gather (from tensorflow.python.ops.array_ops) with validate_indices is deprecated and will be removed in a future version.\n",
      "Instructions for updating:\n",
      "The `validate_indices` argument has no effect. Indices are always validated on CPU and never validated on GPU.\n",
      "WARNING:tensorflow:From C:\\Users\\user\\AppData\\Roaming\\Python\\Python38\\site-packages\\tensorflow\\python\\util\\deprecation.py:602: calling map_fn_v2 (from tensorflow.python.ops.map_fn) with dtype is deprecated and will be removed in a future version.\n",
      "Instructions for updating:\n",
      "Use fn_output_signature instead\n"
     ]
    }
   ],
   "source": [
    "# Setting\n",
    "\n",
    "# Create model object in inference mode.\n",
    "config = WeldingConfig()\n",
    "MODEL_DIR = os.path.join(os.getcwd(), \"logs\")\n",
    "model = modellib.MaskRCNN(mode=\"inference\", model_dir=MODEL_DIR, config=config)\n",
    " \n",
    "# Prepare testing data\n",
    "image_path = './small_flaw_data/'\n",
    "dataset = WeldingDataset()\n",
    "dataset.load_img(*setpath(image_path))\n",
    "dataset.prepare()\n",
    "total_imgs = len(dataset.image_info)\n",
    "class_name = dataset.class_names\n",
    "\n",
    "# Testing models index range\n",
    "model_test_range=[40,60]\n",
    "\n",
    "# The boundary of postive/negtive samples (=positive samples' number)\n",
    "PN_boundary = 20"
   ]
  },
  {
   "cell_type": "code",
   "execution_count": 3,
   "metadata": {},
   "outputs": [],
   "source": [
    "def predict(image_path, dataset):\n",
    "    # Load ground_truth's information\n",
    "    path = image_path + 'pic/' + name + '.png'\n",
    "    gt_mask = dataset.load_mask(idx)[0]\n",
    "    gt_class_id = dataset.class_names.index(dataset.from_yaml_get_class(idx)[0])\n",
    "\n",
    "    # Prdict\n",
    "    image = skimage.io.imread(path)\n",
    "    r = model.detect([image], verbose=0)[0]\n",
    "    pre_mask = r['masks']\n",
    "    pre_class_id = r['class_ids']\n",
    "    return gt_class_id, pre_class_id, gt_mask, pre_mask\n",
    "    \n",
    "def cal_iou(gt_mask, pre_mask):\n",
    "    inter = np.count_nonzero(gt_mask+pre_mask==2)\n",
    "    union = np.count_nonzero(gt_mask!=pre_mask)+inter\n",
    "    return inter/union if union != 0 else 0\n",
    "\n",
    "def get_max_iou(gt_class_id, pre_class_id,\n",
    "                gt_mask, pre_mask):\n",
    "    iou = 0\n",
    "    for i, class_id in enumerate(pre_class_id):\n",
    "        if class_id == gt_class_id:\n",
    "            _pre_mask = pre_mask[:,:,[i]]\n",
    "            iou = max(cal_iou(gt_mask,_pre_mask),iou)\n",
    "    return iou\n",
    "\n",
    "# Classificate samples\n",
    "def classification(gt_class_id, pre_class_id, PN_boundary,\n",
    "                   TP, TN, FP, FN):\n",
    "    if gt_class_id in pre_class_id:\n",
    "        inter = np.count_nonzero(gt_mask+pre_mask==2)\n",
    "        union = np.count_nonzero(gt_mask!=pre_mask)+inter\n",
    "        iou = inter/union if union != 0 else 0\n",
    "        iou_list.append(iou)\n",
    "        if idx < PN_boundary:\n",
    "            TP+=1\n",
    "        else:\n",
    "            TN+=1\n",
    "    else:\n",
    "        if idx < PN_boundary:\n",
    "            FP+=1\n",
    "        else:\n",
    "            FN+=1\n",
    "    return TP, TN, FP, FN\n",
    "\n",
    "# Ouput\n",
    "def score(TP, TN, FP, FN):\n",
    "    print('accuracy = ', (TP+TN)/(TP+FN+FP+TN))\n",
    "    precision = TP/(TP+FP)\n",
    "    recall = TP/(TP+FN)\n",
    "    print('precision = ', precision)\n",
    "    print('recall = ', recall)\n",
    "    print('f1 score = ', 2*precision*recall/(precision+recall))"
   ]
  },
  {
   "cell_type": "code",
   "execution_count": 4,
   "metadata": {
    "tags": []
   },
   "outputs": [
    {
     "name": "stdout",
     "output_type": "stream",
     "text": [
      "Re-starting from epoch 41\n",
      "model 41\n"
     ]
    },
    {
     "data": {
      "application/vnd.jupyter.widget-view+json": {
       "model_id": "6cbbab21c6d74d42b2cf7360a3ee3690",
       "version_major": 2,
       "version_minor": 0
      },
      "text/plain": [
       "HBox(children=(FloatProgress(value=0.0, max=20.0), HTML(value='')))"
      ]
     },
     "metadata": {},
     "output_type": "display_data"
    },
    {
     "name": "stdout",
     "output_type": "stream",
     "text": [
      "iou: 0.13839890163899407 max-> 0.6964285714285714\n",
      "accuracy =  0.65\n",
      "precision =  0.65\n",
      "recall =  1.0\n",
      "f1 score =  0.787878787878788\n",
      "-------------------------------------\n",
      "Re-starting from epoch 42\n",
      "model 42\n"
     ]
    },
    {
     "data": {
      "application/vnd.jupyter.widget-view+json": {
       "model_id": "8141ca694d254628b883e426bae748ec",
       "version_major": 2,
       "version_minor": 0
      },
      "text/plain": [
       "HBox(children=(FloatProgress(value=0.0, max=20.0), HTML(value='')))"
      ]
     },
     "metadata": {},
     "output_type": "display_data"
    },
    {
     "name": "stdout",
     "output_type": "stream",
     "text": [
      "iou: 0.12017293845674662 max-> 0.6909090909090909\n",
      "accuracy =  0.65\n",
      "precision =  0.65\n",
      "recall =  1.0\n",
      "f1 score =  0.787878787878788\n",
      "-------------------------------------\n",
      "Re-starting from epoch 43\n",
      "model 43\n"
     ]
    },
    {
     "data": {
      "application/vnd.jupyter.widget-view+json": {
       "model_id": "8ec4e38aaac94f168af2fc1595163390",
       "version_major": 2,
       "version_minor": 0
      },
      "text/plain": [
       "HBox(children=(FloatProgress(value=0.0, max=20.0), HTML(value='')))"
      ]
     },
     "metadata": {},
     "output_type": "display_data"
    },
    {
     "name": "stdout",
     "output_type": "stream",
     "text": [
      "iou: 0.12421702451237199 max-> 0.65625\n",
      "accuracy =  0.65\n",
      "precision =  0.65\n",
      "recall =  1.0\n",
      "f1 score =  0.787878787878788\n",
      "-------------------------------------\n",
      "Re-starting from epoch 44\n",
      "model 44\n"
     ]
    },
    {
     "data": {
      "application/vnd.jupyter.widget-view+json": {
       "model_id": "b94535722fe44547a7e323e991d5974a",
       "version_major": 2,
       "version_minor": 0
      },
      "text/plain": [
       "HBox(children=(FloatProgress(value=0.0, max=20.0), HTML(value='')))"
      ]
     },
     "metadata": {},
     "output_type": "display_data"
    },
    {
     "name": "stdout",
     "output_type": "stream",
     "text": [
      "iou: 0.11083195640938746 max-> 0.5\n",
      "accuracy =  0.7\n",
      "precision =  0.7\n",
      "recall =  1.0\n",
      "f1 score =  0.8235294117647058\n",
      "-------------------------------------\n",
      "Re-starting from epoch 45\n",
      "model 45\n"
     ]
    },
    {
     "data": {
      "application/vnd.jupyter.widget-view+json": {
       "model_id": "9101b1e7332442cc830f247a819caf84",
       "version_major": 2,
       "version_minor": 0
      },
      "text/plain": [
       "HBox(children=(FloatProgress(value=0.0, max=20.0), HTML(value='')))"
      ]
     },
     "metadata": {},
     "output_type": "display_data"
    },
    {
     "name": "stdout",
     "output_type": "stream",
     "text": [
      "iou: 0.09255886378395738 max-> 0.5072463768115942\n",
      "accuracy =  0.65\n",
      "precision =  0.65\n",
      "recall =  1.0\n",
      "f1 score =  0.787878787878788\n",
      "-------------------------------------\n",
      "Re-starting from epoch 46\n",
      "model 46\n"
     ]
    },
    {
     "data": {
      "application/vnd.jupyter.widget-view+json": {
       "model_id": "02518acaf76b47f181f06b77a5031437",
       "version_major": 2,
       "version_minor": 0
      },
      "text/plain": [
       "HBox(children=(FloatProgress(value=0.0, max=20.0), HTML(value='')))"
      ]
     },
     "metadata": {},
     "output_type": "display_data"
    },
    {
     "name": "stdout",
     "output_type": "stream",
     "text": [
      "iou: 0.10969445201653823 max-> 0.5192307692307693\n",
      "accuracy =  0.65\n",
      "precision =  0.65\n",
      "recall =  1.0\n",
      "f1 score =  0.787878787878788\n",
      "-------------------------------------\n",
      "Re-starting from epoch 47\n",
      "model 47\n"
     ]
    },
    {
     "data": {
      "application/vnd.jupyter.widget-view+json": {
       "model_id": "550e6eb36caa49dcbc65b06b98d9bf54",
       "version_major": 2,
       "version_minor": 0
      },
      "text/plain": [
       "HBox(children=(FloatProgress(value=0.0, max=20.0), HTML(value='')))"
      ]
     },
     "metadata": {},
     "output_type": "display_data"
    },
    {
     "name": "stdout",
     "output_type": "stream",
     "text": [
      "iou: 0.11473980955163496 max-> 0.45161290322580644\n",
      "accuracy =  0.65\n",
      "precision =  0.65\n",
      "recall =  1.0\n",
      "f1 score =  0.787878787878788\n",
      "-------------------------------------\n",
      "Re-starting from epoch 48\n",
      "model 48\n"
     ]
    },
    {
     "data": {
      "application/vnd.jupyter.widget-view+json": {
       "model_id": "304b9c76571b4c4c9a8fd9b916da3908",
       "version_major": 2,
       "version_minor": 0
      },
      "text/plain": [
       "HBox(children=(FloatProgress(value=0.0, max=20.0), HTML(value='')))"
      ]
     },
     "metadata": {},
     "output_type": "display_data"
    },
    {
     "name": "stdout",
     "output_type": "stream",
     "text": [
      "iou: 0.11659786257560932 max-> 0.5223880597014925\n",
      "accuracy =  0.65\n",
      "precision =  0.65\n",
      "recall =  1.0\n",
      "f1 score =  0.787878787878788\n",
      "-------------------------------------\n",
      "Re-starting from epoch 49\n",
      "model 49\n"
     ]
    },
    {
     "data": {
      "application/vnd.jupyter.widget-view+json": {
       "model_id": "96fa09b03f49436c9b2ee7095925461d",
       "version_major": 2,
       "version_minor": 0
      },
      "text/plain": [
       "HBox(children=(FloatProgress(value=0.0, max=20.0), HTML(value='')))"
      ]
     },
     "metadata": {},
     "output_type": "display_data"
    },
    {
     "name": "stdout",
     "output_type": "stream",
     "text": [
      "iou: 0.11848985844578097 max-> 0.5573770491803278\n",
      "accuracy =  0.65\n",
      "precision =  0.65\n",
      "recall =  1.0\n",
      "f1 score =  0.787878787878788\n",
      "-------------------------------------\n",
      "Re-starting from epoch 50\n",
      "model 50\n"
     ]
    },
    {
     "data": {
      "application/vnd.jupyter.widget-view+json": {
       "model_id": "991bc0357d54480b829fdd918546bef8",
       "version_major": 2,
       "version_minor": 0
      },
      "text/plain": [
       "HBox(children=(FloatProgress(value=0.0, max=20.0), HTML(value='')))"
      ]
     },
     "metadata": {},
     "output_type": "display_data"
    },
    {
     "name": "stdout",
     "output_type": "stream",
     "text": [
      "iou: 0.12355552094520648 max-> 0.5362318840579711\n",
      "accuracy =  0.65\n",
      "precision =  0.65\n",
      "recall =  1.0\n",
      "f1 score =  0.787878787878788\n",
      "-------------------------------------\n",
      "Re-starting from epoch 51\n",
      "model 51\n"
     ]
    },
    {
     "data": {
      "application/vnd.jupyter.widget-view+json": {
       "model_id": "7c0f9da58c2449a2aa250d077ab5e481",
       "version_major": 2,
       "version_minor": 0
      },
      "text/plain": [
       "HBox(children=(FloatProgress(value=0.0, max=20.0), HTML(value='')))"
      ]
     },
     "metadata": {},
     "output_type": "display_data"
    },
    {
     "name": "stdout",
     "output_type": "stream",
     "text": [
      "iou: 0.1164800082506679 max-> 0.7192982456140351\n",
      "accuracy =  0.65\n",
      "precision =  0.65\n",
      "recall =  1.0\n",
      "f1 score =  0.787878787878788\n",
      "-------------------------------------\n",
      "Re-starting from epoch 52\n",
      "model 52\n"
     ]
    },
    {
     "data": {
      "application/vnd.jupyter.widget-view+json": {
       "model_id": "c0fad430ad154e759a371a9a6bdb9829",
       "version_major": 2,
       "version_minor": 0
      },
      "text/plain": [
       "HBox(children=(FloatProgress(value=0.0, max=20.0), HTML(value='')))"
      ]
     },
     "metadata": {},
     "output_type": "display_data"
    },
    {
     "name": "stdout",
     "output_type": "stream",
     "text": [
      "iou: 0.13306289929400997 max-> 0.6\n",
      "accuracy =  0.7\n",
      "precision =  0.7\n",
      "recall =  1.0\n",
      "f1 score =  0.8235294117647058\n",
      "-------------------------------------\n",
      "Re-starting from epoch 53\n",
      "model 53\n"
     ]
    },
    {
     "data": {
      "application/vnd.jupyter.widget-view+json": {
       "model_id": "8edee056502e4fe08d324885d557ebb6",
       "version_major": 2,
       "version_minor": 0
      },
      "text/plain": [
       "HBox(children=(FloatProgress(value=0.0, max=20.0), HTML(value='')))"
      ]
     },
     "metadata": {},
     "output_type": "display_data"
    },
    {
     "name": "stdout",
     "output_type": "stream",
     "text": [
      "iou: 0.1304554033340903 max-> 0.547945205479452\n",
      "accuracy =  0.65\n",
      "precision =  0.65\n",
      "recall =  1.0\n",
      "f1 score =  0.787878787878788\n",
      "-------------------------------------\n",
      "Re-starting from epoch 54\n",
      "model 54\n"
     ]
    },
    {
     "data": {
      "application/vnd.jupyter.widget-view+json": {
       "model_id": "c0a9504421f449edb88b88d36b4569d8",
       "version_major": 2,
       "version_minor": 0
      },
      "text/plain": [
       "HBox(children=(FloatProgress(value=0.0, max=20.0), HTML(value='')))"
      ]
     },
     "metadata": {},
     "output_type": "display_data"
    },
    {
     "name": "stdout",
     "output_type": "stream",
     "text": [
      "iou: 0.15018948582497615 max-> 0.6805555555555556\n",
      "accuracy =  0.65\n",
      "precision =  0.65\n",
      "recall =  1.0\n",
      "f1 score =  0.787878787878788\n",
      "-------------------------------------\n",
      "Re-starting from epoch 55\n",
      "model 55\n"
     ]
    },
    {
     "data": {
      "application/vnd.jupyter.widget-view+json": {
       "model_id": "af4db28ec2ba4882802db32ae84683c8",
       "version_major": 2,
       "version_minor": 0
      },
      "text/plain": [
       "HBox(children=(FloatProgress(value=0.0, max=20.0), HTML(value='')))"
      ]
     },
     "metadata": {},
     "output_type": "display_data"
    },
    {
     "name": "stdout",
     "output_type": "stream",
     "text": [
      "iou: 0.10510433227564277 max-> 0.4\n",
      "accuracy =  0.65\n",
      "precision =  0.65\n",
      "recall =  1.0\n",
      "f1 score =  0.787878787878788\n",
      "-------------------------------------\n",
      "Re-starting from epoch 56\n",
      "model 56\n"
     ]
    },
    {
     "data": {
      "application/vnd.jupyter.widget-view+json": {
       "model_id": "0f8dfad2f1164b3f85fa82cd6c8ac61c",
       "version_major": 2,
       "version_minor": 0
      },
      "text/plain": [
       "HBox(children=(FloatProgress(value=0.0, max=20.0), HTML(value='')))"
      ]
     },
     "metadata": {},
     "output_type": "display_data"
    },
    {
     "name": "stdout",
     "output_type": "stream",
     "text": [
      "iou: 0.10721928729035708 max-> 0.509090909090909\n",
      "accuracy =  0.75\n",
      "precision =  0.75\n",
      "recall =  1.0\n",
      "f1 score =  0.8571428571428571\n",
      "-------------------------------------\n",
      "Re-starting from epoch 57\n",
      "model 57\n"
     ]
    },
    {
     "data": {
      "application/vnd.jupyter.widget-view+json": {
       "model_id": "dcfcafa265f44c1ea44711db503028e8",
       "version_major": 2,
       "version_minor": 0
      },
      "text/plain": [
       "HBox(children=(FloatProgress(value=0.0, max=20.0), HTML(value='')))"
      ]
     },
     "metadata": {},
     "output_type": "display_data"
    },
    {
     "name": "stdout",
     "output_type": "stream",
     "text": [
      "iou: 0.1467492738277491 max-> 0.6065573770491803\n",
      "accuracy =  0.8\n",
      "precision =  0.8\n",
      "recall =  1.0\n",
      "f1 score =  0.888888888888889\n",
      "-------------------------------------\n",
      "Re-starting from epoch 58\n",
      "model 58\n"
     ]
    },
    {
     "data": {
      "application/vnd.jupyter.widget-view+json": {
       "model_id": "70252fd1e2c949d09834a78c04f0e832",
       "version_major": 2,
       "version_minor": 0
      },
      "text/plain": [
       "HBox(children=(FloatProgress(value=0.0, max=20.0), HTML(value='')))"
      ]
     },
     "metadata": {},
     "output_type": "display_data"
    },
    {
     "name": "stdout",
     "output_type": "stream",
     "text": [
      "iou: 0.15109167753551067 max-> 0.7017543859649122\n",
      "accuracy =  0.85\n",
      "precision =  0.85\n",
      "recall =  1.0\n",
      "f1 score =  0.9189189189189189\n",
      "-------------------------------------\n",
      "Re-starting from epoch 59\n",
      "model 59\n"
     ]
    },
    {
     "data": {
      "application/vnd.jupyter.widget-view+json": {
       "model_id": "998ec25d14664a76bfcc6796f5e8f412",
       "version_major": 2,
       "version_minor": 0
      },
      "text/plain": [
       "HBox(children=(FloatProgress(value=0.0, max=20.0), HTML(value='')))"
      ]
     },
     "metadata": {},
     "output_type": "display_data"
    },
    {
     "name": "stdout",
     "output_type": "stream",
     "text": [
      "iou: 0.14256703911044952 max-> 0.6197183098591549\n",
      "accuracy =  0.8\n",
      "precision =  0.8\n",
      "recall =  1.0\n",
      "f1 score =  0.888888888888889\n",
      "-------------------------------------\n",
      "Re-starting from epoch 60\n",
      "model 60\n"
     ]
    },
    {
     "data": {
      "application/vnd.jupyter.widget-view+json": {
       "model_id": "3b59fe1698a84422bcc0c6aade1967f8",
       "version_major": 2,
       "version_minor": 0
      },
      "text/plain": [
       "HBox(children=(FloatProgress(value=0.0, max=20.0), HTML(value='')))"
      ]
     },
     "metadata": {},
     "output_type": "display_data"
    },
    {
     "name": "stdout",
     "output_type": "stream",
     "text": [
      "iou: 0.1370322529505229 max-> 0.5409836065573771\n",
      "accuracy =  0.8\n",
      "precision =  0.8\n",
      "recall =  1.0\n",
      "f1 score =  0.888888888888889\n",
      "-------------------------------------\n"
     ]
    }
   ],
   "source": [
    "import warnings\n",
    "warnings.filterwarnings('ignore')\n",
    "\n",
    "for i in range(*model_test_range):\n",
    "    TP,FP,TN,FN = 0,0,0,0\n",
    "    iou_list=[]\n",
    "    \n",
    "    #Load weights\n",
    "    model_id = ('0' if i < 9 else '') + str(i + 1)\n",
    "    MODEL_PATH = os.path.join(MODEL_DIR, \"welding20220531T1122/mask_rcnn_welding_00\" + model_id + \".h5\")\n",
    "    model.load_weights(MODEL_PATH, by_name=True)\n",
    "        \n",
    "    #Set tqdm\n",
    "    print('model', model_id)\n",
    "    progress = tqdm(total=total_imgs)\n",
    "    \n",
    "    for idx in range(total_imgs):\n",
    "        name = ('0' if idx < 9 else '') + str(idx + 1)\n",
    "        \n",
    "        gt_class_id, pre_class_id, gt_mask, pre_mask = predict(image_path, dataset)\n",
    "        TP, TN, FP, FN = classification(gt_class_id, pre_class_id, PN_boundary,\n",
    "                                        TP, TN, FP, FN)\n",
    "        if gt_class_id in pre_class_id:\n",
    "            iou_list.append(get_max_iou(gt_class_id, pre_class_id,\n",
    "                                        gt_mask, pre_mask))\n",
    "        progress.update(1)\n",
    "    \n",
    "    print('iou:',sum(iou_list)/len(iou_list),'max->',max(iou_list))\n",
    "    score(TP, TN, FP, FN)\n",
    "    print('-------------------------------------')"
   ]
  }
 ],
 "metadata": {
  "kernelspec": {
   "display_name": "Python 3",
   "language": "python",
   "name": "python3"
  },
  "language_info": {
   "codemirror_mode": {
    "name": "ipython",
    "version": 3
   },
   "file_extension": ".py",
   "mimetype": "text/x-python",
   "name": "python",
   "nbconvert_exporter": "python",
   "pygments_lexer": "ipython3",
   "version": "3.8.3"
  }
 },
 "nbformat": 4,
 "nbformat_minor": 4
}
