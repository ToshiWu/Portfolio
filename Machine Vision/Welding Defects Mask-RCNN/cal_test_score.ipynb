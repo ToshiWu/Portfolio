{
 "cells": [
  {
   "cell_type": "code",
   "execution_count": 1,
   "metadata": {},
   "outputs": [],
   "source": [
    "import os\n",
    "import numpy as np\n",
    "import skimage.io\n",
    "import cv2\n",
    "from mrcnn.config import Config\n",
    "from mrcnn import utils\n",
    "import mrcnn.model as modellib\n",
    "\n",
    "import yaml\n",
    "from PIL import Image\n",
    "from tqdm.notebook import tqdm\n",
    "\n",
    "from train import WeldingConfig, WeldingDataset, setpath"
   ]
  },
  {
   "cell_type": "code",
   "execution_count": 7,
   "metadata": {},
   "outputs": [],
   "source": [
    "# Setting\n",
    "\n",
    "# Create model object in inference mode.\n",
    "config = WeldingConfig()\n",
    "MODEL_DIR = os.path.join(os.getcwd(), \"logs\")\n",
    "model = modellib.MaskRCNN(mode=\"inference\", model_dir=MODEL_DIR, config=config)\n",
    " \n",
    "# Prepare testing data\n",
    "image_path = './test_data/'\n",
    "img_list = os.listdir(image_path + 'pic/')\n",
    "dataset = WeldingDataset()\n",
    "dataset.load_img(*setpath(image_path))\n",
    "dataset.prepare()\n",
    "total_imgs = len(dataset.image_info)\n",
    "class_name = dataset.class_names\n",
    "\n",
    "# Testing models index range\n",
    "model_test_range=[35,60]\n",
    "\n",
    "# The boundary of postive/negtive samples (=positive samples' number)\n",
    "PN_boundary = 71"
   ]
  },
  {
   "cell_type": "code",
   "execution_count": 3,
   "metadata": {},
   "outputs": [],
   "source": [
    "def cal_iou(gt_mask,pre_mask):\n",
    "    inter = np.count_nonzero(gt_mask+pre_mask==2)\n",
    "    union = np.count_nonzero(gt_mask!=pre_mask)+inter\n",
    "    return inter/union if union != 0 else 0"
   ]
  },
  {
   "cell_type": "code",
   "execution_count": 8,
   "metadata": {
    "tags": []
   },
   "outputs": [
    {
     "name": "stdout",
     "output_type": "stream",
     "text": [
      "Re-starting from epoch 36\n",
      "model 36\n"
     ]
    },
    {
     "data": {
      "application/vnd.jupyter.widget-view+json": {
       "model_id": "bbe8cd7033974e3cbabccfda1f61eb3c",
       "version_major": 2,
       "version_minor": 0
      },
      "text/plain": [
       "HBox(children=(FloatProgress(value=0.0, max=7.0), HTML(value='')))"
      ]
     },
     "metadata": {},
     "output_type": "display_data"
    },
    {
     "name": "stdout",
     "output_type": "stream",
     "text": [
      "iou: 0.6685562175037028 max-> 0.8979956340543759\n",
      "accuracy =  0.8571428571428571\n",
      "precision =  0.8571428571428571\n",
      "recall =  1.0\n",
      "f1 score =  0.923076923076923\n",
      "-------------------------------------\n",
      "Re-starting from epoch 37\n",
      "model 37\n"
     ]
    },
    {
     "data": {
      "application/vnd.jupyter.widget-view+json": {
       "model_id": "b1f6d28949464d9fb0eccca1dfb25a9b",
       "version_major": 2,
       "version_minor": 0
      },
      "text/plain": [
       "HBox(children=(FloatProgress(value=0.0, max=7.0), HTML(value='')))"
      ]
     },
     "metadata": {},
     "output_type": "display_data"
    },
    {
     "name": "stdout",
     "output_type": "stream",
     "text": [
      "iou: 0.6744329361981248 max-> 0.8928690994308671\n",
      "accuracy =  0.8571428571428571\n",
      "precision =  0.8571428571428571\n",
      "recall =  1.0\n",
      "f1 score =  0.923076923076923\n",
      "-------------------------------------\n",
      "Re-starting from epoch 38\n",
      "model 38\n"
     ]
    },
    {
     "data": {
      "application/vnd.jupyter.widget-view+json": {
       "model_id": "693d9a41b2144293adf88c4c560387a4",
       "version_major": 2,
       "version_minor": 0
      },
      "text/plain": [
       "HBox(children=(FloatProgress(value=0.0, max=7.0), HTML(value='')))"
      ]
     },
     "metadata": {},
     "output_type": "display_data"
    },
    {
     "name": "stdout",
     "output_type": "stream",
     "text": [
      "iou: 0.6801455444061455 max-> 0.8776802797387345\n",
      "accuracy =  0.8571428571428571\n",
      "precision =  0.8571428571428571\n",
      "recall =  1.0\n",
      "f1 score =  0.923076923076923\n",
      "-------------------------------------\n",
      "Re-starting from epoch 39\n",
      "model 39\n"
     ]
    },
    {
     "data": {
      "application/vnd.jupyter.widget-view+json": {
       "model_id": "e1ee29080e2a45d29842e3cc1a4dc251",
       "version_major": 2,
       "version_minor": 0
      },
      "text/plain": [
       "HBox(children=(FloatProgress(value=0.0, max=7.0), HTML(value='')))"
      ]
     },
     "metadata": {},
     "output_type": "display_data"
    },
    {
     "name": "stdout",
     "output_type": "stream",
     "text": [
      "iou: 0.6590368940404262 max-> 0.8549437537004144\n",
      "accuracy =  0.8571428571428571\n",
      "precision =  0.8571428571428571\n",
      "recall =  1.0\n",
      "f1 score =  0.923076923076923\n",
      "-------------------------------------\n",
      "Re-starting from epoch 40\n",
      "model 40\n"
     ]
    },
    {
     "data": {
      "application/vnd.jupyter.widget-view+json": {
       "model_id": "492b45db7b0e4905bd4883cb70ff5886",
       "version_major": 2,
       "version_minor": 0
      },
      "text/plain": [
       "HBox(children=(FloatProgress(value=0.0, max=7.0), HTML(value='')))"
      ]
     },
     "metadata": {},
     "output_type": "display_data"
    },
    {
     "name": "stdout",
     "output_type": "stream",
     "text": [
      "iou: 0.6762299011945432 max-> 0.9078956105983133\n",
      "accuracy =  0.8571428571428571\n",
      "precision =  0.8571428571428571\n",
      "recall =  1.0\n",
      "f1 score =  0.923076923076923\n",
      "-------------------------------------\n",
      "Re-starting from epoch 41\n",
      "model 41\n"
     ]
    },
    {
     "data": {
      "application/vnd.jupyter.widget-view+json": {
       "model_id": "c175328303884b23a6ec2d615f89b100",
       "version_major": 2,
       "version_minor": 0
      },
      "text/plain": [
       "HBox(children=(FloatProgress(value=0.0, max=7.0), HTML(value='')))"
      ]
     },
     "metadata": {},
     "output_type": "display_data"
    },
    {
     "name": "stdout",
     "output_type": "stream",
     "text": [
      "iou: 0.6704323107723155 max-> 0.9063860667634253\n",
      "accuracy =  0.8571428571428571\n",
      "precision =  0.8571428571428571\n",
      "recall =  1.0\n",
      "f1 score =  0.923076923076923\n",
      "-------------------------------------\n",
      "Re-starting from epoch 42\n",
      "model 42\n"
     ]
    },
    {
     "data": {
      "application/vnd.jupyter.widget-view+json": {
       "model_id": "7b8c802115a6429bb69f9994d06c19d8",
       "version_major": 2,
       "version_minor": 0
      },
      "text/plain": [
       "HBox(children=(FloatProgress(value=0.0, max=7.0), HTML(value='')))"
      ]
     },
     "metadata": {},
     "output_type": "display_data"
    },
    {
     "name": "stdout",
     "output_type": "stream",
     "text": [
      "iou: 0.6623878224996956 max-> 0.8810682804894093\n",
      "accuracy =  0.8571428571428571\n",
      "precision =  0.8571428571428571\n",
      "recall =  1.0\n",
      "f1 score =  0.923076923076923\n",
      "-------------------------------------\n",
      "Re-starting from epoch 43\n",
      "model 43\n"
     ]
    },
    {
     "data": {
      "application/vnd.jupyter.widget-view+json": {
       "model_id": "d0d112fb808a45b2b9595f9490fb27dd",
       "version_major": 2,
       "version_minor": 0
      },
      "text/plain": [
       "HBox(children=(FloatProgress(value=0.0, max=7.0), HTML(value='')))"
      ]
     },
     "metadata": {},
     "output_type": "display_data"
    },
    {
     "name": "stdout",
     "output_type": "stream",
     "text": [
      "iou: 0.6782023076262499 max-> 0.9198638208720702\n",
      "accuracy =  0.8571428571428571\n",
      "precision =  0.8571428571428571\n",
      "recall =  1.0\n",
      "f1 score =  0.923076923076923\n",
      "-------------------------------------\n",
      "Re-starting from epoch 44\n",
      "model 44\n"
     ]
    },
    {
     "data": {
      "application/vnd.jupyter.widget-view+json": {
       "model_id": "dc5037a565e44fdf9f9a735d602d5553",
       "version_major": 2,
       "version_minor": 0
      },
      "text/plain": [
       "HBox(children=(FloatProgress(value=0.0, max=7.0), HTML(value='')))"
      ]
     },
     "metadata": {},
     "output_type": "display_data"
    },
    {
     "name": "stdout",
     "output_type": "stream",
     "text": [
      "iou: 0.6649877782186114 max-> 0.8746732880292734\n",
      "accuracy =  0.8571428571428571\n",
      "precision =  0.8571428571428571\n",
      "recall =  1.0\n",
      "f1 score =  0.923076923076923\n",
      "-------------------------------------\n",
      "Re-starting from epoch 45\n",
      "model 45\n"
     ]
    },
    {
     "data": {
      "application/vnd.jupyter.widget-view+json": {
       "model_id": "1ca4222e41a14614937779350a51ec16",
       "version_major": 2,
       "version_minor": 0
      },
      "text/plain": [
       "HBox(children=(FloatProgress(value=0.0, max=7.0), HTML(value='')))"
      ]
     },
     "metadata": {},
     "output_type": "display_data"
    },
    {
     "name": "stdout",
     "output_type": "stream",
     "text": [
      "iou: 0.6713845189531549 max-> 0.8958196398054423\n",
      "accuracy =  0.8571428571428571\n",
      "precision =  0.8571428571428571\n",
      "recall =  1.0\n",
      "f1 score =  0.923076923076923\n",
      "-------------------------------------\n",
      "Re-starting from epoch 46\n",
      "model 46\n"
     ]
    },
    {
     "data": {
      "application/vnd.jupyter.widget-view+json": {
       "model_id": "71655a8d9b504518a097ea32cd1f6690",
       "version_major": 2,
       "version_minor": 0
      },
      "text/plain": [
       "HBox(children=(FloatProgress(value=0.0, max=7.0), HTML(value='')))"
      ]
     },
     "metadata": {},
     "output_type": "display_data"
    },
    {
     "name": "stdout",
     "output_type": "stream",
     "text": [
      "iou: 0.6722604703160835 max-> 0.9234519104084321\n",
      "accuracy =  0.8571428571428571\n",
      "precision =  0.8571428571428571\n",
      "recall =  1.0\n",
      "f1 score =  0.923076923076923\n",
      "-------------------------------------\n",
      "Re-starting from epoch 47\n",
      "model 47\n"
     ]
    },
    {
     "data": {
      "application/vnd.jupyter.widget-view+json": {
       "model_id": "c7924b183a0c46a5a7382ab3a2cfae53",
       "version_major": 2,
       "version_minor": 0
      },
      "text/plain": [
       "HBox(children=(FloatProgress(value=0.0, max=7.0), HTML(value='')))"
      ]
     },
     "metadata": {},
     "output_type": "display_data"
    },
    {
     "name": "stdout",
     "output_type": "stream",
     "text": [
      "iou: 0.6683083779829206 max-> 0.8875228877844624\n",
      "accuracy =  0.8571428571428571\n",
      "precision =  0.8571428571428571\n",
      "recall =  1.0\n",
      "f1 score =  0.923076923076923\n",
      "-------------------------------------\n",
      "Re-starting from epoch 48\n",
      "model 48\n"
     ]
    },
    {
     "data": {
      "application/vnd.jupyter.widget-view+json": {
       "model_id": "dca3e8548c204fadb561d67dd8ff7867",
       "version_major": 2,
       "version_minor": 0
      },
      "text/plain": [
       "HBox(children=(FloatProgress(value=0.0, max=7.0), HTML(value='')))"
      ]
     },
     "metadata": {},
     "output_type": "display_data"
    },
    {
     "name": "stdout",
     "output_type": "stream",
     "text": [
      "iou: 0.6651786631677842 max-> 0.8940959652471533\n",
      "accuracy =  0.8571428571428571\n",
      "precision =  0.8571428571428571\n",
      "recall =  1.0\n",
      "f1 score =  0.923076923076923\n",
      "-------------------------------------\n",
      "Re-starting from epoch 49\n",
      "model 49\n"
     ]
    },
    {
     "data": {
      "application/vnd.jupyter.widget-view+json": {
       "model_id": "f5f372de748244e5abe963c416ec6d6e",
       "version_major": 2,
       "version_minor": 0
      },
      "text/plain": [
       "HBox(children=(FloatProgress(value=0.0, max=7.0), HTML(value='')))"
      ]
     },
     "metadata": {},
     "output_type": "display_data"
    },
    {
     "name": "stdout",
     "output_type": "stream",
     "text": [
      "iou: 0.6672077013203213 max-> 0.8757032578830303\n",
      "accuracy =  0.8571428571428571\n",
      "precision =  0.8571428571428571\n",
      "recall =  1.0\n",
      "f1 score =  0.923076923076923\n",
      "-------------------------------------\n",
      "Re-starting from epoch 50\n",
      "model 50\n"
     ]
    },
    {
     "data": {
      "application/vnd.jupyter.widget-view+json": {
       "model_id": "32a804af9fe44aaa83ef2149d8ce69f0",
       "version_major": 2,
       "version_minor": 0
      },
      "text/plain": [
       "HBox(children=(FloatProgress(value=0.0, max=7.0), HTML(value='')))"
      ]
     },
     "metadata": {},
     "output_type": "display_data"
    },
    {
     "name": "stdout",
     "output_type": "stream",
     "text": [
      "iou: 0.6705255053502851 max-> 0.8880235602094241\n",
      "accuracy =  0.8571428571428571\n",
      "precision =  0.8571428571428571\n",
      "recall =  1.0\n",
      "f1 score =  0.923076923076923\n",
      "-------------------------------------\n",
      "Re-starting from epoch 51\n",
      "model 51\n"
     ]
    },
    {
     "data": {
      "application/vnd.jupyter.widget-view+json": {
       "model_id": "268ef3339084436990cd15574fa8b083",
       "version_major": 2,
       "version_minor": 0
      },
      "text/plain": [
       "HBox(children=(FloatProgress(value=0.0, max=7.0), HTML(value='')))"
      ]
     },
     "metadata": {},
     "output_type": "display_data"
    },
    {
     "name": "stdout",
     "output_type": "stream",
     "text": [
      "iou: 0.6613321248587218 max-> 0.8636955107351985\n",
      "accuracy =  0.8571428571428571\n",
      "precision =  0.8571428571428571\n",
      "recall =  1.0\n",
      "f1 score =  0.923076923076923\n",
      "-------------------------------------\n",
      "Re-starting from epoch 52\n",
      "model 52\n"
     ]
    },
    {
     "data": {
      "application/vnd.jupyter.widget-view+json": {
       "model_id": "9185ab24bf3d4d0eb57e8d3efde2b8e5",
       "version_major": 2,
       "version_minor": 0
      },
      "text/plain": [
       "HBox(children=(FloatProgress(value=0.0, max=7.0), HTML(value='')))"
      ]
     },
     "metadata": {},
     "output_type": "display_data"
    },
    {
     "name": "stdout",
     "output_type": "stream",
     "text": [
      "iou: 0.6616149152972637 max-> 0.8677063957647733\n",
      "accuracy =  0.8571428571428571\n",
      "precision =  0.8571428571428571\n",
      "recall =  1.0\n",
      "f1 score =  0.923076923076923\n",
      "-------------------------------------\n",
      "Re-starting from epoch 53\n",
      "model 53\n"
     ]
    },
    {
     "data": {
      "application/vnd.jupyter.widget-view+json": {
       "model_id": "4bb9cda007774d1ca852ecb386b94465",
       "version_major": 2,
       "version_minor": 0
      },
      "text/plain": [
       "HBox(children=(FloatProgress(value=0.0, max=7.0), HTML(value='')))"
      ]
     },
     "metadata": {},
     "output_type": "display_data"
    },
    {
     "name": "stdout",
     "output_type": "stream",
     "text": [
      "iou: 0.6468169757487633 max-> 0.8490246701090075\n",
      "accuracy =  0.8571428571428571\n",
      "precision =  0.8571428571428571\n",
      "recall =  1.0\n",
      "f1 score =  0.923076923076923\n",
      "-------------------------------------\n",
      "Re-starting from epoch 54\n",
      "model 54\n"
     ]
    },
    {
     "data": {
      "application/vnd.jupyter.widget-view+json": {
       "model_id": "bd825473e81e4c25b7f62479525ffe3c",
       "version_major": 2,
       "version_minor": 0
      },
      "text/plain": [
       "HBox(children=(FloatProgress(value=0.0, max=7.0), HTML(value='')))"
      ]
     },
     "metadata": {},
     "output_type": "display_data"
    },
    {
     "name": "stdout",
     "output_type": "stream",
     "text": [
      "iou: 0.663412291208455 max-> 0.8985753496274996\n",
      "accuracy =  0.8571428571428571\n",
      "precision =  0.8571428571428571\n",
      "recall =  1.0\n",
      "f1 score =  0.923076923076923\n",
      "-------------------------------------\n",
      "Re-starting from epoch 55\n",
      "model 55\n"
     ]
    },
    {
     "data": {
      "application/vnd.jupyter.widget-view+json": {
       "model_id": "1f0aa65104ef4b47b7fc8e66a065a249",
       "version_major": 2,
       "version_minor": 0
      },
      "text/plain": [
       "HBox(children=(FloatProgress(value=0.0, max=7.0), HTML(value='')))"
      ]
     },
     "metadata": {},
     "output_type": "display_data"
    },
    {
     "name": "stdout",
     "output_type": "stream",
     "text": [
      "iou: 0.6492988975463823 max-> 0.8587497853340202\n",
      "accuracy =  0.8571428571428571\n",
      "precision =  0.8571428571428571\n",
      "recall =  1.0\n",
      "f1 score =  0.923076923076923\n",
      "-------------------------------------\n",
      "Re-starting from epoch 56\n",
      "model 56\n"
     ]
    },
    {
     "data": {
      "application/vnd.jupyter.widget-view+json": {
       "model_id": "2ca8400e76744ef2b395147fcc804fae",
       "version_major": 2,
       "version_minor": 0
      },
      "text/plain": [
       "HBox(children=(FloatProgress(value=0.0, max=7.0), HTML(value='')))"
      ]
     },
     "metadata": {},
     "output_type": "display_data"
    },
    {
     "name": "stdout",
     "output_type": "stream",
     "text": [
      "iou: 0.6565769545837771 max-> 0.8663951910025208\n",
      "accuracy =  0.8571428571428571\n",
      "precision =  0.8571428571428571\n",
      "recall =  1.0\n",
      "f1 score =  0.923076923076923\n",
      "-------------------------------------\n",
      "Re-starting from epoch 57\n",
      "model 57\n"
     ]
    },
    {
     "data": {
      "application/vnd.jupyter.widget-view+json": {
       "model_id": "ba0c0fd330f94dedbb44879044e4705f",
       "version_major": 2,
       "version_minor": 0
      },
      "text/plain": [
       "HBox(children=(FloatProgress(value=0.0, max=7.0), HTML(value='')))"
      ]
     },
     "metadata": {},
     "output_type": "display_data"
    },
    {
     "name": "stdout",
     "output_type": "stream",
     "text": [
      "iou: 0.6676963270667601 max-> 0.8992278497578851\n",
      "accuracy =  0.8571428571428571\n",
      "precision =  0.8571428571428571\n",
      "recall =  1.0\n",
      "f1 score =  0.923076923076923\n",
      "-------------------------------------\n",
      "Re-starting from epoch 58\n",
      "model 58\n"
     ]
    },
    {
     "data": {
      "application/vnd.jupyter.widget-view+json": {
       "model_id": "71129716390a4721b7a3803753726800",
       "version_major": 2,
       "version_minor": 0
      },
      "text/plain": [
       "HBox(children=(FloatProgress(value=0.0, max=7.0), HTML(value='')))"
      ]
     },
     "metadata": {},
     "output_type": "display_data"
    },
    {
     "name": "stdout",
     "output_type": "stream",
     "text": [
      "iou: 0.6653938913356555 max-> 0.8750408470034639\n",
      "accuracy =  0.8571428571428571\n",
      "precision =  0.8571428571428571\n",
      "recall =  1.0\n",
      "f1 score =  0.923076923076923\n",
      "-------------------------------------\n",
      "Re-starting from epoch 59\n",
      "model 59\n"
     ]
    },
    {
     "data": {
      "application/vnd.jupyter.widget-view+json": {
       "model_id": "70c761849e684da8b5ddd1f27736e7f6",
       "version_major": 2,
       "version_minor": 0
      },
      "text/plain": [
       "HBox(children=(FloatProgress(value=0.0, max=7.0), HTML(value='')))"
      ]
     },
     "metadata": {},
     "output_type": "display_data"
    },
    {
     "name": "stdout",
     "output_type": "stream",
     "text": [
      "iou: 0.6684867844923774 max-> 0.8824796084828711\n",
      "accuracy =  0.8571428571428571\n",
      "precision =  0.8571428571428571\n",
      "recall =  1.0\n",
      "f1 score =  0.923076923076923\n",
      "-------------------------------------\n",
      "Re-starting from epoch 60\n",
      "model 60\n"
     ]
    },
    {
     "data": {
      "application/vnd.jupyter.widget-view+json": {
       "model_id": "2c27d8b37f8a4ada8ac48dad6a25ed68",
       "version_major": 2,
       "version_minor": 0
      },
      "text/plain": [
       "HBox(children=(FloatProgress(value=0.0, max=7.0), HTML(value='')))"
      ]
     },
     "metadata": {},
     "output_type": "display_data"
    },
    {
     "name": "stdout",
     "output_type": "stream",
     "text": [
      "iou: 0.6590296019868059 max-> 0.8569380173368963\n",
      "accuracy =  0.8571428571428571\n",
      "precision =  0.8571428571428571\n",
      "recall =  1.0\n",
      "f1 score =  0.923076923076923\n",
      "-------------------------------------\n"
     ]
    }
   ],
   "source": [
    "import warnings\n",
    "warnings.filterwarnings('ignore')\n",
    "\n",
    "for i in range(*model_test_range):\n",
    "    TP,FP,TN,FN = 0,0,0,0\n",
    "    iou_list=[]\n",
    "    \n",
    "    #Load weights\n",
    "    model_id = ('0' if i < 9 else '') + str(i + 1)\n",
    "    MODEL_PATH = os.path.join(MODEL_DIR, \"welding20220531T1122/mask_rcnn_welding_00\" + model_id + \".h5\")\n",
    "    model.load_weights(MODEL_PATH, by_name=True)\n",
    "        \n",
    "    #Set tqdm\n",
    "    print('model', model_id)\n",
    "    progress = tqdm(total=total_imgs)\n",
    "    \n",
    "    for idx in range(total_imgs):\n",
    "        name = img_list[idx]\n",
    "        iou = 0\n",
    "        # Load ground_truth's information\n",
    "        path = image_path + 'pic/' + name# + '.png'\n",
    "        gt_mask = dataset.load_mask(idx)[0]\n",
    "        a=dataset.class_names\n",
    "        gt_class_id = a.index(dataset.from_yaml_get_class(idx)[0])\n",
    "        \n",
    "        # Prdict\n",
    "        image = skimage.io.imread(path)\n",
    "        r = model.detect([image], verbose=0)[0]\n",
    "        pre_mask = r['masks']\n",
    "        \n",
    "        # Classificate samples\n",
    "        if gt_class_id in r['class_ids']:\n",
    "            iou = 0\n",
    "            for i, class_id in enumerate(r['class_ids']):\n",
    "                if class_id == gt_class_id:\n",
    "                    pre_mask = r['masks'][:,:,[i]]\n",
    "                    iou = max(cal_iou(gt_mask,pre_mask),iou)\n",
    "            iou_list.append(iou)\n",
    "            if idx < PN_boundary:\n",
    "                TP+=1\n",
    "            else:\n",
    "                TN+=1\n",
    "        else:\n",
    "            if idx < PN_boundary:\n",
    "                FP+=1\n",
    "            else:\n",
    "                FN+=1\n",
    "                \n",
    "        progress.update(1)\n",
    "\n",
    "    print('iou:',sum(iou_list)/len(iou_list),'max->',max(iou_list))\n",
    "    print('accuracy = ', (TP+TN)/(TP+FN+FP+TN))\n",
    "    precision = TP/(TP+FP)\n",
    "    recall = TP/(TP+FN)\n",
    "    print('precision = ', precision)\n",
    "    print('recall = ', recall)\n",
    "    print('f1 score = ', 2*precision*recall/(precision+recall))\n",
    "    print('-------------------------------------')"
   ]
  }
 ],
 "metadata": {
  "kernelspec": {
   "display_name": "Python 3",
   "language": "python",
   "name": "python3"
  },
  "language_info": {
   "codemirror_mode": {
    "name": "ipython",
    "version": 3
   },
   "file_extension": ".py",
   "mimetype": "text/x-python",
   "name": "python",
   "nbconvert_exporter": "python",
   "pygments_lexer": "ipython3",
   "version": "3.8.3"
  }
 },
 "nbformat": 4,
 "nbformat_minor": 4
}
