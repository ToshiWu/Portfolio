{
 "cells": [
  {
   "cell_type": "code",
   "execution_count": 1,
   "metadata": {},
   "outputs": [],
   "source": [
    "import os\n",
    "import numpy as np\n",
    "import skimage.io\n",
    "import cv2\n",
    "from mrcnn.config import Config\n",
    "from mrcnn import utils\n",
    "import mrcnn.model as modellib\n",
    "\n",
    "import yaml\n",
    "from PIL import Image\n",
    "from tqdm.notebook import tqdm\n",
    "\n",
    "from train import WeldingConfig, WeldingDataset, setpath"
   ]
  },
  {
   "cell_type": "code",
   "execution_count": 2,
   "metadata": {},
   "outputs": [
    {
     "name": "stdout",
     "output_type": "stream",
     "text": [
      "WARNING:tensorflow:From C:\\Users\\user\\AppData\\Roaming\\Python\\Python38\\site-packages\\tensorflow\\python\\ops\\array_ops.py:5043: calling gather (from tensorflow.python.ops.array_ops) with validate_indices is deprecated and will be removed in a future version.\n",
      "Instructions for updating:\n",
      "The `validate_indices` argument has no effect. Indices are always validated on CPU and never validated on GPU.\n",
      "WARNING:tensorflow:From C:\\Users\\user\\AppData\\Roaming\\Python\\Python38\\site-packages\\tensorflow\\python\\util\\deprecation.py:602: calling map_fn_v2 (from tensorflow.python.ops.map_fn) with dtype is deprecated and will be removed in a future version.\n",
      "Instructions for updating:\n",
      "Use fn_output_signature instead\n"
     ]
    }
   ],
   "source": [
    "# Setting\n",
    "\n",
    "# Create model object in inference mode.\n",
    "config = WeldingConfig()\n",
    "MODEL_DIR = os.path.join(os.getcwd(), \"logs\")\n",
    "model = modellib.MaskRCNN(mode=\"inference\", model_dir=MODEL_DIR, config=config)\n",
    " \n",
    "# Prepare testing data\n",
    "image_path = './total_data/'\n",
    "dataset = WeldingDataset()\n",
    "dataset.load_img(*setpath(image_path))\n",
    "dataset.prepare()\n",
    "total_imgs = len(dataset.image_info)\n",
    "class_name = dataset.class_names\n",
    "\n",
    "# Testing models index range\n",
    "model_test_range=[35,60]\n",
    "\n",
    "# The boundary of postive/negtive samples (=positive samples' number)\n",
    "PN_boundary = 71"
   ]
  },
  {
   "cell_type": "code",
   "execution_count": 3,
   "metadata": {},
   "outputs": [],
   "source": [
    "def predict(image_path, dataset):\n",
    "    # Load ground_truth's information\n",
    "    path = image_path + 'pic/' + name + '.png'\n",
    "    gt_mask = dataset.load_mask(idx)[0]\n",
    "    gt_class_id = dataset.class_names.index(dataset.from_yaml_get_class(idx)[0])\n",
    "\n",
    "    # Prdict\n",
    "    image = skimage.io.imread(path)\n",
    "    r = model.detect([image], verbose=0)[0]\n",
    "    pre_mask = r['masks']\n",
    "    pre_class_id = r['class_ids']\n",
    "    return gt_class_id, pre_class_id, gt_mask, pre_mask\n",
    "    \n",
    "def cal_iou(gt_mask, pre_mask):\n",
    "    inter = np.count_nonzero(gt_mask+pre_mask==2)\n",
    "    union = np.count_nonzero(gt_mask!=pre_mask)+inter\n",
    "    return inter/union if union != 0 else 0\n",
    "\n",
    "def get_max_iou(gt_class_id, pre_class_id,\n",
    "                gt_mask, pre_mask):\n",
    "    iou = 0\n",
    "    for i, class_id in enumerate(pre_class_id):\n",
    "        if class_id == gt_class_id:\n",
    "            _pre_mask = pre_mask[:,:,[i]]\n",
    "            iou = max(cal_iou(gt_mask,_pre_mask),iou)\n",
    "    return iou\n",
    "\n",
    "# Classificate samples\n",
    "def classification(gt_class_id, pre_class_id, PN_boundary,\n",
    "                   TP, TN, FP, FN):\n",
    "    if gt_class_id in pre_class_id:\n",
    "        inter = np.count_nonzero(gt_mask+pre_mask==2)\n",
    "        union = np.count_nonzero(gt_mask!=pre_mask)+inter\n",
    "        iou = inter/union if union != 0 else 0\n",
    "        iou_list.append(iou)\n",
    "        if idx < PN_boundary:\n",
    "            TP+=1\n",
    "        else:\n",
    "            TN+=1\n",
    "    else:\n",
    "        if idx < PN_boundary:\n",
    "            FP+=1\n",
    "        else:\n",
    "            FN+=1\n",
    "    return TP, TN, FP, FN\n",
    "\n",
    "# Ouput\n",
    "def score(TP, TN, FP, FN):\n",
    "    print('accuracy = ', (TP+TN)/(TP+FN+FP+TN))\n",
    "    precision = TP/(TP+FP)\n",
    "    recall = TP/(TP+FN)\n",
    "    print('precision = ', precision)\n",
    "    print('recall = ', recall)\n",
    "    print('f1 score = ', 2*precision*recall/(precision+recall))"
   ]
  },
  {
   "cell_type": "code",
   "execution_count": null,
   "metadata": {
    "tags": []
   },
   "outputs": [
    {
     "name": "stdout",
     "output_type": "stream",
     "text": [
      "Re-starting from epoch 36\n",
      "model 36\n"
     ]
    },
    {
     "data": {
      "application/vnd.jupyter.widget-view+json": {
       "model_id": "e020d9b5fec4434cb45b0e8485e262c8",
       "version_major": 2,
       "version_minor": 0
      },
      "text/plain": [
       "HBox(children=(FloatProgress(value=0.0, max=81.0), HTML(value='')))"
      ]
     },
     "metadata": {},
     "output_type": "display_data"
    },
    {
     "name": "stdout",
     "output_type": "stream",
     "text": [
      "iou: 0.7066181376451062 max-> 0.9207042626423088\n",
      "accuracy =  0.9135802469135802\n",
      "precision =  0.9014084507042254\n",
      "recall =  1.0\n",
      "f1 score =  0.9481481481481481\n",
      "-------------------------------------\n",
      "Re-starting from epoch 37\n",
      "model 37\n"
     ]
    },
    {
     "data": {
      "application/vnd.jupyter.widget-view+json": {
       "model_id": "6d9ceac9245749958d7dda5e8d898096",
       "version_major": 2,
       "version_minor": 0
      },
      "text/plain": [
       "HBox(children=(FloatProgress(value=0.0, max=81.0), HTML(value='')))"
      ]
     },
     "metadata": {},
     "output_type": "display_data"
    },
    {
     "name": "stdout",
     "output_type": "stream",
     "text": [
      "iou: 0.718340380521789 max-> 0.9204434300619498\n",
      "accuracy =  0.9135802469135802\n",
      "precision =  0.9014084507042254\n",
      "recall =  1.0\n",
      "f1 score =  0.9481481481481481\n",
      "-------------------------------------\n",
      "Re-starting from epoch 38\n",
      "model 38\n"
     ]
    },
    {
     "data": {
      "application/vnd.jupyter.widget-view+json": {
       "model_id": "65d87488a93a45ae991f71feb258fbed",
       "version_major": 2,
       "version_minor": 0
      },
      "text/plain": [
       "HBox(children=(FloatProgress(value=0.0, max=81.0), HTML(value='')))"
      ]
     },
     "metadata": {},
     "output_type": "display_data"
    },
    {
     "name": "stdout",
     "output_type": "stream",
     "text": [
      "iou: 0.7157689151080422 max-> 0.9236432477913337\n",
      "accuracy =  0.9135802469135802\n",
      "precision =  0.9014084507042254\n",
      "recall =  1.0\n",
      "f1 score =  0.9481481481481481\n",
      "-------------------------------------\n",
      "Re-starting from epoch 39\n",
      "model 39\n"
     ]
    },
    {
     "data": {
      "application/vnd.jupyter.widget-view+json": {
       "model_id": "b423ebbe6fe84adbb6ee26050615abd5",
       "version_major": 2,
       "version_minor": 0
      },
      "text/plain": [
       "HBox(children=(FloatProgress(value=0.0, max=81.0), HTML(value='')))"
      ]
     },
     "metadata": {},
     "output_type": "display_data"
    },
    {
     "name": "stdout",
     "output_type": "stream",
     "text": [
      "iou: 0.6938895404764261 max-> 0.9288032893313136\n",
      "accuracy =  0.9135802469135802\n",
      "precision =  0.9014084507042254\n",
      "recall =  1.0\n",
      "f1 score =  0.9481481481481481\n",
      "-------------------------------------\n",
      "Re-starting from epoch 40\n",
      "model 40\n"
     ]
    },
    {
     "data": {
      "application/vnd.jupyter.widget-view+json": {
       "model_id": "9402cbbf2f7c41f99327d2f546afb93e",
       "version_major": 2,
       "version_minor": 0
      },
      "text/plain": [
       "HBox(children=(FloatProgress(value=0.0, max=81.0), HTML(value='')))"
      ]
     },
     "metadata": {},
     "output_type": "display_data"
    },
    {
     "name": "stdout",
     "output_type": "stream",
     "text": [
      "iou: 0.7004131050953856 max-> 0.915359477124183\n",
      "accuracy =  0.9135802469135802\n",
      "precision =  0.9014084507042254\n",
      "recall =  1.0\n",
      "f1 score =  0.9481481481481481\n",
      "-------------------------------------\n",
      "Re-starting from epoch 41\n",
      "model 41\n"
     ]
    },
    {
     "data": {
      "application/vnd.jupyter.widget-view+json": {
       "model_id": "4dfe97dc280144dd81fa860d856a2877",
       "version_major": 2,
       "version_minor": 0
      },
      "text/plain": [
       "HBox(children=(FloatProgress(value=0.0, max=81.0), HTML(value='')))"
      ]
     },
     "metadata": {},
     "output_type": "display_data"
    },
    {
     "name": "stdout",
     "output_type": "stream",
     "text": [
      "iou: 0.7149987321933211 max-> 0.9070623916811091\n",
      "accuracy =  0.9135802469135802\n",
      "precision =  0.9014084507042254\n",
      "recall =  1.0\n",
      "f1 score =  0.9481481481481481\n",
      "-------------------------------------\n",
      "Re-starting from epoch 42\n",
      "model 42\n"
     ]
    },
    {
     "data": {
      "application/vnd.jupyter.widget-view+json": {
       "model_id": "72a1cb09e99b40c3afafd2fe65e731f9",
       "version_major": 2,
       "version_minor": 0
      },
      "text/plain": [
       "HBox(children=(FloatProgress(value=0.0, max=81.0), HTML(value='')))"
      ]
     },
     "metadata": {},
     "output_type": "display_data"
    },
    {
     "name": "stdout",
     "output_type": "stream",
     "text": [
      "iou: 0.7008195667871435 max-> 0.9159414556962026\n",
      "accuracy =  0.9135802469135802\n",
      "precision =  0.9014084507042254\n",
      "recall =  1.0\n",
      "f1 score =  0.9481481481481481\n",
      "-------------------------------------\n",
      "Re-starting from epoch 43\n",
      "model 43\n"
     ]
    },
    {
     "data": {
      "application/vnd.jupyter.widget-view+json": {
       "model_id": "5dbeaf432a1a41fcbe5c9345fdb08b69",
       "version_major": 2,
       "version_minor": 0
      },
      "text/plain": [
       "HBox(children=(FloatProgress(value=0.0, max=81.0), HTML(value='')))"
      ]
     },
     "metadata": {},
     "output_type": "display_data"
    },
    {
     "name": "stdout",
     "output_type": "stream",
     "text": [
      "iou: 0.710455894359312 max-> 0.9266019164330878\n",
      "accuracy =  0.9135802469135802\n",
      "precision =  0.9014084507042254\n",
      "recall =  1.0\n",
      "f1 score =  0.9481481481481481\n",
      "-------------------------------------\n",
      "Re-starting from epoch 44\n",
      "model 44\n"
     ]
    },
    {
     "data": {
      "application/vnd.jupyter.widget-view+json": {
       "model_id": "d099ed9d172e40cbb7854f43de1d7aaa",
       "version_major": 2,
       "version_minor": 0
      },
      "text/plain": [
       "HBox(children=(FloatProgress(value=0.0, max=81.0), HTML(value='')))"
      ]
     },
     "metadata": {},
     "output_type": "display_data"
    },
    {
     "name": "stdout",
     "output_type": "stream",
     "text": [
      "iou: 0.6922510611638444 max-> 0.9100758396533044\n",
      "accuracy =  0.9259259259259259\n",
      "precision =  0.9154929577464789\n",
      "recall =  1.0\n",
      "f1 score =  0.9558823529411764\n",
      "-------------------------------------\n",
      "Re-starting from epoch 45\n",
      "model 45\n"
     ]
    },
    {
     "data": {
      "application/vnd.jupyter.widget-view+json": {
       "model_id": "1a551cd554f048fc898e568aef31b964",
       "version_major": 2,
       "version_minor": 0
      },
      "text/plain": [
       "HBox(children=(FloatProgress(value=0.0, max=81.0), HTML(value='')))"
      ]
     },
     "metadata": {},
     "output_type": "display_data"
    },
    {
     "name": "stdout",
     "output_type": "stream",
     "text": [
      "iou: 0.703730268189782 max-> 0.9155042381365548\n",
      "accuracy =  0.9135802469135802\n",
      "precision =  0.9014084507042254\n",
      "recall =  1.0\n",
      "f1 score =  0.9481481481481481\n",
      "-------------------------------------\n",
      "Re-starting from epoch 46\n",
      "model 46\n"
     ]
    },
    {
     "data": {
      "application/vnd.jupyter.widget-view+json": {
       "model_id": "ffff5150085443ec9c2865bfdcb66b4f",
       "version_major": 2,
       "version_minor": 0
      },
      "text/plain": [
       "HBox(children=(FloatProgress(value=0.0, max=81.0), HTML(value='')))"
      ]
     },
     "metadata": {},
     "output_type": "display_data"
    },
    {
     "name": "stdout",
     "output_type": "stream",
     "text": [
      "iou: 0.7091236087268266 max-> 0.9234519104084321\n",
      "accuracy =  0.9135802469135802\n",
      "precision =  0.9014084507042254\n",
      "recall =  1.0\n",
      "f1 score =  0.9481481481481481\n",
      "-------------------------------------\n",
      "Re-starting from epoch 47\n",
      "model 47\n"
     ]
    },
    {
     "data": {
      "application/vnd.jupyter.widget-view+json": {
       "model_id": "3932138fd682427db66935c22812397e",
       "version_major": 2,
       "version_minor": 0
      },
      "text/plain": [
       "HBox(children=(FloatProgress(value=0.0, max=81.0), HTML(value='')))"
      ]
     },
     "metadata": {},
     "output_type": "display_data"
    },
    {
     "name": "stdout",
     "output_type": "stream",
     "text": [
      "iou: 0.6998736433006947 max-> 0.9244337542593706\n",
      "accuracy =  0.9135802469135802\n",
      "precision =  0.9014084507042254\n",
      "recall =  1.0\n",
      "f1 score =  0.9481481481481481\n",
      "-------------------------------------\n",
      "Re-starting from epoch 48\n",
      "model 48\n"
     ]
    },
    {
     "data": {
      "application/vnd.jupyter.widget-view+json": {
       "model_id": "65f1a0445e3d44de9b3827d2b866a3aa",
       "version_major": 2,
       "version_minor": 0
      },
      "text/plain": [
       "HBox(children=(FloatProgress(value=0.0, max=81.0), HTML(value='')))"
      ]
     },
     "metadata": {},
     "output_type": "display_data"
    }
   ],
   "source": [
    "import warnings\n",
    "warnings.filterwarnings('ignore')\n",
    "\n",
    "for i in range(*model_test_range):\n",
    "    TP,FP,TN,FN = 0,0,0,0\n",
    "    iou_list=[]\n",
    "    \n",
    "    #Load weights\n",
    "    model_id = ('0' if i < 9 else '') + str(i + 1)\n",
    "    MODEL_PATH = os.path.join(MODEL_DIR, \"welding20220531T1122/mask_rcnn_welding_00\" + model_id + \".h5\")\n",
    "    model.load_weights(MODEL_PATH, by_name=True)\n",
    "        \n",
    "    #Set tqdm\n",
    "    print('model', model_id)\n",
    "    progress = tqdm(total=total_imgs)\n",
    "    \n",
    "    for idx in range(total_imgs):\n",
    "        name = ('0' if idx < 9 else '') + str(idx + 1)\n",
    "        \n",
    "        gt_class_id, pre_class_id, gt_mask, pre_mask = predict(image_path, dataset)\n",
    "        TP, TN, FP, FN = classification(gt_class_id, pre_class_id, PN_boundary,\n",
    "                                        TP, TN, FP, FN)\n",
    "        if gt_class_id in pre_class_id:\n",
    "            iou_list.append(get_max_iou(gt_class_id, pre_class_id,\n",
    "                                        gt_mask, pre_mask))\n",
    "        progress.update(1)\n",
    "    \n",
    "    print('iou:',sum(iou_list)/len(iou_list),'max->',max(iou_list))\n",
    "    score(TP, TN, FP, FN)\n",
    "    print('-------------------------------------')"
   ]
  }
 ],
 "metadata": {
  "kernelspec": {
   "display_name": "Python 3",
   "language": "python",
   "name": "python3"
  },
  "language_info": {
   "codemirror_mode": {
    "name": "ipython",
    "version": 3
   },
   "file_extension": ".py",
   "mimetype": "text/x-python",
   "name": "python",
   "nbconvert_exporter": "python",
   "pygments_lexer": "ipython3",
   "version": "3.8.3"
  }
 },
 "nbformat": 4,
 "nbformat_minor": 4
}
